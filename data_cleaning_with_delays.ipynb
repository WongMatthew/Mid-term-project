{
 "cells": [
  {
   "cell_type": "code",
   "execution_count": 73,
   "metadata": {},
   "outputs": [],
   "source": [
    "import pandas as pd\n",
    "import numpy as np\n",
    "import matplotlib.pyplot as plt\n",
    "import seaborn as sns"
   ]
  },
  {
   "cell_type": "code",
   "execution_count": 98,
   "metadata": {},
   "outputs": [],
   "source": [
    "flights = pd.read_csv(\"data/flights.csv\")"
   ]
  },
  {
   "cell_type": "code",
   "execution_count": 99,
   "metadata": {},
   "outputs": [],
   "source": [
    "#dropping cancelled flights\n",
    "flights.drop(flights.loc[flights['cancelled'] == 1].index,inplace=True)"
   ]
  },
  {
   "cell_type": "code",
   "execution_count": 100,
   "metadata": {},
   "outputs": [],
   "source": [
    "#dropping diverted flights\n",
    "flights.drop(flights.loc[flights['diverted'] == 1].index,inplace=True)"
   ]
  },
  {
   "cell_type": "code",
   "execution_count": 101,
   "metadata": {},
   "outputs": [],
   "source": [
    "#Drop unnecessary columns\n",
    "flights = flights.drop(columns = ['no_name', 'longest_add_gtime','total_add_gtime'\n",
    "                                          ,'cancelled','diverted','first_dep_time'\n",
    "                                          ,'cancellation_code','tail_num'],axis=1)"
   ]
  },
  {
   "cell_type": "code",
   "execution_count": 102,
   "metadata": {},
   "outputs": [
    {
     "data": {
      "text/plain": [
       "fl_date                     0\n",
       "mkt_unique_carrier          0\n",
       "branded_code_share          0\n",
       "mkt_carrier                 0\n",
       "mkt_carrier_fl_num          0\n",
       "op_unique_carrier           0\n",
       "op_carrier_fl_num           0\n",
       "origin_airport_id           0\n",
       "origin                      0\n",
       "origin_city_name            0\n",
       "dest_airport_id             0\n",
       "dest                        0\n",
       "dest_city_name              0\n",
       "crs_dep_time                0\n",
       "dep_time                    0\n",
       "dep_delay                  88\n",
       "taxi_out                  115\n",
       "wheels_off                115\n",
       "wheels_on                 115\n",
       "taxi_in                   115\n",
       "crs_arr_time                0\n",
       "arr_time                    0\n",
       "arr_delay                  57\n",
       "dup                         0\n",
       "crs_elapsed_time            0\n",
       "actual_elapsed_time         0\n",
       "air_time                  115\n",
       "flights                     0\n",
       "distance                    0\n",
       "carrier_delay          237247\n",
       "weather_delay          237247\n",
       "nas_delay              237247\n",
       "security_delay         237247\n",
       "late_aircraft_delay    237247\n",
       "dtype: int64"
      ]
     },
     "execution_count": 102,
     "metadata": {},
     "output_type": "execute_result"
    }
   ],
   "source": [
    "flights.isnull().sum()"
   ]
  },
  {
   "cell_type": "code",
   "execution_count": 103,
   "metadata": {},
   "outputs": [],
   "source": [
    "def fill_columns(fill,columns,df):\n",
    "    for col in columns:\n",
    "        df[col].fillna(fill,inplace=True)"
   ]
  },
  {
   "cell_type": "code",
   "execution_count": 104,
   "metadata": {},
   "outputs": [],
   "source": [
    "# Fill all null delays columns with 0.\n",
    "columns = ['late_aircraft_delay','security_delay','nas_delay','weather_delay','carrier_delay','dep_delay','arr_delay']\n",
    "fill_columns(0,columns,flights)"
   ]
  },
  {
   "cell_type": "code",
   "execution_count": 105,
   "metadata": {},
   "outputs": [],
   "source": [
    "# Drop flights with no air_time value 155 rows.\n",
    "flights.drop(flights.loc[flights['air_time'].isnull()].index,inplace=True)"
   ]
  },
  {
   "cell_type": "code",
   "execution_count": 106,
   "metadata": {},
   "outputs": [
    {
     "data": {
      "text/plain": [
       "fl_date                0\n",
       "mkt_unique_carrier     0\n",
       "branded_code_share     0\n",
       "mkt_carrier            0\n",
       "mkt_carrier_fl_num     0\n",
       "op_unique_carrier      0\n",
       "op_carrier_fl_num      0\n",
       "origin_airport_id      0\n",
       "origin                 0\n",
       "origin_city_name       0\n",
       "dest_airport_id        0\n",
       "dest                   0\n",
       "dest_city_name         0\n",
       "crs_dep_time           0\n",
       "dep_time               0\n",
       "dep_delay              0\n",
       "taxi_out               0\n",
       "wheels_off             0\n",
       "wheels_on              0\n",
       "taxi_in                0\n",
       "crs_arr_time           0\n",
       "arr_time               0\n",
       "arr_delay              0\n",
       "dup                    0\n",
       "crs_elapsed_time       0\n",
       "actual_elapsed_time    0\n",
       "air_time               0\n",
       "flights                0\n",
       "distance               0\n",
       "carrier_delay          0\n",
       "weather_delay          0\n",
       "nas_delay              0\n",
       "security_delay         0\n",
       "late_aircraft_delay    0\n",
       "dtype: int64"
      ]
     },
     "execution_count": 106,
     "metadata": {},
     "output_type": "execute_result"
    }
   ],
   "source": [
    "flights.isnull().sum()"
   ]
  },
  {
   "cell_type": "code",
   "execution_count": 70,
   "metadata": {},
   "outputs": [],
   "source": [
    "#Export the cleaned dataframe\n",
    "flights.to_csv('data/flights_cleaned_with_delays.csv')"
   ]
  },
  {
   "cell_type": "markdown",
   "metadata": {},
   "source": [
    "## Outlier Removal"
   ]
  },
  {
   "cell_type": "code",
   "execution_count": 107,
   "metadata": {},
   "outputs": [
    {
     "data": {
      "text/plain": [
       "0        -16.0\n",
       "1         15.0\n",
       "2        -12.0\n",
       "3        -17.0\n",
       "4         17.0\n",
       "          ... \n",
       "299995    -2.0\n",
       "299996    -6.0\n",
       "299997    16.0\n",
       "299998   -25.0\n",
       "299999    -5.0\n",
       "Name: arr_delay, Length: 294286, dtype: float64"
      ]
     },
     "execution_count": 107,
     "metadata": {},
     "output_type": "execute_result"
    }
   ],
   "source": [
    "flights['arr_delay']"
   ]
  },
  {
   "cell_type": "code",
   "execution_count": 116,
   "metadata": {},
   "outputs": [],
   "source": [
    "#Remvoving outliers for Arrival\n",
    "Q1_arrival = flights.arr_delay.quantile(0.25)\n",
    "Q3_arrival = flights.arr_delay.quantile(0.75)\n",
    "IQR = Q3_arrival - Q1_arrival\n",
    "flights_no_outlier_iqr = flights.loc[(flights['arr_delay'] >= (Q1_arrival - 1.5*IQR))\\\n",
    "                                     & (flights['arr_delay'] <= Q3_arrival + 1.5*IQR)]"
   ]
  },
  {
   "cell_type": "code",
   "execution_count": 121,
   "metadata": {},
   "outputs": [
    {
     "data": {
      "image/png": "[encoded data removed]",
      "text/plain": [
       "<Figure size 360x360 with 1 Axes>"
      ]
     },
     "metadata": {},
     "output_type": "display_data"
    }
   ],
   "source": [
    "# Arrival Delay Distribution after excluding the outliers\n",
    "sns.set_theme(style=\"darkgrid\")\n",
    "sns.displot(flights_no_outlier_iqr, x=\"arr_delay\",kind='kde')\n",
    "plt.title(\"Arrival Delay Distribution\", size=15)\n",
    "plt.show()"
   ]
  },
  {
   "cell_type": "code",
   "execution_count": 119,
   "metadata": {},
   "outputs": [],
   "source": [
    "# Removing outliers for departure delay\n",
    "Q1_dep = flights_no_outlier_iqr.dep_delay.quantile(0.25)\n",
    "Q3_dep = flights_no_outlier_iqr.dep_delay.quantile(0.75)\n",
    "IQR_dep = Q3_dep - Q1_dep\n",
    "flights_no_outlier_iqr = flights_no_outlier_iqr.loc[(flights_no_outlier_iqr['dep_delay'] >= (Q1_dep - 1.5*IQR_dep))\\\n",
    "                                     & (flights_no_outlier_iqr['dep_delay'] <= Q3_dep + 1.5*IQR_dep)]"
   ]
  },
  {
   "cell_type": "code",
   "execution_count": 122,
   "metadata": {},
   "outputs": [
    {
     "data": {
      "image/png": "[encoded data removed]",
      "text/plain": [
       "<Figure size 360x360 with 1 Axes>"
      ]
     },
     "metadata": {},
     "output_type": "display_data"
    }
   ],
   "source": [
    "sns.set_theme(style=\"darkgrid\")\n",
    "sns.displot(flights_no_outlier_iqr, x=\"dep_delay\",kind='kde')\n",
    "plt.title(\"Departure Delay Distribution\", size=15)\n",
    "plt.show()"
   ]
  },
  {
   "cell_type": "code",
   "execution_count": 125,
   "metadata": {},
   "outputs": [],
   "source": []
  },
  {
   "cell_type": "code",
   "execution_count": 135,
   "metadata": {},
   "outputs": [
    {
     "data": {
      "text/html": [
       "<div>\n",
       "<style scoped>\n",
       "    .dataframe tbody tr th:only-of-type {\n",
       "        vertical-align: middle;\n",
       "    }\n",
       "\n",
       "    .dataframe tbody tr th {\n",
       "        vertical-align: top;\n",
       "    }\n",
       "\n",
       "    .dataframe thead th {\n",
       "        text-align: right;\n",
       "    }\n",
       "</style>\n",
       "<table border=\"1\" class=\"dataframe\">\n",
       "  <thead>\n",
       "    <tr style=\"text-align: right;\">\n",
       "      <th></th>\n",
       "      <th>fl_date</th>\n",
       "      <th>mkt_unique_carrier</th>\n",
       "      <th>branded_code_share</th>\n",
       "      <th>mkt_carrier</th>\n",
       "      <th>mkt_carrier_fl_num</th>\n",
       "      <th>op_unique_carrier</th>\n",
       "      <th>op_carrier_fl_num</th>\n",
       "      <th>origin_airport_id</th>\n",
       "      <th>origin</th>\n",
       "      <th>origin_city_name</th>\n",
       "      <th>...</th>\n",
       "      <th>actual_elapsed_time</th>\n",
       "      <th>air_time</th>\n",
       "      <th>flights</th>\n",
       "      <th>distance</th>\n",
       "      <th>carrier_delay</th>\n",
       "      <th>weather_delay</th>\n",
       "      <th>nas_delay</th>\n",
       "      <th>security_delay</th>\n",
       "      <th>late_aircraft_delay</th>\n",
       "      <th>combined_delay</th>\n",
       "    </tr>\n",
       "  </thead>\n",
       "  <tbody>\n",
       "    <tr>\n",
       "      <th>0</th>\n",
       "      <td>2019-05-22</td>\n",
       "      <td>DL</td>\n",
       "      <td>DL</td>\n",
       "      <td>DL</td>\n",
       "      <td>544</td>\n",
       "      <td>DL</td>\n",
       "      <td>544</td>\n",
       "      <td>11433</td>\n",
       "      <td>DTW</td>\n",
       "      <td>Detroit, MI</td>\n",
       "      <td>...</td>\n",
       "      <td>101.0</td>\n",
       "      <td>82.0</td>\n",
       "      <td>1</td>\n",
       "      <td>632</td>\n",
       "      <td>0.0</td>\n",
       "      <td>0.0</td>\n",
       "      <td>0.0</td>\n",
       "      <td>0.0</td>\n",
       "      <td>0.0</td>\n",
       "      <td>0.0</td>\n",
       "    </tr>\n",
       "    <tr>\n",
       "      <th>2</th>\n",
       "      <td>2019-06-27</td>\n",
       "      <td>AA</td>\n",
       "      <td>AA</td>\n",
       "      <td>AA</td>\n",
       "      <td>2036</td>\n",
       "      <td>AA</td>\n",
       "      <td>2036</td>\n",
       "      <td>12953</td>\n",
       "      <td>LGA</td>\n",
       "      <td>New York, NY</td>\n",
       "      <td>...</td>\n",
       "      <td>119.0</td>\n",
       "      <td>81.0</td>\n",
       "      <td>1</td>\n",
       "      <td>544</td>\n",
       "      <td>0.0</td>\n",
       "      <td>0.0</td>\n",
       "      <td>0.0</td>\n",
       "      <td>0.0</td>\n",
       "      <td>0.0</td>\n",
       "      <td>0.0</td>\n",
       "    </tr>\n",
       "    <tr>\n",
       "      <th>3</th>\n",
       "      <td>2018-04-05</td>\n",
       "      <td>UA</td>\n",
       "      <td>UA_CODESHARE</td>\n",
       "      <td>UA</td>\n",
       "      <td>5306</td>\n",
       "      <td>OO</td>\n",
       "      <td>5306</td>\n",
       "      <td>11292</td>\n",
       "      <td>DEN</td>\n",
       "      <td>Denver, CO</td>\n",
       "      <td>...</td>\n",
       "      <td>120.0</td>\n",
       "      <td>105.0</td>\n",
       "      <td>1</td>\n",
       "      <td>649</td>\n",
       "      <td>0.0</td>\n",
       "      <td>0.0</td>\n",
       "      <td>0.0</td>\n",
       "      <td>0.0</td>\n",
       "      <td>0.0</td>\n",
       "      <td>0.0</td>\n",
       "    </tr>\n",
       "    <tr>\n",
       "      <th>5</th>\n",
       "      <td>2019-02-23</td>\n",
       "      <td>AA</td>\n",
       "      <td>AA_CODESHARE</td>\n",
       "      <td>AA</td>\n",
       "      <td>5365</td>\n",
       "      <td>OH</td>\n",
       "      <td>5365</td>\n",
       "      <td>11146</td>\n",
       "      <td>CRW</td>\n",
       "      <td>Charleston/Dunbar, WV</td>\n",
       "      <td>...</td>\n",
       "      <td>90.0</td>\n",
       "      <td>56.0</td>\n",
       "      <td>1</td>\n",
       "      <td>221</td>\n",
       "      <td>0.0</td>\n",
       "      <td>0.0</td>\n",
       "      <td>0.0</td>\n",
       "      <td>0.0</td>\n",
       "      <td>0.0</td>\n",
       "      <td>0.0</td>\n",
       "    </tr>\n",
       "    <tr>\n",
       "      <th>6</th>\n",
       "      <td>2019-10-09</td>\n",
       "      <td>DL</td>\n",
       "      <td>DL</td>\n",
       "      <td>DL</td>\n",
       "      <td>758</td>\n",
       "      <td>DL</td>\n",
       "      <td>758</td>\n",
       "      <td>10423</td>\n",
       "      <td>AUS</td>\n",
       "      <td>Austin, TX</td>\n",
       "      <td>...</td>\n",
       "      <td>196.0</td>\n",
       "      <td>178.0</td>\n",
       "      <td>1</td>\n",
       "      <td>1242</td>\n",
       "      <td>0.0</td>\n",
       "      <td>0.0</td>\n",
       "      <td>0.0</td>\n",
       "      <td>0.0</td>\n",
       "      <td>0.0</td>\n",
       "      <td>0.0</td>\n",
       "    </tr>\n",
       "  </tbody>\n",
       "</table>\n",
       "<p>5 rows × 35 columns</p>\n",
       "</div>"
      ],
      "text/plain": [
       "      fl_date mkt_unique_carrier branded_code_share mkt_carrier  \\\n",
       "0  2019-05-22                 DL                 DL          DL   \n",
       "2  2019-06-27                 AA                 AA          AA   \n",
       "3  2018-04-05                 UA       UA_CODESHARE          UA   \n",
       "5  2019-02-23                 AA       AA_CODESHARE          AA   \n",
       "6  2019-10-09                 DL                 DL          DL   \n",
       "\n",
       "   mkt_carrier_fl_num op_unique_carrier  op_carrier_fl_num  origin_airport_id  \\\n",
       "0                 544                DL                544              11433   \n",
       "2                2036                AA               2036              12953   \n",
       "3                5306                OO               5306              11292   \n",
       "5                5365                OH               5365              11146   \n",
       "6                 758                DL                758              10423   \n",
       "\n",
       "  origin       origin_city_name  ...  actual_elapsed_time air_time flights  \\\n",
       "0    DTW            Detroit, MI  ...                101.0     82.0       1   \n",
       "2    LGA           New York, NY  ...                119.0     81.0       1   \n",
       "3    DEN             Denver, CO  ...                120.0    105.0       1   \n",
       "5    CRW  Charleston/Dunbar, WV  ...                 90.0     56.0       1   \n",
       "6    AUS             Austin, TX  ...                196.0    178.0       1   \n",
       "\n",
       "   distance  carrier_delay  weather_delay  nas_delay  security_delay  \\\n",
       "0       632            0.0            0.0        0.0             0.0   \n",
       "2       544            0.0            0.0        0.0             0.0   \n",
       "3       649            0.0            0.0        0.0             0.0   \n",
       "5       221            0.0            0.0        0.0             0.0   \n",
       "6      1242            0.0            0.0        0.0             0.0   \n",
       "\n",
       "   late_aircraft_delay  combined_delay  \n",
       "0                  0.0             0.0  \n",
       "2                  0.0             0.0  \n",
       "3                  0.0             0.0  \n",
       "5                  0.0             0.0  \n",
       "6                  0.0             0.0  \n",
       "\n",
       "[5 rows x 35 columns]"
      ]
     },
     "execution_count": 135,
     "metadata": {},
     "output_type": "execute_result"
    }
   ],
   "source": [
    "flights_no_outlier_iqr.head()"
   ]
  },
  {
   "cell_type": "code",
   "execution_count": 130,
   "metadata": {},
   "outputs": [],
   "source": [
    "# Add delays to column named combined_delay\n",
    "columns = ['late_aircraft_delay','security_delay','nas_delay','weather_delay','carrier_delay']\n",
    "flights_no_outlier_iqr['combined_delay'] = 0\n",
    "for col in columns:\n",
    "    flights_no_outlier_iqr['combined_delay'] = flights_no_outlier_iqr['combined_delay']+flights_no_outlier_iqr[col]\n"
   ]
  },
  {
   "cell_type": "code",
   "execution_count": 134,
   "metadata": {},
   "outputs": [
    {
     "data": {
      "text/plain": [
       "232104    42.0\n",
       "56643     42.0\n",
       "213856    42.0\n",
       "247442    42.0\n",
       "236578    42.0\n",
       "          ... \n",
       "197480     0.0\n",
       "197478     0.0\n",
       "197476     0.0\n",
       "197474     0.0\n",
       "0          0.0\n",
       "Name: combined_delay, Length: 237189, dtype: float64"
      ]
     },
     "execution_count": 134,
     "metadata": {},
     "output_type": "execute_result"
    }
   ],
   "source": [
    "flights_no_outlier_iqr['combined_delay'].sort_values(ascending=False)"
   ]
  },
  {
   "cell_type": "code",
   "execution_count": 123,
   "metadata": {},
   "outputs": [
    {
     "data": {
      "text/plain": [
       "(237189, 34)"
      ]
     },
     "execution_count": 123,
     "metadata": {},
     "output_type": "execute_result"
    }
   ],
   "source": [
    "flights_no_outlier_iqr.shape"
   ]
  },
  {
   "cell_type": "code",
   "execution_count": 136,
   "metadata": {},
   "outputs": [],
   "source": [
    "# Export dataframe with no outlier to csv\n",
    "flights_no_outlier_iqr.to_csv('data/flights_cleaned_no_outlier_iqr_with_delays.csv')"
   ]
  },
  {
   "cell_type": "code",
   "execution_count": null,
   "metadata": {},
   "outputs": [],
   "source": []
  }
 ],
 "metadata": {
  "kernelspec": {
   "display_name": "lhl_env",
   "language": "python",
   "name": "lhl_env"
  },
  "language_info": {
   "codemirror_mode": {
    "name": "ipython",
    "version": 3
   },
   "file_extension": ".py",
   "mimetype": "text/x-python",
   "name": "python",
   "nbconvert_exporter": "python",
   "pygments_lexer": "ipython3",
   "version": "3.8.5"
  }
 },
 "nbformat": 4,
 "nbformat_minor": 4
}
