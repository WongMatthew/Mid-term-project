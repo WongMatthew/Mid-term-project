{
 "cells": [
  {
   "cell_type": "code",
   "execution_count": 59,
   "metadata": {},
   "outputs": [],
   "source": [
    "import pandas as pd\n",
    "import numpy as np\n",
    "import matplotlib.pyplot as plt"
   ]
  },
  {
   "cell_type": "code",
   "execution_count": 60,
   "metadata": {},
   "outputs": [],
   "source": [
    "flights = pd.read_csv(\"data/flights.csv\")"
   ]
  },
  {
   "cell_type": "code",
   "execution_count": 61,
   "metadata": {},
   "outputs": [],
   "source": [
    "# flights_cl = pd.read_csv(\"data/flights_cleaned.csv\")"
   ]
  },
  {
   "cell_type": "code",
   "execution_count": 62,
   "metadata": {},
   "outputs": [],
   "source": [
    "#dropping cancelled flights\n",
    "flights.drop(flights.loc[flights['cancelled'] == 1].index,inplace=True)"
   ]
  },
  {
   "cell_type": "code",
   "execution_count": 63,
   "metadata": {},
   "outputs": [],
   "source": [
    "#dropping diverted flights\n",
    "flights.drop(flights.loc[flights['diverted'] == 1].index,inplace=True)"
   ]
  },
  {
   "cell_type": "code",
   "execution_count": 64,
   "metadata": {},
   "outputs": [],
   "source": [
    "#Drop unnecessary columns\n",
    "flights = flights.drop(columns = ['no_name', 'longest_add_gtime','total_add_gtime'\n",
    "                                          ,'cancelled','diverted','first_dep_time'\n",
    "                                          ,'cancellation_code','tail_num'],axis=1)"
   ]
  },
  {
   "cell_type": "code",
   "execution_count": 65,
   "metadata": {},
   "outputs": [
    {
     "data": {
      "text/plain": [
       "fl_date                     0\n",
       "mkt_unique_carrier          0\n",
       "branded_code_share          0\n",
       "mkt_carrier                 0\n",
       "mkt_carrier_fl_num          0\n",
       "op_unique_carrier           0\n",
       "op_carrier_fl_num           0\n",
       "origin_airport_id           0\n",
       "origin                      0\n",
       "origin_city_name            0\n",
       "dest_airport_id             0\n",
       "dest                        0\n",
       "dest_city_name              0\n",
       "crs_dep_time                0\n",
       "dep_time                    0\n",
       "dep_delay                  88\n",
       "taxi_out                  115\n",
       "wheels_off                115\n",
       "wheels_on                 115\n",
       "taxi_in                   115\n",
       "crs_arr_time                0\n",
       "arr_time                    0\n",
       "arr_delay                  57\n",
       "dup                         0\n",
       "crs_elapsed_time            0\n",
       "actual_elapsed_time         0\n",
       "air_time                  115\n",
       "flights                     0\n",
       "distance                    0\n",
       "carrier_delay          237247\n",
       "weather_delay          237247\n",
       "nas_delay              237247\n",
       "security_delay         237247\n",
       "late_aircraft_delay    237247\n",
       "dtype: int64"
      ]
     },
     "execution_count": 65,
     "metadata": {},
     "output_type": "execute_result"
    }
   ],
   "source": [
    "flights.isnull().sum()"
   ]
  },
  {
   "cell_type": "code",
   "execution_count": 66,
   "metadata": {},
   "outputs": [],
   "source": [
    "def fill_columns(fill,columns,df):\n",
    "    for col in columns:\n",
    "        df[col].fillna(fill,inplace=True)"
   ]
  },
  {
   "cell_type": "code",
   "execution_count": 67,
   "metadata": {},
   "outputs": [],
   "source": [
    "# Fill all null delays columns with 0.\n",
    "columns = ['late_aircraft_delay','security_delay','nas_delay','weather_delay','carrier_delay','dep_delay','arr_delay']\n",
    "fill_columns(0,columns,flights)"
   ]
  },
  {
   "cell_type": "code",
   "execution_count": 68,
   "metadata": {},
   "outputs": [],
   "source": [
    "# Drop flights with no air_time value 155 rows.\n",
    "flights.drop(flights.loc[flights['air_time'].isnull()].index,inplace=True)"
   ]
  },
  {
   "cell_type": "code",
   "execution_count": 69,
   "metadata": {},
   "outputs": [
    {
     "data": {
      "text/plain": [
       "fl_date                0\n",
       "mkt_unique_carrier     0\n",
       "branded_code_share     0\n",
       "mkt_carrier            0\n",
       "mkt_carrier_fl_num     0\n",
       "op_unique_carrier      0\n",
       "op_carrier_fl_num      0\n",
       "origin_airport_id      0\n",
       "origin                 0\n",
       "origin_city_name       0\n",
       "dest_airport_id        0\n",
       "dest                   0\n",
       "dest_city_name         0\n",
       "crs_dep_time           0\n",
       "dep_time               0\n",
       "dep_delay              0\n",
       "taxi_out               0\n",
       "wheels_off             0\n",
       "wheels_on              0\n",
       "taxi_in                0\n",
       "crs_arr_time           0\n",
       "arr_time               0\n",
       "arr_delay              0\n",
       "dup                    0\n",
       "crs_elapsed_time       0\n",
       "actual_elapsed_time    0\n",
       "air_time               0\n",
       "flights                0\n",
       "distance               0\n",
       "carrier_delay          0\n",
       "weather_delay          0\n",
       "nas_delay              0\n",
       "security_delay         0\n",
       "late_aircraft_delay    0\n",
       "dtype: int64"
      ]
     },
     "execution_count": 69,
     "metadata": {},
     "output_type": "execute_result"
    }
   ],
   "source": [
    "flights.isnull().sum()"
   ]
  },
  {
   "cell_type": "code",
   "execution_count": 70,
   "metadata": {},
   "outputs": [],
   "source": [
    "#Export the cleaned dataframe\n",
    "flights.to_csv('data/flights_cleaned_with_delays.csv')"
   ]
  },
  {
   "cell_type": "code",
   "execution_count": null,
   "metadata": {},
   "outputs": [],
   "source": []
  },
  {
   "cell_type": "code",
   "execution_count": null,
   "metadata": {},
   "outputs": [],
   "source": []
  }
 ],
 "metadata": {
  "kernelspec": {
   "display_name": "lhl_env",
   "language": "python",
   "name": "lhl_env"
  },
  "language_info": {
   "codemirror_mode": {
    "name": "ipython",
    "version": 3
   },
   "file_extension": ".py",
   "mimetype": "text/x-python",
   "name": "python",
   "nbconvert_exporter": "python",
   "pygments_lexer": "ipython3",
   "version": "3.8.5"
  }
 },
 "nbformat": 4,
 "nbformat_minor": 4
}
