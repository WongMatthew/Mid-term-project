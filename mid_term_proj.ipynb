{
 "cells": [
  {
   "cell_type": "code",
   "execution_count": 2,
   "metadata": {},
   "outputs": [],
   "source": [
    "import pandas as pd\n",
    "import numpy as np\n",
    "import seaborn as sns"
   ]
  },
  {
   "cell_type": "code",
   "execution_count": 26,
   "metadata": {},
   "outputs": [],
   "source": [
    "fuel_consumption_raw = pd.read_csv('data/fuel_comsumption.csv')\n",
    "passengers_raw = pd.read_csv('data/passengers_2019_01.csv')\n",
    "flights_raw = pd.read_csv('data/flights_2019_01.csv')"
   ]
  },
  {
   "cell_type": "code",
   "execution_count": 27,
   "metadata": {},
   "outputs": [
    {
     "name": "stdout",
     "output_type": "stream",
     "text": [
      "flights percentage of missing per column: fl_date                  0.000000\n",
      "mkt_unique_carrier       0.000000\n",
      "branded_code_share       0.000000\n",
      "mkt_carrier              0.000000\n",
      "mkt_carrier_fl_num       0.000000\n",
      "op_unique_carrier        0.000000\n",
      "tail_num                 0.733580\n",
      "op_carrier_fl_num        0.000000\n",
      "origin_airport_id        0.000000\n",
      "origin                   0.000000\n",
      "origin_city_name         0.000000\n",
      "dest_airport_id          0.000000\n",
      "dest                     0.000000\n",
      "dest_city_name           0.000000\n",
      "crs_dep_time             0.000000\n",
      "dep_time                 2.990532\n",
      "dep_delay                2.991001\n",
      "taxi_out                 3.037036\n",
      "wheels_off               3.037036\n",
      "wheels_on                3.122059\n",
      "taxi_in                  3.122059\n",
      "crs_arr_time             0.000000\n",
      "arr_time                 3.122059\n",
      "arr_delay                3.288191\n",
      "cancelled                0.000000\n",
      "cancellation_code       96.938851\n",
      "diverted                 0.000000\n",
      "dup                      0.000000\n",
      "crs_elapsed_time         0.001253\n",
      "actual_elapsed_time      3.288191\n",
      "air_time                 3.288191\n",
      "flights                  0.000000\n",
      "distance                 0.000000\n",
      "carrier_delay           81.657530\n",
      "weather_delay           81.657530\n",
      "nas_delay               81.657530\n",
      "security_delay          81.657530\n",
      "late_aircraft_delay     81.657530\n",
      "first_dep_time          99.313708\n",
      "total_add_gtime         99.313864\n",
      "longest_add_gtime       99.313708\n",
      "no_name                100.000000\n",
      "dtype: float64 \n",
      "\n",
      "passengers percentage of missing per column: departures_scheduled     0.0\n",
      "departures_performed     0.0\n",
      "payload                  0.0\n",
      "seats                    0.0\n",
      "passengers               0.0\n",
      "freight                  0.0\n",
      "mail                     0.0\n",
      "distance                 0.0\n",
      "ramp_to_ramp             0.0\n",
      "air_time                 0.0\n",
      "unique_carrier           0.0\n",
      "airline_id               0.0\n",
      "unique_carrier_name      0.0\n",
      "region                   0.0\n",
      "carrier                  0.0\n",
      "carrier_name             0.0\n",
      "carrier_group            0.0\n",
      "carrier_group_new        0.0\n",
      "origin_airport_id        0.0\n",
      "origin_city_market_id    0.0\n",
      "origin                   0.0\n",
      "origin_city_name         0.0\n",
      "origin_country           0.0\n",
      "origin_country_name      0.0\n",
      "dest_airport_id          0.0\n",
      "dest_city_market_id      0.0\n",
      "dest                     0.0\n",
      "dest_city_name           0.0\n",
      "dest_country             0.0\n",
      "dest_country_name        0.0\n",
      "aircraft_group           0.0\n",
      "aircraft_type            0.0\n",
      "aircraft_config          0.0\n",
      "year                     0.0\n",
      "month                    0.0\n",
      "distance_group           0.0\n",
      "class                    0.0\n",
      "data_source              0.0\n",
      "dtype: float64 \n",
      "\n",
      "fuel percentage of missing per column: month                0.000000\n",
      "airline_id           0.032949\n",
      "unique_carrier       0.032949\n",
      "carrier              0.000000\n",
      "carrier_name         0.032949\n",
      "carrier_group_new    0.000000\n",
      "sdomt_gallons        0.032949\n",
      "satl_gallons         0.032949\n",
      "spac_gallons         0.032949\n",
      "slat_gallons         0.065898\n",
      "sint_gallons         0.032949\n",
      "ts_gallons           0.032949\n",
      "tdomt_gallons        0.098847\n",
      "tint_gallons         0.032949\n",
      "total_gallons        0.197694\n",
      "sdomt_cost           0.000000\n",
      "satl_cost            0.032949\n",
      "spac_cost            0.032949\n",
      "slat_cost            0.032949\n",
      "sint_cost            0.032949\n",
      "ts_cost              0.000000\n",
      "tdomt_cost           0.000000\n",
      "tint_cost            0.032949\n",
      "total_cost           0.000000\n",
      "year                 0.000000\n",
      "dtype: float64 \n",
      "\n"
     ]
    }
   ],
   "source": [
    "flights_perc_missing = flights_raw.isnull().sum() * 100 / len(flights_raw)\n",
    "passengers_perc_missing = passengers_raw.isnull().sum() * 100 / len(passengers_raw)\n",
    "fuel_perc_missing = fuel_consumption_raw.isnull().sum() * 100 / len(fuel_consumption_raw)\n",
    "print(\"flights percentage of missing per column:\",flights_perc_missing,'\\n')\n",
    "print(\"passengers percentage of missing per column:\",passengers_perc_missing,'\\n')\n",
    "print(\"fuel percentage of missing per column:\",fuel_perc_missing,'\\n')"
   ]
  },
  {
   "cell_type": "code",
   "execution_count": 28,
   "metadata": {},
   "outputs": [],
   "source": [
    "#Dropping columns with above 75 percentage of missing values in flights_raw\n",
    "#Dropping tail_num column;\n",
    "flights_raw = flights_raw.drop(columns = ['no_name', 'longest_add_gtime','total_add_gtime'\n",
    "                                          ,'first_dep_time','late_aircraft_delay','security_delay',\n",
    "                                          'nas_delay','weather_delay','carrier_delay','cancellation_code','tail_num'],axis=1)"
   ]
  },
  {
   "cell_type": "code",
   "execution_count": 92,
   "metadata": {},
   "outputs": [],
   "source": [
    "#Dropping rows on fuel_consumption with missing values\n",
    "#There is total of 25 missing rows out of 3035\n",
    "fuel_consumption_raw = fuel_consumption_raw.dropna()"
   ]
  },
  {
   "cell_type": "code",
   "execution_count": 75,
   "metadata": {},
   "outputs": [],
   "source": [
    "#Filling the Nan in the flights_raw data\n",
    "flights_raw['dep_time'] = flights_raw['dep_time'].fillna(flights_raw['dep_time'].mean())\n",
    "flights_raw['dep_delay'] = flights_raw['dep_delay'].fillna(flights_raw['dep_delay'].mean())\n",
    "flights_raw['taxi_out'] = flights_raw['taxi_out'].fillna(flights_raw['taxi_out'].mean())\n",
    "flights_raw['wheels_off'] = flights_raw['wheels_off'].fillna(flights_raw['wheels_off'].mean())\n",
    "flights_raw['wheels_on'] = flights_raw['wheels_on'].fillna(flights_raw['wheels_off'].mean())\n",
    "flights_raw['taxi_in'] = flights_raw['taxi_in'].fillna(flights_raw['taxi_in'].mean())\n",
    "flights_raw['arr_time'] = flights_raw['arr_time'].fillna(flights_raw['arr_time'].mean())\n",
    "flights_raw['arr_delay'] = flights_raw['arr_delay'].fillna(flights_raw['arr_delay'].mean())\n",
    "flights_raw['actual_elapsed_time'] = flights_raw['actual_elapsed_time'].fillna(flights_raw['actual_elapsed_time'].mean())\n",
    "flights_raw['crs_elapsed_time'] = flights_raw['crs_elapsed_time'].fillna(flights_raw['crs_elapsed_time'].mean())\n",
    "flights_raw['air_time'] = flights_raw['air_time'].fillna(flights_raw['air_time'].mean())"
   ]
  },
  {
   "cell_type": "code",
   "execution_count": 101,
   "metadata": {},
   "outputs": [],
   "source": [
    "#exporting cleaned files to csv\n",
    "flights_raw.to_csv('flights_2019_cleaned.csv')\n",
    "passengers_raw.to_csv('passengers_2019_cleaned.csv')\n",
    "fuel_consumption_raw.to_csv('fuel_consumption_2019_cleaned.csv')"
   ]
  },
  {
   "cell_type": "code",
   "execution_count": 107,
   "metadata": {},
   "outputs": [],
   "source": []
  },
  {
   "cell_type": "code",
   "execution_count": null,
   "metadata": {},
   "outputs": [],
   "source": []
  }
 ],
 "metadata": {
  "kernelspec": {
   "display_name": "bootcamp",
   "language": "python",
   "name": "bootcamp"
  },
  "language_info": {
   "codemirror_mode": {
    "name": "ipython",
    "version": 3
   },
   "file_extension": ".py",
   "mimetype": "text/x-python",
   "name": "python",
   "nbconvert_exporter": "python",
   "pygments_lexer": "ipython3",
   "version": "3.8.5"
  }
 },
 "nbformat": 4,
 "nbformat_minor": 4
}
