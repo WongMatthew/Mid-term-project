{
 "cells": [
  {
   "cell_type": "code",
   "execution_count": 212,
   "metadata": {},
   "outputs": [],
   "source": [
    "#Import all necessary modules\n",
    "\n",
    "import pandas as pd\n",
    "import numpy as np\n",
    "import matplotlib.pyplot as plt\n",
    "import seaborn as sns\n",
    "import plotly.express as px\n",
    "import requests\n",
    "import datetime"
   ]
  },
  {
   "cell_type": "code",
   "execution_count": 216,
   "metadata": {},
   "outputs": [],
   "source": [
    "flights = pd.read_csv(\"data/flights_cleaned.csv\")"
   ]
  },
  {
   "cell_type": "code",
   "execution_count": 175,
   "metadata": {},
   "outputs": [
    {
     "data": {
      "text/html": [
       "<div>\n",
       "<style scoped>\n",
       "    .dataframe tbody tr th:only-of-type {\n",
       "        vertical-align: middle;\n",
       "    }\n",
       "\n",
       "    .dataframe tbody tr th {\n",
       "        vertical-align: top;\n",
       "    }\n",
       "\n",
       "    .dataframe thead th {\n",
       "        text-align: right;\n",
       "    }\n",
       "</style>\n",
       "<table border=\"1\" class=\"dataframe\">\n",
       "  <thead>\n",
       "    <tr style=\"text-align: right;\">\n",
       "      <th></th>\n",
       "      <th>city, ST</th>\n",
       "      <th>fl_date</th>\n",
       "    </tr>\n",
       "  </thead>\n",
       "  <tbody>\n",
       "    <tr>\n",
       "      <th>0</th>\n",
       "      <td>Detroit, MI</td>\n",
       "      <td>2019-05-22</td>\n",
       "    </tr>\n",
       "    <tr>\n",
       "      <th>1</th>\n",
       "      <td>Boston, MA</td>\n",
       "      <td>2019-07-04</td>\n",
       "    </tr>\n",
       "    <tr>\n",
       "      <th>2</th>\n",
       "      <td>New York, NY</td>\n",
       "      <td>2019-06-27</td>\n",
       "    </tr>\n",
       "    <tr>\n",
       "      <th>3</th>\n",
       "      <td>Denver, CO</td>\n",
       "      <td>2018-04-05</td>\n",
       "    </tr>\n",
       "    <tr>\n",
       "      <th>4</th>\n",
       "      <td>Baltimore, MD</td>\n",
       "      <td>2019-02-08</td>\n",
       "    </tr>\n",
       "    <tr>\n",
       "      <th>...</th>\n",
       "      <td>...</td>\n",
       "      <td>...</td>\n",
       "    </tr>\n",
       "    <tr>\n",
       "      <th>58984</th>\n",
       "      <td>Bullhead City, AZ</td>\n",
       "      <td>2018-02-03</td>\n",
       "    </tr>\n",
       "    <tr>\n",
       "      <th>68378</th>\n",
       "      <td>Watertown, SD</td>\n",
       "      <td>2019-12-18</td>\n",
       "    </tr>\n",
       "    <tr>\n",
       "      <th>74592</th>\n",
       "      <td>Branson, MO</td>\n",
       "      <td>2018-11-05</td>\n",
       "    </tr>\n",
       "    <tr>\n",
       "      <th>74757</th>\n",
       "      <td>Hyannis, MA</td>\n",
       "      <td>2018-08-15</td>\n",
       "    </tr>\n",
       "    <tr>\n",
       "      <th>104480</th>\n",
       "      <td>Owensboro, KY</td>\n",
       "      <td>2019-11-15</td>\n",
       "    </tr>\n",
       "  </tbody>\n",
       "</table>\n",
       "<p>366 rows × 2 columns</p>\n",
       "</div>"
      ],
      "text/plain": [
       "                 city, ST     fl_date\n",
       "0             Detroit, MI  2019-05-22\n",
       "1              Boston, MA  2019-07-04\n",
       "2            New York, NY  2019-06-27\n",
       "3              Denver, CO  2018-04-05\n",
       "4           Baltimore, MD  2019-02-08\n",
       "...                   ...         ...\n",
       "58984   Bullhead City, AZ  2018-02-03\n",
       "68378       Watertown, SD  2019-12-18\n",
       "74592         Branson, MO  2018-11-05\n",
       "74757         Hyannis, MA  2018-08-15\n",
       "104480      Owensboro, KY  2019-11-15\n",
       "\n",
       "[366 rows x 2 columns]"
      ]
     },
     "execution_count": 175,
     "metadata": {},
     "output_type": "execute_result"
    }
   ],
   "source": [
    "cities = flights.drop_duplicates('origin_city_name')[['origin_city_name','fl_date']]\n",
    "cities.rename(columns={'origin_city_name':'city, ST'})"
   ]
  },
  {
   "cell_type": "code",
   "execution_count": null,
   "metadata": {},
   "outputs": [],
   "source": []
  },
  {
   "cell_type": "code",
   "execution_count": 148,
   "metadata": {},
   "outputs": [
    {
     "data": {
      "text/plain": [
       "Gustavus, AK                 3\n",
       "Rota, TT                     3\n",
       "Bullhead City, AZ            3\n",
       "Hyannis, MA                  4\n",
       "Ogden, UT                    4\n",
       "                         ...  \n",
       "Denver, CO               10401\n",
       "Dallas/Fort Worth, TX    11114\n",
       "New York, NY             11330\n",
       "Atlanta, GA              14867\n",
       "Chicago, IL              18059\n",
       "Name: origin_city_name, Length: 366, dtype: int64"
      ]
     },
     "execution_count": 148,
     "metadata": {},
     "output_type": "execute_result"
    }
   ],
   "source": [
    "flights['origin_city_name'].value_counts().sort_values()"
   ]
  },
  {
   "cell_type": "code",
   "execution_count": 176,
   "metadata": {},
   "outputs": [
    {
     "data": {
      "text/html": [
       "<div>\n",
       "<style scoped>\n",
       "    .dataframe tbody tr th:only-of-type {\n",
       "        vertical-align: middle;\n",
       "    }\n",
       "\n",
       "    .dataframe tbody tr th {\n",
       "        vertical-align: top;\n",
       "    }\n",
       "\n",
       "    .dataframe thead th {\n",
       "        text-align: right;\n",
       "    }\n",
       "</style>\n",
       "<table border=\"1\" class=\"dataframe\">\n",
       "  <thead>\n",
       "    <tr style=\"text-align: right;\">\n",
       "      <th></th>\n",
       "      <th>origin_city_name</th>\n",
       "      <th>fl_date</th>\n",
       "    </tr>\n",
       "  </thead>\n",
       "  <tbody>\n",
       "    <tr>\n",
       "      <th>271</th>\n",
       "      <td>Fayetteville, AR</td>\n",
       "      <td>2019-09-01</td>\n",
       "    </tr>\n",
       "    <tr>\n",
       "      <th>6168</th>\n",
       "      <td>San Angelo, TX</td>\n",
       "      <td>2019-10-21</td>\n",
       "    </tr>\n",
       "    <tr>\n",
       "      <th>4657</th>\n",
       "      <td>Springfield, IL</td>\n",
       "      <td>2019-12-14</td>\n",
       "    </tr>\n",
       "    <tr>\n",
       "      <th>1031</th>\n",
       "      <td>Monroe, LA</td>\n",
       "      <td>2018-10-23</td>\n",
       "    </tr>\n",
       "    <tr>\n",
       "      <th>238</th>\n",
       "      <td>Grand Junction, CO</td>\n",
       "      <td>2019-07-25</td>\n",
       "    </tr>\n",
       "    <tr>\n",
       "      <th>...</th>\n",
       "      <td>...</td>\n",
       "      <td>...</td>\n",
       "    </tr>\n",
       "    <tr>\n",
       "      <th>171</th>\n",
       "      <td>Burbank, CA</td>\n",
       "      <td>2019-09-30</td>\n",
       "    </tr>\n",
       "    <tr>\n",
       "      <th>2733</th>\n",
       "      <td>Fairbanks, AK</td>\n",
       "      <td>2018-04-04</td>\n",
       "    </tr>\n",
       "    <tr>\n",
       "      <th>46</th>\n",
       "      <td>Charlotte, NC</td>\n",
       "      <td>2019-04-26</td>\n",
       "    </tr>\n",
       "    <tr>\n",
       "      <th>7740</th>\n",
       "      <td>Laredo, TX</td>\n",
       "      <td>2018-04-12</td>\n",
       "    </tr>\n",
       "    <tr>\n",
       "      <th>7264</th>\n",
       "      <td>Ithaca/Cortland, NY</td>\n",
       "      <td>2018-02-24</td>\n",
       "    </tr>\n",
       "  </tbody>\n",
       "</table>\n",
       "<p>80 rows × 2 columns</p>\n",
       "</div>"
      ],
      "text/plain": [
       "         origin_city_name     fl_date\n",
       "271      Fayetteville, AR  2019-09-01\n",
       "6168       San Angelo, TX  2019-10-21\n",
       "4657      Springfield, IL  2019-12-14\n",
       "1031           Monroe, LA  2018-10-23\n",
       "238    Grand Junction, CO  2019-07-25\n",
       "...                   ...         ...\n",
       "171           Burbank, CA  2019-09-30\n",
       "2733        Fairbanks, AK  2018-04-04\n",
       "46          Charlotte, NC  2019-04-26\n",
       "7740           Laredo, TX  2018-04-12\n",
       "7264  Ithaca/Cortland, NY  2018-02-24\n",
       "\n",
       "[80 rows x 2 columns]"
      ]
     },
     "execution_count": 176,
     "metadata": {},
     "output_type": "execute_result"
    }
   ],
   "source": [
    "cities_samp = cities.sample(80)\n",
    "cities_samp"
   ]
  },
  {
   "cell_type": "code",
   "execution_count": 177,
   "metadata": {},
   "outputs": [],
   "source": [
    "weather_data = cities_samp.values.tolist()"
   ]
  },
  {
   "cell_type": "code",
   "execution_count": 178,
   "metadata": {},
   "outputs": [
    {
     "data": {
      "text/plain": [
       "'Fayetteville, AR'"
      ]
     },
     "execution_count": 178,
     "metadata": {},
     "output_type": "execute_result"
    }
   ],
   "source": [
    "weather_data[0][0]"
   ]
  },
  {
   "cell_type": "code",
   "execution_count": null,
   "metadata": {},
   "outputs": [],
   "source": []
  },
  {
   "cell_type": "code",
   "execution_count": 179,
   "metadata": {},
   "outputs": [],
   "source": [
    "url = \"https://weather.visualcrossing.com/VisualCrossingWebServices/rest/services/weatherdata/history\"\n",
    "\n",
    "weather = []\n",
    "\n",
    "for i in weather_data:\n",
    "    \n",
    "    start_date = datetime.datetime.strptime(i[1], \"%Y-%M-%d\")\n",
    "    end_date = start_date + datetime.timedelta(days=1)\n",
    "\n",
    "    \n",
    "    querystring = {\"contentType\":\"json\",\n",
    "               \"startDateTime\":f\"{str(start_date.date())}T00:00:00\",\n",
    "               \"aggregateHours\":\"24\",\"location\":f\"{i[0]}\",\n",
    "               \"endDateTime\":f\"{str(end_date.date())}T00:00:00\",\n",
    "               \"unitGroup\":\"us\",\n",
    "               \"key\":\"UQKQQXNCJ7GE3BLU8R9YITBHS\"}\n",
    "    \n",
    "    response = requests.request(\"GET\", url, headers=headers, params=querystring)\n",
    "    weather.append(response.json())"
   ]
  },
  {
   "cell_type": "code",
   "execution_count": 189,
   "metadata": {},
   "outputs": [
    {
     "data": {
      "application/json": [
       {
        "columns": {
         "address": {
          "id": "address",
          "name": "Address",
          "type": 1,
          "unit": null
         },
         "cloudcover": {
          "id": "cloudcover",
          "name": "Cloud Cover",
          "type": 2,
          "unit": "%"
         },
         "conditions": {
          "id": "conditions",
          "name": "Conditions",
          "type": 1,
          "unit": null
         },
         "datetime": {
          "id": "datetime",
          "name": "Date time",
          "type": 3,
          "unit": null
         },
         "dew": {
          "id": "dew",
          "name": "Dew Point",
          "type": 2,
          "unit": "degF"
         },
         "heatindex": {
          "id": "heatindex",
          "name": "Heat Index",
          "type": 2,
          "unit": "degF"
         },
         "humidity": {
          "id": "humidity",
          "name": "Relative Humidity",
          "type": 2,
          "unit": "%"
         },
         "info": {
          "id": "info",
          "name": "Info",
          "type": 1,
          "unit": null
         },
         "latitude": {
          "id": "latitude",
          "name": "Latitude",
          "type": 2,
          "unit": null
         },
         "longitude": {
          "id": "longitude",
          "name": "Longitude",
          "type": 2,
          "unit": null
         },
         "maxt": {
          "id": "maxt",
          "name": "Maximum Temperature",
          "type": 2,
          "unit": "degF"
         },
         "mint": {
          "id": "mint",
          "name": "Minimum Temperature",
          "type": 2,
          "unit": "degF"
         },
         "name": {
          "id": "name",
          "name": "Name",
          "type": 1,
          "unit": null
         },
         "precip": {
          "id": "precip",
          "name": "Precipitation",
          "type": 2,
          "unit": "in"
         },
         "precipcover": {
          "id": "precipcover",
          "name": "Precipitation Cover",
          "type": 2,
          "unit": "%"
         },
         "resolvedAddress": {
          "id": "resolvedAddress",
          "name": "Resolved Address",
          "type": 1,
          "unit": null
         },
         "sealevelpressure": {
          "id": "sealevelpressure",
          "name": "Sea Level Pressure",
          "type": 2,
          "unit": "Pa"
         },
         "snowdepth": {
          "id": "snowdepth",
          "name": "Snow Depth",
          "type": 2,
          "unit": "in"
         },
         "temp": {
          "id": "temp",
          "name": "Temperature",
          "type": 2,
          "unit": "degF"
         },
         "visibility": {
          "id": "visibility",
          "name": "Visibility",
          "type": 2,
          "unit": "mi"
         },
         "wdir": {
          "id": "wdir",
          "name": "Wind Direction",
          "type": 2,
          "unit": null
         },
         "weathertype": {
          "id": "weathertype",
          "name": "Weather Type",
          "type": 1,
          "unit": null
         },
         "wgust": {
          "id": "wgust",
          "name": "Wind Gust",
          "type": 2,
          "unit": "mph"
         },
         "windchill": {
          "id": "windchill",
          "name": "Wind Chill",
          "type": 2,
          "unit": "degF"
         },
         "wspd": {
          "id": "wspd",
          "name": "Wind Speed",
          "type": 2,
          "unit": "mph"
         }
        },
        "locations": {
         "Fayetteville, AR": {
          "address": "fayetteville, ar",
          "alerts": null,
          "currentConditions": null,
          "distance": 0,
          "id": "Fayetteville, AR",
          "index": 0,
          "latitude": 36.0632,
          "longitude": -94.1579,
          "name": "fayetteville, ar",
          "stationContributions": null,
          "time": 0,
          "values": [
           {
            "cloudcover": 100,
            "conditions": "Overcast",
            "datetime": 1546300800000,
            "datetimeStr": "2019-01-01T00:00:00-06:00",
            "dew": 30.1,
            "heatindex": null,
            "humidity": 89.45,
            "info": null,
            "maxt": 39.8,
            "mint": 29.9,
            "precip": 0,
            "precipcover": 0,
            "sealevelpressure": 1025.8,
            "snowdepth": null,
            "temp": 32.9,
            "visibility": 6.3,
            "wdir": 268.5,
            "weathertype": null,
            "wgust": null,
            "windchill": 22.3,
            "wspd": 11.4
           },
           {
            "cloudcover": 96.8,
            "conditions": "Rain, Overcast",
            "datetime": 1546387200000,
            "datetimeStr": "2019-01-02T00:00:00-06:00",
            "dew": 29.7,
            "heatindex": null,
            "humidity": 92.38,
            "info": null,
            "maxt": 34.1,
            "mint": 29.9,
            "precip": 0.11,
            "precipcover": 29.17,
            "sealevelpressure": 1023.8,
            "snowdepth": null,
            "temp": 31.7,
            "visibility": 4.6,
            "wdir": 125.58,
            "weathertype": null,
            "wgust": null,
            "windchill": 23,
            "wspd": 8.1
           }
          ]
         }
        },
        "messages": [
         "This is a preview of the first 2 rows.You have exceeded the maximum number of daily result records for your account. Add a credit card to your account to increase the number of available free records."
        ],
        "queryCost": 2,
        "remainingCost": 0
       },
       {
        "columns": {
         "address": {
          "id": "address",
          "name": "Address",
          "type": 1,
          "unit": null
         },
         "cloudcover": {
          "id": "cloudcover",
          "name": "Cloud Cover",
          "type": 2,
          "unit": "%"
         },
         "conditions": {
          "id": "conditions",
          "name": "Conditions",
          "type": 1,
          "unit": null
         },
         "datetime": {
          "id": "datetime",
          "name": "Date time",
          "type": 3,
          "unit": null
         },
         "dew": {
          "id": "dew",
          "name": "Dew Point",
          "type": 2,
          "unit": "degF"
         },
         "heatindex": {
          "id": "heatindex",
          "name": "Heat Index",
          "type": 2,
          "unit": "degF"
         },
         "humidity": {
          "id": "humidity",
          "name": "Relative Humidity",
          "type": 2,
          "unit": "%"
         },
         "info": {
          "id": "info",
          "name": "Info",
          "type": 1,
          "unit": null
         },
         "latitude": {
          "id": "latitude",
          "name": "Latitude",
          "type": 2,
          "unit": null
         },
         "longitude": {
          "id": "longitude",
          "name": "Longitude",
          "type": 2,
          "unit": null
         },
         "maxt": {
          "id": "maxt",
          "name": "Maximum Temperature",
          "type": 2,
          "unit": "degF"
         },
         "mint": {
          "id": "mint",
          "name": "Minimum Temperature",
          "type": 2,
          "unit": "degF"
         },
         "name": {
          "id": "name",
          "name": "Name",
          "type": 1,
          "unit": null
         },
         "precip": {
          "id": "precip",
          "name": "Precipitation",
          "type": 2,
          "unit": "in"
         },
         "precipcover": {
          "id": "precipcover",
          "name": "Precipitation Cover",
          "type": 2,
          "unit": "%"
         },
         "resolvedAddress": {
          "id": "resolvedAddress",
          "name": "Resolved Address",
          "type": 1,
          "unit": null
         },
         "sealevelpressure": {
          "id": "sealevelpressure",
          "name": "Sea Level Pressure",
          "type": 2,
          "unit": "Pa"
         },
         "snowdepth": {
          "id": "snowdepth",
          "name": "Snow Depth",
          "type": 2,
          "unit": "in"
         },
         "temp": {
          "id": "temp",
          "name": "Temperature",
          "type": 2,
          "unit": "degF"
         },
         "visibility": {
          "id": "visibility",
          "name": "Visibility",
          "type": 2,
          "unit": "mi"
         },
         "wdir": {
          "id": "wdir",
          "name": "Wind Direction",
          "type": 2,
          "unit": null
         },
         "weathertype": {
          "id": "weathertype",
          "name": "Weather Type",
          "type": 1,
          "unit": null
         },
         "wgust": {
          "id": "wgust",
          "name": "Wind Gust",
          "type": 2,
          "unit": "mph"
         },
         "windchill": {
          "id": "windchill",
          "name": "Wind Chill",
          "type": 2,
          "unit": "degF"
         },
         "wspd": {
          "id": "wspd",
          "name": "Wind Speed",
          "type": 2,
          "unit": "mph"
         }
        },
        "locations": {
         "San Angelo, TX": {
          "address": "San Angelo, TX",
          "alerts": null,
          "currentConditions": null,
          "distance": 0,
          "id": "San Angelo, TX",
          "index": 0,
          "latitude": 31.4615,
          "longitude": -100.442,
          "name": "San Angelo, TX",
          "stationContributions": null,
          "time": 0,
          "values": [
           {
            "cloudcover": 0,
            "conditions": "Clear",
            "datetime": 1548028800000,
            "datetimeStr": "2019-01-21T00:00:00-06:00",
            "dew": 34.6,
            "heatindex": null,
            "humidity": 48.23,
            "info": null,
            "maxt": 68,
            "mint": 44.1,
            "precip": 0,
            "precipcover": 0,
            "sealevelpressure": 1013,
            "snowdepth": null,
            "temp": 54.6,
            "visibility": 9.9,
            "wdir": 186.25,
            "weathertype": null,
            "wgust": 34.4,
            "windchill": 36.2,
            "wspd": 24.2
           },
           {
            "cloudcover": 44.4,
            "conditions": "Partially cloudy",
            "datetime": 1548115200000,
            "datetimeStr": "2019-01-22T00:00:00-06:00",
            "dew": 38.3,
            "heatindex": null,
            "humidity": 57.2,
            "info": null,
            "maxt": 68,
            "mint": 39.8,
            "precip": 0,
            "precipcover": 0,
            "sealevelpressure": 1010.8,
            "snowdepth": null,
            "temp": 54.4,
            "visibility": 9.9,
            "wdir": 265,
            "weathertype": null,
            "wgust": 38,
            "windchill": 30.3,
            "wspd": 25.3
           }
          ]
         }
        },
        "messages": [
         "This is a preview of the first 2 rows.You have exceeded the maximum number of daily result records for your account. Add a credit card to your account to increase the number of available free records."
        ],
        "queryCost": 2,
        "remainingCost": 0
       },
       {
        "columns": {
         "address": {
          "id": "address",
          "name": "Address",
          "type": 1,
          "unit": null
         },
         "cloudcover": {
          "id": "cloudcover",
          "name": "Cloud Cover",
          "type": 2,
          "unit": "%"
         },
         "conditions": {
          "id": "conditions",
          "name": "Conditions",
          "type": 1,
          "unit": null
         },
         "datetime": {
          "id": "datetime",
          "name": "Date time",
          "type": 3,
          "unit": null
         },
         "dew": {
          "id": "dew",
          "name": "Dew Point",
          "type": 2,
          "unit": "degF"
         },
         "heatindex": {
          "id": "heatindex",
          "name": "Heat Index",
          "type": 2,
          "unit": "degF"
         },
         "humidity": {
          "id": "humidity",
          "name": "Relative Humidity",
          "type": 2,
          "unit": "%"
         },
         "info": {
          "id": "info",
          "name": "Info",
          "type": 1,
          "unit": null
         },
         "latitude": {
          "id": "latitude",
          "name": "Latitude",
          "type": 2,
          "unit": null
         },
         "longitude": {
          "id": "longitude",
          "name": "Longitude",
          "type": 2,
          "unit": null
         },
         "maxt": {
          "id": "maxt",
          "name": "Maximum Temperature",
          "type": 2,
          "unit": "degF"
         },
         "mint": {
          "id": "mint",
          "name": "Minimum Temperature",
          "type": 2,
          "unit": "degF"
         },
         "name": {
          "id": "name",
          "name": "Name",
          "type": 1,
          "unit": null
         },
         "precip": {
          "id": "precip",
          "name": "Precipitation",
          "type": 2,
          "unit": "in"
         },
         "precipcover": {
          "id": "precipcover",
          "name": "Precipitation Cover",
          "type": 2,
          "unit": "%"
         },
         "resolvedAddress": {
          "id": "resolvedAddress",
          "name": "Resolved Address",
          "type": 1,
          "unit": null
         },
         "sealevelpressure": {
          "id": "sealevelpressure",
          "name": "Sea Level Pressure",
          "type": 2,
          "unit": "Pa"
         },
         "snowdepth": {
          "id": "snowdepth",
          "name": "Snow Depth",
          "type": 2,
          "unit": "in"
         },
         "temp": {
          "id": "temp",
          "name": "Temperature",
          "type": 2,
          "unit": "degF"
         },
         "visibility": {
          "id": "visibility",
          "name": "Visibility",
          "type": 2,
          "unit": "mi"
         },
         "wdir": {
          "id": "wdir",
          "name": "Wind Direction",
          "type": 2,
          "unit": null
         },
         "weathertype": {
          "id": "weathertype",
          "name": "Weather Type",
          "type": 1,
          "unit": null
         },
         "wgust": {
          "id": "wgust",
          "name": "Wind Gust",
          "type": 2,
          "unit": "mph"
         },
         "windchill": {
          "id": "windchill",
          "name": "Wind Chill",
          "type": 2,
          "unit": "degF"
         },
         "wspd": {
          "id": "wspd",
          "name": "Wind Speed",
          "type": 2,
          "unit": "mph"
         }
        },
        "locations": {
         "Springfield, IL": {
          "address": "springfield, iL",
          "alerts": null,
          "currentConditions": null,
          "distance": 0,
          "id": "Springfield, IL",
          "index": 0,
          "latitude": 39.8013,
          "longitude": -89.6436,
          "name": "springfield, iL",
          "stationContributions": null,
          "time": 0,
          "values": [
           {
            "cloudcover": 74.7,
            "conditions": "Partially cloudy",
            "datetime": 1547424000000,
            "datetimeStr": "2019-01-14T00:00:00-06:00",
            "dew": 16.7,
            "heatindex": null,
            "humidity": 90.19,
            "info": null,
            "maxt": 29,
            "mint": 5,
            "precip": 0,
            "precipcover": 0,
            "sealevelpressure": 1029.5,
            "snowdepth": null,
            "temp": 19.1,
            "visibility": 5.2,
            "wdir": 163.96,
            "weathertype": null,
            "wgust": null,
            "windchill": -1.3,
            "wspd": 10.3
           },
           {
            "cloudcover": 100,
            "conditions": "Overcast",
            "datetime": 1547510400000,
            "datetimeStr": "2019-01-15T00:00:00-06:00",
            "dew": 26.6,
            "heatindex": null,
            "humidity": 89.93,
            "info": null,
            "maxt": 33.2,
            "mint": 27,
            "precip": 0,
            "precipcover": 0,
            "sealevelpressure": 1024.2,
            "snowdepth": null,
            "temp": 29.2,
            "visibility": 7.5,
            "wdir": 241.25,
            "weathertype": null,
            "wgust": 21.9,
            "windchill": 17.3,
            "wspd": 12.8
           }
          ]
         }
        },
        "messages": [
         "This is a preview of the first 2 rows.You have exceeded the maximum number of daily result records for your account. Add a credit card to your account to increase the number of available free records."
        ],
        "queryCost": 2,
        "remainingCost": 0
       },
       {
        "columns": {
         "address": {
          "id": "address",
          "name": "Address",
          "type": 1,
          "unit": null
         },
         "cloudcover": {
          "id": "cloudcover",
          "name": "Cloud Cover",
          "type": 2,
          "unit": "%"
         },
         "conditions": {
          "id": "conditions",
          "name": "Conditions",
          "type": 1,
          "unit": null
         },
         "datetime": {
          "id": "datetime",
          "name": "Date time",
          "type": 3,
          "unit": null
         },
         "dew": {
          "id": "dew",
          "name": "Dew Point",
          "type": 2,
          "unit": "degF"
         },
         "heatindex": {
          "id": "heatindex",
          "name": "Heat Index",
          "type": 2,
          "unit": "degF"
         },
         "humidity": {
          "id": "humidity",
          "name": "Relative Humidity",
          "type": 2,
          "unit": "%"
         },
         "info": {
          "id": "info",
          "name": "Info",
          "type": 1,
          "unit": null
         },
         "latitude": {
          "id": "latitude",
          "name": "Latitude",
          "type": 2,
          "unit": null
         },
         "longitude": {
          "id": "longitude",
          "name": "Longitude",
          "type": 2,
          "unit": null
         },
         "maxt": {
          "id": "maxt",
          "name": "Maximum Temperature",
          "type": 2,
          "unit": "degF"
         },
         "mint": {
          "id": "mint",
          "name": "Minimum Temperature",
          "type": 2,
          "unit": "degF"
         },
         "name": {
          "id": "name",
          "name": "Name",
          "type": 1,
          "unit": null
         },
         "precip": {
          "id": "precip",
          "name": "Precipitation",
          "type": 2,
          "unit": "in"
         },
         "precipcover": {
          "id": "precipcover",
          "name": "Precipitation Cover",
          "type": 2,
          "unit": "%"
         },
         "resolvedAddress": {
          "id": "resolvedAddress",
          "name": "Resolved Address",
          "type": 1,
          "unit": null
         },
         "sealevelpressure": {
          "id": "sealevelpressure",
          "name": "Sea Level Pressure",
          "type": 2,
          "unit": "Pa"
         },
         "snowdepth": {
          "id": "snowdepth",
          "name": "Snow Depth",
          "type": 2,
          "unit": "in"
         },
         "temp": {
          "id": "temp",
          "name": "Temperature",
          "type": 2,
          "unit": "degF"
         },
         "visibility": {
          "id": "visibility",
          "name": "Visibility",
          "type": 2,
          "unit": "mi"
         },
         "wdir": {
          "id": "wdir",
          "name": "Wind Direction",
          "type": 2,
          "unit": null
         },
         "weathertype": {
          "id": "weathertype",
          "name": "Weather Type",
          "type": 1,
          "unit": null
         },
         "wgust": {
          "id": "wgust",
          "name": "Wind Gust",
          "type": 2,
          "unit": "mph"
         },
         "windchill": {
          "id": "windchill",
          "name": "Wind Chill",
          "type": 2,
          "unit": "degF"
         },
         "wspd": {
          "id": "wspd",
          "name": "Wind Speed",
          "type": 2,
          "unit": "mph"
         }
        },
        "locations": {
         "Monroe, LA": {
          "address": "Monroe, LA",
          "alerts": null,
          "currentConditions": null,
          "distance": 0,
          "id": "Monroe, LA",
          "index": 0,
          "latitude": 32.5098,
          "longitude": -92.1188,
          "name": "Monroe, LA",
          "stationContributions": null,
          "time": 0,
          "values": [
           {
            "cloudcover": 0,
            "conditions": "Clear",
            "datetime": 1516665600000,
            "datetimeStr": "2018-01-23T00:00:00-06:00",
            "dew": 27.5,
            "heatindex": null,
            "humidity": 50.96,
            "info": null,
            "maxt": 60.2,
            "mint": 35.2,
            "precip": 0,
            "precipcover": 0,
            "sealevelpressure": 1022.7,
            "snowdepth": null,
            "temp": 46.4,
            "visibility": 9.9,
            "wdir": 285.1,
            "weathertype": null,
            "wgust": null,
            "windchill": 28.7,
            "wspd": 12.5
           },
           {
            "cloudcover": 0,
            "conditions": "Clear",
            "datetime": 1516752000000,
            "datetimeStr": "2018-01-24T00:00:00-06:00",
            "dew": 28.1,
            "heatindex": null,
            "humidity": 59.87,
            "info": null,
            "maxt": 60.2,
            "mint": 29.9,
            "precip": 0,
            "precipcover": 0,
            "sealevelpressure": 1030.2,
            "snowdepth": null,
            "temp": 43.4,
            "visibility": 9.9,
            "wdir": 290.09,
            "weathertype": null,
            "wgust": null,
            "windchill": 27.8,
            "wspd": 8
           }
          ]
         }
        },
        "messages": [
         "This is a preview of the first 2 rows.You have exceeded the maximum number of daily result records for your account. Add a credit card to your account to increase the number of available free records."
        ],
        "queryCost": 2,
        "remainingCost": 0
       },
       {
        "columns": {
         "address": {
          "id": "address",
          "name": "Address",
          "type": 1,
          "unit": null
         },
         "cloudcover": {
          "id": "cloudcover",
          "name": "Cloud Cover",
          "type": 2,
          "unit": "%"
         },
         "conditions": {
          "id": "conditions",
          "name": "Conditions",
          "type": 1,
          "unit": null
         },
         "datetime": {
          "id": "datetime",
          "name": "Date time",
          "type": 3,
          "unit": null
         },
         "dew": {
          "id": "dew",
          "name": "Dew Point",
          "type": 2,
          "unit": "degF"
         },
         "heatindex": {
          "id": "heatindex",
          "name": "Heat Index",
          "type": 2,
          "unit": "degF"
         },
         "humidity": {
          "id": "humidity",
          "name": "Relative Humidity",
          "type": 2,
          "unit": "%"
         },
         "info": {
          "id": "info",
          "name": "Info",
          "type": 1,
          "unit": null
         },
         "latitude": {
          "id": "latitude",
          "name": "Latitude",
          "type": 2,
          "unit": null
         },
         "longitude": {
          "id": "longitude",
          "name": "Longitude",
          "type": 2,
          "unit": null
         },
         "maxt": {
          "id": "maxt",
          "name": "Maximum Temperature",
          "type": 2,
          "unit": "degF"
         },
         "mint": {
          "id": "mint",
          "name": "Minimum Temperature",
          "type": 2,
          "unit": "degF"
         },
         "name": {
          "id": "name",
          "name": "Name",
          "type": 1,
          "unit": null
         },
         "precip": {
          "id": "precip",
          "name": "Precipitation",
          "type": 2,
          "unit": "in"
         },
         "precipcover": {
          "id": "precipcover",
          "name": "Precipitation Cover",
          "type": 2,
          "unit": "%"
         },
         "resolvedAddress": {
          "id": "resolvedAddress",
          "name": "Resolved Address",
          "type": 1,
          "unit": null
         },
         "sealevelpressure": {
          "id": "sealevelpressure",
          "name": "Sea Level Pressure",
          "type": 2,
          "unit": "Pa"
         },
         "snowdepth": {
          "id": "snowdepth",
          "name": "Snow Depth",
          "type": 2,
          "unit": "in"
         },
         "temp": {
          "id": "temp",
          "name": "Temperature",
          "type": 2,
          "unit": "degF"
         },
         "visibility": {
          "id": "visibility",
          "name": "Visibility",
          "type": 2,
          "unit": "mi"
         },
         "wdir": {
          "id": "wdir",
          "name": "Wind Direction",
          "type": 2,
          "unit": null
         },
         "weathertype": {
          "id": "weathertype",
          "name": "Weather Type",
          "type": 1,
          "unit": null
         },
         "wgust": {
          "id": "wgust",
          "name": "Wind Gust",
          "type": 2,
          "unit": "mph"
         },
         "windchill": {
          "id": "windchill",
          "name": "Wind Chill",
          "type": 2,
          "unit": "degF"
         },
         "wspd": {
          "id": "wspd",
          "name": "Wind Speed",
          "type": 2,
          "unit": "mph"
         }
        },
        "locations": {
         "Grand Junction, CO": {
          "address": "GRAND JUNCTION, CO",
          "alerts": null,
          "currentConditions": null,
          "distance": 0,
          "id": "Grand Junction, CO",
          "index": 0,
          "latitude": 39.0688,
          "longitude": -108.564,
          "name": "GRAND JUNCTION, CO",
          "stationContributions": null,
          "time": 0,
          "values": [
           {
            "cloudcover": 20.5,
            "conditions": "Clear",
            "datetime": 1548374400000,
            "datetimeStr": "2019-01-25T00:00:00-07:00",
            "dew": 22.6,
            "heatindex": null,
            "humidity": 73.99,
            "info": null,
            "maxt": 39,
            "mint": 21.9,
            "precip": 0,
            "precipcover": 0,
            "sealevelpressure": 1026.2,
            "snowdepth": null,
            "temp": 30.2,
            "visibility": 9.9,
            "wdir": 96.17,
            "weathertype": null,
            "wgust": null,
            "windchill": 17.3,
            "wspd": 7.9
           },
           {
            "cloudcover": 10,
            "conditions": "Clear",
            "datetime": 1548460800000,
            "datetimeStr": "2019-01-26T00:00:00-07:00",
            "dew": 22.1,
            "heatindex": null,
            "humidity": 68.87,
            "info": null,
            "maxt": 42.1,
            "mint": 25,
            "precip": 0,
            "precipcover": 0,
            "sealevelpressure": 1029.1,
            "snowdepth": null,
            "temp": 31.7,
            "visibility": 9.9,
            "wdir": 150.54,
            "weathertype": null,
            "wgust": null,
            "windchill": 14.4,
            "wspd": 12.5
           }
          ]
         }
        },
        "messages": [
         "This is a preview of the first 2 rows.You have exceeded the maximum number of daily result records for your account. Add a credit card to your account to increase the number of available free records."
        ],
        "queryCost": 2,
        "remainingCost": 0
       },
       {
        "columns": {
         "address": {
          "id": "address",
          "name": "Address",
          "type": 1,
          "unit": null
         },
         "cloudcover": {
          "id": "cloudcover",
          "name": "Cloud Cover",
          "type": 2,
          "unit": "%"
         },
         "conditions": {
          "id": "conditions",
          "name": "Conditions",
          "type": 1,
          "unit": null
         },
         "datetime": {
          "id": "datetime",
          "name": "Date time",
          "type": 3,
          "unit": null
         },
         "dew": {
          "id": "dew",
          "name": "Dew Point",
          "type": 2,
          "unit": "degF"
         },
         "heatindex": {
          "id": "heatindex",
          "name": "Heat Index",
          "type": 2,
          "unit": "degF"
         },
         "humidity": {
          "id": "humidity",
          "name": "Relative Humidity",
          "type": 2,
          "unit": "%"
         },
         "info": {
          "id": "info",
          "name": "Info",
          "type": 1,
          "unit": null
         },
         "latitude": {
          "id": "latitude",
          "name": "Latitude",
          "type": 2,
          "unit": null
         },
         "longitude": {
          "id": "longitude",
          "name": "Longitude",
          "type": 2,
          "unit": null
         },
         "maxt": {
          "id": "maxt",
          "name": "Maximum Temperature",
          "type": 2,
          "unit": "degF"
         },
         "mint": {
          "id": "mint",
          "name": "Minimum Temperature",
          "type": 2,
          "unit": "degF"
         },
         "name": {
          "id": "name",
          "name": "Name",
          "type": 1,
          "unit": null
         },
         "precip": {
          "id": "precip",
          "name": "Precipitation",
          "type": 2,
          "unit": "in"
         },
         "precipcover": {
          "id": "precipcover",
          "name": "Precipitation Cover",
          "type": 2,
          "unit": "%"
         },
         "resolvedAddress": {
          "id": "resolvedAddress",
          "name": "Resolved Address",
          "type": 1,
          "unit": null
         },
         "sealevelpressure": {
          "id": "sealevelpressure",
          "name": "Sea Level Pressure",
          "type": 2,
          "unit": "Pa"
         },
         "snowdepth": {
          "id": "snowdepth",
          "name": "Snow Depth",
          "type": 2,
          "unit": "in"
         },
         "temp": {
          "id": "temp",
          "name": "Temperature",
          "type": 2,
          "unit": "degF"
         },
         "visibility": {
          "id": "visibility",
          "name": "Visibility",
          "type": 2,
          "unit": "mi"
         },
         "wdir": {
          "id": "wdir",
          "name": "Wind Direction",
          "type": 2,
          "unit": null
         },
         "weathertype": {
          "id": "weathertype",
          "name": "Weather Type",
          "type": 1,
          "unit": null
         },
         "wgust": {
          "id": "wgust",
          "name": "Wind Gust",
          "type": 2,
          "unit": "mph"
         },
         "windchill": {
          "id": "windchill",
          "name": "Wind Chill",
          "type": 2,
          "unit": "degF"
         },
         "wspd": {
          "id": "wspd",
          "name": "Wind Speed",
          "type": 2,
          "unit": "mph"
         }
        },
        "locations": {
         "Durango, CO": {
          "address": "durango, co",
          "alerts": null,
          "currentConditions": null,
          "distance": 0,
          "id": "Durango, CO",
          "index": 0,
          "latitude": 37.2737,
          "longitude": -107.879,
          "name": "durango, co",
          "stationContributions": null,
          "time": 0,
          "values": [
           {
            "cloudcover": 0,
            "conditions": "Clear",
            "datetime": 1547942400000,
            "datetimeStr": "2019-01-20T00:00:00-07:00",
            "dew": 16.1,
            "heatindex": null,
            "humidity": 81.21,
            "info": null,
            "maxt": 35.1,
            "mint": 8.1,
            "precip": 0,
            "precipcover": 0,
            "sealevelpressure": 1029.1,
            "snowdepth": null,
            "temp": 21.5,
            "visibility": 9.9,
            "wdir": 46.25,
            "weathertype": null,
            "wgust": null,
            "windchill": -3.3,
            "wspd": 10.3
           },
           {
            "cloudcover": 46.3,
            "conditions": "Rain, Partially cloudy",
            "datetime": 1548028800000,
            "datetimeStr": "2019-01-21T00:00:00-07:00",
            "dew": 21.8,
            "heatindex": null,
            "humidity": 86.56,
            "info": null,
            "maxt": 37.1,
            "mint": 15.2,
            "precip": 0.01,
            "precipcover": 8.33,
            "sealevelpressure": 1011.3,
            "snowdepth": null,
            "temp": 25.5,
            "visibility": 9,
            "wdir": 123.13,
            "weathertype": null,
            "wgust": 41.4,
            "windchill": 7.7,
            "wspd": 30
           }
          ]
         }
        },
        "messages": [
         "This is a preview of the first 2 rows.You have exceeded the maximum number of daily result records for your account. Add a credit card to your account to increase the number of available free records."
        ],
        "queryCost": 2,
        "remainingCost": 0
       },
       {
        "columns": {
         "address": {
          "id": "address",
          "name": "Address",
          "type": 1,
          "unit": null
         },
         "cloudcover": {
          "id": "cloudcover",
          "name": "Cloud Cover",
          "type": 2,
          "unit": "%"
         },
         "conditions": {
          "id": "conditions",
          "name": "Conditions",
          "type": 1,
          "unit": null
         },
         "datetime": {
          "id": "datetime",
          "name": "Date time",
          "type": 3,
          "unit": null
         },
         "dew": {
          "id": "dew",
          "name": "Dew Point",
          "type": 2,
          "unit": "degF"
         },
         "heatindex": {
          "id": "heatindex",
          "name": "Heat Index",
          "type": 2,
          "unit": "degF"
         },
         "humidity": {
          "id": "humidity",
          "name": "Relative Humidity",
          "type": 2,
          "unit": "%"
         },
         "info": {
          "id": "info",
          "name": "Info",
          "type": 1,
          "unit": null
         },
         "latitude": {
          "id": "latitude",
          "name": "Latitude",
          "type": 2,
          "unit": null
         },
         "longitude": {
          "id": "longitude",
          "name": "Longitude",
          "type": 2,
          "unit": null
         },
         "maxt": {
          "id": "maxt",
          "name": "Maximum Temperature",
          "type": 2,
          "unit": "degF"
         },
         "mint": {
          "id": "mint",
          "name": "Minimum Temperature",
          "type": 2,
          "unit": "degF"
         },
         "name": {
          "id": "name",
          "name": "Name",
          "type": 1,
          "unit": null
         },
         "precip": {
          "id": "precip",
          "name": "Precipitation",
          "type": 2,
          "unit": "in"
         },
         "precipcover": {
          "id": "precipcover",
          "name": "Precipitation Cover",
          "type": 2,
          "unit": "%"
         },
         "resolvedAddress": {
          "id": "resolvedAddress",
          "name": "Resolved Address",
          "type": 1,
          "unit": null
         },
         "sealevelpressure": {
          "id": "sealevelpressure",
          "name": "Sea Level Pressure",
          "type": 2,
          "unit": "Pa"
         },
         "snowdepth": {
          "id": "snowdepth",
          "name": "Snow Depth",
          "type": 2,
          "unit": "in"
         },
         "temp": {
          "id": "temp",
          "name": "Temperature",
          "type": 2,
          "unit": "degF"
         },
         "visibility": {
          "id": "visibility",
          "name": "Visibility",
          "type": 2,
          "unit": "mi"
         },
         "wdir": {
          "id": "wdir",
          "name": "Wind Direction",
          "type": 2,
          "unit": null
         },
         "weathertype": {
          "id": "weathertype",
          "name": "Weather Type",
          "type": 1,
          "unit": null
         },
         "wgust": {
          "id": "wgust",
          "name": "Wind Gust",
          "type": 2,
          "unit": "mph"
         },
         "windchill": {
          "id": "windchill",
          "name": "Wind Chill",
          "type": 2,
          "unit": "degF"
         },
         "wspd": {
          "id": "wspd",
          "name": "Wind Speed",
          "type": 2,
          "unit": "mph"
         }
        },
        "locations": {
         "St. Cloud, MN": {
          "address": "St Cloud, MN, United States",
          "alerts": null,
          "currentConditions": null,
          "distance": 0,
          "id": "St. Cloud, MN",
          "index": 0,
          "latitude": 45.5659,
          "longitude": -94.1975,
          "name": "St Cloud, MN, United States",
          "stationContributions": null,
          "time": 0,
          "values": [
           {
            "cloudcover": 0.5,
            "conditions": "Clear",
            "datetime": 1517184000000,
            "datetimeStr": "2018-01-29T00:00:00-06:00",
            "dew": -2.5,
            "heatindex": null,
            "humidity": 71.85,
            "info": null,
            "maxt": 15.3,
            "mint": -2.6,
            "precip": 0,
            "precipcover": 0,
            "sealevelpressure": 1038.4,
            "snowdepth": null,
            "temp": 5,
            "visibility": 9.9,
            "wdir": 293.33,
            "weathertype": null,
            "wgust": null,
            "windchill": -13.1,
            "wspd": 8.1
           },
           {
            "cloudcover": 40.3,
            "conditions": "Partially cloudy",
            "datetime": 1517270400000,
            "datetimeStr": "2018-01-30T00:00:00-06:00",
            "dew": 7,
            "heatindex": null,
            "humidity": 69,
            "info": null,
            "maxt": 42.9,
            "mint": -1.7,
            "precip": 0,
            "precipcover": 0,
            "sealevelpressure": 1019.4,
            "snowdepth": null,
            "temp": 16.4,
            "visibility": 9.9,
            "wdir": 149.05,
            "weathertype": null,
            "wgust": null,
            "windchill": -11.4,
            "wspd": 20.8
           }
          ]
         }
        },
        "messages": [
         "This is a preview of the first 2 rows.You have exceeded the maximum number of daily result records for your account. Add a credit card to your account to increase the number of available free records."
        ],
        "queryCost": 2,
        "remainingCost": 0
       },
       {
        "columns": {
         "address": {
          "id": "address",
          "name": "Address",
          "type": 1,
          "unit": null
         },
         "cloudcover": {
          "id": "cloudcover",
          "name": "Cloud Cover",
          "type": 2,
          "unit": "%"
         },
         "conditions": {
          "id": "conditions",
          "name": "Conditions",
          "type": 1,
          "unit": null
         },
         "datetime": {
          "id": "datetime",
          "name": "Date time",
          "type": 3,
          "unit": null
         },
         "dew": {
          "id": "dew",
          "name": "Dew Point",
          "type": 2,
          "unit": "degF"
         },
         "heatindex": {
          "id": "heatindex",
          "name": "Heat Index",
          "type": 2,
          "unit": "degF"
         },
         "humidity": {
          "id": "humidity",
          "name": "Relative Humidity",
          "type": 2,
          "unit": "%"
         },
         "info": {
          "id": "info",
          "name": "Info",
          "type": 1,
          "unit": null
         },
         "latitude": {
          "id": "latitude",
          "name": "Latitude",
          "type": 2,
          "unit": null
         },
         "longitude": {
          "id": "longitude",
          "name": "Longitude",
          "type": 2,
          "unit": null
         },
         "maxt": {
          "id": "maxt",
          "name": "Maximum Temperature",
          "type": 2,
          "unit": "degF"
         },
         "mint": {
          "id": "mint",
          "name": "Minimum Temperature",
          "type": 2,
          "unit": "degF"
         },
         "name": {
          "id": "name",
          "name": "Name",
          "type": 1,
          "unit": null
         },
         "precip": {
          "id": "precip",
          "name": "Precipitation",
          "type": 2,
          "unit": "in"
         },
         "precipcover": {
          "id": "precipcover",
          "name": "Precipitation Cover",
          "type": 2,
          "unit": "%"
         },
         "resolvedAddress": {
          "id": "resolvedAddress",
          "name": "Resolved Address",
          "type": 1,
          "unit": null
         },
         "sealevelpressure": {
          "id": "sealevelpressure",
          "name": "Sea Level Pressure",
          "type": 2,
          "unit": "Pa"
         },
         "snowdepth": {
          "id": "snowdepth",
          "name": "Snow Depth",
          "type": 2,
          "unit": "in"
         },
         "temp": {
          "id": "temp",
          "name": "Temperature",
          "type": 2,
          "unit": "degF"
         },
         "visibility": {
          "id": "visibility",
          "name": "Visibility",
          "type": 2,
          "unit": "mi"
         },
         "wdir": {
          "id": "wdir",
          "name": "Wind Direction",
          "type": 2,
          "unit": null
         },
         "weathertype": {
          "id": "weathertype",
          "name": "Weather Type",
          "type": 1,
          "unit": null
         },
         "wgust": {
          "id": "wgust",
          "name": "Wind Gust",
          "type": 2,
          "unit": "mph"
         },
         "windchill": {
          "id": "windchill",
          "name": "Wind Chill",
          "type": 2,
          "unit": "degF"
         },
         "wspd": {
          "id": "wspd",
          "name": "Wind Speed",
          "type": 2,
          "unit": "mph"
         }
        },
        "locations": {
         "Salisbury, MD": {
          "address": "Salisbury, MD, United States",
          "alerts": null,
          "currentConditions": null,
          "distance": 0,
          "id": "Salisbury, MD",
          "index": 0,
          "latitude": 38.3657,
          "longitude": -75.5953,
          "name": "Salisbury, MD, United States",
          "stationContributions": null,
          "time": 0,
          "values": [
           {
            "cloudcover": 0,
            "conditions": "Clear",
            "datetime": 1516320000000,
            "datetimeStr": "2018-01-19T00:00:00-05:00",
            "dew": 18.9,
            "heatindex": null,
            "humidity": 60.48,
            "info": null,
            "maxt": 51.2,
            "mint": 19.1,
            "precip": 0,
            "precipcover": 0,
            "sealevelpressure": 1019.4,
            "snowdepth": null,
            "temp": 32.9,
            "visibility": 9.9,
            "wdir": 234.17,
            "weathertype": null,
            "wgust": null,
            "windchill": 14.2,
            "wspd": 11.4
           },
           {
            "cloudcover": 0,
            "conditions": "Clear",
            "datetime": 1516406400000,
            "datetimeStr": "2018-01-20T00:00:00-05:00",
            "dew": 20.7,
            "heatindex": null,
            "humidity": 51.84,
            "info": null,
            "maxt": 53.9,
            "mint": 26.9,
            "precip": 0,
            "precipcover": 0,
            "sealevelpressure": 1017.2,
            "snowdepth": null,
            "temp": 38.9,
            "visibility": 9.9,
            "wdir": 228.24,
            "weathertype": null,
            "wgust": null,
            "windchill": 23,
            "wspd": 12.8
           }
          ]
         }
        },
        "messages": [
         "This is a preview of the first 2 rows.You have exceeded the maximum number of daily result records for your account. Add a credit card to your account to increase the number of available free records."
        ],
        "queryCost": 2,
        "remainingCost": 0
       },
       {
        "columns": {
         "address": {
          "id": "address",
          "name": "Address",
          "type": 1,
          "unit": null
         },
         "cloudcover": {
          "id": "cloudcover",
          "name": "Cloud Cover",
          "type": 2,
          "unit": "%"
         },
         "conditions": {
          "id": "conditions",
          "name": "Conditions",
          "type": 1,
          "unit": null
         },
         "datetime": {
          "id": "datetime",
          "name": "Date time",
          "type": 3,
          "unit": null
         },
         "dew": {
          "id": "dew",
          "name": "Dew Point",
          "type": 2,
          "unit": "degF"
         },
         "heatindex": {
          "id": "heatindex",
          "name": "Heat Index",
          "type": 2,
          "unit": "degF"
         },
         "humidity": {
          "id": "humidity",
          "name": "Relative Humidity",
          "type": 2,
          "unit": "%"
         },
         "info": {
          "id": "info",
          "name": "Info",
          "type": 1,
          "unit": null
         },
         "latitude": {
          "id": "latitude",
          "name": "Latitude",
          "type": 2,
          "unit": null
         },
         "longitude": {
          "id": "longitude",
          "name": "Longitude",
          "type": 2,
          "unit": null
         },
         "maxt": {
          "id": "maxt",
          "name": "Maximum Temperature",
          "type": 2,
          "unit": "degF"
         },
         "mint": {
          "id": "mint",
          "name": "Minimum Temperature",
          "type": 2,
          "unit": "degF"
         },
         "name": {
          "id": "name",
          "name": "Name",
          "type": 1,
          "unit": null
         },
         "precip": {
          "id": "precip",
          "name": "Precipitation",
          "type": 2,
          "unit": "in"
         },
         "precipcover": {
          "id": "precipcover",
          "name": "Precipitation Cover",
          "type": 2,
          "unit": "%"
         },
         "resolvedAddress": {
          "id": "resolvedAddress",
          "name": "Resolved Address",
          "type": 1,
          "unit": null
         },
         "sealevelpressure": {
          "id": "sealevelpressure",
          "name": "Sea Level Pressure",
          "type": 2,
          "unit": "Pa"
         },
         "snowdepth": {
          "id": "snowdepth",
          "name": "Snow Depth",
          "type": 2,
          "unit": "in"
         },
         "temp": {
          "id": "temp",
          "name": "Temperature",
          "type": 2,
          "unit": "degF"
         },
         "visibility": {
          "id": "visibility",
          "name": "Visibility",
          "type": 2,
          "unit": "mi"
         },
         "wdir": {
          "id": "wdir",
          "name": "Wind Direction",
          "type": 2,
          "unit": null
         },
         "weathertype": {
          "id": "weathertype",
          "name": "Weather Type",
          "type": 1,
          "unit": null
         },
         "wgust": {
          "id": "wgust",
          "name": "Wind Gust",
          "type": 2,
          "unit": "mph"
         },
         "windchill": {
          "id": "windchill",
          "name": "Wind Chill",
          "type": 2,
          "unit": "degF"
         },
         "wspd": {
          "id": "wspd",
          "name": "Wind Speed",
          "type": 2,
          "unit": "mph"
         }
        },
        "locations": {
         "Lewiston, ID": {
          "address": "Lewiston, ID",
          "alerts": null,
          "currentConditions": null,
          "distance": 0,
          "id": "Lewiston, ID",
          "index": 0,
          "latitude": 46.4187,
          "longitude": -117.017,
          "name": "Lewiston, ID",
          "stationContributions": null,
          "time": 0,
          "values": [
           {
            "cloudcover": 72.9,
            "conditions": "Partially cloudy",
            "datetime": 1516665600000,
            "datetimeStr": "2018-01-23T00:00:00-08:00",
            "dew": 31.8,
            "heatindex": null,
            "humidity": 77.68,
            "info": null,
            "maxt": 43.9,
            "mint": 29.9,
            "precip": 0,
            "precipcover": 20.83,
            "sealevelpressure": 1021.8,
            "snowdepth": null,
            "temp": 38.5,
            "visibility": 9.9,
            "wdir": 108.57,
            "weathertype": null,
            "wgust": null,
            "windchill": 25.6,
            "wspd": 15
           },
           {
            "cloudcover": 79.9,
            "conditions": "Rain, Overcast",
            "datetime": 1516752000000,
            "datetimeStr": "2018-01-24T00:00:00-08:00",
            "dew": 38.1,
            "heatindex": null,
            "humidity": 80.75,
            "info": null,
            "maxt": 47.9,
            "mint": 41,
            "precip": 0.02,
            "precipcover": 33.33,
            "sealevelpressure": 1009.9,
            "snowdepth": null,
            "temp": 43.7,
            "visibility": 9.9,
            "wdir": 121.58,
            "weathertype": null,
            "wgust": 31.1,
            "windchill": 34.8,
            "wspd": 18.4
           }
          ]
         }
        },
        "messages": [
         "This is a preview of the first 2 rows.You have exceeded the maximum number of daily result records for your account. Add a credit card to your account to increase the number of available free records."
        ],
        "queryCost": 2,
        "remainingCost": 0
       },
       {
        "columns": {
         "address": {
          "id": "address",
          "name": "Address",
          "type": 1,
          "unit": null
         },
         "cloudcover": {
          "id": "cloudcover",
          "name": "Cloud Cover",
          "type": 2,
          "unit": "%"
         },
         "conditions": {
          "id": "conditions",
          "name": "Conditions",
          "type": 1,
          "unit": null
         },
         "datetime": {
          "id": "datetime",
          "name": "Date time",
          "type": 3,
          "unit": null
         },
         "dew": {
          "id": "dew",
          "name": "Dew Point",
          "type": 2,
          "unit": "degF"
         },
         "heatindex": {
          "id": "heatindex",
          "name": "Heat Index",
          "type": 2,
          "unit": "degF"
         },
         "humidity": {
          "id": "humidity",
          "name": "Relative Humidity",
          "type": 2,
          "unit": "%"
         },
         "info": {
          "id": "info",
          "name": "Info",
          "type": 1,
          "unit": null
         },
         "latitude": {
          "id": "latitude",
          "name": "Latitude",
          "type": 2,
          "unit": null
         },
         "longitude": {
          "id": "longitude",
          "name": "Longitude",
          "type": 2,
          "unit": null
         },
         "maxt": {
          "id": "maxt",
          "name": "Maximum Temperature",
          "type": 2,
          "unit": "degF"
         },
         "mint": {
          "id": "mint",
          "name": "Minimum Temperature",
          "type": 2,
          "unit": "degF"
         },
         "name": {
          "id": "name",
          "name": "Name",
          "type": 1,
          "unit": null
         },
         "precip": {
          "id": "precip",
          "name": "Precipitation",
          "type": 2,
          "unit": "in"
         },
         "precipcover": {
          "id": "precipcover",
          "name": "Precipitation Cover",
          "type": 2,
          "unit": "%"
         },
         "resolvedAddress": {
          "id": "resolvedAddress",
          "name": "Resolved Address",
          "type": 1,
          "unit": null
         },
         "sealevelpressure": {
          "id": "sealevelpressure",
          "name": "Sea Level Pressure",
          "type": 2,
          "unit": "Pa"
         },
         "snowdepth": {
          "id": "snowdepth",
          "name": "Snow Depth",
          "type": 2,
          "unit": "in"
         },
         "temp": {
          "id": "temp",
          "name": "Temperature",
          "type": 2,
          "unit": "degF"
         },
         "visibility": {
          "id": "visibility",
          "name": "Visibility",
          "type": 2,
          "unit": "mi"
         },
         "wdir": {
          "id": "wdir",
          "name": "Wind Direction",
          "type": 2,
          "unit": null
         },
         "weathertype": {
          "id": "weathertype",
          "name": "Weather Type",
          "type": 1,
          "unit": null
         },
         "wgust": {
          "id": "wgust",
          "name": "Wind Gust",
          "type": 2,
          "unit": "mph"
         },
         "windchill": {
          "id": "windchill",
          "name": "Wind Chill",
          "type": 2,
          "unit": "degF"
         },
         "wspd": {
          "id": "wspd",
          "name": "Wind Speed",
          "type": 2,
          "unit": "mph"
         }
        },
        "locations": {
         "Presque Isle/Houlton, ME": {
          "address": "Houlton Rd, Presque Isle, ME 04769, United States",
          "alerts": null,
          "currentConditions": null,
          "distance": 0,
          "id": "Presque Isle/Houlton, ME",
          "index": 0,
          "latitude": 46.6291,
          "longitude": -67.9928,
          "name": "Houlton Rd, Presque Isle, ME 04769, United States",
          "stationContributions": null,
          "time": 0,
          "values": [
           {
            "cloudcover": 15.1,
            "conditions": "Clear",
            "datetime": 1548720000000,
            "datetimeStr": "2019-01-29T00:00:00-05:00",
            "dew": -9.4,
            "heatindex": null,
            "humidity": 68.31,
            "info": null,
            "maxt": 8.1,
            "mint": -12.9,
            "precip": 0,
            "precipcover": 0,
            "sealevelpressure": 1025.9,
            "snowdepth": null,
            "temp": -1.3,
            "visibility": 9.9,
            "wdir": 74.83,
            "weathertype": null,
            "wgust": null,
            "windchill": -28.6,
            "wspd": 10.3
           },
           {
            "cloudcover": 65.2,
            "conditions": "Rain, Partially cloudy",
            "datetime": 1548806400000,
            "datetimeStr": "2019-01-30T00:00:00-05:00",
            "dew": 10.1,
            "heatindex": null,
            "humidity": 80.7,
            "info": null,
            "maxt": 25.3,
            "mint": 1.1,
            "precip": 0.28,
            "precipcover": 54.17,
            "sealevelpressure": 1010.3,
            "snowdepth": null,
            "temp": 15,
            "visibility": 5,
            "wdir": 162.58,
            "weathertype": null,
            "wgust": 32.2,
            "windchill": -10.2,
            "wspd": 23.1
           }
          ]
         }
        },
        "messages": [
         "This is a preview of the first 2 rows.You have exceeded the maximum number of daily result records for your account. Add a credit card to your account to increase the number of available free records."
        ],
        "queryCost": 2,
        "remainingCost": 0
       },
       {
        "columns": {
         "address": {
          "id": "address",
          "name": "Address",
          "type": 1,
          "unit": null
         },
         "cloudcover": {
          "id": "cloudcover",
          "name": "Cloud Cover",
          "type": 2,
          "unit": "%"
         },
         "conditions": {
          "id": "conditions",
          "name": "Conditions",
          "type": 1,
          "unit": null
         },
         "datetime": {
          "id": "datetime",
          "name": "Date time",
          "type": 3,
          "unit": null
         },
         "dew": {
          "id": "dew",
          "name": "Dew Point",
          "type": 2,
          "unit": "degF"
         },
         "heatindex": {
          "id": "heatindex",
          "name": "Heat Index",
          "type": 2,
          "unit": "degF"
         },
         "humidity": {
          "id": "humidity",
          "name": "Relative Humidity",
          "type": 2,
          "unit": "%"
         },
         "info": {
          "id": "info",
          "name": "Info",
          "type": 1,
          "unit": null
         },
         "latitude": {
          "id": "latitude",
          "name": "Latitude",
          "type": 2,
          "unit": null
         },
         "longitude": {
          "id": "longitude",
          "name": "Longitude",
          "type": 2,
          "unit": null
         },
         "maxt": {
          "id": "maxt",
          "name": "Maximum Temperature",
          "type": 2,
          "unit": "degF"
         },
         "mint": {
          "id": "mint",
          "name": "Minimum Temperature",
          "type": 2,
          "unit": "degF"
         },
         "name": {
          "id": "name",
          "name": "Name",
          "type": 1,
          "unit": null
         },
         "precip": {
          "id": "precip",
          "name": "Precipitation",
          "type": 2,
          "unit": "in"
         },
         "precipcover": {
          "id": "precipcover",
          "name": "Precipitation Cover",
          "type": 2,
          "unit": "%"
         },
         "resolvedAddress": {
          "id": "resolvedAddress",
          "name": "Resolved Address",
          "type": 1,
          "unit": null
         },
         "sealevelpressure": {
          "id": "sealevelpressure",
          "name": "Sea Level Pressure",
          "type": 2,
          "unit": "Pa"
         },
         "snowdepth": {
          "id": "snowdepth",
          "name": "Snow Depth",
          "type": 2,
          "unit": "in"
         },
         "temp": {
          "id": "temp",
          "name": "Temperature",
          "type": 2,
          "unit": "degF"
         },
         "visibility": {
          "id": "visibility",
          "name": "Visibility",
          "type": 2,
          "unit": "mi"
         },
         "wdir": {
          "id": "wdir",
          "name": "Wind Direction",
          "type": 2,
          "unit": null
         },
         "weathertype": {
          "id": "weathertype",
          "name": "Weather Type",
          "type": 1,
          "unit": null
         },
         "wgust": {
          "id": "wgust",
          "name": "Wind Gust",
          "type": 2,
          "unit": "mph"
         },
         "windchill": {
          "id": "windchill",
          "name": "Wind Chill",
          "type": 2,
          "unit": "degF"
         },
         "wspd": {
          "id": "wspd",
          "name": "Wind Speed",
          "type": 2,
          "unit": "mph"
         }
        },
        "locations": {
         "Newburgh/Poughkeepsie, NY": {
          "address": "Poughkeepsie Ct, New York, NY 10312, United States",
          "alerts": null,
          "currentConditions": null,
          "distance": 0,
          "id": "Newburgh/Poughkeepsie, NY",
          "index": 0,
          "latitude": 40.5249,
          "longitude": -74.1713,
          "name": "Poughkeepsie Ct, New York, NY 10312, United States",
          "stationContributions": null,
          "time": 0,
          "values": [
           {
            "cloudcover": 1.9,
            "conditions": "Clear",
            "datetime": 1548374400000,
            "datetimeStr": "2019-01-25T00:00:00-05:00",
            "dew": 21.3,
            "heatindex": null,
            "humidity": 59.91,
            "info": null,
            "maxt": 37.4,
            "mint": 29.6,
            "precip": 0,
            "precipcover": 0,
            "sealevelpressure": 1015.7,
            "snowdepth": null,
            "temp": 34.5,
            "visibility": 9.9,
            "wdir": 285,
            "weathertype": null,
            "wgust": 36.2,
            "windchill": 19.9,
            "wspd": 17
           },
           {
            "cloudcover": 0,
            "conditions": "Clear",
            "datetime": 1548460800000,
            "datetimeStr": "2019-01-26T00:00:00-05:00",
            "dew": null,
            "heatindex": null,
            "humidity": null,
            "info": null,
            "maxt": 34.1,
            "mint": 24.5,
            "precip": 0,
            "precipcover": 0,
            "sealevelpressure": 1024.8,
            "snowdepth": null,
            "temp": 29.4,
            "visibility": null,
            "wdir": 243.33,
            "weathertype": null,
            "wgust": 22.7,
            "windchill": 15,
            "wspd": 10.4
           }
          ]
         }
        },
        "messages": [
         "This is a preview of the first 2 rows.You have exceeded the maximum number of daily result records for your account. Add a credit card to your account to increase the number of available free records."
        ],
        "queryCost": 2,
        "remainingCost": 0
       },
       {
        "columns": {
         "address": {
          "id": "address",
          "name": "Address",
          "type": 1,
          "unit": null
         },
         "cloudcover": {
          "id": "cloudcover",
          "name": "Cloud Cover",
          "type": 2,
          "unit": "%"
         },
         "conditions": {
          "id": "conditions",
          "name": "Conditions",
          "type": 1,
          "unit": null
         },
         "datetime": {
          "id": "datetime",
          "name": "Date time",
          "type": 3,
          "unit": null
         },
         "dew": {
          "id": "dew",
          "name": "Dew Point",
          "type": 2,
          "unit": "degF"
         },
         "heatindex": {
          "id": "heatindex",
          "name": "Heat Index",
          "type": 2,
          "unit": "degF"
         },
         "humidity": {
          "id": "humidity",
          "name": "Relative Humidity",
          "type": 2,
          "unit": "%"
         },
         "info": {
          "id": "info",
          "name": "Info",
          "type": 1,
          "unit": null
         },
         "latitude": {
          "id": "latitude",
          "name": "Latitude",
          "type": 2,
          "unit": null
         },
         "longitude": {
          "id": "longitude",
          "name": "Longitude",
          "type": 2,
          "unit": null
         },
         "maxt": {
          "id": "maxt",
          "name": "Maximum Temperature",
          "type": 2,
          "unit": "degF"
         },
         "mint": {
          "id": "mint",
          "name": "Minimum Temperature",
          "type": 2,
          "unit": "degF"
         },
         "name": {
          "id": "name",
          "name": "Name",
          "type": 1,
          "unit": null
         },
         "precip": {
          "id": "precip",
          "name": "Precipitation",
          "type": 2,
          "unit": "in"
         },
         "precipcover": {
          "id": "precipcover",
          "name": "Precipitation Cover",
          "type": 2,
          "unit": "%"
         },
         "resolvedAddress": {
          "id": "resolvedAddress",
          "name": "Resolved Address",
          "type": 1,
          "unit": null
         },
         "sealevelpressure": {
          "id": "sealevelpressure",
          "name": "Sea Level Pressure",
          "type": 2,
          "unit": "Pa"
         },
         "snowdepth": {
          "id": "snowdepth",
          "name": "Snow Depth",
          "type": 2,
          "unit": "in"
         },
         "temp": {
          "id": "temp",
          "name": "Temperature",
          "type": 2,
          "unit": "degF"
         },
         "visibility": {
          "id": "visibility",
          "name": "Visibility",
          "type": 2,
          "unit": "mi"
         },
         "wdir": {
          "id": "wdir",
          "name": "Wind Direction",
          "type": 2,
          "unit": null
         },
         "weathertype": {
          "id": "weathertype",
          "name": "Weather Type",
          "type": 1,
          "unit": null
         },
         "wgust": {
          "id": "wgust",
          "name": "Wind Gust",
          "type": 2,
          "unit": "mph"
         },
         "windchill": {
          "id": "windchill",
          "name": "Wind Chill",
          "type": 2,
          "unit": "degF"
         },
         "wspd": {
          "id": "wspd",
          "name": "Wind Speed",
          "type": 2,
          "unit": "mph"
         }
        },
        "locations": {
         "Jamestown, ND": {
          "address": "Jamestown, ND, United States",
          "alerts": null,
          "currentConditions": null,
          "distance": 0,
          "id": "Jamestown, ND",
          "index": 0,
          "latitude": 46.9103,
          "longitude": -98.7085,
          "name": "Jamestown, ND, United States",
          "stationContributions": null,
          "time": 0,
          "values": [
           {
            "cloudcover": 60.3,
            "conditions": "Partially cloudy",
            "datetime": 1515628800000,
            "datetimeStr": "2018-01-11T00:00:00-06:00",
            "dew": -10.4,
            "heatindex": null,
            "humidity": 77.68,
            "info": null,
            "maxt": 1.1,
            "mint": -16,
            "precip": 0,
            "precipcover": 0,
            "sealevelpressure": 1027.3,
            "snowdepth": null,
            "temp": -5.2,
            "visibility": 5.2,
            "wdir": 328.75,
            "weathertype": null,
            "wgust": 42.5,
            "windchill": -32.2,
            "wspd": 32.2
           },
           {
            "cloudcover": 0,
            "conditions": "Clear",
            "datetime": 1515715200000,
            "datetimeStr": "2018-01-12T00:00:00-06:00",
            "dew": -19.4,
            "heatindex": null,
            "humidity": 74.09,
            "info": null,
            "maxt": -3,
            "mint": -21.9,
            "precip": 0,
            "precipcover": 0,
            "sealevelpressure": 1039.1,
            "snowdepth": null,
            "temp": -13.4,
            "visibility": 9.7,
            "wdir": 303.33,
            "weathertype": null,
            "wgust": null,
            "windchill": -39.4,
            "wspd": 11.4
           }
          ]
         }
        },
        "messages": [
         "This is a preview of the first 2 rows.You have exceeded the maximum number of daily result records for your account. Add a credit card to your account to increase the number of available free records."
        ],
        "queryCost": 2,
        "remainingCost": 0
       },
       {
        "columns": {
         "address": {
          "id": "address",
          "name": "Address",
          "type": 1,
          "unit": null
         },
         "cloudcover": {
          "id": "cloudcover",
          "name": "Cloud Cover",
          "type": 2,
          "unit": "%"
         },
         "conditions": {
          "id": "conditions",
          "name": "Conditions",
          "type": 1,
          "unit": null
         },
         "datetime": {
          "id": "datetime",
          "name": "Date time",
          "type": 3,
          "unit": null
         },
         "dew": {
          "id": "dew",
          "name": "Dew Point",
          "type": 2,
          "unit": "degF"
         },
         "heatindex": {
          "id": "heatindex",
          "name": "Heat Index",
          "type": 2,
          "unit": "degF"
         },
         "humidity": {
          "id": "humidity",
          "name": "Relative Humidity",
          "type": 2,
          "unit": "%"
         },
         "info": {
          "id": "info",
          "name": "Info",
          "type": 1,
          "unit": null
         },
         "latitude": {
          "id": "latitude",
          "name": "Latitude",
          "type": 2,
          "unit": null
         },
         "longitude": {
          "id": "longitude",
          "name": "Longitude",
          "type": 2,
          "unit": null
         },
         "maxt": {
          "id": "maxt",
          "name": "Maximum Temperature",
          "type": 2,
          "unit": "degF"
         },
         "mint": {
          "id": "mint",
          "name": "Minimum Temperature",
          "type": 2,
          "unit": "degF"
         },
         "name": {
          "id": "name",
          "name": "Name",
          "type": 1,
          "unit": null
         },
         "precip": {
          "id": "precip",
          "name": "Precipitation",
          "type": 2,
          "unit": "in"
         },
         "precipcover": {
          "id": "precipcover",
          "name": "Precipitation Cover",
          "type": 2,
          "unit": "%"
         },
         "resolvedAddress": {
          "id": "resolvedAddress",
          "name": "Resolved Address",
          "type": 1,
          "unit": null
         },
         "sealevelpressure": {
          "id": "sealevelpressure",
          "name": "Sea Level Pressure",
          "type": 2,
          "unit": "Pa"
         },
         "snowdepth": {
          "id": "snowdepth",
          "name": "Snow Depth",
          "type": 2,
          "unit": "in"
         },
         "temp": {
          "id": "temp",
          "name": "Temperature",
          "type": 2,
          "unit": "degF"
         },
         "visibility": {
          "id": "visibility",
          "name": "Visibility",
          "type": 2,
          "unit": "mi"
         },
         "wdir": {
          "id": "wdir",
          "name": "Wind Direction",
          "type": 2,
          "unit": null
         },
         "weathertype": {
          "id": "weathertype",
          "name": "Weather Type",
          "type": 1,
          "unit": null
         },
         "wgust": {
          "id": "wgust",
          "name": "Wind Gust",
          "type": 2,
          "unit": "mph"
         },
         "windchill": {
          "id": "windchill",
          "name": "Wind Chill",
          "type": 2,
          "unit": "degF"
         },
         "wspd": {
          "id": "wspd",
          "name": "Wind Speed",
          "type": 2,
          "unit": "mph"
         }
        },
        "locations": {
         "Cincinnati, OH": {
          "address": "Cincinnati, OH, United States",
          "alerts": null,
          "currentConditions": null,
          "distance": 0,
          "id": "Cincinnati, OH",
          "index": 0,
          "latitude": 39.1071,
          "longitude": -84.5041,
          "name": "Cincinnati, OH, United States",
          "stationContributions": null,
          "time": 0,
          "values": [
           {
            "cloudcover": 88.1,
            "conditions": "Overcast",
            "datetime": 1548460800000,
            "datetimeStr": "2019-01-26T00:00:00-05:00",
            "dew": 19.7,
            "heatindex": null,
            "humidity": 64.21,
            "info": null,
            "maxt": 38,
            "mint": 24.2,
            "precip": 0,
            "precipcover": 0,
            "sealevelpressure": 1020.9,
            "snowdepth": null,
            "temp": 30.4,
            "visibility": 9.8,
            "wdir": 206.25,
            "weathertype": null,
            "wgust": 23,
            "windchill": 15,
            "wspd": 17.2
           },
           {
            "cloudcover": 43.9,
            "conditions": "Partially cloudy",
            "datetime": 1548547200000,
            "datetimeStr": "2019-01-27T00:00:00-05:00",
            "dew": 17.1,
            "heatindex": null,
            "humidity": 60.42,
            "info": null,
            "maxt": 38,
            "mint": 20.9,
            "precip": 0,
            "precipcover": 0,
            "sealevelpressure": 1018.9,
            "snowdepth": null,
            "temp": 29.6,
            "visibility": 9.9,
            "wdir": 210,
            "weathertype": null,
            "wgust": 28.9,
            "windchill": 13.1,
            "wspd": 18.3
           }
          ]
         }
        },
        "messages": [
         "This is a preview of the first 2 rows.You have exceeded the maximum number of daily result records for your account. Add a credit card to your account to increase the number of available free records."
        ],
        "queryCost": 2,
        "remainingCost": 0
       },
       {
        "columns": {
         "address": {
          "id": "address",
          "name": "Address",
          "type": 1,
          "unit": null
         },
         "cloudcover": {
          "id": "cloudcover",
          "name": "Cloud Cover",
          "type": 2,
          "unit": "%"
         },
         "conditions": {
          "id": "conditions",
          "name": "Conditions",
          "type": 1,
          "unit": null
         },
         "datetime": {
          "id": "datetime",
          "name": "Date time",
          "type": 3,
          "unit": null
         },
         "dew": {
          "id": "dew",
          "name": "Dew Point",
          "type": 2,
          "unit": "degF"
         },
         "heatindex": {
          "id": "heatindex",
          "name": "Heat Index",
          "type": 2,
          "unit": "degF"
         },
         "humidity": {
          "id": "humidity",
          "name": "Relative Humidity",
          "type": 2,
          "unit": "%"
         },
         "info": {
          "id": "info",
          "name": "Info",
          "type": 1,
          "unit": null
         },
         "latitude": {
          "id": "latitude",
          "name": "Latitude",
          "type": 2,
          "unit": null
         },
         "longitude": {
          "id": "longitude",
          "name": "Longitude",
          "type": 2,
          "unit": null
         },
         "maxt": {
          "id": "maxt",
          "name": "Maximum Temperature",
          "type": 2,
          "unit": "degF"
         },
         "mint": {
          "id": "mint",
          "name": "Minimum Temperature",
          "type": 2,
          "unit": "degF"
         },
         "name": {
          "id": "name",
          "name": "Name",
          "type": 1,
          "unit": null
         },
         "precip": {
          "id": "precip",
          "name": "Precipitation",
          "type": 2,
          "unit": "in"
         },
         "precipcover": {
          "id": "precipcover",
          "name": "Precipitation Cover",
          "type": 2,
          "unit": "%"
         },
         "resolvedAddress": {
          "id": "resolvedAddress",
          "name": "Resolved Address",
          "type": 1,
          "unit": null
         },
         "sealevelpressure": {
          "id": "sealevelpressure",
          "name": "Sea Level Pressure",
          "type": 2,
          "unit": "Pa"
         },
         "snowdepth": {
          "id": "snowdepth",
          "name": "Snow Depth",
          "type": 2,
          "unit": "in"
         },
         "temp": {
          "id": "temp",
          "name": "Temperature",
          "type": 2,
          "unit": "degF"
         },
         "visibility": {
          "id": "visibility",
          "name": "Visibility",
          "type": 2,
          "unit": "mi"
         },
         "wdir": {
          "id": "wdir",
          "name": "Wind Direction",
          "type": 2,
          "unit": null
         },
         "weathertype": {
          "id": "weathertype",
          "name": "Weather Type",
          "type": 1,
          "unit": null
         },
         "wgust": {
          "id": "wgust",
          "name": "Wind Gust",
          "type": 2,
          "unit": "mph"
         },
         "windchill": {
          "id": "windchill",
          "name": "Wind Chill",
          "type": 2,
          "unit": "degF"
         },
         "wspd": {
          "id": "wspd",
          "name": "Wind Speed",
          "type": 2,
          "unit": "mph"
         }
        },
        "locations": {
         "College Station/Bryan, TX": {
          "address": "S College Ave, Bryan, TX 77801, United States",
          "alerts": null,
          "currentConditions": null,
          "distance": 0,
          "id": "College Station/Bryan, TX",
          "index": 0,
          "latitude": 30.6347,
          "longitude": -96.3543,
          "name": "S College Ave, Bryan, TX 77801, United States",
          "stationContributions": null,
          "time": 0,
          "values": [
           {
            "cloudcover": 0,
            "conditions": "Clear",
            "datetime": 1517270400000,
            "datetimeStr": "2018-01-30T00:00:00-06:00",
            "dew": 30.1,
            "heatindex": null,
            "humidity": 52.07,
            "info": null,
            "maxt": 62.9,
            "mint": 37.1,
            "precip": 0,
            "precipcover": 0,
            "sealevelpressure": 1029.5,
            "snowdepth": null,
            "temp": 48,
            "visibility": 9.9,
            "wdir": 139.87,
            "weathertype": null,
            "wgust": null,
            "windchill": 31.2,
            "wspd": 13
           },
           {
            "cloudcover": 0,
            "conditions": "Clear",
            "datetime": 1517356800000,
            "datetimeStr": "2018-01-31T00:00:00-06:00",
            "dew": 45,
            "heatindex": null,
            "humidity": 71.05,
            "info": null,
            "maxt": 71,
            "mint": 38.4,
            "precip": 0,
            "precipcover": 0,
            "sealevelpressure": 1018.7,
            "snowdepth": null,
            "temp": 55.3,
            "visibility": 9.9,
            "wdir": 173.88,
            "weathertype": null,
            "wgust": null,
            "windchill": 33.9,
            "wspd": 19.7
           }
          ]
         }
        },
        "messages": [
         "This is a preview of the first 2 rows.You have exceeded the maximum number of daily result records for your account. Add a credit card to your account to increase the number of available free records."
        ],
        "queryCost": 2,
        "remainingCost": 0
       },
       {
        "columns": {
         "address": {
          "id": "address",
          "name": "Address",
          "type": 1,
          "unit": null
         },
         "cloudcover": {
          "id": "cloudcover",
          "name": "Cloud Cover",
          "type": 2,
          "unit": "%"
         },
         "conditions": {
          "id": "conditions",
          "name": "Conditions",
          "type": 1,
          "unit": null
         },
         "datetime": {
          "id": "datetime",
          "name": "Date time",
          "type": 3,
          "unit": null
         },
         "dew": {
          "id": "dew",
          "name": "Dew Point",
          "type": 2,
          "unit": "degF"
         },
         "heatindex": {
          "id": "heatindex",
          "name": "Heat Index",
          "type": 2,
          "unit": "degF"
         },
         "humidity": {
          "id": "humidity",
          "name": "Relative Humidity",
          "type": 2,
          "unit": "%"
         },
         "info": {
          "id": "info",
          "name": "Info",
          "type": 1,
          "unit": null
         },
         "latitude": {
          "id": "latitude",
          "name": "Latitude",
          "type": 2,
          "unit": null
         },
         "longitude": {
          "id": "longitude",
          "name": "Longitude",
          "type": 2,
          "unit": null
         },
         "maxt": {
          "id": "maxt",
          "name": "Maximum Temperature",
          "type": 2,
          "unit": "degF"
         },
         "mint": {
          "id": "mint",
          "name": "Minimum Temperature",
          "type": 2,
          "unit": "degF"
         },
         "name": {
          "id": "name",
          "name": "Name",
          "type": 1,
          "unit": null
         },
         "precip": {
          "id": "precip",
          "name": "Precipitation",
          "type": 2,
          "unit": "in"
         },
         "precipcover": {
          "id": "precipcover",
          "name": "Precipitation Cover",
          "type": 2,
          "unit": "%"
         },
         "resolvedAddress": {
          "id": "resolvedAddress",
          "name": "Resolved Address",
          "type": 1,
          "unit": null
         },
         "sealevelpressure": {
          "id": "sealevelpressure",
          "name": "Sea Level Pressure",
          "type": 2,
          "unit": "Pa"
         },
         "snowdepth": {
          "id": "snowdepth",
          "name": "Snow Depth",
          "type": 2,
          "unit": "in"
         },
         "temp": {
          "id": "temp",
          "name": "Temperature",
          "type": 2,
          "unit": "degF"
         },
         "visibility": {
          "id": "visibility",
          "name": "Visibility",
          "type": 2,
          "unit": "mi"
         },
         "wdir": {
          "id": "wdir",
          "name": "Wind Direction",
          "type": 2,
          "unit": null
         },
         "weathertype": {
          "id": "weathertype",
          "name": "Weather Type",
          "type": 1,
          "unit": null
         },
         "wgust": {
          "id": "wgust",
          "name": "Wind Gust",
          "type": 2,
          "unit": "mph"
         },
         "windchill": {
          "id": "windchill",
          "name": "Wind Chill",
          "type": 2,
          "unit": "degF"
         },
         "wspd": {
          "id": "wspd",
          "name": "Wind Speed",
          "type": 2,
          "unit": "mph"
         }
        },
        "locations": {
         "Stockton, CA": {
          "address": "stockton, ca",
          "alerts": null,
          "currentConditions": null,
          "distance": 0,
          "id": "Stockton, CA",
          "index": 0,
          "latitude": 37.9537,
          "longitude": -121.29,
          "name": "stockton, ca",
          "stationContributions": null,
          "time": 0,
          "values": [
           {
            "cloudcover": 75.6,
            "conditions": "Rain, Overcast",
            "datetime": 1546732800000,
            "datetimeStr": "2019-01-06T00:00:00-08:00",
            "dew": 45.1,
            "heatindex": null,
            "humidity": 88.28,
            "info": null,
            "maxt": 52.1,
            "mint": 39.8,
            "precip": 0.86,
            "precipcover": 58.33,
            "sealevelpressure": 1012.3,
            "snowdepth": null,
            "temp": 48.4,
            "visibility": 4.5,
            "wdir": 143.79,
            "weathertype": null,
            "wgust": 47.3,
            "windchill": 36.5,
            "wspd": 32.2
           },
           {
            "cloudcover": 73,
            "conditions": "Rain, Partially cloudy",
            "datetime": 1546819200000,
            "datetimeStr": "2019-01-07T00:00:00-08:00",
            "dew": 50.5,
            "heatindex": null,
            "humidity": 85.41,
            "info": null,
            "maxt": 62.1,
            "mint": 50.4,
            "precip": 0.02,
            "precipcover": 8.33,
            "sealevelpressure": 1020,
            "snowdepth": null,
            "temp": 54.9,
            "visibility": 8.7,
            "wdir": 134.42,
            "weathertype": null,
            "wgust": 33.3,
            "windchill": null,
            "wspd": 17.2
           }
          ]
         }
        },
        "messages": [
         "This is a preview of the first 2 rows.You have exceeded the maximum number of daily result records for your account. Add a credit card to your account to increase the number of available free records."
        ],
        "queryCost": 2,
        "remainingCost": 0
       },
       {
        "columns": {
         "address": {
          "id": "address",
          "name": "Address",
          "type": 1,
          "unit": null
         },
         "cloudcover": {
          "id": "cloudcover",
          "name": "Cloud Cover",
          "type": 2,
          "unit": "%"
         },
         "conditions": {
          "id": "conditions",
          "name": "Conditions",
          "type": 1,
          "unit": null
         },
         "datetime": {
          "id": "datetime",
          "name": "Date time",
          "type": 3,
          "unit": null
         },
         "dew": {
          "id": "dew",
          "name": "Dew Point",
          "type": 2,
          "unit": "degF"
         },
         "heatindex": {
          "id": "heatindex",
          "name": "Heat Index",
          "type": 2,
          "unit": "degF"
         },
         "humidity": {
          "id": "humidity",
          "name": "Relative Humidity",
          "type": 2,
          "unit": "%"
         },
         "info": {
          "id": "info",
          "name": "Info",
          "type": 1,
          "unit": null
         },
         "latitude": {
          "id": "latitude",
          "name": "Latitude",
          "type": 2,
          "unit": null
         },
         "longitude": {
          "id": "longitude",
          "name": "Longitude",
          "type": 2,
          "unit": null
         },
         "maxt": {
          "id": "maxt",
          "name": "Maximum Temperature",
          "type": 2,
          "unit": "degF"
         },
         "mint": {
          "id": "mint",
          "name": "Minimum Temperature",
          "type": 2,
          "unit": "degF"
         },
         "name": {
          "id": "name",
          "name": "Name",
          "type": 1,
          "unit": null
         },
         "precip": {
          "id": "precip",
          "name": "Precipitation",
          "type": 2,
          "unit": "in"
         },
         "precipcover": {
          "id": "precipcover",
          "name": "Precipitation Cover",
          "type": 2,
          "unit": "%"
         },
         "resolvedAddress": {
          "id": "resolvedAddress",
          "name": "Resolved Address",
          "type": 1,
          "unit": null
         },
         "sealevelpressure": {
          "id": "sealevelpressure",
          "name": "Sea Level Pressure",
          "type": 2,
          "unit": "Pa"
         },
         "snowdepth": {
          "id": "snowdepth",
          "name": "Snow Depth",
          "type": 2,
          "unit": "in"
         },
         "temp": {
          "id": "temp",
          "name": "Temperature",
          "type": 2,
          "unit": "degF"
         },
         "visibility": {
          "id": "visibility",
          "name": "Visibility",
          "type": 2,
          "unit": "mi"
         },
         "wdir": {
          "id": "wdir",
          "name": "Wind Direction",
          "type": 2,
          "unit": null
         },
         "weathertype": {
          "id": "weathertype",
          "name": "Weather Type",
          "type": 1,
          "unit": null
         },
         "wgust": {
          "id": "wgust",
          "name": "Wind Gust",
          "type": 2,
          "unit": "mph"
         },
         "windchill": {
          "id": "windchill",
          "name": "Wind Chill",
          "type": 2,
          "unit": "degF"
         },
         "wspd": {
          "id": "wspd",
          "name": "Wind Speed",
          "type": 2,
          "unit": "mph"
         }
        },
        "locations": {
         "Killeen, TX": {
          "address": "Killeen, TX, United States",
          "alerts": null,
          "currentConditions": null,
          "distance": 0,
          "id": "Killeen, TX",
          "index": 0,
          "latitude": 31.1169,
          "longitude": -97.7274,
          "name": "Killeen, TX, United States",
          "stationContributions": null,
          "time": 0,
          "values": [
           {
            "cloudcover": 41.4,
            "conditions": "Rain, Partially cloudy",
            "datetime": 1546473600000,
            "datetimeStr": "2019-01-03T00:00:00-06:00",
            "dew": 34.2,
            "heatindex": null,
            "humidity": 89.18,
            "info": null,
            "maxt": 45.2,
            "mint": 33.5,
            "precip": 0.31,
            "precipcover": 37.5,
            "sealevelpressure": 1015.7,
            "snowdepth": null,
            "temp": 37.2,
            "visibility": 6,
            "wdir": 302.17,
            "weathertype": null,
            "wgust": 20.8,
            "windchill": 24.8,
            "wspd": 17.2
           },
           {
            "cloudcover": 9.5,
            "conditions": "Clear",
            "datetime": 1546560000000,
            "datetimeStr": "2019-01-04T00:00:00-06:00",
            "dew": 32.9,
            "heatindex": null,
            "humidity": 62.55,
            "info": null,
            "maxt": 62.9,
            "mint": 34.4,
            "precip": 0,
            "precipcover": 0,
            "sealevelpressure": 1016,
            "snowdepth": null,
            "temp": 46.6,
            "visibility": 9.9,
            "wdir": 213.75,
            "weathertype": null,
            "wgust": null,
            "windchill": 27.3,
            "wspd": 11.4
           }
          ]
         }
        },
        "messages": [
         "This is a preview of the first 2 rows.You have exceeded the maximum number of daily result records for your account. Add a credit card to your account to increase the number of available free records."
        ],
        "queryCost": 2,
        "remainingCost": 0
       },
       {
        "columns": {
         "address": {
          "id": "address",
          "name": "Address",
          "type": 1,
          "unit": null
         },
         "cloudcover": {
          "id": "cloudcover",
          "name": "Cloud Cover",
          "type": 2,
          "unit": "%"
         },
         "conditions": {
          "id": "conditions",
          "name": "Conditions",
          "type": 1,
          "unit": null
         },
         "datetime": {
          "id": "datetime",
          "name": "Date time",
          "type": 3,
          "unit": null
         },
         "dew": {
          "id": "dew",
          "name": "Dew Point",
          "type": 2,
          "unit": "degF"
         },
         "heatindex": {
          "id": "heatindex",
          "name": "Heat Index",
          "type": 2,
          "unit": "degF"
         },
         "humidity": {
          "id": "humidity",
          "name": "Relative Humidity",
          "type": 2,
          "unit": "%"
         },
         "info": {
          "id": "info",
          "name": "Info",
          "type": 1,
          "unit": null
         },
         "latitude": {
          "id": "latitude",
          "name": "Latitude",
          "type": 2,
          "unit": null
         },
         "longitude": {
          "id": "longitude",
          "name": "Longitude",
          "type": 2,
          "unit": null
         },
         "maxt": {
          "id": "maxt",
          "name": "Maximum Temperature",
          "type": 2,
          "unit": "degF"
         },
         "mint": {
          "id": "mint",
          "name": "Minimum Temperature",
          "type": 2,
          "unit": "degF"
         },
         "name": {
          "id": "name",
          "name": "Name",
          "type": 1,
          "unit": null
         },
         "precip": {
          "id": "precip",
          "name": "Precipitation",
          "type": 2,
          "unit": "in"
         },
         "precipcover": {
          "id": "precipcover",
          "name": "Precipitation Cover",
          "type": 2,
          "unit": "%"
         },
         "resolvedAddress": {
          "id": "resolvedAddress",
          "name": "Resolved Address",
          "type": 1,
          "unit": null
         },
         "sealevelpressure": {
          "id": "sealevelpressure",
          "name": "Sea Level Pressure",
          "type": 2,
          "unit": "Pa"
         },
         "snowdepth": {
          "id": "snowdepth",
          "name": "Snow Depth",
          "type": 2,
          "unit": "in"
         },
         "temp": {
          "id": "temp",
          "name": "Temperature",
          "type": 2,
          "unit": "degF"
         },
         "visibility": {
          "id": "visibility",
          "name": "Visibility",
          "type": 2,
          "unit": "mi"
         },
         "wdir": {
          "id": "wdir",
          "name": "Wind Direction",
          "type": 2,
          "unit": null
         },
         "weathertype": {
          "id": "weathertype",
          "name": "Weather Type",
          "type": 1,
          "unit": null
         },
         "wgust": {
          "id": "wgust",
          "name": "Wind Gust",
          "type": 2,
          "unit": "mph"
         },
         "windchill": {
          "id": "windchill",
          "name": "Wind Chill",
          "type": 2,
          "unit": "degF"
         },
         "wspd": {
          "id": "wspd",
          "name": "Wind Speed",
          "type": 2,
          "unit": "mph"
         }
        },
        "locations": {
         "Kapalua, HI": {
          "address": "Kapalua, Lahaina, HI, United States",
          "alerts": null,
          "currentConditions": null,
          "distance": 0,
          "id": "Kapalua, HI",
          "index": 0,
          "latitude": 21.0007,
          "longitude": -156.663,
          "name": "Kapalua, Lahaina, HI, United States",
          "stationContributions": null,
          "time": 0,
          "values": [
           {
            "cloudcover": 26.1,
            "conditions": "Rain, Partially cloudy",
            "datetime": 1547769600000,
            "datetimeStr": "2019-01-18T00:00:00-10:00",
            "dew": 65.8,
            "heatindex": 82.3,
            "humidity": 81.65,
            "info": null,
            "maxt": 80.1,
            "mint": 64.7,
            "precip": 0.01,
            "precipcover": 4.17,
            "sealevelpressure": 1018.1,
            "snowdepth": null,
            "temp": 71.8,
            "visibility": 9.7,
            "wdir": 93.63,
            "weathertype": null,
            "wgust": 23,
            "windchill": null,
            "wspd": 18.3
           },
           {
            "cloudcover": 33.7,
            "conditions": "Rain, Partially cloudy",
            "datetime": 1547856000000,
            "datetimeStr": "2019-01-19T00:00:00-10:00",
            "dew": 66.1,
            "heatindex": null,
            "humidity": 79.76,
            "info": null,
            "maxt": 78.8,
            "mint": 67.9,
            "precip": 0.02,
            "precipcover": 4.17,
            "sealevelpressure": 1018.3,
            "snowdepth": null,
            "temp": 72.9,
            "visibility": 9.7,
            "wdir": 54.58,
            "weathertype": null,
            "wgust": 28.5,
            "windchill": null,
            "wspd": 16.3
           }
          ]
         }
        },
        "messages": [
         "This is a preview of the first 2 rows.You have exceeded the maximum number of daily result records for your account. Add a credit card to your account to increase the number of available free records."
        ],
        "queryCost": 2,
        "remainingCost": 0
       },
       {
        "columns": {
         "address": {
          "id": "address",
          "name": "Address",
          "type": 1,
          "unit": null
         },
         "cloudcover": {
          "id": "cloudcover",
          "name": "Cloud Cover",
          "type": 2,
          "unit": "%"
         },
         "conditions": {
          "id": "conditions",
          "name": "Conditions",
          "type": 1,
          "unit": null
         },
         "datetime": {
          "id": "datetime",
          "name": "Date time",
          "type": 3,
          "unit": null
         },
         "dew": {
          "id": "dew",
          "name": "Dew Point",
          "type": 2,
          "unit": "degF"
         },
         "heatindex": {
          "id": "heatindex",
          "name": "Heat Index",
          "type": 2,
          "unit": "degF"
         },
         "humidity": {
          "id": "humidity",
          "name": "Relative Humidity",
          "type": 2,
          "unit": "%"
         },
         "info": {
          "id": "info",
          "name": "Info",
          "type": 1,
          "unit": null
         },
         "latitude": {
          "id": "latitude",
          "name": "Latitude",
          "type": 2,
          "unit": null
         },
         "longitude": {
          "id": "longitude",
          "name": "Longitude",
          "type": 2,
          "unit": null
         },
         "maxt": {
          "id": "maxt",
          "name": "Maximum Temperature",
          "type": 2,
          "unit": "degF"
         },
         "mint": {
          "id": "mint",
          "name": "Minimum Temperature",
          "type": 2,
          "unit": "degF"
         },
         "name": {
          "id": "name",
          "name": "Name",
          "type": 1,
          "unit": null
         },
         "precip": {
          "id": "precip",
          "name": "Precipitation",
          "type": 2,
          "unit": "in"
         },
         "precipcover": {
          "id": "precipcover",
          "name": "Precipitation Cover",
          "type": 2,
          "unit": "%"
         },
         "resolvedAddress": {
          "id": "resolvedAddress",
          "name": "Resolved Address",
          "type": 1,
          "unit": null
         },
         "sealevelpressure": {
          "id": "sealevelpressure",
          "name": "Sea Level Pressure",
          "type": 2,
          "unit": "Pa"
         },
         "snowdepth": {
          "id": "snowdepth",
          "name": "Snow Depth",
          "type": 2,
          "unit": "in"
         },
         "temp": {
          "id": "temp",
          "name": "Temperature",
          "type": 2,
          "unit": "degF"
         },
         "visibility": {
          "id": "visibility",
          "name": "Visibility",
          "type": 2,
          "unit": "mi"
         },
         "wdir": {
          "id": "wdir",
          "name": "Wind Direction",
          "type": 2,
          "unit": null
         },
         "weathertype": {
          "id": "weathertype",
          "name": "Weather Type",
          "type": 1,
          "unit": null
         },
         "wgust": {
          "id": "wgust",
          "name": "Wind Gust",
          "type": 2,
          "unit": "mph"
         },
         "windchill": {
          "id": "windchill",
          "name": "Wind Chill",
          "type": 2,
          "unit": "degF"
         },
         "wspd": {
          "id": "wspd",
          "name": "Wind Speed",
          "type": 2,
          "unit": "mph"
         }
        },
        "locations": {
         "Saginaw/Bay City/Midland, MI": {
          "address": "Saginaw St, Bay City, MI 48708, United States",
          "alerts": null,
          "currentConditions": null,
          "distance": 0,
          "id": "Saginaw/Bay City/Midland, MI",
          "index": 0,
          "latitude": 43.5958,
          "longitude": -83.8893,
          "name": "Saginaw St, Bay City, MI 48708, United States",
          "stationContributions": null,
          "time": 0,
          "values": [
           {
            "cloudcover": 21,
            "conditions": "Clear",
            "datetime": 1514851200000,
            "datetimeStr": "2018-01-02T00:00:00-05:00",
            "dew": 8.1,
            "heatindex": null,
            "humidity": 75.56,
            "info": null,
            "maxt": 20.5,
            "mint": 8.9,
            "precip": 0,
            "precipcover": 0,
            "sealevelpressure": 1026,
            "snowdepth": null,
            "temp": 14.5,
            "visibility": 9.8,
            "wdir": 235.17,
            "weathertype": null,
            "wgust": 36.9,
            "windchill": -10.6,
            "wspd": 23.9
           },
           {
            "cloudcover": 74.9,
            "conditions": "Partially cloudy",
            "datetime": 1514937600000,
            "datetimeStr": "2018-01-03T00:00:00-05:00",
            "dew": 6.7,
            "heatindex": null,
            "humidity": 78.34,
            "info": null,
            "maxt": 17.5,
            "mint": 8.2,
            "precip": 0,
            "precipcover": 0,
            "sealevelpressure": 1015.9,
            "snowdepth": null,
            "temp": 12.3,
            "visibility": 6.4,
            "wdir": 239,
            "weathertype": null,
            "wgust": 32.9,
            "windchill": -12.2,
            "wspd": 22.5
           }
          ]
         }
        },
        "messages": [
         "This is a preview of the first 2 rows.You have exceeded the maximum number of daily result records for your account. Add a credit card to your account to increase the number of available free records."
        ],
        "queryCost": 2,
        "remainingCost": 0
       },
       {
        "columns": {
         "address": {
          "id": "address",
          "name": "Address",
          "type": 1,
          "unit": null
         },
         "cloudcover": {
          "id": "cloudcover",
          "name": "Cloud Cover",
          "type": 2,
          "unit": "%"
         },
         "conditions": {
          "id": "conditions",
          "name": "Conditions",
          "type": 1,
          "unit": null
         },
         "datetime": {
          "id": "datetime",
          "name": "Date time",
          "type": 3,
          "unit": null
         },
         "dew": {
          "id": "dew",
          "name": "Dew Point",
          "type": 2,
          "unit": "degF"
         },
         "heatindex": {
          "id": "heatindex",
          "name": "Heat Index",
          "type": 2,
          "unit": "degF"
         },
         "humidity": {
          "id": "humidity",
          "name": "Relative Humidity",
          "type": 2,
          "unit": "%"
         },
         "info": {
          "id": "info",
          "name": "Info",
          "type": 1,
          "unit": null
         },
         "latitude": {
          "id": "latitude",
          "name": "Latitude",
          "type": 2,
          "unit": null
         },
         "longitude": {
          "id": "longitude",
          "name": "Longitude",
          "type": 2,
          "unit": null
         },
         "maxt": {
          "id": "maxt",
          "name": "Maximum Temperature",
          "type": 2,
          "unit": "degF"
         },
         "mint": {
          "id": "mint",
          "name": "Minimum Temperature",
          "type": 2,
          "unit": "degF"
         },
         "name": {
          "id": "name",
          "name": "Name",
          "type": 1,
          "unit": null
         },
         "precip": {
          "id": "precip",
          "name": "Precipitation",
          "type": 2,
          "unit": "in"
         },
         "precipcover": {
          "id": "precipcover",
          "name": "Precipitation Cover",
          "type": 2,
          "unit": "%"
         },
         "resolvedAddress": {
          "id": "resolvedAddress",
          "name": "Resolved Address",
          "type": 1,
          "unit": null
         },
         "sealevelpressure": {
          "id": "sealevelpressure",
          "name": "Sea Level Pressure",
          "type": 2,
          "unit": "Pa"
         },
         "snowdepth": {
          "id": "snowdepth",
          "name": "Snow Depth",
          "type": 2,
          "unit": "in"
         },
         "temp": {
          "id": "temp",
          "name": "Temperature",
          "type": 2,
          "unit": "degF"
         },
         "visibility": {
          "id": "visibility",
          "name": "Visibility",
          "type": 2,
          "unit": "mi"
         },
         "wdir": {
          "id": "wdir",
          "name": "Wind Direction",
          "type": 2,
          "unit": null
         },
         "weathertype": {
          "id": "weathertype",
          "name": "Weather Type",
          "type": 1,
          "unit": null
         },
         "wgust": {
          "id": "wgust",
          "name": "Wind Gust",
          "type": 2,
          "unit": "mph"
         },
         "windchill": {
          "id": "windchill",
          "name": "Wind Chill",
          "type": 2,
          "unit": "degF"
         },
         "wspd": {
          "id": "wspd",
          "name": "Wind Speed",
          "type": 2,
          "unit": "mph"
         }
        },
        "locations": {
         "Los Angeles, CA": {
          "address": "los ángeles, CA",
          "alerts": null,
          "currentConditions": null,
          "distance": 0,
          "id": "Los Angeles, CA",
          "index": 0,
          "latitude": 34.0535,
          "longitude": -118.245,
          "name": "los ángeles, CA",
          "stationContributions": null,
          "time": 0,
          "values": [
           {
            "cloudcover": 0,
            "conditions": "Clear",
            "datetime": 1517011200000,
            "datetimeStr": "2018-01-27T00:00:00-08:00",
            "dew": 24.8,
            "heatindex": null,
            "humidity": 27.58,
            "info": null,
            "maxt": 73.2,
            "mint": 49,
            "precip": 0,
            "precipcover": 0,
            "sealevelpressure": 1021.7,
            "snowdepth": null,
            "temp": 60.2,
            "visibility": 9.9,
            "wdir": 186.38,
            "weathertype": null,
            "wgust": null,
            "windchill": null,
            "wspd": 5.7
           },
           {
            "cloudcover": 0,
            "conditions": "Clear",
            "datetime": 1517097600000,
            "datetimeStr": "2018-01-28T00:00:00-08:00",
            "dew": 31.5,
            "heatindex": 80.4,
            "humidity": 31.03,
            "info": null,
            "maxt": 82.9,
            "mint": 49.1,
            "precip": 0,
            "precipcover": 0,
            "sealevelpressure": 1020.2,
            "snowdepth": null,
            "temp": 65.9,
            "visibility": 9.9,
            "wdir": 218.44,
            "weathertype": null,
            "wgust": null,
            "windchill": null,
            "wspd": 4.9
           }
          ]
         }
        },
        "messages": [
         "This is a preview of the first 2 rows.You have exceeded the maximum number of daily result records for your account. Add a credit card to your account to increase the number of available free records."
        ],
        "queryCost": 2,
        "remainingCost": 0
       },
       {
        "columns": {
         "address": {
          "id": "address",
          "name": "Address",
          "type": 1,
          "unit": null
         },
         "cloudcover": {
          "id": "cloudcover",
          "name": "Cloud Cover",
          "type": 2,
          "unit": "%"
         },
         "conditions": {
          "id": "conditions",
          "name": "Conditions",
          "type": 1,
          "unit": null
         },
         "datetime": {
          "id": "datetime",
          "name": "Date time",
          "type": 3,
          "unit": null
         },
         "dew": {
          "id": "dew",
          "name": "Dew Point",
          "type": 2,
          "unit": "degF"
         },
         "heatindex": {
          "id": "heatindex",
          "name": "Heat Index",
          "type": 2,
          "unit": "degF"
         },
         "humidity": {
          "id": "humidity",
          "name": "Relative Humidity",
          "type": 2,
          "unit": "%"
         },
         "info": {
          "id": "info",
          "name": "Info",
          "type": 1,
          "unit": null
         },
         "latitude": {
          "id": "latitude",
          "name": "Latitude",
          "type": 2,
          "unit": null
         },
         "longitude": {
          "id": "longitude",
          "name": "Longitude",
          "type": 2,
          "unit": null
         },
         "maxt": {
          "id": "maxt",
          "name": "Maximum Temperature",
          "type": 2,
          "unit": "degF"
         },
         "mint": {
          "id": "mint",
          "name": "Minimum Temperature",
          "type": 2,
          "unit": "degF"
         },
         "name": {
          "id": "name",
          "name": "Name",
          "type": 1,
          "unit": null
         },
         "precip": {
          "id": "precip",
          "name": "Precipitation",
          "type": 2,
          "unit": "in"
         },
         "precipcover": {
          "id": "precipcover",
          "name": "Precipitation Cover",
          "type": 2,
          "unit": "%"
         },
         "resolvedAddress": {
          "id": "resolvedAddress",
          "name": "Resolved Address",
          "type": 1,
          "unit": null
         },
         "sealevelpressure": {
          "id": "sealevelpressure",
          "name": "Sea Level Pressure",
          "type": 2,
          "unit": "Pa"
         },
         "snowdepth": {
          "id": "snowdepth",
          "name": "Snow Depth",
          "type": 2,
          "unit": "in"
         },
         "temp": {
          "id": "temp",
          "name": "Temperature",
          "type": 2,
          "unit": "degF"
         },
         "visibility": {
          "id": "visibility",
          "name": "Visibility",
          "type": 2,
          "unit": "mi"
         },
         "wdir": {
          "id": "wdir",
          "name": "Wind Direction",
          "type": 2,
          "unit": null
         },
         "weathertype": {
          "id": "weathertype",
          "name": "Weather Type",
          "type": 1,
          "unit": null
         },
         "wgust": {
          "id": "wgust",
          "name": "Wind Gust",
          "type": 2,
          "unit": "mph"
         },
         "windchill": {
          "id": "windchill",
          "name": "Wind Chill",
          "type": 2,
          "unit": "degF"
         },
         "wspd": {
          "id": "wspd",
          "name": "Wind Speed",
          "type": 2,
          "unit": "mph"
         }
        },
        "locations": {
         "Pueblo, CO": {
          "address": "Pueblo, co",
          "alerts": null,
          "currentConditions": null,
          "distance": 0,
          "id": "Pueblo, CO",
          "index": 0,
          "latitude": 38.2637,
          "longitude": -104.613,
          "name": "Pueblo, co",
          "stationContributions": null,
          "time": 0,
          "values": [
           {
            "cloudcover": 22.1,
            "conditions": "Rain",
            "datetime": 1515542400000,
            "datetimeStr": "2018-01-10T00:00:00-07:00",
            "dew": 25.2,
            "heatindex": null,
            "humidity": 53.21,
            "info": null,
            "maxt": 62.9,
            "mint": 26,
            "precip": 0.13,
            "precipcover": 8.33,
            "sealevelpressure": 999,
            "snowdepth": null,
            "temp": 42.7,
            "visibility": 9.7,
            "wdir": 196.32,
            "weathertype": null,
            "wgust": 42.5,
            "windchill": 18.2,
            "wspd": 28.9
           },
           {
            "cloudcover": 17.8,
            "conditions": "Clear",
            "datetime": 1515628800000,
            "datetimeStr": "2018-01-11T00:00:00-07:00",
            "dew": 18.7,
            "heatindex": null,
            "humidity": 57.51,
            "info": null,
            "maxt": 42.2,
            "mint": 25.1,
            "precip": 0,
            "precipcover": 0,
            "sealevelpressure": 1019,
            "snowdepth": null,
            "temp": 32.6,
            "visibility": 9.9,
            "wdir": 120,
            "weathertype": null,
            "wgust": 43.6,
            "windchill": 17.9,
            "wspd": 31.1
           }
          ]
         }
        },
        "messages": [
         "This is a preview of the first 2 rows.You have exceeded the maximum number of daily result records for your account. Add a credit card to your account to increase the number of available free records."
        ],
        "queryCost": 2,
        "remainingCost": 0
       },
       {
        "columns": {
         "address": {
          "id": "address",
          "name": "Address",
          "type": 1,
          "unit": null
         },
         "cloudcover": {
          "id": "cloudcover",
          "name": "Cloud Cover",
          "type": 2,
          "unit": "%"
         },
         "conditions": {
          "id": "conditions",
          "name": "Conditions",
          "type": 1,
          "unit": null
         },
         "datetime": {
          "id": "datetime",
          "name": "Date time",
          "type": 3,
          "unit": null
         },
         "dew": {
          "id": "dew",
          "name": "Dew Point",
          "type": 2,
          "unit": "degF"
         },
         "heatindex": {
          "id": "heatindex",
          "name": "Heat Index",
          "type": 2,
          "unit": "degF"
         },
         "humidity": {
          "id": "humidity",
          "name": "Relative Humidity",
          "type": 2,
          "unit": "%"
         },
         "info": {
          "id": "info",
          "name": "Info",
          "type": 1,
          "unit": null
         },
         "latitude": {
          "id": "latitude",
          "name": "Latitude",
          "type": 2,
          "unit": null
         },
         "longitude": {
          "id": "longitude",
          "name": "Longitude",
          "type": 2,
          "unit": null
         },
         "maxt": {
          "id": "maxt",
          "name": "Maximum Temperature",
          "type": 2,
          "unit": "degF"
         },
         "mint": {
          "id": "mint",
          "name": "Minimum Temperature",
          "type": 2,
          "unit": "degF"
         },
         "name": {
          "id": "name",
          "name": "Name",
          "type": 1,
          "unit": null
         },
         "precip": {
          "id": "precip",
          "name": "Precipitation",
          "type": 2,
          "unit": "in"
         },
         "precipcover": {
          "id": "precipcover",
          "name": "Precipitation Cover",
          "type": 2,
          "unit": "%"
         },
         "resolvedAddress": {
          "id": "resolvedAddress",
          "name": "Resolved Address",
          "type": 1,
          "unit": null
         },
         "sealevelpressure": {
          "id": "sealevelpressure",
          "name": "Sea Level Pressure",
          "type": 2,
          "unit": "Pa"
         },
         "snowdepth": {
          "id": "snowdepth",
          "name": "Snow Depth",
          "type": 2,
          "unit": "in"
         },
         "temp": {
          "id": "temp",
          "name": "Temperature",
          "type": 2,
          "unit": "degF"
         },
         "visibility": {
          "id": "visibility",
          "name": "Visibility",
          "type": 2,
          "unit": "mi"
         },
         "wdir": {
          "id": "wdir",
          "name": "Wind Direction",
          "type": 2,
          "unit": null
         },
         "weathertype": {
          "id": "weathertype",
          "name": "Weather Type",
          "type": 1,
          "unit": null
         },
         "wgust": {
          "id": "wgust",
          "name": "Wind Gust",
          "type": 2,
          "unit": "mph"
         },
         "windchill": {
          "id": "windchill",
          "name": "Wind Chill",
          "type": 2,
          "unit": "degF"
         },
         "wspd": {
          "id": "wspd",
          "name": "Wind Speed",
          "type": 2,
          "unit": "mph"
         }
        },
        "locations": {
         "Staunton, VA": {
          "address": "Staunton, VA, United States",
          "alerts": null,
          "currentConditions": null,
          "distance": 0,
          "id": "Staunton, VA",
          "index": 0,
          "latitude": 38.15,
          "longitude": -79.0727,
          "name": "Staunton, VA, United States",
          "stationContributions": null,
          "time": 0,
          "values": [
           {
            "cloudcover": 95.8,
            "conditions": "Rain, Overcast",
            "datetime": 1515628800000,
            "datetimeStr": "2018-01-11T00:00:00-05:00",
            "dew": 42.5,
            "heatindex": null,
            "humidity": 79.92,
            "info": null,
            "maxt": 58.2,
            "mint": 34.1,
            "precip": 0.01,
            "precipcover": 4.17,
            "sealevelpressure": null,
            "snowdepth": null,
            "temp": 48.6,
            "visibility": 9.4,
            "wdir": 202.14,
            "weathertype": null,
            "wgust": null,
            "windchill": 37.4,
            "wspd": 12.8
           },
           {
            "cloudcover": 95.2,
            "conditions": "Rain, Overcast",
            "datetime": 1515715200000,
            "datetimeStr": "2018-01-12T00:00:00-05:00",
            "dew": 58.1,
            "heatindex": null,
            "humidity": 93.11,
            "info": null,
            "maxt": 65.4,
            "mint": 54.8,
            "precip": 0.52,
            "precipcover": 26.09,
            "sealevelpressure": null,
            "snowdepth": null,
            "temp": 60.2,
            "visibility": 8.3,
            "wdir": 187.14,
            "weathertype": null,
            "wgust": null,
            "windchill": null,
            "wspd": 18.3
           }
          ]
         }
        },
        "messages": [
         "This is a preview of the first 2 rows.You have exceeded the maximum number of daily result records for your account. Add a credit card to your account to increase the number of available free records."
        ],
        "queryCost": 2,
        "remainingCost": 0
       },
       {
        "columns": {
         "address": {
          "id": "address",
          "name": "Address",
          "type": 1,
          "unit": null
         },
         "cloudcover": {
          "id": "cloudcover",
          "name": "Cloud Cover",
          "type": 2,
          "unit": "%"
         },
         "conditions": {
          "id": "conditions",
          "name": "Conditions",
          "type": 1,
          "unit": null
         },
         "datetime": {
          "id": "datetime",
          "name": "Date time",
          "type": 3,
          "unit": null
         },
         "dew": {
          "id": "dew",
          "name": "Dew Point",
          "type": 2,
          "unit": "degF"
         },
         "heatindex": {
          "id": "heatindex",
          "name": "Heat Index",
          "type": 2,
          "unit": "degF"
         },
         "humidity": {
          "id": "humidity",
          "name": "Relative Humidity",
          "type": 2,
          "unit": "%"
         },
         "info": {
          "id": "info",
          "name": "Info",
          "type": 1,
          "unit": null
         },
         "latitude": {
          "id": "latitude",
          "name": "Latitude",
          "type": 2,
          "unit": null
         },
         "longitude": {
          "id": "longitude",
          "name": "Longitude",
          "type": 2,
          "unit": null
         },
         "maxt": {
          "id": "maxt",
          "name": "Maximum Temperature",
          "type": 2,
          "unit": "degF"
         },
         "mint": {
          "id": "mint",
          "name": "Minimum Temperature",
          "type": 2,
          "unit": "degF"
         },
         "name": {
          "id": "name",
          "name": "Name",
          "type": 1,
          "unit": null
         },
         "precip": {
          "id": "precip",
          "name": "Precipitation",
          "type": 2,
          "unit": "in"
         },
         "precipcover": {
          "id": "precipcover",
          "name": "Precipitation Cover",
          "type": 2,
          "unit": "%"
         },
         "resolvedAddress": {
          "id": "resolvedAddress",
          "name": "Resolved Address",
          "type": 1,
          "unit": null
         },
         "sealevelpressure": {
          "id": "sealevelpressure",
          "name": "Sea Level Pressure",
          "type": 2,
          "unit": "Pa"
         },
         "snowdepth": {
          "id": "snowdepth",
          "name": "Snow Depth",
          "type": 2,
          "unit": "in"
         },
         "temp": {
          "id": "temp",
          "name": "Temperature",
          "type": 2,
          "unit": "degF"
         },
         "visibility": {
          "id": "visibility",
          "name": "Visibility",
          "type": 2,
          "unit": "mi"
         },
         "wdir": {
          "id": "wdir",
          "name": "Wind Direction",
          "type": 2,
          "unit": null
         },
         "weathertype": {
          "id": "weathertype",
          "name": "Weather Type",
          "type": 1,
          "unit": null
         },
         "wgust": {
          "id": "wgust",
          "name": "Wind Gust",
          "type": 2,
          "unit": "mph"
         },
         "windchill": {
          "id": "windchill",
          "name": "Wind Chill",
          "type": 2,
          "unit": "degF"
         },
         "wspd": {
          "id": "wspd",
          "name": "Wind Speed",
          "type": 2,
          "unit": "mph"
         }
        },
        "locations": {
         "Prescott, AZ": {
          "address": "Prescott, AZ, United States",
          "alerts": null,
          "currentConditions": null,
          "distance": 0,
          "id": "Prescott, AZ",
          "index": 0,
          "latitude": 34.5414,
          "longitude": -112.469,
          "name": "Prescott, AZ, United States",
          "stationContributions": null,
          "time": 0,
          "values": [
           {
            "cloudcover": null,
            "conditions": "",
            "datetime": null,
            "dew": null,
            "heatindex": null,
            "humidity": null,
            "info": "No data available",
            "maxt": null,
            "mint": null,
            "precip": 0,
            "precipcover": null,
            "sealevelpressure": null,
            "snowdepth": null,
            "temp": null,
            "visibility": null,
            "wdir": null,
            "weathertype": null,
            "wgust": null,
            "windchill": null,
            "wspd": null
           }
          ]
         }
        },
        "messages": [
         "This is a preview of the first 2 rows.You have exceeded the maximum number of daily result records for your account. Add a credit card to your account to increase the number of available free records."
        ],
        "queryCost": 1,
        "remainingCost": 0
       },
       {
        "columns": {
         "address": {
          "id": "address",
          "name": "Address",
          "type": 1,
          "unit": null
         },
         "cloudcover": {
          "id": "cloudcover",
          "name": "Cloud Cover",
          "type": 2,
          "unit": "%"
         },
         "conditions": {
          "id": "conditions",
          "name": "Conditions",
          "type": 1,
          "unit": null
         },
         "datetime": {
          "id": "datetime",
          "name": "Date time",
          "type": 3,
          "unit": null
         },
         "dew": {
          "id": "dew",
          "name": "Dew Point",
          "type": 2,
          "unit": "degF"
         },
         "heatindex": {
          "id": "heatindex",
          "name": "Heat Index",
          "type": 2,
          "unit": "degF"
         },
         "humidity": {
          "id": "humidity",
          "name": "Relative Humidity",
          "type": 2,
          "unit": "%"
         },
         "info": {
          "id": "info",
          "name": "Info",
          "type": 1,
          "unit": null
         },
         "latitude": {
          "id": "latitude",
          "name": "Latitude",
          "type": 2,
          "unit": null
         },
         "longitude": {
          "id": "longitude",
          "name": "Longitude",
          "type": 2,
          "unit": null
         },
         "maxt": {
          "id": "maxt",
          "name": "Maximum Temperature",
          "type": 2,
          "unit": "degF"
         },
         "mint": {
          "id": "mint",
          "name": "Minimum Temperature",
          "type": 2,
          "unit": "degF"
         },
         "name": {
          "id": "name",
          "name": "Name",
          "type": 1,
          "unit": null
         },
         "precip": {
          "id": "precip",
          "name": "Precipitation",
          "type": 2,
          "unit": "in"
         },
         "precipcover": {
          "id": "precipcover",
          "name": "Precipitation Cover",
          "type": 2,
          "unit": "%"
         },
         "resolvedAddress": {
          "id": "resolvedAddress",
          "name": "Resolved Address",
          "type": 1,
          "unit": null
         },
         "sealevelpressure": {
          "id": "sealevelpressure",
          "name": "Sea Level Pressure",
          "type": 2,
          "unit": "Pa"
         },
         "snowdepth": {
          "id": "snowdepth",
          "name": "Snow Depth",
          "type": 2,
          "unit": "in"
         },
         "temp": {
          "id": "temp",
          "name": "Temperature",
          "type": 2,
          "unit": "degF"
         },
         "visibility": {
          "id": "visibility",
          "name": "Visibility",
          "type": 2,
          "unit": "mi"
         },
         "wdir": {
          "id": "wdir",
          "name": "Wind Direction",
          "type": 2,
          "unit": null
         },
         "weathertype": {
          "id": "weathertype",
          "name": "Weather Type",
          "type": 1,
          "unit": null
         },
         "wgust": {
          "id": "wgust",
          "name": "Wind Gust",
          "type": 2,
          "unit": "mph"
         },
         "windchill": {
          "id": "windchill",
          "name": "Wind Chill",
          "type": 2,
          "unit": "degF"
         },
         "wspd": {
          "id": "wspd",
          "name": "Wind Speed",
          "type": 2,
          "unit": "mph"
         }
        },
        "locations": {
         "Lake Charles, LA": {
          "address": "Lake Charles, LA, United States",
          "alerts": null,
          "currentConditions": null,
          "distance": 0,
          "id": "Lake Charles, LA",
          "index": 0,
          "latitude": 30.224,
          "longitude": -93.2201,
          "name": "Lake Charles, LA, United States",
          "stationContributions": null,
          "time": 0,
          "values": [
           {
            "cloudcover": 0,
            "conditions": "Clear",
            "datetime": 1548288000000,
            "datetimeStr": "2019-01-24T00:00:00-06:00",
            "dew": 31.9,
            "heatindex": null,
            "humidity": 67.29,
            "info": null,
            "maxt": 55.6,
            "mint": 34.4,
            "precip": 0,
            "precipcover": 0,
            "sealevelpressure": 1021.5,
            "snowdepth": null,
            "temp": 43.1,
            "visibility": 9.9,
            "wdir": 103.04,
            "weathertype": null,
            "wgust": null,
            "windchill": null,
            "wspd": 0.2
           },
           {
            "cloudcover": 0.2,
            "conditions": "Clear",
            "datetime": 1548374400000,
            "datetimeStr": "2019-01-25T00:00:00-06:00",
            "dew": 36,
            "heatindex": null,
            "humidity": 66.38,
            "info": null,
            "maxt": 62.8,
            "mint": 37.1,
            "precip": 0,
            "precipcover": 0,
            "sealevelpressure": 1026.3,
            "snowdepth": null,
            "temp": 47.9,
            "visibility": 9.9,
            "wdir": 53.63,
            "weathertype": null,
            "wgust": null,
            "windchill": null,
            "wspd": 0.1
           }
          ]
         }
        },
        "messages": [
         "This is a preview of the first 2 rows.You have exceeded the maximum number of daily result records for your account. Add a credit card to your account to increase the number of available free records."
        ],
        "queryCost": 2,
        "remainingCost": 0
       },
       {
        "columns": {
         "address": {
          "id": "address",
          "name": "Address",
          "type": 1,
          "unit": null
         },
         "cloudcover": {
          "id": "cloudcover",
          "name": "Cloud Cover",
          "type": 2,
          "unit": "%"
         },
         "conditions": {
          "id": "conditions",
          "name": "Conditions",
          "type": 1,
          "unit": null
         },
         "datetime": {
          "id": "datetime",
          "name": "Date time",
          "type": 3,
          "unit": null
         },
         "dew": {
          "id": "dew",
          "name": "Dew Point",
          "type": 2,
          "unit": "degF"
         },
         "heatindex": {
          "id": "heatindex",
          "name": "Heat Index",
          "type": 2,
          "unit": "degF"
         },
         "humidity": {
          "id": "humidity",
          "name": "Relative Humidity",
          "type": 2,
          "unit": "%"
         },
         "info": {
          "id": "info",
          "name": "Info",
          "type": 1,
          "unit": null
         },
         "latitude": {
          "id": "latitude",
          "name": "Latitude",
          "type": 2,
          "unit": null
         },
         "longitude": {
          "id": "longitude",
          "name": "Longitude",
          "type": 2,
          "unit": null
         },
         "maxt": {
          "id": "maxt",
          "name": "Maximum Temperature",
          "type": 2,
          "unit": "degF"
         },
         "mint": {
          "id": "mint",
          "name": "Minimum Temperature",
          "type": 2,
          "unit": "degF"
         },
         "name": {
          "id": "name",
          "name": "Name",
          "type": 1,
          "unit": null
         },
         "precip": {
          "id": "precip",
          "name": "Precipitation",
          "type": 2,
          "unit": "in"
         },
         "precipcover": {
          "id": "precipcover",
          "name": "Precipitation Cover",
          "type": 2,
          "unit": "%"
         },
         "resolvedAddress": {
          "id": "resolvedAddress",
          "name": "Resolved Address",
          "type": 1,
          "unit": null
         },
         "sealevelpressure": {
          "id": "sealevelpressure",
          "name": "Sea Level Pressure",
          "type": 2,
          "unit": "Pa"
         },
         "snowdepth": {
          "id": "snowdepth",
          "name": "Snow Depth",
          "type": 2,
          "unit": "in"
         },
         "temp": {
          "id": "temp",
          "name": "Temperature",
          "type": 2,
          "unit": "degF"
         },
         "visibility": {
          "id": "visibility",
          "name": "Visibility",
          "type": 2,
          "unit": "mi"
         },
         "wdir": {
          "id": "wdir",
          "name": "Wind Direction",
          "type": 2,
          "unit": null
         },
         "weathertype": {
          "id": "weathertype",
          "name": "Weather Type",
          "type": 1,
          "unit": null
         },
         "wgust": {
          "id": "wgust",
          "name": "Wind Gust",
          "type": 2,
          "unit": "mph"
         },
         "windchill": {
          "id": "windchill",
          "name": "Wind Chill",
          "type": 2,
          "unit": "degF"
         },
         "wspd": {
          "id": "wspd",
          "name": "Wind Speed",
          "type": 2,
          "unit": "mph"
         }
        },
        "locations": {
         "Montrose/Delta, CO": {
          "address": "Delta Clos, Lilydale VIC 3140, Australia",
          "alerts": null,
          "currentConditions": null,
          "distance": 0,
          "id": "Montrose/Delta, CO",
          "index": 0,
          "latitude": -37.7425,
          "longitude": 145.35,
          "name": "Delta Clos, Lilydale VIC 3140, Australia",
          "stationContributions": null,
          "time": 0,
          "values": [
           {
            "cloudcover": 6.2,
            "conditions": "Rain",
            "datetime": 1547769600000,
            "datetimeStr": "2019-01-18T00:00:00+11:00",
            "dew": 62.4,
            "heatindex": 83,
            "humidity": 71.88,
            "info": null,
            "maxt": 82.8,
            "mint": 63.4,
            "precip": 0.08,
            "precipcover": 4.17,
            "sealevelpressure": 1010.2,
            "snowdepth": null,
            "temp": 72.5,
            "visibility": 6,
            "wdir": 189.36,
            "weathertype": null,
            "wgust": 28.9,
            "windchill": null,
            "wspd": 12.4
           },
           {
            "cloudcover": 4.9,
            "conditions": "Rain",
            "datetime": 1547856000000,
            "datetimeStr": "2019-01-19T00:00:00+11:00",
            "dew": 51,
            "heatindex": null,
            "humidity": 63.5,
            "info": null,
            "maxt": 72.3,
            "mint": 57.5,
            "precip": 0.01,
            "precipcover": 4.17,
            "sealevelpressure": 1019.6,
            "snowdepth": null,
            "temp": 64.5,
            "visibility": 6.2,
            "wdir": 195.79,
            "weathertype": null,
            "wgust": null,
            "windchill": null,
            "wspd": 13.3
           }
          ]
         }
        },
        "messages": [
         "This is a preview of the first 2 rows.You have exceeded the maximum number of daily result records for your account. Add a credit card to your account to increase the number of available free records."
        ],
        "queryCost": 2,
        "remainingCost": 0
       },
       {
        "columns": {
         "address": {
          "id": "address",
          "name": "Address",
          "type": 1,
          "unit": null
         },
         "cloudcover": {
          "id": "cloudcover",
          "name": "Cloud Cover",
          "type": 2,
          "unit": "%"
         },
         "conditions": {
          "id": "conditions",
          "name": "Conditions",
          "type": 1,
          "unit": null
         },
         "datetime": {
          "id": "datetime",
          "name": "Date time",
          "type": 3,
          "unit": null
         },
         "dew": {
          "id": "dew",
          "name": "Dew Point",
          "type": 2,
          "unit": "degF"
         },
         "heatindex": {
          "id": "heatindex",
          "name": "Heat Index",
          "type": 2,
          "unit": "degF"
         },
         "humidity": {
          "id": "humidity",
          "name": "Relative Humidity",
          "type": 2,
          "unit": "%"
         },
         "info": {
          "id": "info",
          "name": "Info",
          "type": 1,
          "unit": null
         },
         "latitude": {
          "id": "latitude",
          "name": "Latitude",
          "type": 2,
          "unit": null
         },
         "longitude": {
          "id": "longitude",
          "name": "Longitude",
          "type": 2,
          "unit": null
         },
         "maxt": {
          "id": "maxt",
          "name": "Maximum Temperature",
          "type": 2,
          "unit": "degF"
         },
         "mint": {
          "id": "mint",
          "name": "Minimum Temperature",
          "type": 2,
          "unit": "degF"
         },
         "name": {
          "id": "name",
          "name": "Name",
          "type": 1,
          "unit": null
         },
         "precip": {
          "id": "precip",
          "name": "Precipitation",
          "type": 2,
          "unit": "in"
         },
         "precipcover": {
          "id": "precipcover",
          "name": "Precipitation Cover",
          "type": 2,
          "unit": "%"
         },
         "resolvedAddress": {
          "id": "resolvedAddress",
          "name": "Resolved Address",
          "type": 1,
          "unit": null
         },
         "sealevelpressure": {
          "id": "sealevelpressure",
          "name": "Sea Level Pressure",
          "type": 2,
          "unit": "Pa"
         },
         "snowdepth": {
          "id": "snowdepth",
          "name": "Snow Depth",
          "type": 2,
          "unit": "in"
         },
         "temp": {
          "id": "temp",
          "name": "Temperature",
          "type": 2,
          "unit": "degF"
         },
         "visibility": {
          "id": "visibility",
          "name": "Visibility",
          "type": 2,
          "unit": "mi"
         },
         "wdir": {
          "id": "wdir",
          "name": "Wind Direction",
          "type": 2,
          "unit": null
         },
         "weathertype": {
          "id": "weathertype",
          "name": "Weather Type",
          "type": 1,
          "unit": null
         },
         "wgust": {
          "id": "wgust",
          "name": "Wind Gust",
          "type": 2,
          "unit": "mph"
         },
         "windchill": {
          "id": "windchill",
          "name": "Wind Chill",
          "type": 2,
          "unit": "degF"
         },
         "wspd": {
          "id": "wspd",
          "name": "Wind Speed",
          "type": 2,
          "unit": "mph"
         }
        },
        "locations": {
         "Birmingham, AL": {
          "address": "birmingham, al",
          "alerts": null,
          "currentConditions": null,
          "distance": 0,
          "id": "Birmingham, AL",
          "index": 0,
          "latitude": 33.5207,
          "longitude": -86.8118,
          "name": "birmingham, al",
          "stationContributions": null,
          "time": 0,
          "values": [
           {
            "cloudcover": 37.1,
            "conditions": "Partially cloudy",
            "datetime": 1514764800000,
            "datetimeStr": "2018-01-01T00:00:00-06:00",
            "dew": 5,
            "heatindex": null,
            "humidity": 52.84,
            "info": null,
            "maxt": 26.9,
            "mint": 15.2,
            "precip": 0,
            "precipcover": 0,
            "sealevelpressure": 1036.4,
            "snowdepth": null,
            "temp": 19.8,
            "visibility": 9.9,
            "wdir": 270,
            "weathertype": null,
            "wgust": null,
            "windchill": -0.5,
            "wspd": 18.3
           },
           {
            "cloudcover": 33.5,
            "conditions": "Partially cloudy",
            "datetime": 1514851200000,
            "datetimeStr": "2018-01-02T00:00:00-06:00",
            "dew": 5.7,
            "heatindex": null,
            "humidity": 50.59,
            "info": null,
            "maxt": 33.2,
            "mint": 11,
            "precip": 0,
            "precipcover": 0,
            "sealevelpressure": 1035,
            "snowdepth": null,
            "temp": 22.5,
            "visibility": 9.9,
            "wdir": 235.29,
            "weathertype": null,
            "wgust": null,
            "windchill": 0.3,
            "wspd": 8.1
           }
          ]
         }
        },
        "messages": [
         "This is a preview of the first 2 rows.You have exceeded the maximum number of daily result records for your account. Add a credit card to your account to increase the number of available free records."
        ],
        "queryCost": 2,
        "remainingCost": 0
       },
       {
        "columns": {
         "address": {
          "id": "address",
          "name": "Address",
          "type": 1,
          "unit": null
         },
         "cloudcover": {
          "id": "cloudcover",
          "name": "Cloud Cover",
          "type": 2,
          "unit": "%"
         },
         "conditions": {
          "id": "conditions",
          "name": "Conditions",
          "type": 1,
          "unit": null
         },
         "datetime": {
          "id": "datetime",
          "name": "Date time",
          "type": 3,
          "unit": null
         },
         "dew": {
          "id": "dew",
          "name": "Dew Point",
          "type": 2,
          "unit": "degF"
         },
         "heatindex": {
          "id": "heatindex",
          "name": "Heat Index",
          "type": 2,
          "unit": "degF"
         },
         "humidity": {
          "id": "humidity",
          "name": "Relative Humidity",
          "type": 2,
          "unit": "%"
         },
         "info": {
          "id": "info",
          "name": "Info",
          "type": 1,
          "unit": null
         },
         "latitude": {
          "id": "latitude",
          "name": "Latitude",
          "type": 2,
          "unit": null
         },
         "longitude": {
          "id": "longitude",
          "name": "Longitude",
          "type": 2,
          "unit": null
         },
         "maxt": {
          "id": "maxt",
          "name": "Maximum Temperature",
          "type": 2,
          "unit": "degF"
         },
         "mint": {
          "id": "mint",
          "name": "Minimum Temperature",
          "type": 2,
          "unit": "degF"
         },
         "name": {
          "id": "name",
          "name": "Name",
          "type": 1,
          "unit": null
         },
         "precip": {
          "id": "precip",
          "name": "Precipitation",
          "type": 2,
          "unit": "in"
         },
         "precipcover": {
          "id": "precipcover",
          "name": "Precipitation Cover",
          "type": 2,
          "unit": "%"
         },
         "resolvedAddress": {
          "id": "resolvedAddress",
          "name": "Resolved Address",
          "type": 1,
          "unit": null
         },
         "sealevelpressure": {
          "id": "sealevelpressure",
          "name": "Sea Level Pressure",
          "type": 2,
          "unit": "Pa"
         },
         "snowdepth": {
          "id": "snowdepth",
          "name": "Snow Depth",
          "type": 2,
          "unit": "in"
         },
         "temp": {
          "id": "temp",
          "name": "Temperature",
          "type": 2,
          "unit": "degF"
         },
         "visibility": {
          "id": "visibility",
          "name": "Visibility",
          "type": 2,
          "unit": "mi"
         },
         "wdir": {
          "id": "wdir",
          "name": "Wind Direction",
          "type": 2,
          "unit": null
         },
         "weathertype": {
          "id": "weathertype",
          "name": "Weather Type",
          "type": 1,
          "unit": null
         },
         "wgust": {
          "id": "wgust",
          "name": "Wind Gust",
          "type": 2,
          "unit": "mph"
         },
         "windchill": {
          "id": "windchill",
          "name": "Wind Chill",
          "type": 2,
          "unit": "degF"
         },
         "wspd": {
          "id": "wspd",
          "name": "Wind Speed",
          "type": 2,
          "unit": "mph"
         }
        },
        "locations": {
         "St. Petersburg, FL": {
          "address": "St Petersburg, FL, United States",
          "alerts": null,
          "currentConditions": null,
          "distance": 0,
          "id": "St. Petersburg, FL",
          "index": 0,
          "latitude": 27.7712,
          "longitude": -82.6388,
          "name": "St Petersburg, FL, United States",
          "stationContributions": null,
          "time": 0,
          "values": [
           {
            "cloudcover": 20.2,
            "conditions": "Clear",
            "datetime": 1548115200000,
            "datetimeStr": "2019-01-22T00:00:00-05:00",
            "dew": 53.1,
            "heatindex": null,
            "humidity": 75.39,
            "info": null,
            "maxt": 71.1,
            "mint": 53.1,
            "precip": 0,
            "precipcover": 0,
            "sealevelpressure": 1026.5,
            "snowdepth": null,
            "temp": 61.2,
            "visibility": 9.9,
            "wdir": 84.58,
            "weathertype": null,
            "wgust": null,
            "windchill": null,
            "wspd": 17.2
           },
           {
            "cloudcover": 45.3,
            "conditions": "Partially cloudy",
            "datetime": 1548201600000,
            "datetimeStr": "2019-01-23T00:00:00-05:00",
            "dew": 58.9,
            "heatindex": null,
            "humidity": 74.36,
            "info": null,
            "maxt": 75.8,
            "mint": 61.1,
            "precip": 0,
            "precipcover": 0,
            "sealevelpressure": 1019.3,
            "snowdepth": null,
            "temp": 67.6,
            "visibility": 9.9,
            "wdir": 143.75,
            "weathertype": null,
            "wgust": 26.4,
            "windchill": null,
            "wspd": 19.7
           }
          ]
         }
        },
        "messages": [
         "This is a preview of the first 2 rows.You have exceeded the maximum number of daily result records for your account. Add a credit card to your account to increase the number of available free records."
        ],
        "queryCost": 2,
        "remainingCost": 0
       },
       {
        "columns": {
         "address": {
          "id": "address",
          "name": "Address",
          "type": 1,
          "unit": null
         },
         "cloudcover": {
          "id": "cloudcover",
          "name": "Cloud Cover",
          "type": 2,
          "unit": "%"
         },
         "conditions": {
          "id": "conditions",
          "name": "Conditions",
          "type": 1,
          "unit": null
         },
         "datetime": {
          "id": "datetime",
          "name": "Date time",
          "type": 3,
          "unit": null
         },
         "dew": {
          "id": "dew",
          "name": "Dew Point",
          "type": 2,
          "unit": "degF"
         },
         "heatindex": {
          "id": "heatindex",
          "name": "Heat Index",
          "type": 2,
          "unit": "degF"
         },
         "humidity": {
          "id": "humidity",
          "name": "Relative Humidity",
          "type": 2,
          "unit": "%"
         },
         "info": {
          "id": "info",
          "name": "Info",
          "type": 1,
          "unit": null
         },
         "latitude": {
          "id": "latitude",
          "name": "Latitude",
          "type": 2,
          "unit": null
         },
         "longitude": {
          "id": "longitude",
          "name": "Longitude",
          "type": 2,
          "unit": null
         },
         "maxt": {
          "id": "maxt",
          "name": "Maximum Temperature",
          "type": 2,
          "unit": "degF"
         },
         "mint": {
          "id": "mint",
          "name": "Minimum Temperature",
          "type": 2,
          "unit": "degF"
         },
         "name": {
          "id": "name",
          "name": "Name",
          "type": 1,
          "unit": null
         },
         "precip": {
          "id": "precip",
          "name": "Precipitation",
          "type": 2,
          "unit": "in"
         },
         "precipcover": {
          "id": "precipcover",
          "name": "Precipitation Cover",
          "type": 2,
          "unit": "%"
         },
         "resolvedAddress": {
          "id": "resolvedAddress",
          "name": "Resolved Address",
          "type": 1,
          "unit": null
         },
         "sealevelpressure": {
          "id": "sealevelpressure",
          "name": "Sea Level Pressure",
          "type": 2,
          "unit": "Pa"
         },
         "snowdepth": {
          "id": "snowdepth",
          "name": "Snow Depth",
          "type": 2,
          "unit": "in"
         },
         "temp": {
          "id": "temp",
          "name": "Temperature",
          "type": 2,
          "unit": "degF"
         },
         "visibility": {
          "id": "visibility",
          "name": "Visibility",
          "type": 2,
          "unit": "mi"
         },
         "wdir": {
          "id": "wdir",
          "name": "Wind Direction",
          "type": 2,
          "unit": null
         },
         "weathertype": {
          "id": "weathertype",
          "name": "Weather Type",
          "type": 1,
          "unit": null
         },
         "wgust": {
          "id": "wgust",
          "name": "Wind Gust",
          "type": 2,
          "unit": "mph"
         },
         "windchill": {
          "id": "windchill",
          "name": "Wind Chill",
          "type": 2,
          "unit": "degF"
         },
         "wspd": {
          "id": "wspd",
          "name": "Wind Speed",
          "type": 2,
          "unit": "mph"
         }
        },
        "locations": {
         "Hattiesburg/Laurel, MS": {
          "address": "E Laurel Ave, Hattiesburg, MS 39401, United States",
          "alerts": null,
          "currentConditions": null,
          "distance": 0,
          "id": "Hattiesburg/Laurel, MS",
          "index": 0,
          "latitude": 31.3232,
          "longitude": -89.2818,
          "name": "E Laurel Ave, Hattiesburg, MS 39401, United States",
          "stationContributions": null,
          "time": 0,
          "values": [
           {
            "cloudcover": 0,
            "conditions": "Clear",
            "datetime": 1548374400000,
            "datetimeStr": "2019-01-25T00:00:00-06:00",
            "dew": 31.1,
            "heatindex": null,
            "humidity": 73.34,
            "info": null,
            "maxt": 56.9,
            "mint": 29,
            "precip": 0,
            "precipcover": 0,
            "sealevelpressure": 1026.9,
            "snowdepth": null,
            "temp": 40.5,
            "visibility": 9.9,
            "wdir": 36.32,
            "weathertype": null,
            "wgust": null,
            "windchill": 35.5,
            "wspd": 10.3
           },
           {
            "cloudcover": 7,
            "conditions": "Clear",
            "datetime": 1548460800000,
            "datetimeStr": "2019-01-26T00:00:00-06:00",
            "dew": 33,
            "heatindex": null,
            "humidity": 71.54,
            "info": null,
            "maxt": 60.2,
            "mint": 28.1,
            "precip": 0,
            "precipcover": 0,
            "sealevelpressure": 1024.7,
            "snowdepth": null,
            "temp": 43.5,
            "visibility": 9.3,
            "wdir": 32.92,
            "weathertype": null,
            "wgust": null,
            "windchill": 42.6,
            "wspd": 8.1
           }
          ]
         }
        },
        "messages": [
         "This is a preview of the first 2 rows.You have exceeded the maximum number of daily result records for your account. Add a credit card to your account to increase the number of available free records."
        ],
        "queryCost": 2,
        "remainingCost": 0
       },
       {
        "columns": {
         "address": {
          "id": "address",
          "name": "Address",
          "type": 1,
          "unit": null
         },
         "cloudcover": {
          "id": "cloudcover",
          "name": "Cloud Cover",
          "type": 2,
          "unit": "%"
         },
         "conditions": {
          "id": "conditions",
          "name": "Conditions",
          "type": 1,
          "unit": null
         },
         "datetime": {
          "id": "datetime",
          "name": "Date time",
          "type": 3,
          "unit": null
         },
         "dew": {
          "id": "dew",
          "name": "Dew Point",
          "type": 2,
          "unit": "degF"
         },
         "heatindex": {
          "id": "heatindex",
          "name": "Heat Index",
          "type": 2,
          "unit": "degF"
         },
         "humidity": {
          "id": "humidity",
          "name": "Relative Humidity",
          "type": 2,
          "unit": "%"
         },
         "info": {
          "id": "info",
          "name": "Info",
          "type": 1,
          "unit": null
         },
         "latitude": {
          "id": "latitude",
          "name": "Latitude",
          "type": 2,
          "unit": null
         },
         "longitude": {
          "id": "longitude",
          "name": "Longitude",
          "type": 2,
          "unit": null
         },
         "maxt": {
          "id": "maxt",
          "name": "Maximum Temperature",
          "type": 2,
          "unit": "degF"
         },
         "mint": {
          "id": "mint",
          "name": "Minimum Temperature",
          "type": 2,
          "unit": "degF"
         },
         "name": {
          "id": "name",
          "name": "Name",
          "type": 1,
          "unit": null
         },
         "precip": {
          "id": "precip",
          "name": "Precipitation",
          "type": 2,
          "unit": "in"
         },
         "precipcover": {
          "id": "precipcover",
          "name": "Precipitation Cover",
          "type": 2,
          "unit": "%"
         },
         "resolvedAddress": {
          "id": "resolvedAddress",
          "name": "Resolved Address",
          "type": 1,
          "unit": null
         },
         "sealevelpressure": {
          "id": "sealevelpressure",
          "name": "Sea Level Pressure",
          "type": 2,
          "unit": "Pa"
         },
         "snowdepth": {
          "id": "snowdepth",
          "name": "Snow Depth",
          "type": 2,
          "unit": "in"
         },
         "temp": {
          "id": "temp",
          "name": "Temperature",
          "type": 2,
          "unit": "degF"
         },
         "visibility": {
          "id": "visibility",
          "name": "Visibility",
          "type": 2,
          "unit": "mi"
         },
         "wdir": {
          "id": "wdir",
          "name": "Wind Direction",
          "type": 2,
          "unit": null
         },
         "weathertype": {
          "id": "weathertype",
          "name": "Weather Type",
          "type": 1,
          "unit": null
         },
         "wgust": {
          "id": "wgust",
          "name": "Wind Gust",
          "type": 2,
          "unit": "mph"
         },
         "windchill": {
          "id": "windchill",
          "name": "Wind Chill",
          "type": 2,
          "unit": "degF"
         },
         "wspd": {
          "id": "wspd",
          "name": "Wind Speed",
          "type": 2,
          "unit": "mph"
         }
        },
        "locations": {
         "Moab, UT": {
          "address": "Moab, UT",
          "alerts": null,
          "currentConditions": null,
          "distance": 0,
          "id": "Moab, UT",
          "index": 0,
          "latitude": 38.5733,
          "longitude": -109.549,
          "name": "Moab, UT",
          "stationContributions": null,
          "time": 0,
          "values": [
           {
            "cloudcover": 7.4,
            "conditions": "Clear",
            "datetime": 1548633600000,
            "datetimeStr": "2019-01-28T00:00:00-07:00",
            "dew": 22.2,
            "heatindex": null,
            "humidity": 73.05,
            "info": null,
            "maxt": 41,
            "mint": 20,
            "precip": 0,
            "precipcover": 0,
            "sealevelpressure": 1023.6,
            "snowdepth": null,
            "temp": 30.5,
            "visibility": 9.9,
            "wdir": 124.58,
            "weathertype": null,
            "wgust": 19.7,
            "windchill": 12.6,
            "wspd": 13.9
           },
           {
            "cloudcover": 0,
            "conditions": "Clear",
            "datetime": 1548720000000,
            "datetimeStr": "2019-01-29T00:00:00-07:00",
            "dew": 19.4,
            "heatindex": null,
            "humidity": 67.34,
            "info": null,
            "maxt": 35.1,
            "mint": 25.1,
            "precip": 0,
            "precipcover": 0,
            "sealevelpressure": 1022,
            "snowdepth": null,
            "temp": 29.2,
            "visibility": 9.9,
            "wdir": 139.58,
            "weathertype": null,
            "wgust": null,
            "windchill": 17.6,
            "wspd": 10.3
           }
          ]
         }
        },
        "messages": [
         "This is a preview of the first 2 rows.You have exceeded the maximum number of daily result records for your account. Add a credit card to your account to increase the number of available free records."
        ],
        "queryCost": 2,
        "remainingCost": 0
       },
       {
        "columns": {
         "address": {
          "id": "address",
          "name": "Address",
          "type": 1,
          "unit": null
         },
         "cloudcover": {
          "id": "cloudcover",
          "name": "Cloud Cover",
          "type": 2,
          "unit": "%"
         },
         "conditions": {
          "id": "conditions",
          "name": "Conditions",
          "type": 1,
          "unit": null
         },
         "datetime": {
          "id": "datetime",
          "name": "Date time",
          "type": 3,
          "unit": null
         },
         "dew": {
          "id": "dew",
          "name": "Dew Point",
          "type": 2,
          "unit": "degF"
         },
         "heatindex": {
          "id": "heatindex",
          "name": "Heat Index",
          "type": 2,
          "unit": "degF"
         },
         "humidity": {
          "id": "humidity",
          "name": "Relative Humidity",
          "type": 2,
          "unit": "%"
         },
         "info": {
          "id": "info",
          "name": "Info",
          "type": 1,
          "unit": null
         },
         "latitude": {
          "id": "latitude",
          "name": "Latitude",
          "type": 2,
          "unit": null
         },
         "longitude": {
          "id": "longitude",
          "name": "Longitude",
          "type": 2,
          "unit": null
         },
         "maxt": {
          "id": "maxt",
          "name": "Maximum Temperature",
          "type": 2,
          "unit": "degF"
         },
         "mint": {
          "id": "mint",
          "name": "Minimum Temperature",
          "type": 2,
          "unit": "degF"
         },
         "name": {
          "id": "name",
          "name": "Name",
          "type": 1,
          "unit": null
         },
         "precip": {
          "id": "precip",
          "name": "Precipitation",
          "type": 2,
          "unit": "in"
         },
         "precipcover": {
          "id": "precipcover",
          "name": "Precipitation Cover",
          "type": 2,
          "unit": "%"
         },
         "resolvedAddress": {
          "id": "resolvedAddress",
          "name": "Resolved Address",
          "type": 1,
          "unit": null
         },
         "sealevelpressure": {
          "id": "sealevelpressure",
          "name": "Sea Level Pressure",
          "type": 2,
          "unit": "Pa"
         },
         "snowdepth": {
          "id": "snowdepth",
          "name": "Snow Depth",
          "type": 2,
          "unit": "in"
         },
         "temp": {
          "id": "temp",
          "name": "Temperature",
          "type": 2,
          "unit": "degF"
         },
         "visibility": {
          "id": "visibility",
          "name": "Visibility",
          "type": 2,
          "unit": "mi"
         },
         "wdir": {
          "id": "wdir",
          "name": "Wind Direction",
          "type": 2,
          "unit": null
         },
         "weathertype": {
          "id": "weathertype",
          "name": "Weather Type",
          "type": 1,
          "unit": null
         },
         "wgust": {
          "id": "wgust",
          "name": "Wind Gust",
          "type": 2,
          "unit": "mph"
         },
         "windchill": {
          "id": "windchill",
          "name": "Wind Chill",
          "type": 2,
          "unit": "degF"
         },
         "wspd": {
          "id": "wspd",
          "name": "Wind Speed",
          "type": 2,
          "unit": "mph"
         }
        },
        "locations": {
         "New Orleans, LA": {
          "address": "New Orleans, La",
          "alerts": null,
          "currentConditions": null,
          "distance": 0,
          "id": "New Orleans, LA",
          "index": 0,
          "latitude": 29.9537,
          "longitude": -90.0778,
          "name": "New Orleans, La",
          "stationContributions": null,
          "time": 0,
          "values": [
           {
            "cloudcover": 31.8,
            "conditions": "Rain, Partially cloudy",
            "datetime": 1515715200000,
            "datetimeStr": "2018-01-12T00:00:00-06:00",
            "dew": 40.3,
            "heatindex": null,
            "humidity": 82.88,
            "info": null,
            "maxt": 59.5,
            "mint": 36.8,
            "precip": 0.21,
            "precipcover": 8.33,
            "sealevelpressure": 1014.8,
            "snowdepth": null,
            "temp": 45.2,
            "visibility": 9.1,
            "wdir": 303.67,
            "weathertype": null,
            "wgust": 29.6,
            "windchill": 25.7,
            "wspd": 22.3
           },
           {
            "cloudcover": 10.6,
            "conditions": "Clear",
            "datetime": 1515801600000,
            "datetimeStr": "2018-01-13T00:00:00-06:00",
            "dew": 26.5,
            "heatindex": null,
            "humidity": 64.17,
            "info": null,
            "maxt": 43.4,
            "mint": 34.3,
            "precip": 0,
            "precipcover": 0,
            "sealevelpressure": 1029.9,
            "snowdepth": null,
            "temp": 37.8,
            "visibility": 9.9,
            "wdir": 225.75,
            "weathertype": null,
            "wgust": 29.5,
            "windchill": 23.4,
            "wspd": 23.4
           }
          ]
         }
        },
        "messages": [
         "This is a preview of the first 2 rows.You have exceeded the maximum number of daily result records for your account. Add a credit card to your account to increase the number of available free records."
        ],
        "queryCost": 2,
        "remainingCost": 0
       },
       {
        "columns": {
         "address": {
          "id": "address",
          "name": "Address",
          "type": 1,
          "unit": null
         },
         "cloudcover": {
          "id": "cloudcover",
          "name": "Cloud Cover",
          "type": 2,
          "unit": "%"
         },
         "conditions": {
          "id": "conditions",
          "name": "Conditions",
          "type": 1,
          "unit": null
         },
         "datetime": {
          "id": "datetime",
          "name": "Date time",
          "type": 3,
          "unit": null
         },
         "dew": {
          "id": "dew",
          "name": "Dew Point",
          "type": 2,
          "unit": "degF"
         },
         "heatindex": {
          "id": "heatindex",
          "name": "Heat Index",
          "type": 2,
          "unit": "degF"
         },
         "humidity": {
          "id": "humidity",
          "name": "Relative Humidity",
          "type": 2,
          "unit": "%"
         },
         "info": {
          "id": "info",
          "name": "Info",
          "type": 1,
          "unit": null
         },
         "latitude": {
          "id": "latitude",
          "name": "Latitude",
          "type": 2,
          "unit": null
         },
         "longitude": {
          "id": "longitude",
          "name": "Longitude",
          "type": 2,
          "unit": null
         },
         "maxt": {
          "id": "maxt",
          "name": "Maximum Temperature",
          "type": 2,
          "unit": "degF"
         },
         "mint": {
          "id": "mint",
          "name": "Minimum Temperature",
          "type": 2,
          "unit": "degF"
         },
         "name": {
          "id": "name",
          "name": "Name",
          "type": 1,
          "unit": null
         },
         "precip": {
          "id": "precip",
          "name": "Precipitation",
          "type": 2,
          "unit": "in"
         },
         "precipcover": {
          "id": "precipcover",
          "name": "Precipitation Cover",
          "type": 2,
          "unit": "%"
         },
         "resolvedAddress": {
          "id": "resolvedAddress",
          "name": "Resolved Address",
          "type": 1,
          "unit": null
         },
         "sealevelpressure": {
          "id": "sealevelpressure",
          "name": "Sea Level Pressure",
          "type": 2,
          "unit": "Pa"
         },
         "snowdepth": {
          "id": "snowdepth",
          "name": "Snow Depth",
          "type": 2,
          "unit": "in"
         },
         "temp": {
          "id": "temp",
          "name": "Temperature",
          "type": 2,
          "unit": "degF"
         },
         "visibility": {
          "id": "visibility",
          "name": "Visibility",
          "type": 2,
          "unit": "mi"
         },
         "wdir": {
          "id": "wdir",
          "name": "Wind Direction",
          "type": 2,
          "unit": null
         },
         "weathertype": {
          "id": "weathertype",
          "name": "Weather Type",
          "type": 1,
          "unit": null
         },
         "wgust": {
          "id": "wgust",
          "name": "Wind Gust",
          "type": 2,
          "unit": "mph"
         },
         "windchill": {
          "id": "windchill",
          "name": "Wind Chill",
          "type": 2,
          "unit": "degF"
         },
         "wspd": {
          "id": "wspd",
          "name": "Wind Speed",
          "type": 2,
          "unit": "mph"
         }
        },
        "locations": {
         "Ketchikan, AK": {
          "address": "Ketchikan, AK, United States",
          "alerts": null,
          "currentConditions": null,
          "distance": 0,
          "id": "Ketchikan, AK",
          "index": 0,
          "latitude": 55.3421,
          "longitude": -131.648,
          "name": "Ketchikan, AK, United States",
          "stationContributions": null,
          "time": 0,
          "values": [
           {
            "cloudcover": 74,
            "conditions": "Rain, Partially cloudy",
            "datetime": 1516579200000,
            "datetimeStr": "2018-01-22T00:00:00-09:00",
            "dew": 33.9,
            "heatindex": null,
            "humidity": 87.83,
            "info": null,
            "maxt": 41,
            "mint": 35,
            "precip": 0.22,
            "precipcover": 29.17,
            "sealevelpressure": 1009.5,
            "snowdepth": null,
            "temp": 37.2,
            "visibility": 9.2,
            "wdir": 155.08,
            "weathertype": null,
            "wgust": 19.7,
            "windchill": 29,
            "wspd": 13
           },
           {
            "cloudcover": 81.3,
            "conditions": "Rain, Overcast",
            "datetime": 1516665600000,
            "datetimeStr": "2018-01-23T00:00:00-09:00",
            "dew": 29.7,
            "heatindex": null,
            "humidity": 70.79,
            "info": null,
            "maxt": 43.8,
            "mint": 35.9,
            "precip": 0.2,
            "precipcover": 25,
            "sealevelpressure": 1001.1,
            "snowdepth": null,
            "temp": 38.9,
            "visibility": 9.8,
            "wdir": 166,
            "weathertype": null,
            "wgust": 34.4,
            "windchill": 31.1,
            "wspd": 13.8
           }
          ]
         }
        },
        "messages": [
         "This is a preview of the first 2 rows.You have exceeded the maximum number of daily result records for your account. Add a credit card to your account to increase the number of available free records."
        ],
        "queryCost": 2,
        "remainingCost": 0
       },
       {
        "columns": {
         "address": {
          "id": "address",
          "name": "Address",
          "type": 1,
          "unit": null
         },
         "cloudcover": {
          "id": "cloudcover",
          "name": "Cloud Cover",
          "type": 2,
          "unit": "%"
         },
         "conditions": {
          "id": "conditions",
          "name": "Conditions",
          "type": 1,
          "unit": null
         },
         "datetime": {
          "id": "datetime",
          "name": "Date time",
          "type": 3,
          "unit": null
         },
         "dew": {
          "id": "dew",
          "name": "Dew Point",
          "type": 2,
          "unit": "degF"
         },
         "heatindex": {
          "id": "heatindex",
          "name": "Heat Index",
          "type": 2,
          "unit": "degF"
         },
         "humidity": {
          "id": "humidity",
          "name": "Relative Humidity",
          "type": 2,
          "unit": "%"
         },
         "info": {
          "id": "info",
          "name": "Info",
          "type": 1,
          "unit": null
         },
         "latitude": {
          "id": "latitude",
          "name": "Latitude",
          "type": 2,
          "unit": null
         },
         "longitude": {
          "id": "longitude",
          "name": "Longitude",
          "type": 2,
          "unit": null
         },
         "maxt": {
          "id": "maxt",
          "name": "Maximum Temperature",
          "type": 2,
          "unit": "degF"
         },
         "mint": {
          "id": "mint",
          "name": "Minimum Temperature",
          "type": 2,
          "unit": "degF"
         },
         "name": {
          "id": "name",
          "name": "Name",
          "type": 1,
          "unit": null
         },
         "precip": {
          "id": "precip",
          "name": "Precipitation",
          "type": 2,
          "unit": "in"
         },
         "precipcover": {
          "id": "precipcover",
          "name": "Precipitation Cover",
          "type": 2,
          "unit": "%"
         },
         "resolvedAddress": {
          "id": "resolvedAddress",
          "name": "Resolved Address",
          "type": 1,
          "unit": null
         },
         "sealevelpressure": {
          "id": "sealevelpressure",
          "name": "Sea Level Pressure",
          "type": 2,
          "unit": "Pa"
         },
         "snowdepth": {
          "id": "snowdepth",
          "name": "Snow Depth",
          "type": 2,
          "unit": "in"
         },
         "temp": {
          "id": "temp",
          "name": "Temperature",
          "type": 2,
          "unit": "degF"
         },
         "visibility": {
          "id": "visibility",
          "name": "Visibility",
          "type": 2,
          "unit": "mi"
         },
         "wdir": {
          "id": "wdir",
          "name": "Wind Direction",
          "type": 2,
          "unit": null
         },
         "weathertype": {
          "id": "weathertype",
          "name": "Weather Type",
          "type": 1,
          "unit": null
         },
         "wgust": {
          "id": "wgust",
          "name": "Wind Gust",
          "type": 2,
          "unit": "mph"
         },
         "windchill": {
          "id": "windchill",
          "name": "Wind Chill",
          "type": 2,
          "unit": "degF"
         },
         "wspd": {
          "id": "wspd",
          "name": "Wind Speed",
          "type": 2,
          "unit": "mph"
         }
        },
        "locations": {
         "Cedar Rapids/Iowa City, IA": {
          "address": "Cedar St, Iowa City, IA 52245, United States",
          "alerts": null,
          "currentConditions": null,
          "distance": 0,
          "id": "Cedar Rapids/Iowa City, IA",
          "index": 0,
          "latitude": 41.6665,
          "longitude": -91.5151,
          "name": "Cedar St, Iowa City, IA 52245, United States",
          "stationContributions": null,
          "time": 0,
          "values": [
           {
            "cloudcover": 4.9,
            "conditions": "Clear",
            "datetime": 1546992000000,
            "datetimeStr": "2019-01-09T00:00:00-06:00",
            "dew": 7.7,
            "heatindex": null,
            "humidity": 58.77,
            "info": null,
            "maxt": 24.2,
            "mint": 16.1,
            "precip": 0,
            "precipcover": 0,
            "sealevelpressure": 1030.7,
            "snowdepth": null,
            "temp": 19.9,
            "visibility": 9.9,
            "wdir": 313.33,
            "weathertype": null,
            "wgust": 36.9,
            "windchill": -1.2,
            "wspd": 21.9
           },
           {
            "cloudcover": 2.3,
            "conditions": "Clear",
            "datetime": 1547078400000,
            "datetimeStr": "2019-01-10T00:00:00-06:00",
            "dew": 11.3,
            "heatindex": null,
            "humidity": 65.52,
            "info": null,
            "maxt": 28.1,
            "mint": 16.1,
            "precip": 0,
            "precipcover": 0,
            "sealevelpressure": 1030.7,
            "snowdepth": null,
            "temp": 21.2,
            "visibility": 9.9,
            "wdir": 115.91,
            "weathertype": null,
            "wgust": null,
            "windchill": 7.5,
            "wspd": 8.1
           }
          ]
         }
        },
        "messages": [
         "This is a preview of the first 2 rows.You have exceeded the maximum number of daily result records for your account. Add a credit card to your account to increase the number of available free records."
        ],
        "queryCost": 2,
        "remainingCost": 0
       },
       {
        "columns": {
         "address": {
          "id": "address",
          "name": "Address",
          "type": 1,
          "unit": null
         },
         "cloudcover": {
          "id": "cloudcover",
          "name": "Cloud Cover",
          "type": 2,
          "unit": "%"
         },
         "conditions": {
          "id": "conditions",
          "name": "Conditions",
          "type": 1,
          "unit": null
         },
         "datetime": {
          "id": "datetime",
          "name": "Date time",
          "type": 3,
          "unit": null
         },
         "dew": {
          "id": "dew",
          "name": "Dew Point",
          "type": 2,
          "unit": "degF"
         },
         "heatindex": {
          "id": "heatindex",
          "name": "Heat Index",
          "type": 2,
          "unit": "degF"
         },
         "humidity": {
          "id": "humidity",
          "name": "Relative Humidity",
          "type": 2,
          "unit": "%"
         },
         "info": {
          "id": "info",
          "name": "Info",
          "type": 1,
          "unit": null
         },
         "latitude": {
          "id": "latitude",
          "name": "Latitude",
          "type": 2,
          "unit": null
         },
         "longitude": {
          "id": "longitude",
          "name": "Longitude",
          "type": 2,
          "unit": null
         },
         "maxt": {
          "id": "maxt",
          "name": "Maximum Temperature",
          "type": 2,
          "unit": "degF"
         },
         "mint": {
          "id": "mint",
          "name": "Minimum Temperature",
          "type": 2,
          "unit": "degF"
         },
         "name": {
          "id": "name",
          "name": "Name",
          "type": 1,
          "unit": null
         },
         "precip": {
          "id": "precip",
          "name": "Precipitation",
          "type": 2,
          "unit": "in"
         },
         "precipcover": {
          "id": "precipcover",
          "name": "Precipitation Cover",
          "type": 2,
          "unit": "%"
         },
         "resolvedAddress": {
          "id": "resolvedAddress",
          "name": "Resolved Address",
          "type": 1,
          "unit": null
         },
         "sealevelpressure": {
          "id": "sealevelpressure",
          "name": "Sea Level Pressure",
          "type": 2,
          "unit": "Pa"
         },
         "snowdepth": {
          "id": "snowdepth",
          "name": "Snow Depth",
          "type": 2,
          "unit": "in"
         },
         "temp": {
          "id": "temp",
          "name": "Temperature",
          "type": 2,
          "unit": "degF"
         },
         "visibility": {
          "id": "visibility",
          "name": "Visibility",
          "type": 2,
          "unit": "mi"
         },
         "wdir": {
          "id": "wdir",
          "name": "Wind Direction",
          "type": 2,
          "unit": null
         },
         "weathertype": {
          "id": "weathertype",
          "name": "Weather Type",
          "type": 1,
          "unit": null
         },
         "wgust": {
          "id": "wgust",
          "name": "Wind Gust",
          "type": 2,
          "unit": "mph"
         },
         "windchill": {
          "id": "windchill",
          "name": "Wind Chill",
          "type": 2,
          "unit": "degF"
         },
         "wspd": {
          "id": "wspd",
          "name": "Wind Speed",
          "type": 2,
          "unit": "mph"
         }
        },
        "locations": {
         "Savannah, GA": {
          "address": "Savannah, GA",
          "alerts": null,
          "currentConditions": null,
          "distance": 0,
          "id": "Savannah, GA",
          "index": 0,
          "latitude": 32.0809,
          "longitude": -81.0912,
          "name": "Savannah, GA",
          "stationContributions": null,
          "time": 0,
          "values": [
           {
            "cloudcover": 0,
            "conditions": "Clear",
            "datetime": 1516233600000,
            "datetimeStr": "2018-01-18T00:00:00-05:00",
            "dew": 11.6,
            "heatindex": null,
            "humidity": 43.06,
            "info": null,
            "maxt": 49.6,
            "mint": 23.8,
            "precip": 0,
            "precipcover": 0,
            "sealevelpressure": 1028,
            "snowdepth": null,
            "temp": 33.8,
            "visibility": 9.9,
            "wdir": 297.5,
            "weathertype": null,
            "wgust": null,
            "windchill": 14,
            "wspd": 12.7
           },
           {
            "cloudcover": 3.6,
            "conditions": "Clear",
            "datetime": 1516320000000,
            "datetimeStr": "2018-01-19T00:00:00-05:00",
            "dew": 19.8,
            "heatindex": null,
            "humidity": 48.39,
            "info": null,
            "maxt": 60.7,
            "mint": 26.5,
            "precip": 0,
            "precipcover": 0,
            "sealevelpressure": 1025.5,
            "snowdepth": null,
            "temp": 41.4,
            "visibility": 9.9,
            "wdir": 252.45,
            "weathertype": null,
            "wgust": null,
            "windchill": 21.4,
            "wspd": 9.6
           }
          ]
         }
        },
        "messages": [
         "This is a preview of the first 2 rows.You have exceeded the maximum number of daily result records for your account. Add a credit card to your account to increase the number of available free records."
        ],
        "queryCost": 2,
        "remainingCost": 0
       },
       {
        "columns": {
         "address": {
          "id": "address",
          "name": "Address",
          "type": 1,
          "unit": null
         },
         "cloudcover": {
          "id": "cloudcover",
          "name": "Cloud Cover",
          "type": 2,
          "unit": "%"
         },
         "conditions": {
          "id": "conditions",
          "name": "Conditions",
          "type": 1,
          "unit": null
         },
         "datetime": {
          "id": "datetime",
          "name": "Date time",
          "type": 3,
          "unit": null
         },
         "dew": {
          "id": "dew",
          "name": "Dew Point",
          "type": 2,
          "unit": "degF"
         },
         "heatindex": {
          "id": "heatindex",
          "name": "Heat Index",
          "type": 2,
          "unit": "degF"
         },
         "humidity": {
          "id": "humidity",
          "name": "Relative Humidity",
          "type": 2,
          "unit": "%"
         },
         "info": {
          "id": "info",
          "name": "Info",
          "type": 1,
          "unit": null
         },
         "latitude": {
          "id": "latitude",
          "name": "Latitude",
          "type": 2,
          "unit": null
         },
         "longitude": {
          "id": "longitude",
          "name": "Longitude",
          "type": 2,
          "unit": null
         },
         "maxt": {
          "id": "maxt",
          "name": "Maximum Temperature",
          "type": 2,
          "unit": "degF"
         },
         "mint": {
          "id": "mint",
          "name": "Minimum Temperature",
          "type": 2,
          "unit": "degF"
         },
         "name": {
          "id": "name",
          "name": "Name",
          "type": 1,
          "unit": null
         },
         "precip": {
          "id": "precip",
          "name": "Precipitation",
          "type": 2,
          "unit": "in"
         },
         "precipcover": {
          "id": "precipcover",
          "name": "Precipitation Cover",
          "type": 2,
          "unit": "%"
         },
         "resolvedAddress": {
          "id": "resolvedAddress",
          "name": "Resolved Address",
          "type": 1,
          "unit": null
         },
         "sealevelpressure": {
          "id": "sealevelpressure",
          "name": "Sea Level Pressure",
          "type": 2,
          "unit": "Pa"
         },
         "snowdepth": {
          "id": "snowdepth",
          "name": "Snow Depth",
          "type": 2,
          "unit": "in"
         },
         "temp": {
          "id": "temp",
          "name": "Temperature",
          "type": 2,
          "unit": "degF"
         },
         "visibility": {
          "id": "visibility",
          "name": "Visibility",
          "type": 2,
          "unit": "mi"
         },
         "wdir": {
          "id": "wdir",
          "name": "Wind Direction",
          "type": 2,
          "unit": null
         },
         "weathertype": {
          "id": "weathertype",
          "name": "Weather Type",
          "type": 1,
          "unit": null
         },
         "wgust": {
          "id": "wgust",
          "name": "Wind Gust",
          "type": 2,
          "unit": "mph"
         },
         "windchill": {
          "id": "windchill",
          "name": "Wind Chill",
          "type": 2,
          "unit": "degF"
         },
         "wspd": {
          "id": "wspd",
          "name": "Wind Speed",
          "type": 2,
          "unit": "mph"
         }
        },
        "locations": {
         "Manhattan/Ft. Riley, KS": {
          "address": "Fort Riley Blvd, Manhattan, KS 66502, United States",
          "alerts": null,
          "currentConditions": null,
          "distance": 0,
          "id": "Manhattan/Ft. Riley, KS",
          "index": 0,
          "latitude": 39.1742,
          "longitude": -96.5743,
          "name": "Fort Riley Blvd, Manhattan, KS 66502, United States",
          "stationContributions": null,
          "time": 0,
          "values": [
           {
            "cloudcover": 0,
            "conditions": "Clear",
            "datetime": 1546992000000,
            "datetimeStr": "2019-01-09T00:00:00-06:00",
            "dew": 17.1,
            "heatindex": null,
            "humidity": 58.07,
            "info": null,
            "maxt": 40.4,
            "mint": 23.6,
            "precip": 0,
            "precipcover": 0,
            "sealevelpressure": 1033.8,
            "snowdepth": null,
            "temp": 31.2,
            "visibility": 9.9,
            "wdir": 162.38,
            "weathertype": null,
            "wgust": null,
            "windchill": 17.1,
            "wspd": 12.1
           },
           {
            "cloudcover": 3.5,
            "conditions": "Clear",
            "datetime": 1547078400000,
            "datetimeStr": "2019-01-10T00:00:00-06:00",
            "dew": 21.6,
            "heatindex": null,
            "humidity": 59.82,
            "info": null,
            "maxt": 47.1,
            "mint": 25.2,
            "precip": 0,
            "precipcover": 0,
            "sealevelpressure": 1024.8,
            "snowdepth": null,
            "temp": 34.7,
            "visibility": 9.9,
            "wdir": 112.71,
            "weathertype": null,
            "wgust": 19.7,
            "windchill": 17.8,
            "wspd": 14.4
           }
          ]
         }
        },
        "messages": [
         "This is a preview of the first 2 rows.You have exceeded the maximum number of daily result records for your account. Add a credit card to your account to increase the number of available free records."
        ],
        "queryCost": 2,
        "remainingCost": 0
       },
       {
        "columns": {
         "address": {
          "id": "address",
          "name": "Address",
          "type": 1,
          "unit": null
         },
         "cloudcover": {
          "id": "cloudcover",
          "name": "Cloud Cover",
          "type": 2,
          "unit": "%"
         },
         "conditions": {
          "id": "conditions",
          "name": "Conditions",
          "type": 1,
          "unit": null
         },
         "datetime": {
          "id": "datetime",
          "name": "Date time",
          "type": 3,
          "unit": null
         },
         "dew": {
          "id": "dew",
          "name": "Dew Point",
          "type": 2,
          "unit": "degF"
         },
         "heatindex": {
          "id": "heatindex",
          "name": "Heat Index",
          "type": 2,
          "unit": "degF"
         },
         "humidity": {
          "id": "humidity",
          "name": "Relative Humidity",
          "type": 2,
          "unit": "%"
         },
         "info": {
          "id": "info",
          "name": "Info",
          "type": 1,
          "unit": null
         },
         "latitude": {
          "id": "latitude",
          "name": "Latitude",
          "type": 2,
          "unit": null
         },
         "longitude": {
          "id": "longitude",
          "name": "Longitude",
          "type": 2,
          "unit": null
         },
         "maxt": {
          "id": "maxt",
          "name": "Maximum Temperature",
          "type": 2,
          "unit": "degF"
         },
         "mint": {
          "id": "mint",
          "name": "Minimum Temperature",
          "type": 2,
          "unit": "degF"
         },
         "name": {
          "id": "name",
          "name": "Name",
          "type": 1,
          "unit": null
         },
         "precip": {
          "id": "precip",
          "name": "Precipitation",
          "type": 2,
          "unit": "in"
         },
         "precipcover": {
          "id": "precipcover",
          "name": "Precipitation Cover",
          "type": 2,
          "unit": "%"
         },
         "resolvedAddress": {
          "id": "resolvedAddress",
          "name": "Resolved Address",
          "type": 1,
          "unit": null
         },
         "sealevelpressure": {
          "id": "sealevelpressure",
          "name": "Sea Level Pressure",
          "type": 2,
          "unit": "Pa"
         },
         "snowdepth": {
          "id": "snowdepth",
          "name": "Snow Depth",
          "type": 2,
          "unit": "in"
         },
         "temp": {
          "id": "temp",
          "name": "Temperature",
          "type": 2,
          "unit": "degF"
         },
         "visibility": {
          "id": "visibility",
          "name": "Visibility",
          "type": 2,
          "unit": "mi"
         },
         "wdir": {
          "id": "wdir",
          "name": "Wind Direction",
          "type": 2,
          "unit": null
         },
         "weathertype": {
          "id": "weathertype",
          "name": "Weather Type",
          "type": 1,
          "unit": null
         },
         "wgust": {
          "id": "wgust",
          "name": "Wind Gust",
          "type": 2,
          "unit": "mph"
         },
         "windchill": {
          "id": "windchill",
          "name": "Wind Chill",
          "type": 2,
          "unit": "degF"
         },
         "wspd": {
          "id": "wspd",
          "name": "Wind Speed",
          "type": 2,
          "unit": "mph"
         }
        },
        "locations": {
         "Joplin, MO": {
          "address": "Joplin, MO, United States",
          "alerts": null,
          "currentConditions": null,
          "distance": 0,
          "id": "Joplin, MO",
          "index": 0,
          "latitude": 37.0848,
          "longitude": -94.5135,
          "name": "Joplin, MO, United States",
          "stationContributions": null,
          "time": 0,
          "values": [
           {
            "cloudcover": 0,
            "conditions": "Clear",
            "datetime": 1514764800000,
            "datetimeStr": "2018-01-01T00:00:00-06:00",
            "dew": -4.8,
            "heatindex": null,
            "humidity": 61.27,
            "info": null,
            "maxt": 14.1,
            "mint": -1.1,
            "precip": 0,
            "precipcover": 0,
            "sealevelpressure": 1045.3,
            "snowdepth": null,
            "temp": 6.2,
            "visibility": 9.9,
            "wdir": 95,
            "weathertype": null,
            "wgust": null,
            "windchill": -17.5,
            "wspd": 11.4
           },
           {
            "cloudcover": 8.4,
            "conditions": "Clear",
            "datetime": 1514851200000,
            "datetimeStr": "2018-01-02T00:00:00-06:00",
            "dew": 1.6,
            "heatindex": null,
            "humidity": 60.75,
            "info": null,
            "maxt": 20.1,
            "mint": 3.7,
            "precip": 0,
            "precipcover": 0,
            "sealevelpressure": 1037.3,
            "snowdepth": null,
            "temp": 13,
            "visibility": 9.9,
            "wdir": 174.5,
            "weathertype": null,
            "wgust": null,
            "windchill": -5.7,
            "wspd": 10.3
           }
          ]
         }
        },
        "messages": [
         "This is a preview of the first 2 rows.You have exceeded the maximum number of daily result records for your account. Add a credit card to your account to increase the number of available free records."
        ],
        "queryCost": 2,
        "remainingCost": 0
       },
       {
        "columns": {
         "address": {
          "id": "address",
          "name": "Address",
          "type": 1,
          "unit": null
         },
         "cloudcover": {
          "id": "cloudcover",
          "name": "Cloud Cover",
          "type": 2,
          "unit": "%"
         },
         "conditions": {
          "id": "conditions",
          "name": "Conditions",
          "type": 1,
          "unit": null
         },
         "datetime": {
          "id": "datetime",
          "name": "Date time",
          "type": 3,
          "unit": null
         },
         "dew": {
          "id": "dew",
          "name": "Dew Point",
          "type": 2,
          "unit": "degF"
         },
         "heatindex": {
          "id": "heatindex",
          "name": "Heat Index",
          "type": 2,
          "unit": "degF"
         },
         "humidity": {
          "id": "humidity",
          "name": "Relative Humidity",
          "type": 2,
          "unit": "%"
         },
         "info": {
          "id": "info",
          "name": "Info",
          "type": 1,
          "unit": null
         },
         "latitude": {
          "id": "latitude",
          "name": "Latitude",
          "type": 2,
          "unit": null
         },
         "longitude": {
          "id": "longitude",
          "name": "Longitude",
          "type": 2,
          "unit": null
         },
         "maxt": {
          "id": "maxt",
          "name": "Maximum Temperature",
          "type": 2,
          "unit": "degF"
         },
         "mint": {
          "id": "mint",
          "name": "Minimum Temperature",
          "type": 2,
          "unit": "degF"
         },
         "name": {
          "id": "name",
          "name": "Name",
          "type": 1,
          "unit": null
         },
         "precip": {
          "id": "precip",
          "name": "Precipitation",
          "type": 2,
          "unit": "in"
         },
         "precipcover": {
          "id": "precipcover",
          "name": "Precipitation Cover",
          "type": 2,
          "unit": "%"
         },
         "resolvedAddress": {
          "id": "resolvedAddress",
          "name": "Resolved Address",
          "type": 1,
          "unit": null
         },
         "sealevelpressure": {
          "id": "sealevelpressure",
          "name": "Sea Level Pressure",
          "type": 2,
          "unit": "Pa"
         },
         "snowdepth": {
          "id": "snowdepth",
          "name": "Snow Depth",
          "type": 2,
          "unit": "in"
         },
         "temp": {
          "id": "temp",
          "name": "Temperature",
          "type": 2,
          "unit": "degF"
         },
         "visibility": {
          "id": "visibility",
          "name": "Visibility",
          "type": 2,
          "unit": "mi"
         },
         "wdir": {
          "id": "wdir",
          "name": "Wind Direction",
          "type": 2,
          "unit": null
         },
         "weathertype": {
          "id": "weathertype",
          "name": "Weather Type",
          "type": 1,
          "unit": null
         },
         "wgust": {
          "id": "wgust",
          "name": "Wind Gust",
          "type": 2,
          "unit": "mph"
         },
         "windchill": {
          "id": "windchill",
          "name": "Wind Chill",
          "type": 2,
          "unit": "degF"
         },
         "wspd": {
          "id": "wspd",
          "name": "Wind Speed",
          "type": 2,
          "unit": "mph"
         }
        },
        "locations": {
         "Lawton/Fort Sill, OK": {
          "address": "NW Fort Sill Blvd, Lawton, OK 73507, United States",
          "alerts": null,
          "currentConditions": null,
          "distance": 0,
          "id": "Lawton/Fort Sill, OK",
          "index": 0,
          "latitude": 34.6145,
          "longitude": -98.4047,
          "name": "NW Fort Sill Blvd, Lawton, OK 73507, United States",
          "stationContributions": null,
          "time": 0,
          "values": [
           {
            "cloudcover": 32.3,
            "conditions": "Partially cloudy",
            "datetime": 1515628800000,
            "datetimeStr": "2018-01-11T00:00:00-06:00",
            "dew": 26.5,
            "heatindex": null,
            "humidity": 69.95,
            "info": null,
            "maxt": 49.6,
            "mint": 23.8,
            "precip": 0,
            "precipcover": 0,
            "sealevelpressure": 1013.7,
            "snowdepth": null,
            "temp": 36.1,
            "visibility": 9.9,
            "wdir": 269.08,
            "weathertype": null,
            "wgust": 53.9,
            "windchill": 12.7,
            "wspd": 35.1
           },
           {
            "cloudcover": 14.1,
            "conditions": "Clear",
            "datetime": 1515715200000,
            "datetimeStr": "2018-01-12T00:00:00-06:00",
            "dew": 9.5,
            "heatindex": null,
            "humidity": 49.59,
            "info": null,
            "maxt": 38.8,
            "mint": 16.8,
            "precip": 0,
            "precipcover": 0,
            "sealevelpressure": 1028.5,
            "snowdepth": null,
            "temp": 26.4,
            "visibility": 9.9,
            "wdir": 149.71,
            "weathertype": null,
            "wgust": null,
            "windchill": 1.8,
            "wspd": 15.8
           }
          ]
         }
        },
        "messages": [
         "This is a preview of the first 2 rows.You have exceeded the maximum number of daily result records for your account. Add a credit card to your account to increase the number of available free records."
        ],
        "queryCost": 2,
        "remainingCost": 0
       },
       {
        "columns": {
         "address": {
          "id": "address",
          "name": "Address",
          "type": 1,
          "unit": null
         },
         "cloudcover": {
          "id": "cloudcover",
          "name": "Cloud Cover",
          "type": 2,
          "unit": "%"
         },
         "conditions": {
          "id": "conditions",
          "name": "Conditions",
          "type": 1,
          "unit": null
         },
         "datetime": {
          "id": "datetime",
          "name": "Date time",
          "type": 3,
          "unit": null
         },
         "dew": {
          "id": "dew",
          "name": "Dew Point",
          "type": 2,
          "unit": "degF"
         },
         "heatindex": {
          "id": "heatindex",
          "name": "Heat Index",
          "type": 2,
          "unit": "degF"
         },
         "humidity": {
          "id": "humidity",
          "name": "Relative Humidity",
          "type": 2,
          "unit": "%"
         },
         "info": {
          "id": "info",
          "name": "Info",
          "type": 1,
          "unit": null
         },
         "latitude": {
          "id": "latitude",
          "name": "Latitude",
          "type": 2,
          "unit": null
         },
         "longitude": {
          "id": "longitude",
          "name": "Longitude",
          "type": 2,
          "unit": null
         },
         "maxt": {
          "id": "maxt",
          "name": "Maximum Temperature",
          "type": 2,
          "unit": "degF"
         },
         "mint": {
          "id": "mint",
          "name": "Minimum Temperature",
          "type": 2,
          "unit": "degF"
         },
         "name": {
          "id": "name",
          "name": "Name",
          "type": 1,
          "unit": null
         },
         "precip": {
          "id": "precip",
          "name": "Precipitation",
          "type": 2,
          "unit": "in"
         },
         "precipcover": {
          "id": "precipcover",
          "name": "Precipitation Cover",
          "type": 2,
          "unit": "%"
         },
         "resolvedAddress": {
          "id": "resolvedAddress",
          "name": "Resolved Address",
          "type": 1,
          "unit": null
         },
         "sealevelpressure": {
          "id": "sealevelpressure",
          "name": "Sea Level Pressure",
          "type": 2,
          "unit": "Pa"
         },
         "snowdepth": {
          "id": "snowdepth",
          "name": "Snow Depth",
          "type": 2,
          "unit": "in"
         },
         "temp": {
          "id": "temp",
          "name": "Temperature",
          "type": 2,
          "unit": "degF"
         },
         "visibility": {
          "id": "visibility",
          "name": "Visibility",
          "type": 2,
          "unit": "mi"
         },
         "wdir": {
          "id": "wdir",
          "name": "Wind Direction",
          "type": 2,
          "unit": null
         },
         "weathertype": {
          "id": "weathertype",
          "name": "Weather Type",
          "type": 1,
          "unit": null
         },
         "wgust": {
          "id": "wgust",
          "name": "Wind Gust",
          "type": 2,
          "unit": "mph"
         },
         "windchill": {
          "id": "windchill",
          "name": "Wind Chill",
          "type": 2,
          "unit": "degF"
         },
         "wspd": {
          "id": "wspd",
          "name": "Wind Speed",
          "type": 2,
          "unit": "mph"
         }
        },
        "locations": {
         "Cody, WY": {
          "address": "cody, wy",
          "alerts": null,
          "currentConditions": null,
          "distance": 0,
          "id": "Cody, WY",
          "index": 0,
          "latitude": 44.5261,
          "longitude": -109.057,
          "name": "cody, wy",
          "stationContributions": null,
          "time": 0,
          "values": [
           {
            "cloudcover": 38.4,
            "conditions": "Partially cloudy",
            "datetime": 1548460800000,
            "datetimeStr": "2019-01-26T00:00:00-07:00",
            "dew": 17.5,
            "heatindex": null,
            "humidity": 40.84,
            "info": null,
            "maxt": 44.1,
            "mint": 34.1,
            "precip": 0,
            "precipcover": 0,
            "sealevelpressure": 1023,
            "snowdepth": null,
            "temp": 39.4,
            "visibility": 9.9,
            "wdir": 265.65,
            "weathertype": null,
            "wgust": 35.6,
            "windchill": 22.5,
            "wspd": 20.8
           },
           {
            "cloudcover": 43,
            "conditions": "Partially cloudy",
            "datetime": 1548547200000,
            "datetimeStr": "2019-01-27T00:00:00-07:00",
            "dew": 22.4,
            "heatindex": null,
            "humidity": 54.44,
            "info": null,
            "maxt": 52.1,
            "mint": 26.1,
            "precip": 0,
            "precipcover": 0,
            "sealevelpressure": 1015.4,
            "snowdepth": null,
            "temp": 39.5,
            "visibility": 8.8,
            "wdir": 282.45,
            "weathertype": null,
            "wgust": 41.6,
            "windchill": 16.8,
            "wspd": 26.4
           }
          ]
         }
        },
        "messages": [
         "This is a preview of the first 2 rows.You have exceeded the maximum number of daily result records for your account. Add a credit card to your account to increase the number of available free records."
        ],
        "queryCost": 2,
        "remainingCost": 0
       },
       {
        "columns": {
         "address": {
          "id": "address",
          "name": "Address",
          "type": 1,
          "unit": null
         },
         "cloudcover": {
          "id": "cloudcover",
          "name": "Cloud Cover",
          "type": 2,
          "unit": "%"
         },
         "conditions": {
          "id": "conditions",
          "name": "Conditions",
          "type": 1,
          "unit": null
         },
         "datetime": {
          "id": "datetime",
          "name": "Date time",
          "type": 3,
          "unit": null
         },
         "dew": {
          "id": "dew",
          "name": "Dew Point",
          "type": 2,
          "unit": "degF"
         },
         "heatindex": {
          "id": "heatindex",
          "name": "Heat Index",
          "type": 2,
          "unit": "degF"
         },
         "humidity": {
          "id": "humidity",
          "name": "Relative Humidity",
          "type": 2,
          "unit": "%"
         },
         "info": {
          "id": "info",
          "name": "Info",
          "type": 1,
          "unit": null
         },
         "latitude": {
          "id": "latitude",
          "name": "Latitude",
          "type": 2,
          "unit": null
         },
         "longitude": {
          "id": "longitude",
          "name": "Longitude",
          "type": 2,
          "unit": null
         },
         "maxt": {
          "id": "maxt",
          "name": "Maximum Temperature",
          "type": 2,
          "unit": "degF"
         },
         "mint": {
          "id": "mint",
          "name": "Minimum Temperature",
          "type": 2,
          "unit": "degF"
         },
         "name": {
          "id": "name",
          "name": "Name",
          "type": 1,
          "unit": null
         },
         "precip": {
          "id": "precip",
          "name": "Precipitation",
          "type": 2,
          "unit": "in"
         },
         "precipcover": {
          "id": "precipcover",
          "name": "Precipitation Cover",
          "type": 2,
          "unit": "%"
         },
         "resolvedAddress": {
          "id": "resolvedAddress",
          "name": "Resolved Address",
          "type": 1,
          "unit": null
         },
         "sealevelpressure": {
          "id": "sealevelpressure",
          "name": "Sea Level Pressure",
          "type": 2,
          "unit": "Pa"
         },
         "snowdepth": {
          "id": "snowdepth",
          "name": "Snow Depth",
          "type": 2,
          "unit": "in"
         },
         "temp": {
          "id": "temp",
          "name": "Temperature",
          "type": 2,
          "unit": "degF"
         },
         "visibility": {
          "id": "visibility",
          "name": "Visibility",
          "type": 2,
          "unit": "mi"
         },
         "wdir": {
          "id": "wdir",
          "name": "Wind Direction",
          "type": 2,
          "unit": null
         },
         "weathertype": {
          "id": "weathertype",
          "name": "Weather Type",
          "type": 1,
          "unit": null
         },
         "wgust": {
          "id": "wgust",
          "name": "Wind Gust",
          "type": 2,
          "unit": "mph"
         },
         "windchill": {
          "id": "windchill",
          "name": "Wind Chill",
          "type": 2,
          "unit": "degF"
         },
         "wspd": {
          "id": "wspd",
          "name": "Wind Speed",
          "type": 2,
          "unit": "mph"
         }
        },
        "locations": {
         "Dubuque, IA": {
          "address": "Dubuque, IA, United States",
          "alerts": null,
          "currentConditions": null,
          "distance": 0,
          "id": "Dubuque, IA",
          "index": 0,
          "latitude": 42.4991,
          "longitude": -90.6633,
          "name": "Dubuque, IA, United States",
          "stationContributions": null,
          "time": 0,
          "values": [
           {
            "cloudcover": 71.4,
            "conditions": "Rain, Partially cloudy",
            "datetime": 1516492800000,
            "datetimeStr": "2018-01-21T00:00:00-06:00",
            "dew": 34.2,
            "heatindex": null,
            "humidity": 93.4,
            "info": null,
            "maxt": 38,
            "mint": 33.3,
            "precip": 0.05,
            "precipcover": 12.5,
            "sealevelpressure": 1012.4,
            "snowdepth": null,
            "temp": 35.9,
            "visibility": 1.7,
            "wdir": 51.57,
            "weathertype": null,
            "wgust": null,
            "windchill": 27.7,
            "wspd": 12.5
           },
           {
            "cloudcover": 71.3,
            "conditions": "Rain, Partially cloudy",
            "datetime": 1516579200000,
            "datetimeStr": "2018-01-22T00:00:00-06:00",
            "dew": 36.8,
            "heatindex": null,
            "humidity": 99.31,
            "info": null,
            "maxt": 39.8,
            "mint": 33.1,
            "precip": 0.94,
            "precipcover": 54.17,
            "sealevelpressure": 1000.2,
            "snowdepth": null,
            "temp": 37,
            "visibility": 3.4,
            "wdir": 78.83,
            "weathertype": null,
            "wgust": null,
            "windchill": 24.3,
            "wspd": 19.7
           }
          ]
         }
        },
        "messages": [
         "This is a preview of the first 2 rows.You have exceeded the maximum number of daily result records for your account. Add a credit card to your account to increase the number of available free records."
        ],
        "queryCost": 2,
        "remainingCost": 0
       },
       {
        "columns": {
         "address": {
          "id": "address",
          "name": "Address",
          "type": 1,
          "unit": null
         },
         "cloudcover": {
          "id": "cloudcover",
          "name": "Cloud Cover",
          "type": 2,
          "unit": "%"
         },
         "conditions": {
          "id": "conditions",
          "name": "Conditions",
          "type": 1,
          "unit": null
         },
         "datetime": {
          "id": "datetime",
          "name": "Date time",
          "type": 3,
          "unit": null
         },
         "dew": {
          "id": "dew",
          "name": "Dew Point",
          "type": 2,
          "unit": "degF"
         },
         "heatindex": {
          "id": "heatindex",
          "name": "Heat Index",
          "type": 2,
          "unit": "degF"
         },
         "humidity": {
          "id": "humidity",
          "name": "Relative Humidity",
          "type": 2,
          "unit": "%"
         },
         "info": {
          "id": "info",
          "name": "Info",
          "type": 1,
          "unit": null
         },
         "latitude": {
          "id": "latitude",
          "name": "Latitude",
          "type": 2,
          "unit": null
         },
         "longitude": {
          "id": "longitude",
          "name": "Longitude",
          "type": 2,
          "unit": null
         },
         "maxt": {
          "id": "maxt",
          "name": "Maximum Temperature",
          "type": 2,
          "unit": "degF"
         },
         "mint": {
          "id": "mint",
          "name": "Minimum Temperature",
          "type": 2,
          "unit": "degF"
         },
         "name": {
          "id": "name",
          "name": "Name",
          "type": 1,
          "unit": null
         },
         "precip": {
          "id": "precip",
          "name": "Precipitation",
          "type": 2,
          "unit": "in"
         },
         "precipcover": {
          "id": "precipcover",
          "name": "Precipitation Cover",
          "type": 2,
          "unit": "%"
         },
         "resolvedAddress": {
          "id": "resolvedAddress",
          "name": "Resolved Address",
          "type": 1,
          "unit": null
         },
         "sealevelpressure": {
          "id": "sealevelpressure",
          "name": "Sea Level Pressure",
          "type": 2,
          "unit": "Pa"
         },
         "snowdepth": {
          "id": "snowdepth",
          "name": "Snow Depth",
          "type": 2,
          "unit": "in"
         },
         "temp": {
          "id": "temp",
          "name": "Temperature",
          "type": 2,
          "unit": "degF"
         },
         "visibility": {
          "id": "visibility",
          "name": "Visibility",
          "type": 2,
          "unit": "mi"
         },
         "wdir": {
          "id": "wdir",
          "name": "Wind Direction",
          "type": 2,
          "unit": null
         },
         "weathertype": {
          "id": "weathertype",
          "name": "Weather Type",
          "type": 1,
          "unit": null
         },
         "wgust": {
          "id": "wgust",
          "name": "Wind Gust",
          "type": 2,
          "unit": "mph"
         },
         "windchill": {
          "id": "windchill",
          "name": "Wind Chill",
          "type": 2,
          "unit": "degF"
         },
         "wspd": {
          "id": "wspd",
          "name": "Wind Speed",
          "type": 2,
          "unit": "mph"
         }
        },
        "locations": {
         "Springfield, MO": {
          "address": "springfield, mo",
          "alerts": null,
          "currentConditions": null,
          "distance": 0,
          "id": "Springfield, MO",
          "index": 0,
          "latitude": 37.209,
          "longitude": -93.2916,
          "name": "springfield, mo",
          "stationContributions": null,
          "time": 0,
          "values": [
           {
            "cloudcover": 0,
            "conditions": "Clear",
            "datetime": 1546905600000,
            "datetimeStr": "2019-01-08T00:00:00-06:00",
            "dew": 28.1,
            "heatindex": null,
            "humidity": 51.59,
            "info": null,
            "maxt": 53.1,
            "mint": 37.1,
            "precip": 0,
            "precipcover": 0,
            "sealevelpressure": 1023.4,
            "snowdepth": null,
            "temp": 45.4,
            "visibility": 9.9,
            "wdir": 300,
            "weathertype": null,
            "wgust": 27.7,
            "windchill": 31.1,
            "wspd": 17.2
           },
           {
            "cloudcover": 0,
            "conditions": "Clear",
            "datetime": 1546992000000,
            "datetimeStr": "2019-01-09T00:00:00-06:00",
            "dew": 17.6,
            "heatindex": null,
            "humidity": 51.71,
            "info": null,
            "maxt": 42.2,
            "mint": 27,
            "precip": 0,
            "precipcover": 0,
            "sealevelpressure": 1031.3,
            "snowdepth": null,
            "temp": 34.1,
            "visibility": 9.9,
            "wdir": 308.75,
            "weathertype": null,
            "wgust": 29.2,
            "windchill": 21.5,
            "wspd": 18.3
           }
          ]
         }
        },
        "messages": [
         "This is a preview of the first 2 rows.You have exceeded the maximum number of daily result records for your account. Add a credit card to your account to increase the number of available free records."
        ],
        "queryCost": 2,
        "remainingCost": 0
       },
       {
        "columns": {
         "address": {
          "id": "address",
          "name": "Address",
          "type": 1,
          "unit": null
         },
         "cloudcover": {
          "id": "cloudcover",
          "name": "Cloud Cover",
          "type": 2,
          "unit": "%"
         },
         "conditions": {
          "id": "conditions",
          "name": "Conditions",
          "type": 1,
          "unit": null
         },
         "datetime": {
          "id": "datetime",
          "name": "Date time",
          "type": 3,
          "unit": null
         },
         "dew": {
          "id": "dew",
          "name": "Dew Point",
          "type": 2,
          "unit": "degF"
         },
         "heatindex": {
          "id": "heatindex",
          "name": "Heat Index",
          "type": 2,
          "unit": "degF"
         },
         "humidity": {
          "id": "humidity",
          "name": "Relative Humidity",
          "type": 2,
          "unit": "%"
         },
         "info": {
          "id": "info",
          "name": "Info",
          "type": 1,
          "unit": null
         },
         "latitude": {
          "id": "latitude",
          "name": "Latitude",
          "type": 2,
          "unit": null
         },
         "longitude": {
          "id": "longitude",
          "name": "Longitude",
          "type": 2,
          "unit": null
         },
         "maxt": {
          "id": "maxt",
          "name": "Maximum Temperature",
          "type": 2,
          "unit": "degF"
         },
         "mint": {
          "id": "mint",
          "name": "Minimum Temperature",
          "type": 2,
          "unit": "degF"
         },
         "name": {
          "id": "name",
          "name": "Name",
          "type": 1,
          "unit": null
         },
         "precip": {
          "id": "precip",
          "name": "Precipitation",
          "type": 2,
          "unit": "in"
         },
         "precipcover": {
          "id": "precipcover",
          "name": "Precipitation Cover",
          "type": 2,
          "unit": "%"
         },
         "resolvedAddress": {
          "id": "resolvedAddress",
          "name": "Resolved Address",
          "type": 1,
          "unit": null
         },
         "sealevelpressure": {
          "id": "sealevelpressure",
          "name": "Sea Level Pressure",
          "type": 2,
          "unit": "Pa"
         },
         "snowdepth": {
          "id": "snowdepth",
          "name": "Snow Depth",
          "type": 2,
          "unit": "in"
         },
         "temp": {
          "id": "temp",
          "name": "Temperature",
          "type": 2,
          "unit": "degF"
         },
         "visibility": {
          "id": "visibility",
          "name": "Visibility",
          "type": 2,
          "unit": "mi"
         },
         "wdir": {
          "id": "wdir",
          "name": "Wind Direction",
          "type": 2,
          "unit": null
         },
         "weathertype": {
          "id": "weathertype",
          "name": "Weather Type",
          "type": 1,
          "unit": null
         },
         "wgust": {
          "id": "wgust",
          "name": "Wind Gust",
          "type": 2,
          "unit": "mph"
         },
         "windchill": {
          "id": "windchill",
          "name": "Wind Chill",
          "type": 2,
          "unit": "degF"
         },
         "wspd": {
          "id": "wspd",
          "name": "Wind Speed",
          "type": 2,
          "unit": "mph"
         }
        },
        "locations": {
         "Fort Lauderdale, FL": {
          "address": "Fort Lauderdale, FL, United States",
          "alerts": null,
          "currentConditions": null,
          "distance": 0,
          "id": "Fort Lauderdale, FL",
          "index": 0,
          "latitude": 26.1239,
          "longitude": -80.1436,
          "name": "Fort Lauderdale, FL, United States",
          "stationContributions": null,
          "time": 0,
          "values": [
           {
            "cloudcover": 29.6,
            "conditions": "Partially cloudy",
            "datetime": 1516233600000,
            "datetimeStr": "2018-01-18T00:00:00-05:00",
            "dew": 43.1,
            "heatindex": null,
            "humidity": 70.27,
            "info": null,
            "maxt": 61.2,
            "mint": 43.3,
            "precip": 0,
            "precipcover": 0,
            "sealevelpressure": 1024.4,
            "snowdepth": null,
            "temp": 52.6,
            "visibility": 9.9,
            "wdir": 297,
            "weathertype": null,
            "wgust": 30,
            "windchill": 37.1,
            "wspd": 15.8
           },
           {
            "cloudcover": 41.8,
            "conditions": "Partially cloudy",
            "datetime": 1516320000000,
            "datetimeStr": "2018-01-19T00:00:00-05:00",
            "dew": 50.6,
            "heatindex": null,
            "humidity": 74.03,
            "info": null,
            "maxt": 67.7,
            "mint": 49.2,
            "precip": 0,
            "precipcover": 0,
            "sealevelpressure": 1024,
            "snowdepth": null,
            "temp": 59.4,
            "visibility": 9.9,
            "wdir": 192.21,
            "weathertype": null,
            "wgust": 17.2,
            "windchill": 45.4,
            "wspd": 12
           }
          ]
         }
        },
        "messages": [
         "This is a preview of the first 2 rows.You have exceeded the maximum number of daily result records for your account. Add a credit card to your account to increase the number of available free records."
        ],
        "queryCost": 2,
        "remainingCost": 0
       },
       {
        "columns": {
         "address": {
          "id": "address",
          "name": "Address",
          "type": 1,
          "unit": null
         },
         "cloudcover": {
          "id": "cloudcover",
          "name": "Cloud Cover",
          "type": 2,
          "unit": "%"
         },
         "conditions": {
          "id": "conditions",
          "name": "Conditions",
          "type": 1,
          "unit": null
         },
         "datetime": {
          "id": "datetime",
          "name": "Date time",
          "type": 3,
          "unit": null
         },
         "dew": {
          "id": "dew",
          "name": "Dew Point",
          "type": 2,
          "unit": "degF"
         },
         "heatindex": {
          "id": "heatindex",
          "name": "Heat Index",
          "type": 2,
          "unit": "degF"
         },
         "humidity": {
          "id": "humidity",
          "name": "Relative Humidity",
          "type": 2,
          "unit": "%"
         },
         "info": {
          "id": "info",
          "name": "Info",
          "type": 1,
          "unit": null
         },
         "latitude": {
          "id": "latitude",
          "name": "Latitude",
          "type": 2,
          "unit": null
         },
         "longitude": {
          "id": "longitude",
          "name": "Longitude",
          "type": 2,
          "unit": null
         },
         "maxt": {
          "id": "maxt",
          "name": "Maximum Temperature",
          "type": 2,
          "unit": "degF"
         },
         "mint": {
          "id": "mint",
          "name": "Minimum Temperature",
          "type": 2,
          "unit": "degF"
         },
         "name": {
          "id": "name",
          "name": "Name",
          "type": 1,
          "unit": null
         },
         "precip": {
          "id": "precip",
          "name": "Precipitation",
          "type": 2,
          "unit": "in"
         },
         "precipcover": {
          "id": "precipcover",
          "name": "Precipitation Cover",
          "type": 2,
          "unit": "%"
         },
         "resolvedAddress": {
          "id": "resolvedAddress",
          "name": "Resolved Address",
          "type": 1,
          "unit": null
         },
         "sealevelpressure": {
          "id": "sealevelpressure",
          "name": "Sea Level Pressure",
          "type": 2,
          "unit": "Pa"
         },
         "snowdepth": {
          "id": "snowdepth",
          "name": "Snow Depth",
          "type": 2,
          "unit": "in"
         },
         "temp": {
          "id": "temp",
          "name": "Temperature",
          "type": 2,
          "unit": "degF"
         },
         "visibility": {
          "id": "visibility",
          "name": "Visibility",
          "type": 2,
          "unit": "mi"
         },
         "wdir": {
          "id": "wdir",
          "name": "Wind Direction",
          "type": 2,
          "unit": null
         },
         "weathertype": {
          "id": "weathertype",
          "name": "Weather Type",
          "type": 1,
          "unit": null
         },
         "wgust": {
          "id": "wgust",
          "name": "Wind Gust",
          "type": 2,
          "unit": "mph"
         },
         "windchill": {
          "id": "windchill",
          "name": "Wind Chill",
          "type": 2,
          "unit": "degF"
         },
         "wspd": {
          "id": "wspd",
          "name": "Wind Speed",
          "type": 2,
          "unit": "mph"
         }
        },
        "locations": {
         "Atlanta, GA": {
          "address": "atlanta, ga",
          "alerts": null,
          "currentConditions": null,
          "distance": 0,
          "id": "Atlanta, GA",
          "index": 0,
          "latitude": 33.7483,
          "longitude": -84.3911,
          "name": "atlanta, ga",
          "stationContributions": null,
          "time": 0,
          "values": [
           {
            "cloudcover": 15.4,
            "conditions": "Clear",
            "datetime": 1514851200000,
            "datetimeStr": "2018-01-02T00:00:00-05:00",
            "dew": 7,
            "heatindex": null,
            "humidity": 50.41,
            "info": null,
            "maxt": 35,
            "mint": 12.3,
            "precip": 0,
            "precipcover": 0,
            "sealevelpressure": 1033.2,
            "snowdepth": null,
            "temp": 24.1,
            "visibility": 9.9,
            "wdir": 190.43,
            "weathertype": null,
            "wgust": null,
            "windchill": 3.2,
            "wspd": 6.4
           },
           {
            "cloudcover": 45.3,
            "conditions": "Partially cloudy",
            "datetime": 1514937600000,
            "datetimeStr": "2018-01-03T00:00:00-05:00",
            "dew": 7.4,
            "heatindex": null,
            "humidity": 37.44,
            "info": null,
            "maxt": 38,
            "mint": 26.4,
            "precip": 0,
            "precipcover": 0,
            "sealevelpressure": 1022,
            "snowdepth": null,
            "temp": 31,
            "visibility": 9.9,
            "wdir": 246.5,
            "weathertype": null,
            "wgust": null,
            "windchill": 19.2,
            "wspd": 11.8
           }
          ]
         }
        },
        "messages": [
         "This is a preview of the first 2 rows.You have exceeded the maximum number of daily result records for your account. Add a credit card to your account to increase the number of available free records."
        ],
        "queryCost": 2,
        "remainingCost": 0
       },
       {
        "columns": {
         "address": {
          "id": "address",
          "name": "Address",
          "type": 1,
          "unit": null
         },
         "cloudcover": {
          "id": "cloudcover",
          "name": "Cloud Cover",
          "type": 2,
          "unit": "%"
         },
         "conditions": {
          "id": "conditions",
          "name": "Conditions",
          "type": 1,
          "unit": null
         },
         "datetime": {
          "id": "datetime",
          "name": "Date time",
          "type": 3,
          "unit": null
         },
         "dew": {
          "id": "dew",
          "name": "Dew Point",
          "type": 2,
          "unit": "degF"
         },
         "heatindex": {
          "id": "heatindex",
          "name": "Heat Index",
          "type": 2,
          "unit": "degF"
         },
         "humidity": {
          "id": "humidity",
          "name": "Relative Humidity",
          "type": 2,
          "unit": "%"
         },
         "info": {
          "id": "info",
          "name": "Info",
          "type": 1,
          "unit": null
         },
         "latitude": {
          "id": "latitude",
          "name": "Latitude",
          "type": 2,
          "unit": null
         },
         "longitude": {
          "id": "longitude",
          "name": "Longitude",
          "type": 2,
          "unit": null
         },
         "maxt": {
          "id": "maxt",
          "name": "Maximum Temperature",
          "type": 2,
          "unit": "degF"
         },
         "mint": {
          "id": "mint",
          "name": "Minimum Temperature",
          "type": 2,
          "unit": "degF"
         },
         "name": {
          "id": "name",
          "name": "Name",
          "type": 1,
          "unit": null
         },
         "precip": {
          "id": "precip",
          "name": "Precipitation",
          "type": 2,
          "unit": "in"
         },
         "precipcover": {
          "id": "precipcover",
          "name": "Precipitation Cover",
          "type": 2,
          "unit": "%"
         },
         "resolvedAddress": {
          "id": "resolvedAddress",
          "name": "Resolved Address",
          "type": 1,
          "unit": null
         },
         "sealevelpressure": {
          "id": "sealevelpressure",
          "name": "Sea Level Pressure",
          "type": 2,
          "unit": "Pa"
         },
         "snowdepth": {
          "id": "snowdepth",
          "name": "Snow Depth",
          "type": 2,
          "unit": "in"
         },
         "temp": {
          "id": "temp",
          "name": "Temperature",
          "type": 2,
          "unit": "degF"
         },
         "visibility": {
          "id": "visibility",
          "name": "Visibility",
          "type": 2,
          "unit": "mi"
         },
         "wdir": {
          "id": "wdir",
          "name": "Wind Direction",
          "type": 2,
          "unit": null
         },
         "weathertype": {
          "id": "weathertype",
          "name": "Weather Type",
          "type": 1,
          "unit": null
         },
         "wgust": {
          "id": "wgust",
          "name": "Wind Gust",
          "type": 2,
          "unit": "mph"
         },
         "windchill": {
          "id": "windchill",
          "name": "Wind Chill",
          "type": 2,
          "unit": "degF"
         },
         "wspd": {
          "id": "wspd",
          "name": "Wind Speed",
          "type": 2,
          "unit": "mph"
         }
        },
        "locations": {
         "Nome, AK": {
          "address": "Nome, AK, United States",
          "alerts": null,
          "currentConditions": null,
          "distance": 0,
          "id": "Nome, AK",
          "index": 0,
          "latitude": 64.4995,
          "longitude": -165.406,
          "name": "Nome, AK, United States",
          "stationContributions": null,
          "time": 0,
          "values": [
           {
            "cloudcover": 1.8,
            "conditions": "Clear",
            "datetime": 1515110400000,
            "datetimeStr": "2018-01-05T00:00:00-09:00",
            "dew": 16.2,
            "heatindex": null,
            "humidity": 66.26,
            "info": null,
            "maxt": 31.9,
            "mint": 22.5,
            "precip": 0,
            "precipcover": 0,
            "sealevelpressure": 997.6,
            "snowdepth": null,
            "temp": 26.2,
            "visibility": 9.9,
            "wdir": 73.63,
            "weathertype": null,
            "wgust": 32.3,
            "windchill": 7.9,
            "wspd": 25.9
           },
           {
            "cloudcover": 3.3,
            "conditions": "Clear",
            "datetime": 1515196800000,
            "datetimeStr": "2018-01-06T00:00:00-09:00",
            "dew": 13.8,
            "heatindex": null,
            "humidity": 62.87,
            "info": null,
            "maxt": 27.6,
            "mint": 23.1,
            "precip": 0,
            "precipcover": 0,
            "sealevelpressure": 993.1,
            "snowdepth": null,
            "temp": 24.9,
            "visibility": 9.2,
            "wdir": 79.17,
            "weathertype": null,
            "wgust": 33.5,
            "windchill": 7.7,
            "wspd": 27.1
           }
          ]
         }
        },
        "messages": [
         "This is a preview of the first 2 rows.You have exceeded the maximum number of daily result records for your account. Add a credit card to your account to increase the number of available free records."
        ],
        "queryCost": 2,
        "remainingCost": 0
       },
       {
        "columns": {
         "address": {
          "id": "address",
          "name": "Address",
          "type": 1,
          "unit": null
         },
         "cloudcover": {
          "id": "cloudcover",
          "name": "Cloud Cover",
          "type": 2,
          "unit": "%"
         },
         "conditions": {
          "id": "conditions",
          "name": "Conditions",
          "type": 1,
          "unit": null
         },
         "datetime": {
          "id": "datetime",
          "name": "Date time",
          "type": 3,
          "unit": null
         },
         "dew": {
          "id": "dew",
          "name": "Dew Point",
          "type": 2,
          "unit": "degF"
         },
         "heatindex": {
          "id": "heatindex",
          "name": "Heat Index",
          "type": 2,
          "unit": "degF"
         },
         "humidity": {
          "id": "humidity",
          "name": "Relative Humidity",
          "type": 2,
          "unit": "%"
         },
         "info": {
          "id": "info",
          "name": "Info",
          "type": 1,
          "unit": null
         },
         "latitude": {
          "id": "latitude",
          "name": "Latitude",
          "type": 2,
          "unit": null
         },
         "longitude": {
          "id": "longitude",
          "name": "Longitude",
          "type": 2,
          "unit": null
         },
         "maxt": {
          "id": "maxt",
          "name": "Maximum Temperature",
          "type": 2,
          "unit": "degF"
         },
         "mint": {
          "id": "mint",
          "name": "Minimum Temperature",
          "type": 2,
          "unit": "degF"
         },
         "name": {
          "id": "name",
          "name": "Name",
          "type": 1,
          "unit": null
         },
         "precip": {
          "id": "precip",
          "name": "Precipitation",
          "type": 2,
          "unit": "in"
         },
         "precipcover": {
          "id": "precipcover",
          "name": "Precipitation Cover",
          "type": 2,
          "unit": "%"
         },
         "resolvedAddress": {
          "id": "resolvedAddress",
          "name": "Resolved Address",
          "type": 1,
          "unit": null
         },
         "sealevelpressure": {
          "id": "sealevelpressure",
          "name": "Sea Level Pressure",
          "type": 2,
          "unit": "Pa"
         },
         "snowdepth": {
          "id": "snowdepth",
          "name": "Snow Depth",
          "type": 2,
          "unit": "in"
         },
         "temp": {
          "id": "temp",
          "name": "Temperature",
          "type": 2,
          "unit": "degF"
         },
         "visibility": {
          "id": "visibility",
          "name": "Visibility",
          "type": 2,
          "unit": "mi"
         },
         "wdir": {
          "id": "wdir",
          "name": "Wind Direction",
          "type": 2,
          "unit": null
         },
         "weathertype": {
          "id": "weathertype",
          "name": "Weather Type",
          "type": 1,
          "unit": null
         },
         "wgust": {
          "id": "wgust",
          "name": "Wind Gust",
          "type": 2,
          "unit": "mph"
         },
         "windchill": {
          "id": "windchill",
          "name": "Wind Chill",
          "type": 2,
          "unit": "degF"
         },
         "wspd": {
          "id": "wspd",
          "name": "Wind Speed",
          "type": 2,
          "unit": "mph"
         }
        },
        "locations": {
         "Aberdeen, SD": {
          "address": "Aberdeen, SD, United States",
          "alerts": null,
          "currentConditions": null,
          "distance": 0,
          "id": "Aberdeen, SD",
          "index": 0,
          "latitude": 45.4591,
          "longitude": -98.4869,
          "name": "Aberdeen, SD, United States",
          "stationContributions": null,
          "time": 0,
          "values": [
           {
            "cloudcover": 28.8,
            "conditions": "Partially cloudy",
            "datetime": 1515283200000,
            "datetimeStr": "2018-01-07T00:00:00-06:00",
            "dew": 22.2,
            "heatindex": null,
            "humidity": 80.28,
            "info": null,
            "maxt": 38.9,
            "mint": 15.3,
            "precip": 0,
            "precipcover": 0,
            "sealevelpressure": 1012.3,
            "snowdepth": null,
            "temp": 27.6,
            "visibility": 9,
            "wdir": 248.26,
            "weathertype": null,
            "wgust": null,
            "windchill": 5.4,
            "wspd": 19.7
           },
           {
            "cloudcover": 21.8,
            "conditions": "Clear",
            "datetime": 1515369600000,
            "datetimeStr": "2018-01-08T00:00:00-06:00",
            "dew": 24.3,
            "heatindex": null,
            "humidity": 85.88,
            "info": null,
            "maxt": 37.1,
            "mint": 11.1,
            "precip": 0,
            "precipcover": 0,
            "sealevelpressure": 1016.4,
            "snowdepth": null,
            "temp": 28,
            "visibility": 9.9,
            "wdir": 195.24,
            "weathertype": null,
            "wgust": null,
            "windchill": 0.4,
            "wspd": 11.4
           }
          ]
         }
        },
        "messages": [
         "This is a preview of the first 2 rows.You have exceeded the maximum number of daily result records for your account. Add a credit card to your account to increase the number of available free records."
        ],
        "queryCost": 2,
        "remainingCost": 0
       },
       {
        "columns": {
         "address": {
          "id": "address",
          "name": "Address",
          "type": 1,
          "unit": null
         },
         "cloudcover": {
          "id": "cloudcover",
          "name": "Cloud Cover",
          "type": 2,
          "unit": "%"
         },
         "conditions": {
          "id": "conditions",
          "name": "Conditions",
          "type": 1,
          "unit": null
         },
         "datetime": {
          "id": "datetime",
          "name": "Date time",
          "type": 3,
          "unit": null
         },
         "dew": {
          "id": "dew",
          "name": "Dew Point",
          "type": 2,
          "unit": "degF"
         },
         "heatindex": {
          "id": "heatindex",
          "name": "Heat Index",
          "type": 2,
          "unit": "degF"
         },
         "humidity": {
          "id": "humidity",
          "name": "Relative Humidity",
          "type": 2,
          "unit": "%"
         },
         "info": {
          "id": "info",
          "name": "Info",
          "type": 1,
          "unit": null
         },
         "latitude": {
          "id": "latitude",
          "name": "Latitude",
          "type": 2,
          "unit": null
         },
         "longitude": {
          "id": "longitude",
          "name": "Longitude",
          "type": 2,
          "unit": null
         },
         "maxt": {
          "id": "maxt",
          "name": "Maximum Temperature",
          "type": 2,
          "unit": "degF"
         },
         "mint": {
          "id": "mint",
          "name": "Minimum Temperature",
          "type": 2,
          "unit": "degF"
         },
         "name": {
          "id": "name",
          "name": "Name",
          "type": 1,
          "unit": null
         },
         "precip": {
          "id": "precip",
          "name": "Precipitation",
          "type": 2,
          "unit": "in"
         },
         "precipcover": {
          "id": "precipcover",
          "name": "Precipitation Cover",
          "type": 2,
          "unit": "%"
         },
         "resolvedAddress": {
          "id": "resolvedAddress",
          "name": "Resolved Address",
          "type": 1,
          "unit": null
         },
         "sealevelpressure": {
          "id": "sealevelpressure",
          "name": "Sea Level Pressure",
          "type": 2,
          "unit": "Pa"
         },
         "snowdepth": {
          "id": "snowdepth",
          "name": "Snow Depth",
          "type": 2,
          "unit": "in"
         },
         "temp": {
          "id": "temp",
          "name": "Temperature",
          "type": 2,
          "unit": "degF"
         },
         "visibility": {
          "id": "visibility",
          "name": "Visibility",
          "type": 2,
          "unit": "mi"
         },
         "wdir": {
          "id": "wdir",
          "name": "Wind Direction",
          "type": 2,
          "unit": null
         },
         "weathertype": {
          "id": "weathertype",
          "name": "Weather Type",
          "type": 1,
          "unit": null
         },
         "wgust": {
          "id": "wgust",
          "name": "Wind Gust",
          "type": 2,
          "unit": "mph"
         },
         "windchill": {
          "id": "windchill",
          "name": "Wind Chill",
          "type": 2,
          "unit": "degF"
         },
         "wspd": {
          "id": "wspd",
          "name": "Wind Speed",
          "type": 2,
          "unit": "mph"
         }
        },
        "locations": {
         "Clarksburg/Fairmont, WV": {
          "address": "Fairmont Ave, Clarksburg, WV 26301, United States",
          "alerts": null,
          "currentConditions": null,
          "distance": 0,
          "id": "Clarksburg/Fairmont, WV",
          "index": 0,
          "latitude": 39.2902,
          "longitude": -80.3585,
          "name": "Fairmont Ave, Clarksburg, WV 26301, United States",
          "stationContributions": null,
          "time": 0,
          "values": [
           {
            "cloudcover": 81.2,
            "conditions": "Overcast",
            "datetime": 1515110400000,
            "datetimeStr": "2018-01-05T00:00:00-05:00",
            "dew": -2.2,
            "heatindex": null,
            "humidity": 58.61,
            "info": null,
            "maxt": 12.4,
            "mint": 3.8,
            "precip": 0,
            "precipcover": 0,
            "sealevelpressure": 1024,
            "snowdepth": null,
            "temp": 9.6,
            "visibility": 7.6,
            "wdir": 282,
            "weathertype": null,
            "wgust": 32.2,
            "windchill": -14.9,
            "wspd": 19.7
           },
           {
            "cloudcover": 50.5,
            "conditions": "Partially cloudy",
            "datetime": 1515196800000,
            "datetimeStr": "2018-01-06T00:00:00-05:00",
            "dew": -4.3,
            "heatindex": null,
            "humidity": 60.86,
            "info": null,
            "maxt": 11.6,
            "mint": -0.1,
            "precip": 0,
            "precipcover": 0,
            "sealevelpressure": 1033.5,
            "snowdepth": null,
            "temp": 6.6,
            "visibility": 9.4,
            "wdir": 271.2,
            "weathertype": null,
            "wgust": null,
            "windchill": -10.7,
            "wspd": 13.4
           }
          ]
         }
        },
        "messages": [
         "This is a preview of the first 2 rows.You have exceeded the maximum number of daily result records for your account. Add a credit card to your account to increase the number of available free records."
        ],
        "queryCost": 2,
        "remainingCost": 0
       },
       {
        "columns": {
         "address": {
          "id": "address",
          "name": "Address",
          "type": 1,
          "unit": null
         },
         "cloudcover": {
          "id": "cloudcover",
          "name": "Cloud Cover",
          "type": 2,
          "unit": "%"
         },
         "conditions": {
          "id": "conditions",
          "name": "Conditions",
          "type": 1,
          "unit": null
         },
         "datetime": {
          "id": "datetime",
          "name": "Date time",
          "type": 3,
          "unit": null
         },
         "dew": {
          "id": "dew",
          "name": "Dew Point",
          "type": 2,
          "unit": "degF"
         },
         "heatindex": {
          "id": "heatindex",
          "name": "Heat Index",
          "type": 2,
          "unit": "degF"
         },
         "humidity": {
          "id": "humidity",
          "name": "Relative Humidity",
          "type": 2,
          "unit": "%"
         },
         "info": {
          "id": "info",
          "name": "Info",
          "type": 1,
          "unit": null
         },
         "latitude": {
          "id": "latitude",
          "name": "Latitude",
          "type": 2,
          "unit": null
         },
         "longitude": {
          "id": "longitude",
          "name": "Longitude",
          "type": 2,
          "unit": null
         },
         "maxt": {
          "id": "maxt",
          "name": "Maximum Temperature",
          "type": 2,
          "unit": "degF"
         },
         "mint": {
          "id": "mint",
          "name": "Minimum Temperature",
          "type": 2,
          "unit": "degF"
         },
         "name": {
          "id": "name",
          "name": "Name",
          "type": 1,
          "unit": null
         },
         "precip": {
          "id": "precip",
          "name": "Precipitation",
          "type": 2,
          "unit": "in"
         },
         "precipcover": {
          "id": "precipcover",
          "name": "Precipitation Cover",
          "type": 2,
          "unit": "%"
         },
         "resolvedAddress": {
          "id": "resolvedAddress",
          "name": "Resolved Address",
          "type": 1,
          "unit": null
         },
         "sealevelpressure": {
          "id": "sealevelpressure",
          "name": "Sea Level Pressure",
          "type": 2,
          "unit": "Pa"
         },
         "snowdepth": {
          "id": "snowdepth",
          "name": "Snow Depth",
          "type": 2,
          "unit": "in"
         },
         "temp": {
          "id": "temp",
          "name": "Temperature",
          "type": 2,
          "unit": "degF"
         },
         "visibility": {
          "id": "visibility",
          "name": "Visibility",
          "type": 2,
          "unit": "mi"
         },
         "wdir": {
          "id": "wdir",
          "name": "Wind Direction",
          "type": 2,
          "unit": null
         },
         "weathertype": {
          "id": "weathertype",
          "name": "Weather Type",
          "type": 1,
          "unit": null
         },
         "wgust": {
          "id": "wgust",
          "name": "Wind Gust",
          "type": 2,
          "unit": "mph"
         },
         "windchill": {
          "id": "windchill",
          "name": "Wind Chill",
          "type": 2,
          "unit": "degF"
         },
         "wspd": {
          "id": "wspd",
          "name": "Wind Speed",
          "type": 2,
          "unit": "mph"
         }
        },
        "locations": {
         "Rochester, NY": {
          "address": "rochester, NY",
          "alerts": null,
          "currentConditions": null,
          "distance": 0,
          "id": "Rochester, NY",
          "index": 0,
          "latitude": 43.1558,
          "longitude": -77.6163,
          "name": "rochester, NY",
          "stationContributions": null,
          "time": 0,
          "values": [
           {
            "cloudcover": 87.2,
            "conditions": "Snow, Overcast",
            "datetime": 1547337600000,
            "datetimeStr": "2019-01-13T00:00:00-05:00",
            "dew": 9.9,
            "heatindex": null,
            "humidity": 70.81,
            "info": null,
            "maxt": 20.9,
            "mint": 14,
            "precip": 0,
            "precipcover": 0,
            "sealevelpressure": 1032.5,
            "snowdepth": 3.15,
            "temp": 17.9,
            "visibility": 9.2,
            "wdir": 101.25,
            "weathertype": null,
            "wgust": null,
            "windchill": 1.2,
            "wspd": 12.8
           },
           {
            "cloudcover": 81.6,
            "conditions": "Snow, Overcast",
            "datetime": 1547424000000,
            "datetimeStr": "2019-01-14T00:00:00-05:00",
            "dew": 14.5,
            "heatindex": null,
            "humidity": 77.31,
            "info": null,
            "maxt": 26.1,
            "mint": 17.1,
            "precip": 0,
            "precipcover": 0,
            "sealevelpressure": 1026.3,
            "snowdepth": 2.26,
            "temp": 20.7,
            "visibility": 9.6,
            "wdir": 125,
            "weathertype": null,
            "wgust": null,
            "windchill": 7.6,
            "wspd": 6.9
           }
          ]
         }
        },
        "messages": [
         "This is a preview of the first 2 rows.You have exceeded the maximum number of daily result records for your account. Add a credit card to your account to increase the number of available free records."
        ],
        "queryCost": 2,
        "remainingCost": 0
       },
       {
        "columns": {
         "address": {
          "id": "address",
          "name": "Address",
          "type": 1,
          "unit": null
         },
         "cloudcover": {
          "id": "cloudcover",
          "name": "Cloud Cover",
          "type": 2,
          "unit": "%"
         },
         "conditions": {
          "id": "conditions",
          "name": "Conditions",
          "type": 1,
          "unit": null
         },
         "datetime": {
          "id": "datetime",
          "name": "Date time",
          "type": 3,
          "unit": null
         },
         "dew": {
          "id": "dew",
          "name": "Dew Point",
          "type": 2,
          "unit": "degF"
         },
         "heatindex": {
          "id": "heatindex",
          "name": "Heat Index",
          "type": 2,
          "unit": "degF"
         },
         "humidity": {
          "id": "humidity",
          "name": "Relative Humidity",
          "type": 2,
          "unit": "%"
         },
         "info": {
          "id": "info",
          "name": "Info",
          "type": 1,
          "unit": null
         },
         "latitude": {
          "id": "latitude",
          "name": "Latitude",
          "type": 2,
          "unit": null
         },
         "longitude": {
          "id": "longitude",
          "name": "Longitude",
          "type": 2,
          "unit": null
         },
         "maxt": {
          "id": "maxt",
          "name": "Maximum Temperature",
          "type": 2,
          "unit": "degF"
         },
         "mint": {
          "id": "mint",
          "name": "Minimum Temperature",
          "type": 2,
          "unit": "degF"
         },
         "name": {
          "id": "name",
          "name": "Name",
          "type": 1,
          "unit": null
         },
         "precip": {
          "id": "precip",
          "name": "Precipitation",
          "type": 2,
          "unit": "in"
         },
         "precipcover": {
          "id": "precipcover",
          "name": "Precipitation Cover",
          "type": 2,
          "unit": "%"
         },
         "resolvedAddress": {
          "id": "resolvedAddress",
          "name": "Resolved Address",
          "type": 1,
          "unit": null
         },
         "sealevelpressure": {
          "id": "sealevelpressure",
          "name": "Sea Level Pressure",
          "type": 2,
          "unit": "Pa"
         },
         "snowdepth": {
          "id": "snowdepth",
          "name": "Snow Depth",
          "type": 2,
          "unit": "in"
         },
         "temp": {
          "id": "temp",
          "name": "Temperature",
          "type": 2,
          "unit": "degF"
         },
         "visibility": {
          "id": "visibility",
          "name": "Visibility",
          "type": 2,
          "unit": "mi"
         },
         "wdir": {
          "id": "wdir",
          "name": "Wind Direction",
          "type": 2,
          "unit": null
         },
         "weathertype": {
          "id": "weathertype",
          "name": "Weather Type",
          "type": 1,
          "unit": null
         },
         "wgust": {
          "id": "wgust",
          "name": "Wind Gust",
          "type": 2,
          "unit": "mph"
         },
         "windchill": {
          "id": "windchill",
          "name": "Wind Chill",
          "type": 2,
          "unit": "degF"
         },
         "wspd": {
          "id": "wspd",
          "name": "Wind Speed",
          "type": 2,
          "unit": "mph"
         }
        },
        "locations": {
         "Knoxville, TN": {
          "address": "knoxville, tn",
          "alerts": null,
          "currentConditions": null,
          "distance": 0,
          "id": "Knoxville, TN",
          "index": 0,
          "latitude": 35.9607,
          "longitude": -83.921,
          "name": "knoxville, tn",
          "stationContributions": null,
          "time": 0,
          "values": [
           {
            "cloudcover": 2.6,
            "conditions": "Clear",
            "datetime": 1516320000000,
            "datetimeStr": "2018-01-19T00:00:00-05:00",
            "dew": 17.4,
            "heatindex": null,
            "humidity": 70.36,
            "info": null,
            "maxt": 48.2,
            "mint": 14.1,
            "precip": 0,
            "precipcover": 0,
            "sealevelpressure": 1025.8,
            "snowdepth": null,
            "temp": 28.3,
            "visibility": 9.9,
            "wdir": 226.46,
            "weathertype": null,
            "wgust": null,
            "windchill": 35.9,
            "wspd": 8.1
           },
           {
            "cloudcover": 10.4,
            "conditions": "Clear",
            "datetime": 1516406400000,
            "datetimeStr": "2018-01-20T00:00:00-05:00",
            "dew": 29.3,
            "heatindex": null,
            "humidity": 69.65,
            "info": null,
            "maxt": 59,
            "mint": 25.4,
            "precip": 0,
            "precipcover": 0,
            "sealevelpressure": 1023.8,
            "snowdepth": null,
            "temp": 39.5,
            "visibility": 9.9,
            "wdir": 202.44,
            "weathertype": null,
            "wgust": null,
            "windchill": null,
            "wspd": 9.1
           }
          ]
         }
        },
        "messages": [
         "This is a preview of the first 2 rows.You have exceeded the maximum number of daily result records for your account. Add a credit card to your account to increase the number of available free records."
        ],
        "queryCost": 2,
        "remainingCost": 0
       },
       {
        "columns": {
         "address": {
          "id": "address",
          "name": "Address",
          "type": 1,
          "unit": null
         },
         "cloudcover": {
          "id": "cloudcover",
          "name": "Cloud Cover",
          "type": 2,
          "unit": "%"
         },
         "conditions": {
          "id": "conditions",
          "name": "Conditions",
          "type": 1,
          "unit": null
         },
         "datetime": {
          "id": "datetime",
          "name": "Date time",
          "type": 3,
          "unit": null
         },
         "dew": {
          "id": "dew",
          "name": "Dew Point",
          "type": 2,
          "unit": "degF"
         },
         "heatindex": {
          "id": "heatindex",
          "name": "Heat Index",
          "type": 2,
          "unit": "degF"
         },
         "humidity": {
          "id": "humidity",
          "name": "Relative Humidity",
          "type": 2,
          "unit": "%"
         },
         "info": {
          "id": "info",
          "name": "Info",
          "type": 1,
          "unit": null
         },
         "latitude": {
          "id": "latitude",
          "name": "Latitude",
          "type": 2,
          "unit": null
         },
         "longitude": {
          "id": "longitude",
          "name": "Longitude",
          "type": 2,
          "unit": null
         },
         "maxt": {
          "id": "maxt",
          "name": "Maximum Temperature",
          "type": 2,
          "unit": "degF"
         },
         "mint": {
          "id": "mint",
          "name": "Minimum Temperature",
          "type": 2,
          "unit": "degF"
         },
         "name": {
          "id": "name",
          "name": "Name",
          "type": 1,
          "unit": null
         },
         "precip": {
          "id": "precip",
          "name": "Precipitation",
          "type": 2,
          "unit": "in"
         },
         "precipcover": {
          "id": "precipcover",
          "name": "Precipitation Cover",
          "type": 2,
          "unit": "%"
         },
         "resolvedAddress": {
          "id": "resolvedAddress",
          "name": "Resolved Address",
          "type": 1,
          "unit": null
         },
         "sealevelpressure": {
          "id": "sealevelpressure",
          "name": "Sea Level Pressure",
          "type": 2,
          "unit": "Pa"
         },
         "snowdepth": {
          "id": "snowdepth",
          "name": "Snow Depth",
          "type": 2,
          "unit": "in"
         },
         "temp": {
          "id": "temp",
          "name": "Temperature",
          "type": 2,
          "unit": "degF"
         },
         "visibility": {
          "id": "visibility",
          "name": "Visibility",
          "type": 2,
          "unit": "mi"
         },
         "wdir": {
          "id": "wdir",
          "name": "Wind Direction",
          "type": 2,
          "unit": null
         },
         "weathertype": {
          "id": "weathertype",
          "name": "Weather Type",
          "type": 1,
          "unit": null
         },
         "wgust": {
          "id": "wgust",
          "name": "Wind Gust",
          "type": 2,
          "unit": "mph"
         },
         "windchill": {
          "id": "windchill",
          "name": "Wind Chill",
          "type": 2,
          "unit": "degF"
         },
         "wspd": {
          "id": "wspd",
          "name": "Wind Speed",
          "type": 2,
          "unit": "mph"
         }
        },
        "locations": {
         "Wenatchee, WA": {
          "address": "Wenatchee, WA, United States",
          "alerts": null,
          "currentConditions": null,
          "distance": 0,
          "id": "Wenatchee, WA",
          "index": 0,
          "latitude": 47.415,
          "longitude": -120.305,
          "name": "Wenatchee, WA, United States",
          "stationContributions": null,
          "time": 0,
          "values": [
           {
            "cloudcover": 79.1,
            "conditions": "Overcast",
            "datetime": 1548460800000,
            "datetimeStr": "2019-01-26T00:00:00-08:00",
            "dew": 26.5,
            "heatindex": null,
            "humidity": 93.27,
            "info": null,
            "maxt": 29.9,
            "mint": 26.1,
            "precip": 0,
            "precipcover": 0,
            "sealevelpressure": 1033.1,
            "snowdepth": null,
            "temp": 28.2,
            "visibility": 3.8,
            "wdir": 112.71,
            "weathertype": null,
            "wgust": null,
            "windchill": 22.4,
            "wspd": 5.8
           },
           {
            "cloudcover": 30.8,
            "conditions": "Partially cloudy",
            "datetime": 1548547200000,
            "datetimeStr": "2019-01-27T00:00:00-08:00",
            "dew": 28.2,
            "heatindex": null,
            "humidity": 83.83,
            "info": null,
            "maxt": 41,
            "mint": 26.7,
            "precip": 0,
            "precipcover": 0,
            "sealevelpressure": 1027.3,
            "snowdepth": null,
            "temp": 32.9,
            "visibility": 7.3,
            "wdir": 147.83,
            "weathertype": null,
            "wgust": null,
            "windchill": 18.8,
            "wspd": 10.3
           }
          ]
         }
        },
        "messages": [
         "This is a preview of the first 2 rows.You have exceeded the maximum number of daily result records for your account. Add a credit card to your account to increase the number of available free records."
        ],
        "queryCost": 2,
        "remainingCost": 0
       },
       {
        "columns": {
         "address": {
          "id": "address",
          "name": "Address",
          "type": 1,
          "unit": null
         },
         "cloudcover": {
          "id": "cloudcover",
          "name": "Cloud Cover",
          "type": 2,
          "unit": "%"
         },
         "conditions": {
          "id": "conditions",
          "name": "Conditions",
          "type": 1,
          "unit": null
         },
         "datetime": {
          "id": "datetime",
          "name": "Date time",
          "type": 3,
          "unit": null
         },
         "dew": {
          "id": "dew",
          "name": "Dew Point",
          "type": 2,
          "unit": "degF"
         },
         "heatindex": {
          "id": "heatindex",
          "name": "Heat Index",
          "type": 2,
          "unit": "degF"
         },
         "humidity": {
          "id": "humidity",
          "name": "Relative Humidity",
          "type": 2,
          "unit": "%"
         },
         "info": {
          "id": "info",
          "name": "Info",
          "type": 1,
          "unit": null
         },
         "latitude": {
          "id": "latitude",
          "name": "Latitude",
          "type": 2,
          "unit": null
         },
         "longitude": {
          "id": "longitude",
          "name": "Longitude",
          "type": 2,
          "unit": null
         },
         "maxt": {
          "id": "maxt",
          "name": "Maximum Temperature",
          "type": 2,
          "unit": "degF"
         },
         "mint": {
          "id": "mint",
          "name": "Minimum Temperature",
          "type": 2,
          "unit": "degF"
         },
         "name": {
          "id": "name",
          "name": "Name",
          "type": 1,
          "unit": null
         },
         "precip": {
          "id": "precip",
          "name": "Precipitation",
          "type": 2,
          "unit": "in"
         },
         "precipcover": {
          "id": "precipcover",
          "name": "Precipitation Cover",
          "type": 2,
          "unit": "%"
         },
         "resolvedAddress": {
          "id": "resolvedAddress",
          "name": "Resolved Address",
          "type": 1,
          "unit": null
         },
         "sealevelpressure": {
          "id": "sealevelpressure",
          "name": "Sea Level Pressure",
          "type": 2,
          "unit": "Pa"
         },
         "snowdepth": {
          "id": "snowdepth",
          "name": "Snow Depth",
          "type": 2,
          "unit": "in"
         },
         "temp": {
          "id": "temp",
          "name": "Temperature",
          "type": 2,
          "unit": "degF"
         },
         "visibility": {
          "id": "visibility",
          "name": "Visibility",
          "type": 2,
          "unit": "mi"
         },
         "wdir": {
          "id": "wdir",
          "name": "Wind Direction",
          "type": 2,
          "unit": null
         },
         "weathertype": {
          "id": "weathertype",
          "name": "Weather Type",
          "type": 1,
          "unit": null
         },
         "wgust": {
          "id": "wgust",
          "name": "Wind Gust",
          "type": 2,
          "unit": "mph"
         },
         "windchill": {
          "id": "windchill",
          "name": "Wind Chill",
          "type": 2,
          "unit": "degF"
         },
         "wspd": {
          "id": "wspd",
          "name": "Wind Speed",
          "type": 2,
          "unit": "mph"
         }
        },
        "locations": {
         "Waco, TX": {
          "address": "Waco, TX",
          "alerts": null,
          "currentConditions": null,
          "distance": 0,
          "id": "Waco, TX",
          "index": 0,
          "latitude": 31.5718,
          "longitude": -97.1495,
          "name": "Waco, TX",
          "stationContributions": null,
          "time": 0,
          "values": [
           {
            "cloudcover": 71.1,
            "conditions": "Partially cloudy",
            "datetime": 1547078400000,
            "datetimeStr": "2019-01-10T00:00:00-06:00",
            "dew": 32.9,
            "heatindex": null,
            "humidity": 58.77,
            "info": null,
            "maxt": 54,
            "mint": 38,
            "precip": 0,
            "precipcover": 0,
            "sealevelpressure": 1025.8,
            "snowdepth": null,
            "temp": 47.5,
            "visibility": 9.9,
            "wdir": 121.67,
            "weathertype": null,
            "wgust": null,
            "windchill": 35.7,
            "wspd": 10.3
           },
           {
            "cloudcover": 69.1,
            "conditions": "Rain, Partially cloudy",
            "datetime": 1547164800000,
            "datetimeStr": "2019-01-11T00:00:00-06:00",
            "dew": 44.4,
            "heatindex": null,
            "humidity": 76.79,
            "info": null,
            "maxt": 57.8,
            "mint": 46.1,
            "precip": 0.26,
            "precipcover": 29.17,
            "sealevelpressure": 1017.2,
            "snowdepth": null,
            "temp": 51.7,
            "visibility": 8.5,
            "wdir": 167.92,
            "weathertype": null,
            "wgust": null,
            "windchill": 40.7,
            "wspd": 13.9
           }
          ]
         }
        },
        "messages": [
         "This is a preview of the first 2 rows.You have exceeded the maximum number of daily result records for your account. Add a credit card to your account to increase the number of available free records."
        ],
        "queryCost": 2,
        "remainingCost": 0
       },
       {
        "columns": {
         "address": {
          "id": "address",
          "name": "Address",
          "type": 1,
          "unit": null
         },
         "cloudcover": {
          "id": "cloudcover",
          "name": "Cloud Cover",
          "type": 2,
          "unit": "%"
         },
         "conditions": {
          "id": "conditions",
          "name": "Conditions",
          "type": 1,
          "unit": null
         },
         "datetime": {
          "id": "datetime",
          "name": "Date time",
          "type": 3,
          "unit": null
         },
         "dew": {
          "id": "dew",
          "name": "Dew Point",
          "type": 2,
          "unit": "degF"
         },
         "heatindex": {
          "id": "heatindex",
          "name": "Heat Index",
          "type": 2,
          "unit": "degF"
         },
         "humidity": {
          "id": "humidity",
          "name": "Relative Humidity",
          "type": 2,
          "unit": "%"
         },
         "info": {
          "id": "info",
          "name": "Info",
          "type": 1,
          "unit": null
         },
         "latitude": {
          "id": "latitude",
          "name": "Latitude",
          "type": 2,
          "unit": null
         },
         "longitude": {
          "id": "longitude",
          "name": "Longitude",
          "type": 2,
          "unit": null
         },
         "maxt": {
          "id": "maxt",
          "name": "Maximum Temperature",
          "type": 2,
          "unit": "degF"
         },
         "mint": {
          "id": "mint",
          "name": "Minimum Temperature",
          "type": 2,
          "unit": "degF"
         },
         "name": {
          "id": "name",
          "name": "Name",
          "type": 1,
          "unit": null
         },
         "precip": {
          "id": "precip",
          "name": "Precipitation",
          "type": 2,
          "unit": "in"
         },
         "precipcover": {
          "id": "precipcover",
          "name": "Precipitation Cover",
          "type": 2,
          "unit": "%"
         },
         "resolvedAddress": {
          "id": "resolvedAddress",
          "name": "Resolved Address",
          "type": 1,
          "unit": null
         },
         "sealevelpressure": {
          "id": "sealevelpressure",
          "name": "Sea Level Pressure",
          "type": 2,
          "unit": "Pa"
         },
         "snowdepth": {
          "id": "snowdepth",
          "name": "Snow Depth",
          "type": 2,
          "unit": "in"
         },
         "temp": {
          "id": "temp",
          "name": "Temperature",
          "type": 2,
          "unit": "degF"
         },
         "visibility": {
          "id": "visibility",
          "name": "Visibility",
          "type": 2,
          "unit": "mi"
         },
         "wdir": {
          "id": "wdir",
          "name": "Wind Direction",
          "type": 2,
          "unit": null
         },
         "weathertype": {
          "id": "weathertype",
          "name": "Weather Type",
          "type": 1,
          "unit": null
         },
         "wgust": {
          "id": "wgust",
          "name": "Wind Gust",
          "type": 2,
          "unit": "mph"
         },
         "windchill": {
          "id": "windchill",
          "name": "Wind Chill",
          "type": 2,
          "unit": "degF"
         },
         "wspd": {
          "id": "wspd",
          "name": "Wind Speed",
          "type": 2,
          "unit": "mph"
         }
        },
        "locations": {
         "Pullman, WA": {
          "address": "Pullman, WA",
          "alerts": null,
          "currentConditions": null,
          "distance": 0,
          "id": "Pullman, WA",
          "index": 0,
          "latitude": 46.7301,
          "longitude": -117.181,
          "name": "Pullman, WA",
          "stationContributions": null,
          "time": 0,
          "values": [
           {
            "cloudcover": 55,
            "conditions": "Rain, Partially cloudy",
            "datetime": 1517270400000,
            "datetimeStr": "2018-01-30T00:00:00-08:00",
            "dew": 32.9,
            "heatindex": null,
            "humidity": 79.48,
            "info": null,
            "maxt": 45,
            "mint": 33.2,
            "precip": 0.02,
            "precipcover": 8.33,
            "sealevelpressure": 1018,
            "snowdepth": null,
            "temp": 38.8,
            "visibility": 9.9,
            "wdir": 236.83,
            "weathertype": null,
            "wgust": 42.5,
            "windchill": 25.8,
            "wspd": 25
           },
           {
            "cloudcover": 31,
            "conditions": "Partially cloudy",
            "datetime": 1517356800000,
            "datetimeStr": "2018-01-31T00:00:00-08:00",
            "dew": 28.4,
            "heatindex": null,
            "humidity": 80.21,
            "info": null,
            "maxt": 38.1,
            "mint": 30.9,
            "precip": 0,
            "precipcover": 0,
            "sealevelpressure": 1023.5,
            "snowdepth": null,
            "temp": 33.9,
            "visibility": 9.9,
            "wdir": 225.86,
            "weathertype": null,
            "wgust": null,
            "windchill": 21.1,
            "wspd": 16.9
           }
          ]
         }
        },
        "messages": [
         "This is a preview of the first 2 rows.You have exceeded the maximum number of daily result records for your account. Add a credit card to your account to increase the number of available free records."
        ],
        "queryCost": 2,
        "remainingCost": 0
       },
       {
        "errorCode": 999,
        "executionTime": -1,
        "message": "The geographic location of Guam, TT could not be found. If this is a partial address, please consider adding addition detail such as the city, state or country.",
        "sessionId": ""
       },
       {
        "columns": {
         "address": {
          "id": "address",
          "name": "Address",
          "type": 1,
          "unit": null
         },
         "cloudcover": {
          "id": "cloudcover",
          "name": "Cloud Cover",
          "type": 2,
          "unit": "%"
         },
         "conditions": {
          "id": "conditions",
          "name": "Conditions",
          "type": 1,
          "unit": null
         },
         "datetime": {
          "id": "datetime",
          "name": "Date time",
          "type": 3,
          "unit": null
         },
         "dew": {
          "id": "dew",
          "name": "Dew Point",
          "type": 2,
          "unit": "degF"
         },
         "heatindex": {
          "id": "heatindex",
          "name": "Heat Index",
          "type": 2,
          "unit": "degF"
         },
         "humidity": {
          "id": "humidity",
          "name": "Relative Humidity",
          "type": 2,
          "unit": "%"
         },
         "info": {
          "id": "info",
          "name": "Info",
          "type": 1,
          "unit": null
         },
         "latitude": {
          "id": "latitude",
          "name": "Latitude",
          "type": 2,
          "unit": null
         },
         "longitude": {
          "id": "longitude",
          "name": "Longitude",
          "type": 2,
          "unit": null
         },
         "maxt": {
          "id": "maxt",
          "name": "Maximum Temperature",
          "type": 2,
          "unit": "degF"
         },
         "mint": {
          "id": "mint",
          "name": "Minimum Temperature",
          "type": 2,
          "unit": "degF"
         },
         "name": {
          "id": "name",
          "name": "Name",
          "type": 1,
          "unit": null
         },
         "precip": {
          "id": "precip",
          "name": "Precipitation",
          "type": 2,
          "unit": "in"
         },
         "precipcover": {
          "id": "precipcover",
          "name": "Precipitation Cover",
          "type": 2,
          "unit": "%"
         },
         "resolvedAddress": {
          "id": "resolvedAddress",
          "name": "Resolved Address",
          "type": 1,
          "unit": null
         },
         "sealevelpressure": {
          "id": "sealevelpressure",
          "name": "Sea Level Pressure",
          "type": 2,
          "unit": "Pa"
         },
         "snowdepth": {
          "id": "snowdepth",
          "name": "Snow Depth",
          "type": 2,
          "unit": "in"
         },
         "temp": {
          "id": "temp",
          "name": "Temperature",
          "type": 2,
          "unit": "degF"
         },
         "visibility": {
          "id": "visibility",
          "name": "Visibility",
          "type": 2,
          "unit": "mi"
         },
         "wdir": {
          "id": "wdir",
          "name": "Wind Direction",
          "type": 2,
          "unit": null
         },
         "weathertype": {
          "id": "weathertype",
          "name": "Weather Type",
          "type": 1,
          "unit": null
         },
         "wgust": {
          "id": "wgust",
          "name": "Wind Gust",
          "type": 2,
          "unit": "mph"
         },
         "windchill": {
          "id": "windchill",
          "name": "Wind Chill",
          "type": 2,
          "unit": "degF"
         },
         "wspd": {
          "id": "wspd",
          "name": "Wind Speed",
          "type": 2,
          "unit": "mph"
         }
        },
        "locations": {
         "Roswell, NM": {
          "address": "Roswell, NM",
          "alerts": null,
          "currentConditions": null,
          "distance": 0,
          "id": "Roswell, NM",
          "index": 0,
          "latitude": 33.3951,
          "longitude": -104.523,
          "name": "Roswell, NM",
          "stationContributions": null,
          "time": 0,
          "values": [
           {
            "cloudcover": 66.4,
            "conditions": "Partially cloudy",
            "datetime": 1547337600000,
            "datetimeStr": "2019-01-13T00:00:00-07:00",
            "dew": 30.7,
            "heatindex": null,
            "humidity": 72.62,
            "info": null,
            "maxt": 47.9,
            "mint": 32,
            "precip": 0,
            "precipcover": 0,
            "sealevelpressure": 1024.4,
            "snowdepth": null,
            "temp": 39.1,
            "visibility": 9.9,
            "wdir": 166.25,
            "weathertype": null,
            "wgust": null,
            "windchill": 26.4,
            "wspd": 16.1
           },
           {
            "cloudcover": 67.4,
            "conditions": "Partially cloudy",
            "datetime": 1547424000000,
            "datetimeStr": "2019-01-14T00:00:00-07:00",
            "dew": 33.6,
            "heatindex": null,
            "humidity": 77.62,
            "info": null,
            "maxt": 47,
            "mint": 34.1,
            "precip": 0,
            "precipcover": 0,
            "sealevelpressure": 1024.8,
            "snowdepth": null,
            "temp": 40.2,
            "visibility": 9.4,
            "wdir": 160.42,
            "weathertype": null,
            "wgust": null,
            "windchill": 28.5,
            "wspd": 11.4
           }
          ]
         }
        },
        "messages": [
         "This is a preview of the first 2 rows.You have exceeded the maximum number of daily result records for your account. Add a credit card to your account to increase the number of available free records."
        ],
        "queryCost": 2,
        "remainingCost": 0
       },
       {
        "columns": {
         "address": {
          "id": "address",
          "name": "Address",
          "type": 1,
          "unit": null
         },
         "cloudcover": {
          "id": "cloudcover",
          "name": "Cloud Cover",
          "type": 2,
          "unit": "%"
         },
         "conditions": {
          "id": "conditions",
          "name": "Conditions",
          "type": 1,
          "unit": null
         },
         "datetime": {
          "id": "datetime",
          "name": "Date time",
          "type": 3,
          "unit": null
         },
         "dew": {
          "id": "dew",
          "name": "Dew Point",
          "type": 2,
          "unit": "degF"
         },
         "heatindex": {
          "id": "heatindex",
          "name": "Heat Index",
          "type": 2,
          "unit": "degF"
         },
         "humidity": {
          "id": "humidity",
          "name": "Relative Humidity",
          "type": 2,
          "unit": "%"
         },
         "info": {
          "id": "info",
          "name": "Info",
          "type": 1,
          "unit": null
         },
         "latitude": {
          "id": "latitude",
          "name": "Latitude",
          "type": 2,
          "unit": null
         },
         "longitude": {
          "id": "longitude",
          "name": "Longitude",
          "type": 2,
          "unit": null
         },
         "maxt": {
          "id": "maxt",
          "name": "Maximum Temperature",
          "type": 2,
          "unit": "degF"
         },
         "mint": {
          "id": "mint",
          "name": "Minimum Temperature",
          "type": 2,
          "unit": "degF"
         },
         "name": {
          "id": "name",
          "name": "Name",
          "type": 1,
          "unit": null
         },
         "precip": {
          "id": "precip",
          "name": "Precipitation",
          "type": 2,
          "unit": "in"
         },
         "precipcover": {
          "id": "precipcover",
          "name": "Precipitation Cover",
          "type": 2,
          "unit": "%"
         },
         "resolvedAddress": {
          "id": "resolvedAddress",
          "name": "Resolved Address",
          "type": 1,
          "unit": null
         },
         "sealevelpressure": {
          "id": "sealevelpressure",
          "name": "Sea Level Pressure",
          "type": 2,
          "unit": "Pa"
         },
         "snowdepth": {
          "id": "snowdepth",
          "name": "Snow Depth",
          "type": 2,
          "unit": "in"
         },
         "temp": {
          "id": "temp",
          "name": "Temperature",
          "type": 2,
          "unit": "degF"
         },
         "visibility": {
          "id": "visibility",
          "name": "Visibility",
          "type": 2,
          "unit": "mi"
         },
         "wdir": {
          "id": "wdir",
          "name": "Wind Direction",
          "type": 2,
          "unit": null
         },
         "weathertype": {
          "id": "weathertype",
          "name": "Weather Type",
          "type": 1,
          "unit": null
         },
         "wgust": {
          "id": "wgust",
          "name": "Wind Gust",
          "type": 2,
          "unit": "mph"
         },
         "windchill": {
          "id": "windchill",
          "name": "Wind Chill",
          "type": 2,
          "unit": "degF"
         },
         "wspd": {
          "id": "wspd",
          "name": "Wind Speed",
          "type": 2,
          "unit": "mph"
         }
        },
        "locations": {
         "Panama City, FL": {
          "address": "Panama City, FL",
          "alerts": null,
          "currentConditions": null,
          "distance": 0,
          "id": "Panama City, FL",
          "index": 0,
          "latitude": 30.1599,
          "longitude": -85.6603,
          "name": "Panama City, FL",
          "stationContributions": null,
          "time": 0,
          "values": [
           {
            "cloudcover": 0.7,
            "conditions": "Rain",
            "datetime": 1515715200000,
            "datetimeStr": "2018-01-12T00:00:00-06:00",
            "dew": 55.9,
            "heatindex": null,
            "humidity": 89.75,
            "info": null,
            "maxt": 64.7,
            "mint": 41.6,
            "precip": 0.76,
            "precipcover": 33.33,
            "sealevelpressure": 1010.9,
            "snowdepth": null,
            "temp": 58.5,
            "visibility": 8.6,
            "wdir": 234.52,
            "weathertype": null,
            "wgust": 26.4,
            "windchill": 34.6,
            "wspd": 20.8
           },
           {
            "cloudcover": 0.2,
            "conditions": "Clear",
            "datetime": 1515801600000,
            "datetimeStr": "2018-01-13T00:00:00-06:00",
            "dew": 26.2,
            "heatindex": null,
            "humidity": 65.69,
            "info": null,
            "maxt": 44.3,
            "mint": 30.5,
            "precip": 0,
            "precipcover": 0,
            "sealevelpressure": 1025.7,
            "snowdepth": null,
            "temp": 36.8,
            "visibility": 9.9,
            "wdir": 264.83,
            "weathertype": null,
            "wgust": 25.3,
            "windchill": 20.5,
            "wspd": 18.3
           }
          ]
         }
        },
        "messages": [
         "This is a preview of the first 2 rows.You have exceeded the maximum number of daily result records for your account. Add a credit card to your account to increase the number of available free records."
        ],
        "queryCost": 2,
        "remainingCost": 0
       },
       {
        "columns": {
         "address": {
          "id": "address",
          "name": "Address",
          "type": 1,
          "unit": null
         },
         "cloudcover": {
          "id": "cloudcover",
          "name": "Cloud Cover",
          "type": 2,
          "unit": "%"
         },
         "conditions": {
          "id": "conditions",
          "name": "Conditions",
          "type": 1,
          "unit": null
         },
         "datetime": {
          "id": "datetime",
          "name": "Date time",
          "type": 3,
          "unit": null
         },
         "dew": {
          "id": "dew",
          "name": "Dew Point",
          "type": 2,
          "unit": "degF"
         },
         "heatindex": {
          "id": "heatindex",
          "name": "Heat Index",
          "type": 2,
          "unit": "degF"
         },
         "humidity": {
          "id": "humidity",
          "name": "Relative Humidity",
          "type": 2,
          "unit": "%"
         },
         "info": {
          "id": "info",
          "name": "Info",
          "type": 1,
          "unit": null
         },
         "latitude": {
          "id": "latitude",
          "name": "Latitude",
          "type": 2,
          "unit": null
         },
         "longitude": {
          "id": "longitude",
          "name": "Longitude",
          "type": 2,
          "unit": null
         },
         "maxt": {
          "id": "maxt",
          "name": "Maximum Temperature",
          "type": 2,
          "unit": "degF"
         },
         "mint": {
          "id": "mint",
          "name": "Minimum Temperature",
          "type": 2,
          "unit": "degF"
         },
         "name": {
          "id": "name",
          "name": "Name",
          "type": 1,
          "unit": null
         },
         "precip": {
          "id": "precip",
          "name": "Precipitation",
          "type": 2,
          "unit": "in"
         },
         "precipcover": {
          "id": "precipcover",
          "name": "Precipitation Cover",
          "type": 2,
          "unit": "%"
         },
         "resolvedAddress": {
          "id": "resolvedAddress",
          "name": "Resolved Address",
          "type": 1,
          "unit": null
         },
         "sealevelpressure": {
          "id": "sealevelpressure",
          "name": "Sea Level Pressure",
          "type": 2,
          "unit": "Pa"
         },
         "snowdepth": {
          "id": "snowdepth",
          "name": "Snow Depth",
          "type": 2,
          "unit": "in"
         },
         "temp": {
          "id": "temp",
          "name": "Temperature",
          "type": 2,
          "unit": "degF"
         },
         "visibility": {
          "id": "visibility",
          "name": "Visibility",
          "type": 2,
          "unit": "mi"
         },
         "wdir": {
          "id": "wdir",
          "name": "Wind Direction",
          "type": 2,
          "unit": null
         },
         "weathertype": {
          "id": "weathertype",
          "name": "Weather Type",
          "type": 1,
          "unit": null
         },
         "wgust": {
          "id": "wgust",
          "name": "Wind Gust",
          "type": 2,
          "unit": "mph"
         },
         "windchill": {
          "id": "windchill",
          "name": "Wind Chill",
          "type": 2,
          "unit": "degF"
         },
         "wspd": {
          "id": "wspd",
          "name": "Wind Speed",
          "type": 2,
          "unit": "mph"
         }
        },
        "locations": {
         "Honolulu, HI": {
          "address": "Honolulu, HI",
          "alerts": null,
          "currentConditions": null,
          "distance": 0,
          "id": "Honolulu, HI",
          "index": 0,
          "latitude": 21.3049,
          "longitude": -157.858,
          "name": "Honolulu, HI",
          "stationContributions": null,
          "time": 0,
          "values": [
           {
            "cloudcover": 3,
            "conditions": "Clear",
            "datetime": 1547424000000,
            "datetimeStr": "2019-01-14T00:00:00-10:00",
            "dew": 61.7,
            "heatindex": 81.9,
            "humidity": 66.53,
            "info": null,
            "maxt": 80.9,
            "mint": 68,
            "precip": 0,
            "precipcover": 0,
            "sealevelpressure": 1017.1,
            "snowdepth": null,
            "temp": 73.7,
            "visibility": 9.9,
            "wdir": 169.55,
            "weathertype": null,
            "wgust": 11.4,
            "windchill": null,
            "wspd": 10.3
           },
           {
            "cloudcover": 1.8,
            "conditions": "Clear",
            "datetime": 1547510400000,
            "datetimeStr": "2019-01-15T00:00:00-10:00",
            "dew": 59.1,
            "heatindex": null,
            "humidity": 63.18,
            "info": null,
            "maxt": 76.5,
            "mint": 67.4,
            "precip": 0,
            "precipcover": 0,
            "sealevelpressure": 1016.2,
            "snowdepth": null,
            "temp": 72.6,
            "visibility": 9.9,
            "wdir": 165.61,
            "weathertype": null,
            "wgust": 9.2,
            "windchill": null,
            "wspd": 8.2
           }
          ]
         }
        },
        "messages": [
         "This is a preview of the first 2 rows.You have exceeded the maximum number of daily result records for your account. Add a credit card to your account to increase the number of available free records."
        ],
        "queryCost": 2,
        "remainingCost": 0
       },
       {
        "columns": {
         "address": {
          "id": "address",
          "name": "Address",
          "type": 1,
          "unit": null
         },
         "cloudcover": {
          "id": "cloudcover",
          "name": "Cloud Cover",
          "type": 2,
          "unit": "%"
         },
         "conditions": {
          "id": "conditions",
          "name": "Conditions",
          "type": 1,
          "unit": null
         },
         "datetime": {
          "id": "datetime",
          "name": "Date time",
          "type": 3,
          "unit": null
         },
         "dew": {
          "id": "dew",
          "name": "Dew Point",
          "type": 2,
          "unit": "degF"
         },
         "heatindex": {
          "id": "heatindex",
          "name": "Heat Index",
          "type": 2,
          "unit": "degF"
         },
         "humidity": {
          "id": "humidity",
          "name": "Relative Humidity",
          "type": 2,
          "unit": "%"
         },
         "info": {
          "id": "info",
          "name": "Info",
          "type": 1,
          "unit": null
         },
         "latitude": {
          "id": "latitude",
          "name": "Latitude",
          "type": 2,
          "unit": null
         },
         "longitude": {
          "id": "longitude",
          "name": "Longitude",
          "type": 2,
          "unit": null
         },
         "maxt": {
          "id": "maxt",
          "name": "Maximum Temperature",
          "type": 2,
          "unit": "degF"
         },
         "mint": {
          "id": "mint",
          "name": "Minimum Temperature",
          "type": 2,
          "unit": "degF"
         },
         "name": {
          "id": "name",
          "name": "Name",
          "type": 1,
          "unit": null
         },
         "precip": {
          "id": "precip",
          "name": "Precipitation",
          "type": 2,
          "unit": "in"
         },
         "precipcover": {
          "id": "precipcover",
          "name": "Precipitation Cover",
          "type": 2,
          "unit": "%"
         },
         "resolvedAddress": {
          "id": "resolvedAddress",
          "name": "Resolved Address",
          "type": 1,
          "unit": null
         },
         "sealevelpressure": {
          "id": "sealevelpressure",
          "name": "Sea Level Pressure",
          "type": 2,
          "unit": "Pa"
         },
         "snowdepth": {
          "id": "snowdepth",
          "name": "Snow Depth",
          "type": 2,
          "unit": "in"
         },
         "temp": {
          "id": "temp",
          "name": "Temperature",
          "type": 2,
          "unit": "degF"
         },
         "visibility": {
          "id": "visibility",
          "name": "Visibility",
          "type": 2,
          "unit": "mi"
         },
         "wdir": {
          "id": "wdir",
          "name": "Wind Direction",
          "type": 2,
          "unit": null
         },
         "weathertype": {
          "id": "weathertype",
          "name": "Weather Type",
          "type": 1,
          "unit": null
         },
         "wgust": {
          "id": "wgust",
          "name": "Wind Gust",
          "type": 2,
          "unit": "mph"
         },
         "windchill": {
          "id": "windchill",
          "name": "Wind Chill",
          "type": 2,
          "unit": "degF"
         },
         "wspd": {
          "id": "wspd",
          "name": "Wind Speed",
          "type": 2,
          "unit": "mph"
         }
        },
        "locations": {
         "Valdosta, GA": {
          "address": "valdosta, ga",
          "alerts": null,
          "currentConditions": null,
          "distance": 0,
          "id": "Valdosta, GA",
          "index": 0,
          "latitude": 30.8347,
          "longitude": -83.2809,
          "name": "valdosta, ga",
          "stationContributions": null,
          "time": 0,
          "values": [
           {
            "cloudcover": 0,
            "conditions": "Clear",
            "datetime": 1546732800000,
            "datetimeStr": "2019-01-06T00:00:00-05:00",
            "dew": 42.2,
            "heatindex": null,
            "humidity": 78.7,
            "info": null,
            "maxt": 69.2,
            "mint": 38.9,
            "precip": 0,
            "precipcover": 0,
            "sealevelpressure": 1022.7,
            "snowdepth": null,
            "temp": 50.2,
            "visibility": 9.9,
            "wdir": 10.43,
            "weathertype": null,
            "wgust": null,
            "windchill": null,
            "wspd": 5.8
           },
           {
            "cloudcover": 0,
            "conditions": "Clear",
            "datetime": 1546819200000,
            "datetimeStr": "2019-01-07T00:00:00-05:00",
            "dew": 45.9,
            "heatindex": null,
            "humidity": 81.58,
            "info": null,
            "maxt": 70.1,
            "mint": 38.9,
            "precip": 0,
            "precipcover": 0,
            "sealevelpressure": 1024.4,
            "snowdepth": null,
            "temp": 52.5,
            "visibility": 9.8,
            "wdir": 53.48,
            "weathertype": null,
            "wgust": null,
            "windchill": null,
            "wspd": 9.2
           }
          ]
         }
        },
        "messages": [
         "This is a preview of the first 2 rows.You have exceeded the maximum number of daily result records for your account. Add a credit card to your account to increase the number of available free records."
        ],
        "queryCost": 2,
        "remainingCost": 0
       },
       {
        "columns": {
         "address": {
          "id": "address",
          "name": "Address",
          "type": 1,
          "unit": null
         },
         "cloudcover": {
          "id": "cloudcover",
          "name": "Cloud Cover",
          "type": 2,
          "unit": "%"
         },
         "conditions": {
          "id": "conditions",
          "name": "Conditions",
          "type": 1,
          "unit": null
         },
         "datetime": {
          "id": "datetime",
          "name": "Date time",
          "type": 3,
          "unit": null
         },
         "dew": {
          "id": "dew",
          "name": "Dew Point",
          "type": 2,
          "unit": "degF"
         },
         "heatindex": {
          "id": "heatindex",
          "name": "Heat Index",
          "type": 2,
          "unit": "degF"
         },
         "humidity": {
          "id": "humidity",
          "name": "Relative Humidity",
          "type": 2,
          "unit": "%"
         },
         "info": {
          "id": "info",
          "name": "Info",
          "type": 1,
          "unit": null
         },
         "latitude": {
          "id": "latitude",
          "name": "Latitude",
          "type": 2,
          "unit": null
         },
         "longitude": {
          "id": "longitude",
          "name": "Longitude",
          "type": 2,
          "unit": null
         },
         "maxt": {
          "id": "maxt",
          "name": "Maximum Temperature",
          "type": 2,
          "unit": "degF"
         },
         "mint": {
          "id": "mint",
          "name": "Minimum Temperature",
          "type": 2,
          "unit": "degF"
         },
         "name": {
          "id": "name",
          "name": "Name",
          "type": 1,
          "unit": null
         },
         "precip": {
          "id": "precip",
          "name": "Precipitation",
          "type": 2,
          "unit": "in"
         },
         "precipcover": {
          "id": "precipcover",
          "name": "Precipitation Cover",
          "type": 2,
          "unit": "%"
         },
         "resolvedAddress": {
          "id": "resolvedAddress",
          "name": "Resolved Address",
          "type": 1,
          "unit": null
         },
         "sealevelpressure": {
          "id": "sealevelpressure",
          "name": "Sea Level Pressure",
          "type": 2,
          "unit": "Pa"
         },
         "snowdepth": {
          "id": "snowdepth",
          "name": "Snow Depth",
          "type": 2,
          "unit": "in"
         },
         "temp": {
          "id": "temp",
          "name": "Temperature",
          "type": 2,
          "unit": "degF"
         },
         "visibility": {
          "id": "visibility",
          "name": "Visibility",
          "type": 2,
          "unit": "mi"
         },
         "wdir": {
          "id": "wdir",
          "name": "Wind Direction",
          "type": 2,
          "unit": null
         },
         "weathertype": {
          "id": "weathertype",
          "name": "Weather Type",
          "type": 1,
          "unit": null
         },
         "wgust": {
          "id": "wgust",
          "name": "Wind Gust",
          "type": 2,
          "unit": "mph"
         },
         "windchill": {
          "id": "windchill",
          "name": "Wind Chill",
          "type": 2,
          "unit": "degF"
         },
         "wspd": {
          "id": "wspd",
          "name": "Wind Speed",
          "type": 2,
          "unit": "mph"
         }
        },
        "locations": {
         "Lynchburg, VA": {
          "address": "Lynchburg, VA",
          "alerts": null,
          "currentConditions": null,
          "distance": 0,
          "id": "Lynchburg, VA",
          "index": 0,
          "latitude": 37.4142,
          "longitude": -79.143,
          "name": "Lynchburg, VA",
          "stationContributions": null,
          "time": 0,
          "values": [
           {
            "cloudcover": 40.7,
            "conditions": "Partially cloudy",
            "datetime": 1546646400000,
            "datetimeStr": "2019-01-05T00:00:00-05:00",
            "dew": 37.5,
            "heatindex": null,
            "humidity": 69.6,
            "info": null,
            "maxt": 56.9,
            "mint": 42.2,
            "precip": 0,
            "precipcover": 0,
            "sealevelpressure": 1005.9,
            "snowdepth": null,
            "temp": 48.4,
            "visibility": 8.8,
            "wdir": 220,
            "weathertype": null,
            "wgust": 27.7,
            "windchill": 38.5,
            "wspd": 18.3
           },
           {
            "cloudcover": 0,
            "conditions": "Clear",
            "datetime": 1546732800000,
            "datetimeStr": "2019-01-06T00:00:00-05:00",
            "dew": 35.2,
            "heatindex": null,
            "humidity": 61.29,
            "info": null,
            "maxt": 57.8,
            "mint": 36,
            "precip": 0,
            "precipcover": 0,
            "sealevelpressure": 1019.3,
            "snowdepth": null,
            "temp": 48.3,
            "visibility": 9.9,
            "wdir": 168.64,
            "weathertype": null,
            "wgust": null,
            "windchill": 33.4,
            "wspd": 9.2
           }
          ]
         }
        },
        "messages": [
         "This is a preview of the first 2 rows.You have exceeded the maximum number of daily result records for your account. Add a credit card to your account to increase the number of available free records."
        ],
        "queryCost": 2,
        "remainingCost": 0
       },
       {
        "columns": {
         "address": {
          "id": "address",
          "name": "Address",
          "type": 1,
          "unit": null
         },
         "cloudcover": {
          "id": "cloudcover",
          "name": "Cloud Cover",
          "type": 2,
          "unit": "%"
         },
         "conditions": {
          "id": "conditions",
          "name": "Conditions",
          "type": 1,
          "unit": null
         },
         "datetime": {
          "id": "datetime",
          "name": "Date time",
          "type": 3,
          "unit": null
         },
         "dew": {
          "id": "dew",
          "name": "Dew Point",
          "type": 2,
          "unit": "degF"
         },
         "heatindex": {
          "id": "heatindex",
          "name": "Heat Index",
          "type": 2,
          "unit": "degF"
         },
         "humidity": {
          "id": "humidity",
          "name": "Relative Humidity",
          "type": 2,
          "unit": "%"
         },
         "info": {
          "id": "info",
          "name": "Info",
          "type": 1,
          "unit": null
         },
         "latitude": {
          "id": "latitude",
          "name": "Latitude",
          "type": 2,
          "unit": null
         },
         "longitude": {
          "id": "longitude",
          "name": "Longitude",
          "type": 2,
          "unit": null
         },
         "maxt": {
          "id": "maxt",
          "name": "Maximum Temperature",
          "type": 2,
          "unit": "degF"
         },
         "mint": {
          "id": "mint",
          "name": "Minimum Temperature",
          "type": 2,
          "unit": "degF"
         },
         "name": {
          "id": "name",
          "name": "Name",
          "type": 1,
          "unit": null
         },
         "precip": {
          "id": "precip",
          "name": "Precipitation",
          "type": 2,
          "unit": "in"
         },
         "precipcover": {
          "id": "precipcover",
          "name": "Precipitation Cover",
          "type": 2,
          "unit": "%"
         },
         "resolvedAddress": {
          "id": "resolvedAddress",
          "name": "Resolved Address",
          "type": 1,
          "unit": null
         },
         "sealevelpressure": {
          "id": "sealevelpressure",
          "name": "Sea Level Pressure",
          "type": 2,
          "unit": "Pa"
         },
         "snowdepth": {
          "id": "snowdepth",
          "name": "Snow Depth",
          "type": 2,
          "unit": "in"
         },
         "temp": {
          "id": "temp",
          "name": "Temperature",
          "type": 2,
          "unit": "degF"
         },
         "visibility": {
          "id": "visibility",
          "name": "Visibility",
          "type": 2,
          "unit": "mi"
         },
         "wdir": {
          "id": "wdir",
          "name": "Wind Direction",
          "type": 2,
          "unit": null
         },
         "weathertype": {
          "id": "weathertype",
          "name": "Weather Type",
          "type": 1,
          "unit": null
         },
         "wgust": {
          "id": "wgust",
          "name": "Wind Gust",
          "type": 2,
          "unit": "mph"
         },
         "windchill": {
          "id": "windchill",
          "name": "Wind Chill",
          "type": 2,
          "unit": "degF"
         },
         "wspd": {
          "id": "wspd",
          "name": "Wind Speed",
          "type": 2,
          "unit": "mph"
         }
        },
        "locations": {
         "Paducah, KY": {
          "address": "Paducah, KY",
          "alerts": null,
          "currentConditions": null,
          "distance": 0,
          "id": "Paducah, KY",
          "index": 0,
          "latitude": 37.0857,
          "longitude": -88.5958,
          "name": "Paducah, KY",
          "stationContributions": null,
          "time": 0,
          "values": [
           {
            "cloudcover": 90.8,
            "conditions": "Overcast",
            "datetime": 1547596800000,
            "datetimeStr": "2019-01-16T00:00:00-06:00",
            "dew": 34.7,
            "heatindex": null,
            "humidity": 80.19,
            "info": null,
            "maxt": 45,
            "mint": 34.1,
            "precip": 0,
            "precipcover": 0,
            "sealevelpressure": 1023.7,
            "snowdepth": null,
            "temp": 40.4,
            "visibility": 6.8,
            "wdir": 131.46,
            "weathertype": null,
            "wgust": null,
            "windchill": 30,
            "wspd": 8.1
           },
           {
            "cloudcover": 97.6,
            "conditions": "Rain, Overcast",
            "datetime": 1547683200000,
            "datetimeStr": "2019-01-17T00:00:00-06:00",
            "dew": 41.9,
            "heatindex": null,
            "humidity": 85.83,
            "info": null,
            "maxt": 48.8,
            "mint": 42.2,
            "precip": 0.08,
            "precipcover": 20.83,
            "sealevelpressure": 1018.2,
            "snowdepth": null,
            "temp": 45.9,
            "visibility": 7.7,
            "wdir": 223.48,
            "weathertype": null,
            "wgust": null,
            "windchill": 39,
            "wspd": 9.2
           }
          ]
         }
        },
        "messages": [
         "This is a preview of the first 2 rows.You have exceeded the maximum number of daily result records for your account. Add a credit card to your account to increase the number of available free records."
        ],
        "queryCost": 2,
        "remainingCost": 0
       },
       {
        "columns": {
         "address": {
          "id": "address",
          "name": "Address",
          "type": 1,
          "unit": null
         },
         "cloudcover": {
          "id": "cloudcover",
          "name": "Cloud Cover",
          "type": 2,
          "unit": "%"
         },
         "conditions": {
          "id": "conditions",
          "name": "Conditions",
          "type": 1,
          "unit": null
         },
         "datetime": {
          "id": "datetime",
          "name": "Date time",
          "type": 3,
          "unit": null
         },
         "dew": {
          "id": "dew",
          "name": "Dew Point",
          "type": 2,
          "unit": "degF"
         },
         "heatindex": {
          "id": "heatindex",
          "name": "Heat Index",
          "type": 2,
          "unit": "degF"
         },
         "humidity": {
          "id": "humidity",
          "name": "Relative Humidity",
          "type": 2,
          "unit": "%"
         },
         "info": {
          "id": "info",
          "name": "Info",
          "type": 1,
          "unit": null
         },
         "latitude": {
          "id": "latitude",
          "name": "Latitude",
          "type": 2,
          "unit": null
         },
         "longitude": {
          "id": "longitude",
          "name": "Longitude",
          "type": 2,
          "unit": null
         },
         "maxt": {
          "id": "maxt",
          "name": "Maximum Temperature",
          "type": 2,
          "unit": "degF"
         },
         "mint": {
          "id": "mint",
          "name": "Minimum Temperature",
          "type": 2,
          "unit": "degF"
         },
         "name": {
          "id": "name",
          "name": "Name",
          "type": 1,
          "unit": null
         },
         "precip": {
          "id": "precip",
          "name": "Precipitation",
          "type": 2,
          "unit": "in"
         },
         "precipcover": {
          "id": "precipcover",
          "name": "Precipitation Cover",
          "type": 2,
          "unit": "%"
         },
         "resolvedAddress": {
          "id": "resolvedAddress",
          "name": "Resolved Address",
          "type": 1,
          "unit": null
         },
         "sealevelpressure": {
          "id": "sealevelpressure",
          "name": "Sea Level Pressure",
          "type": 2,
          "unit": "Pa"
         },
         "snowdepth": {
          "id": "snowdepth",
          "name": "Snow Depth",
          "type": 2,
          "unit": "in"
         },
         "temp": {
          "id": "temp",
          "name": "Temperature",
          "type": 2,
          "unit": "degF"
         },
         "visibility": {
          "id": "visibility",
          "name": "Visibility",
          "type": 2,
          "unit": "mi"
         },
         "wdir": {
          "id": "wdir",
          "name": "Wind Direction",
          "type": 2,
          "unit": null
         },
         "weathertype": {
          "id": "weathertype",
          "name": "Weather Type",
          "type": 1,
          "unit": null
         },
         "wgust": {
          "id": "wgust",
          "name": "Wind Gust",
          "type": 2,
          "unit": "mph"
         },
         "windchill": {
          "id": "windchill",
          "name": "Wind Chill",
          "type": 2,
          "unit": "degF"
         },
         "wspd": {
          "id": "wspd",
          "name": "Wind Speed",
          "type": 2,
          "unit": "mph"
         }
        },
        "locations": {
         "Santa Barbara, CA": {
          "address": "santa barbara, ca",
          "alerts": null,
          "currentConditions": null,
          "distance": 0,
          "id": "Santa Barbara, CA",
          "index": 0,
          "latitude": 34.4194,
          "longitude": -119.699,
          "name": "santa barbara, ca",
          "stationContributions": null,
          "time": 0,
          "values": [
           {
            "cloudcover": 2.5,
            "conditions": "Clear",
            "datetime": 1547942400000,
            "datetimeStr": "2019-01-20T00:00:00-08:00",
            "dew": 50.4,
            "heatindex": null,
            "humidity": 74.06,
            "info": null,
            "maxt": 65.4,
            "mint": 53.2,
            "precip": 0,
            "precipcover": 0,
            "sealevelpressure": 1018.2,
            "snowdepth": null,
            "temp": 58.7,
            "visibility": 9.9,
            "wdir": 218.88,
            "weathertype": null,
            "wgust": 21.9,
            "windchill": null,
            "wspd": 11.6
           },
           {
            "cloudcover": 1.3,
            "conditions": "Rain",
            "datetime": 1548028800000,
            "datetimeStr": "2019-01-21T00:00:00-08:00",
            "dew": 35.9,
            "heatindex": null,
            "humidity": 45.45,
            "info": null,
            "maxt": 63.9,
            "mint": 52.1,
            "precip": 0.01,
            "precipcover": 4.17,
            "sealevelpressure": 1019.4,
            "snowdepth": null,
            "temp": 57.2,
            "visibility": 9.9,
            "wdir": 292,
            "weathertype": null,
            "wgust": 30.7,
            "windchill": null,
            "wspd": 19.5
           }
          ]
         }
        },
        "messages": [
         "This is a preview of the first 2 rows.You have exceeded the maximum number of daily result records for your account. Add a credit card to your account to increase the number of available free records."
        ],
        "queryCost": 2,
        "remainingCost": 0
       },
       {
        "columns": {
         "address": {
          "id": "address",
          "name": "Address",
          "type": 1,
          "unit": null
         },
         "cloudcover": {
          "id": "cloudcover",
          "name": "Cloud Cover",
          "type": 2,
          "unit": "%"
         },
         "conditions": {
          "id": "conditions",
          "name": "Conditions",
          "type": 1,
          "unit": null
         },
         "datetime": {
          "id": "datetime",
          "name": "Date time",
          "type": 3,
          "unit": null
         },
         "dew": {
          "id": "dew",
          "name": "Dew Point",
          "type": 2,
          "unit": "degF"
         },
         "heatindex": {
          "id": "heatindex",
          "name": "Heat Index",
          "type": 2,
          "unit": "degF"
         },
         "humidity": {
          "id": "humidity",
          "name": "Relative Humidity",
          "type": 2,
          "unit": "%"
         },
         "info": {
          "id": "info",
          "name": "Info",
          "type": 1,
          "unit": null
         },
         "latitude": {
          "id": "latitude",
          "name": "Latitude",
          "type": 2,
          "unit": null
         },
         "longitude": {
          "id": "longitude",
          "name": "Longitude",
          "type": 2,
          "unit": null
         },
         "maxt": {
          "id": "maxt",
          "name": "Maximum Temperature",
          "type": 2,
          "unit": "degF"
         },
         "mint": {
          "id": "mint",
          "name": "Minimum Temperature",
          "type": 2,
          "unit": "degF"
         },
         "name": {
          "id": "name",
          "name": "Name",
          "type": 1,
          "unit": null
         },
         "precip": {
          "id": "precip",
          "name": "Precipitation",
          "type": 2,
          "unit": "in"
         },
         "precipcover": {
          "id": "precipcover",
          "name": "Precipitation Cover",
          "type": 2,
          "unit": "%"
         },
         "resolvedAddress": {
          "id": "resolvedAddress",
          "name": "Resolved Address",
          "type": 1,
          "unit": null
         },
         "sealevelpressure": {
          "id": "sealevelpressure",
          "name": "Sea Level Pressure",
          "type": 2,
          "unit": "Pa"
         },
         "snowdepth": {
          "id": "snowdepth",
          "name": "Snow Depth",
          "type": 2,
          "unit": "in"
         },
         "temp": {
          "id": "temp",
          "name": "Temperature",
          "type": 2,
          "unit": "degF"
         },
         "visibility": {
          "id": "visibility",
          "name": "Visibility",
          "type": 2,
          "unit": "mi"
         },
         "wdir": {
          "id": "wdir",
          "name": "Wind Direction",
          "type": 2,
          "unit": null
         },
         "weathertype": {
          "id": "weathertype",
          "name": "Weather Type",
          "type": 1,
          "unit": null
         },
         "wgust": {
          "id": "wgust",
          "name": "Wind Gust",
          "type": 2,
          "unit": "mph"
         },
         "windchill": {
          "id": "windchill",
          "name": "Wind Chill",
          "type": 2,
          "unit": "degF"
         },
         "wspd": {
          "id": "wspd",
          "name": "Wind Speed",
          "type": 2,
          "unit": "mph"
         }
        },
        "locations": {
         "Eau Claire, WI": {
          "address": "Eau Claire, WI, United States",
          "alerts": null,
          "currentConditions": null,
          "distance": 0,
          "id": "Eau Claire, WI",
          "index": 0,
          "latitude": 44.8166,
          "longitude": -91.5008,
          "name": "Eau Claire, WI, United States",
          "stationContributions": null,
          "time": 0,
          "values": [
           {
            "cloudcover": 94.7,
            "conditions": "Rain, Overcast",
            "datetime": 1516665600000,
            "datetimeStr": "2018-01-23T00:00:00-06:00",
            "dew": 15.6,
            "heatindex": null,
            "humidity": 84.11,
            "info": null,
            "maxt": 24.2,
            "mint": 14,
            "precip": 0.04,
            "precipcover": 8.33,
            "sealevelpressure": 1016.9,
            "snowdepth": null,
            "temp": 19.6,
            "visibility": 9.1,
            "wdir": 314,
            "weathertype": null,
            "wgust": null,
            "windchill": 7.7,
            "wspd": 15.1
           },
           {
            "cloudcover": 75.2,
            "conditions": "Overcast",
            "datetime": 1516752000000,
            "datetimeStr": "2018-01-24T00:00:00-06:00",
            "dew": 12.2,
            "heatindex": null,
            "humidity": 90.16,
            "info": null,
            "maxt": 21.9,
            "mint": 2.1,
            "precip": 0,
            "precipcover": 0,
            "sealevelpressure": 1025.5,
            "snowdepth": null,
            "temp": 14.5,
            "visibility": 6.3,
            "wdir": 210.36,
            "weathertype": null,
            "wgust": null,
            "windchill": 5.1,
            "wspd": 6.8
           }
          ]
         }
        },
        "messages": [
         "This is a preview of the first 2 rows.You have exceeded the maximum number of daily result records for your account. Add a credit card to your account to increase the number of available free records."
        ],
        "queryCost": 2,
        "remainingCost": 0
       },
       {
        "columns": {
         "address": {
          "id": "address",
          "name": "Address",
          "type": 1,
          "unit": null
         },
         "cloudcover": {
          "id": "cloudcover",
          "name": "Cloud Cover",
          "type": 2,
          "unit": "%"
         },
         "conditions": {
          "id": "conditions",
          "name": "Conditions",
          "type": 1,
          "unit": null
         },
         "datetime": {
          "id": "datetime",
          "name": "Date time",
          "type": 3,
          "unit": null
         },
         "dew": {
          "id": "dew",
          "name": "Dew Point",
          "type": 2,
          "unit": "degF"
         },
         "heatindex": {
          "id": "heatindex",
          "name": "Heat Index",
          "type": 2,
          "unit": "degF"
         },
         "humidity": {
          "id": "humidity",
          "name": "Relative Humidity",
          "type": 2,
          "unit": "%"
         },
         "info": {
          "id": "info",
          "name": "Info",
          "type": 1,
          "unit": null
         },
         "latitude": {
          "id": "latitude",
          "name": "Latitude",
          "type": 2,
          "unit": null
         },
         "longitude": {
          "id": "longitude",
          "name": "Longitude",
          "type": 2,
          "unit": null
         },
         "maxt": {
          "id": "maxt",
          "name": "Maximum Temperature",
          "type": 2,
          "unit": "degF"
         },
         "mint": {
          "id": "mint",
          "name": "Minimum Temperature",
          "type": 2,
          "unit": "degF"
         },
         "name": {
          "id": "name",
          "name": "Name",
          "type": 1,
          "unit": null
         },
         "precip": {
          "id": "precip",
          "name": "Precipitation",
          "type": 2,
          "unit": "in"
         },
         "precipcover": {
          "id": "precipcover",
          "name": "Precipitation Cover",
          "type": 2,
          "unit": "%"
         },
         "resolvedAddress": {
          "id": "resolvedAddress",
          "name": "Resolved Address",
          "type": 1,
          "unit": null
         },
         "sealevelpressure": {
          "id": "sealevelpressure",
          "name": "Sea Level Pressure",
          "type": 2,
          "unit": "Pa"
         },
         "snowdepth": {
          "id": "snowdepth",
          "name": "Snow Depth",
          "type": 2,
          "unit": "in"
         },
         "temp": {
          "id": "temp",
          "name": "Temperature",
          "type": 2,
          "unit": "degF"
         },
         "visibility": {
          "id": "visibility",
          "name": "Visibility",
          "type": 2,
          "unit": "mi"
         },
         "wdir": {
          "id": "wdir",
          "name": "Wind Direction",
          "type": 2,
          "unit": null
         },
         "weathertype": {
          "id": "weathertype",
          "name": "Weather Type",
          "type": 1,
          "unit": null
         },
         "wgust": {
          "id": "wgust",
          "name": "Wind Gust",
          "type": 2,
          "unit": "mph"
         },
         "windchill": {
          "id": "windchill",
          "name": "Wind Chill",
          "type": 2,
          "unit": "degF"
         },
         "wspd": {
          "id": "wspd",
          "name": "Wind Speed",
          "type": 2,
          "unit": "mph"
         }
        },
        "locations": {
         "Beaumont/Port Arthur, TX": {
          "address": "W Port Arthur Rd, Beaumont, TX 77705, United States",
          "alerts": null,
          "currentConditions": null,
          "distance": 0,
          "id": "Beaumont/Port Arthur, TX",
          "index": 0,
          "latitude": 29.9698,
          "longitude": -94.0517,
          "name": "W Port Arthur Rd, Beaumont, TX 77705, United States",
          "stationContributions": null,
          "time": 0,
          "values": [
           {
            "cloudcover": 74.2,
            "conditions": "Rain, Partially cloudy",
            "datetime": 1516924800000,
            "datetimeStr": "2018-01-26T00:00:00-06:00",
            "dew": 50.8,
            "heatindex": null,
            "humidity": 74.32,
            "info": null,
            "maxt": 67.8,
            "mint": 50.2,
            "precip": 0.11,
            "precipcover": 8.33,
            "sealevelpressure": 1024.7,
            "snowdepth": null,
            "temp": 59.2,
            "visibility": 8.8,
            "wdir": 106.79,
            "weathertype": null,
            "wgust": 15,
            "windchill": null,
            "wspd": 15.7
           },
           {
            "cloudcover": 88.9,
            "conditions": "Rain, Overcast",
            "datetime": 1517011200000,
            "datetimeStr": "2018-01-27T00:00:00-06:00",
            "dew": 60.4,
            "heatindex": null,
            "humidity": 96.57,
            "info": null,
            "maxt": 64,
            "mint": 59.1,
            "precip": 6.79,
            "precipcover": 54.17,
            "sealevelpressure": 1020.9,
            "snowdepth": null,
            "temp": 61.4,
            "visibility": 6.1,
            "wdir": 96.33,
            "weathertype": null,
            "wgust": 16.1,
            "windchill": null,
            "wspd": 10.3
           }
          ]
         }
        },
        "messages": [
         "This is a preview of the first 2 rows.You have exceeded the maximum number of daily result records for your account. Add a credit card to your account to increase the number of available free records."
        ],
        "queryCost": 2,
        "remainingCost": 0
       },
       {
        "columns": {
         "address": {
          "id": "address",
          "name": "Address",
          "type": 1,
          "unit": null
         },
         "cloudcover": {
          "id": "cloudcover",
          "name": "Cloud Cover",
          "type": 2,
          "unit": "%"
         },
         "conditions": {
          "id": "conditions",
          "name": "Conditions",
          "type": 1,
          "unit": null
         },
         "datetime": {
          "id": "datetime",
          "name": "Date time",
          "type": 3,
          "unit": null
         },
         "dew": {
          "id": "dew",
          "name": "Dew Point",
          "type": 2,
          "unit": "degF"
         },
         "heatindex": {
          "id": "heatindex",
          "name": "Heat Index",
          "type": 2,
          "unit": "degF"
         },
         "humidity": {
          "id": "humidity",
          "name": "Relative Humidity",
          "type": 2,
          "unit": "%"
         },
         "info": {
          "id": "info",
          "name": "Info",
          "type": 1,
          "unit": null
         },
         "latitude": {
          "id": "latitude",
          "name": "Latitude",
          "type": 2,
          "unit": null
         },
         "longitude": {
          "id": "longitude",
          "name": "Longitude",
          "type": 2,
          "unit": null
         },
         "maxt": {
          "id": "maxt",
          "name": "Maximum Temperature",
          "type": 2,
          "unit": "degF"
         },
         "mint": {
          "id": "mint",
          "name": "Minimum Temperature",
          "type": 2,
          "unit": "degF"
         },
         "name": {
          "id": "name",
          "name": "Name",
          "type": 1,
          "unit": null
         },
         "precip": {
          "id": "precip",
          "name": "Precipitation",
          "type": 2,
          "unit": "in"
         },
         "precipcover": {
          "id": "precipcover",
          "name": "Precipitation Cover",
          "type": 2,
          "unit": "%"
         },
         "resolvedAddress": {
          "id": "resolvedAddress",
          "name": "Resolved Address",
          "type": 1,
          "unit": null
         },
         "sealevelpressure": {
          "id": "sealevelpressure",
          "name": "Sea Level Pressure",
          "type": 2,
          "unit": "Pa"
         },
         "snowdepth": {
          "id": "snowdepth",
          "name": "Snow Depth",
          "type": 2,
          "unit": "in"
         },
         "temp": {
          "id": "temp",
          "name": "Temperature",
          "type": 2,
          "unit": "degF"
         },
         "visibility": {
          "id": "visibility",
          "name": "Visibility",
          "type": 2,
          "unit": "mi"
         },
         "wdir": {
          "id": "wdir",
          "name": "Wind Direction",
          "type": 2,
          "unit": null
         },
         "weathertype": {
          "id": "weathertype",
          "name": "Weather Type",
          "type": 1,
          "unit": null
         },
         "wgust": {
          "id": "wgust",
          "name": "Wind Gust",
          "type": 2,
          "unit": "mph"
         },
         "windchill": {
          "id": "windchill",
          "name": "Wind Chill",
          "type": 2,
          "unit": "degF"
         },
         "wspd": {
          "id": "wspd",
          "name": "Wind Speed",
          "type": 2,
          "unit": "mph"
         }
        },
        "locations": {
         "Medford, OR": {
          "address": "medford, or",
          "alerts": null,
          "currentConditions": null,
          "distance": 0,
          "id": "Medford, OR",
          "index": 0,
          "latitude": 42.3236,
          "longitude": -122.876,
          "name": "medford, or",
          "stationContributions": null,
          "time": 0,
          "values": [
           {
            "cloudcover": 58.9,
            "conditions": "Rain, Partially cloudy",
            "datetime": 1547683200000,
            "datetimeStr": "2019-01-17T00:00:00-08:00",
            "dew": 37.5,
            "heatindex": null,
            "humidity": 76.9,
            "info": null,
            "maxt": 51.2,
            "mint": 37.1,
            "precip": 0.07,
            "precipcover": 20.83,
            "sealevelpressure": 1008.9,
            "snowdepth": null,
            "temp": 44.8,
            "visibility": 9.7,
            "wdir": 147.08,
            "weathertype": null,
            "wgust": 24.2,
            "windchill": 35.5,
            "wspd": 17.2
           },
           {
            "cloudcover": 78.1,
            "conditions": "Rain, Overcast",
            "datetime": 1547769600000,
            "datetimeStr": "2019-01-18T00:00:00-08:00",
            "dew": 37.9,
            "heatindex": null,
            "humidity": 93.3,
            "info": null,
            "maxt": 44.1,
            "mint": 35.1,
            "precip": 0.59,
            "precipcover": 50,
            "sealevelpressure": 1022.4,
            "snowdepth": null,
            "temp": 39.7,
            "visibility": 6.7,
            "wdir": 107.08,
            "weathertype": null,
            "wgust": null,
            "windchill": 31.1,
            "wspd": 9.2
           }
          ]
         }
        },
        "messages": [
         "This is a preview of the first 2 rows.You have exceeded the maximum number of daily result records for your account. Add a credit card to your account to increase the number of available free records."
        ],
        "queryCost": 2,
        "remainingCost": 0
       },
       {
        "columns": {
         "address": {
          "id": "address",
          "name": "Address",
          "type": 1,
          "unit": null
         },
         "cloudcover": {
          "id": "cloudcover",
          "name": "Cloud Cover",
          "type": 2,
          "unit": "%"
         },
         "conditions": {
          "id": "conditions",
          "name": "Conditions",
          "type": 1,
          "unit": null
         },
         "datetime": {
          "id": "datetime",
          "name": "Date time",
          "type": 3,
          "unit": null
         },
         "dew": {
          "id": "dew",
          "name": "Dew Point",
          "type": 2,
          "unit": "degF"
         },
         "heatindex": {
          "id": "heatindex",
          "name": "Heat Index",
          "type": 2,
          "unit": "degF"
         },
         "humidity": {
          "id": "humidity",
          "name": "Relative Humidity",
          "type": 2,
          "unit": "%"
         },
         "info": {
          "id": "info",
          "name": "Info",
          "type": 1,
          "unit": null
         },
         "latitude": {
          "id": "latitude",
          "name": "Latitude",
          "type": 2,
          "unit": null
         },
         "longitude": {
          "id": "longitude",
          "name": "Longitude",
          "type": 2,
          "unit": null
         },
         "maxt": {
          "id": "maxt",
          "name": "Maximum Temperature",
          "type": 2,
          "unit": "degF"
         },
         "mint": {
          "id": "mint",
          "name": "Minimum Temperature",
          "type": 2,
          "unit": "degF"
         },
         "name": {
          "id": "name",
          "name": "Name",
          "type": 1,
          "unit": null
         },
         "precip": {
          "id": "precip",
          "name": "Precipitation",
          "type": 2,
          "unit": "in"
         },
         "precipcover": {
          "id": "precipcover",
          "name": "Precipitation Cover",
          "type": 2,
          "unit": "%"
         },
         "resolvedAddress": {
          "id": "resolvedAddress",
          "name": "Resolved Address",
          "type": 1,
          "unit": null
         },
         "sealevelpressure": {
          "id": "sealevelpressure",
          "name": "Sea Level Pressure",
          "type": 2,
          "unit": "Pa"
         },
         "snowdepth": {
          "id": "snowdepth",
          "name": "Snow Depth",
          "type": 2,
          "unit": "in"
         },
         "temp": {
          "id": "temp",
          "name": "Temperature",
          "type": 2,
          "unit": "degF"
         },
         "visibility": {
          "id": "visibility",
          "name": "Visibility",
          "type": 2,
          "unit": "mi"
         },
         "wdir": {
          "id": "wdir",
          "name": "Wind Direction",
          "type": 2,
          "unit": null
         },
         "weathertype": {
          "id": "weathertype",
          "name": "Weather Type",
          "type": 1,
          "unit": null
         },
         "wgust": {
          "id": "wgust",
          "name": "Wind Gust",
          "type": 2,
          "unit": "mph"
         },
         "windchill": {
          "id": "windchill",
          "name": "Wind Chill",
          "type": 2,
          "unit": "degF"
         },
         "wspd": {
          "id": "wspd",
          "name": "Wind Speed",
          "type": 2,
          "unit": "mph"
         }
        },
        "locations": {
         "Myrtle Beach, SC": {
          "address": "Myrtle Beach, SC",
          "alerts": null,
          "currentConditions": null,
          "distance": 0,
          "id": "Myrtle Beach, SC",
          "index": 0,
          "latitude": 33.6937,
          "longitude": -78.8823,
          "name": "Myrtle Beach, SC",
          "stationContributions": null,
          "time": 0,
          "values": [
           {
            "cloudcover": 0,
            "conditions": "Clear",
            "datetime": 1548460800000,
            "datetimeStr": "2019-01-26T00:00:00-05:00",
            "dew": 31.2,
            "heatindex": null,
            "humidity": 69.55,
            "info": null,
            "maxt": 54,
            "mint": 28.1,
            "precip": 0,
            "precipcover": 0,
            "sealevelpressure": 1024.1,
            "snowdepth": null,
            "temp": 42,
            "visibility": 9.9,
            "wdir": 69.17,
            "weathertype": null,
            "wgust": null,
            "windchill": 47,
            "wspd": 12.8
           },
           {
            "cloudcover": 35.2,
            "conditions": "Partially cloudy",
            "datetime": 1548547200000,
            "datetimeStr": "2019-01-27T00:00:00-05:00",
            "dew": 33,
            "heatindex": null,
            "humidity": 72.74,
            "info": null,
            "maxt": 51.2,
            "mint": 30.8,
            "precip": 0,
            "precipcover": 0,
            "sealevelpressure": 1020.2,
            "snowdepth": null,
            "temp": 41.7,
            "visibility": 9.9,
            "wdir": 77.08,
            "weathertype": null,
            "wgust": null,
            "windchill": 31.2,
            "wspd": 5.8
           }
          ]
         }
        },
        "messages": [
         "This is a preview of the first 2 rows.You have exceeded the maximum number of daily result records for your account. Add a credit card to your account to increase the number of available free records."
        ],
        "queryCost": 2,
        "remainingCost": 0
       },
       {
        "columns": {
         "address": {
          "id": "address",
          "name": "Address",
          "type": 1,
          "unit": null
         },
         "cloudcover": {
          "id": "cloudcover",
          "name": "Cloud Cover",
          "type": 2,
          "unit": "%"
         },
         "conditions": {
          "id": "conditions",
          "name": "Conditions",
          "type": 1,
          "unit": null
         },
         "datetime": {
          "id": "datetime",
          "name": "Date time",
          "type": 3,
          "unit": null
         },
         "dew": {
          "id": "dew",
          "name": "Dew Point",
          "type": 2,
          "unit": "degF"
         },
         "heatindex": {
          "id": "heatindex",
          "name": "Heat Index",
          "type": 2,
          "unit": "degF"
         },
         "humidity": {
          "id": "humidity",
          "name": "Relative Humidity",
          "type": 2,
          "unit": "%"
         },
         "info": {
          "id": "info",
          "name": "Info",
          "type": 1,
          "unit": null
         },
         "latitude": {
          "id": "latitude",
          "name": "Latitude",
          "type": 2,
          "unit": null
         },
         "longitude": {
          "id": "longitude",
          "name": "Longitude",
          "type": 2,
          "unit": null
         },
         "maxt": {
          "id": "maxt",
          "name": "Maximum Temperature",
          "type": 2,
          "unit": "degF"
         },
         "mint": {
          "id": "mint",
          "name": "Minimum Temperature",
          "type": 2,
          "unit": "degF"
         },
         "name": {
          "id": "name",
          "name": "Name",
          "type": 1,
          "unit": null
         },
         "precip": {
          "id": "precip",
          "name": "Precipitation",
          "type": 2,
          "unit": "in"
         },
         "precipcover": {
          "id": "precipcover",
          "name": "Precipitation Cover",
          "type": 2,
          "unit": "%"
         },
         "resolvedAddress": {
          "id": "resolvedAddress",
          "name": "Resolved Address",
          "type": 1,
          "unit": null
         },
         "sealevelpressure": {
          "id": "sealevelpressure",
          "name": "Sea Level Pressure",
          "type": 2,
          "unit": "Pa"
         },
         "snowdepth": {
          "id": "snowdepth",
          "name": "Snow Depth",
          "type": 2,
          "unit": "in"
         },
         "temp": {
          "id": "temp",
          "name": "Temperature",
          "type": 2,
          "unit": "degF"
         },
         "visibility": {
          "id": "visibility",
          "name": "Visibility",
          "type": 2,
          "unit": "mi"
         },
         "wdir": {
          "id": "wdir",
          "name": "Wind Direction",
          "type": 2,
          "unit": null
         },
         "weathertype": {
          "id": "weathertype",
          "name": "Weather Type",
          "type": 1,
          "unit": null
         },
         "wgust": {
          "id": "wgust",
          "name": "Wind Gust",
          "type": 2,
          "unit": "mph"
         },
         "windchill": {
          "id": "windchill",
          "name": "Wind Chill",
          "type": 2,
          "unit": "degF"
         },
         "wspd": {
          "id": "wspd",
          "name": "Wind Speed",
          "type": 2,
          "unit": "mph"
         }
        },
        "locations": {
         "Melbourne, FL": {
          "address": "melbourne, fl",
          "alerts": null,
          "currentConditions": null,
          "distance": 0,
          "id": "Melbourne, FL",
          "index": 0,
          "latitude": 28.0794,
          "longitude": -80.6076,
          "name": "melbourne, fl",
          "stationContributions": null,
          "time": 0,
          "values": [
           {
            "cloudcover": 24.9,
            "conditions": "Clear",
            "datetime": 1546387200000,
            "datetimeStr": "2019-01-02T00:00:00-05:00",
            "dew": 64.7,
            "heatindex": 82.3,
            "humidity": 79.43,
            "info": null,
            "maxt": 81,
            "mint": 62.2,
            "precip": 0,
            "precipcover": 0,
            "sealevelpressure": 1020.9,
            "snowdepth": null,
            "temp": 72,
            "visibility": 7.4,
            "wdir": 115.63,
            "weathertype": null,
            "wgust": null,
            "windchill": null,
            "wspd": 11.4
           },
           {
            "cloudcover": 44.8,
            "conditions": "Rain, Partially cloudy",
            "datetime": 1546473600000,
            "datetimeStr": "2019-01-03T00:00:00-05:00",
            "dew": 69.4,
            "heatindex": 86.7,
            "humidity": 84.85,
            "info": null,
            "maxt": 83,
            "mint": 66.8,
            "precip": 0.09,
            "precipcover": 8.33,
            "sealevelpressure": 1017.6,
            "snowdepth": null,
            "temp": 74.6,
            "visibility": 7.9,
            "wdir": 147.08,
            "weathertype": null,
            "wgust": null,
            "windchill": null,
            "wspd": 11.4
           }
          ]
         }
        },
        "messages": [
         "This is a preview of the first 2 rows.You have exceeded the maximum number of daily result records for your account. Add a credit card to your account to increase the number of available free records."
        ],
        "queryCost": 2,
        "remainingCost": 0
       },
       {
        "columns": {
         "address": {
          "id": "address",
          "name": "Address",
          "type": 1,
          "unit": null
         },
         "cloudcover": {
          "id": "cloudcover",
          "name": "Cloud Cover",
          "type": 2,
          "unit": "%"
         },
         "conditions": {
          "id": "conditions",
          "name": "Conditions",
          "type": 1,
          "unit": null
         },
         "datetime": {
          "id": "datetime",
          "name": "Date time",
          "type": 3,
          "unit": null
         },
         "dew": {
          "id": "dew",
          "name": "Dew Point",
          "type": 2,
          "unit": "degF"
         },
         "heatindex": {
          "id": "heatindex",
          "name": "Heat Index",
          "type": 2,
          "unit": "degF"
         },
         "humidity": {
          "id": "humidity",
          "name": "Relative Humidity",
          "type": 2,
          "unit": "%"
         },
         "info": {
          "id": "info",
          "name": "Info",
          "type": 1,
          "unit": null
         },
         "latitude": {
          "id": "latitude",
          "name": "Latitude",
          "type": 2,
          "unit": null
         },
         "longitude": {
          "id": "longitude",
          "name": "Longitude",
          "type": 2,
          "unit": null
         },
         "maxt": {
          "id": "maxt",
          "name": "Maximum Temperature",
          "type": 2,
          "unit": "degF"
         },
         "mint": {
          "id": "mint",
          "name": "Minimum Temperature",
          "type": 2,
          "unit": "degF"
         },
         "name": {
          "id": "name",
          "name": "Name",
          "type": 1,
          "unit": null
         },
         "precip": {
          "id": "precip",
          "name": "Precipitation",
          "type": 2,
          "unit": "in"
         },
         "precipcover": {
          "id": "precipcover",
          "name": "Precipitation Cover",
          "type": 2,
          "unit": "%"
         },
         "resolvedAddress": {
          "id": "resolvedAddress",
          "name": "Resolved Address",
          "type": 1,
          "unit": null
         },
         "sealevelpressure": {
          "id": "sealevelpressure",
          "name": "Sea Level Pressure",
          "type": 2,
          "unit": "Pa"
         },
         "snowdepth": {
          "id": "snowdepth",
          "name": "Snow Depth",
          "type": 2,
          "unit": "in"
         },
         "temp": {
          "id": "temp",
          "name": "Temperature",
          "type": 2,
          "unit": "degF"
         },
         "visibility": {
          "id": "visibility",
          "name": "Visibility",
          "type": 2,
          "unit": "mi"
         },
         "wdir": {
          "id": "wdir",
          "name": "Wind Direction",
          "type": 2,
          "unit": null
         },
         "weathertype": {
          "id": "weathertype",
          "name": "Weather Type",
          "type": 1,
          "unit": null
         },
         "wgust": {
          "id": "wgust",
          "name": "Wind Gust",
          "type": 2,
          "unit": "mph"
         },
         "windchill": {
          "id": "windchill",
          "name": "Wind Chill",
          "type": 2,
          "unit": "degF"
         },
         "wspd": {
          "id": "wspd",
          "name": "Wind Speed",
          "type": 2,
          "unit": "mph"
         }
        },
        "locations": {
         "Norfolk, VA": {
          "address": "Norfolk, VA, United States",
          "alerts": null,
          "currentConditions": null,
          "distance": 0,
          "id": "Norfolk, VA",
          "index": 0,
          "latitude": 36.8469,
          "longitude": -76.2851,
          "name": "Norfolk, VA, United States",
          "stationContributions": null,
          "time": 0,
          "values": [
           {
            "cloudcover": 0,
            "conditions": "Clear",
            "datetime": 1515283200000,
            "datetimeStr": "2018-01-07T00:00:00-05:00",
            "dew": null,
            "heatindex": null,
            "humidity": null,
            "info": null,
            "maxt": 22.7,
            "mint": 13.1,
            "precip": 0,
            "precipcover": 0,
            "sealevelpressure": 1036.7,
            "snowdepth": null,
            "temp": 17.2,
            "visibility": null,
            "wdir": 242.96,
            "weathertype": null,
            "wgust": 19.6,
            "windchill": -0.8,
            "wspd": 15.8
           },
           {
            "cloudcover": 0,
            "conditions": "Clear",
            "datetime": 1515369600000,
            "datetimeStr": "2018-01-08T00:00:00-05:00",
            "dew": null,
            "heatindex": null,
            "humidity": null,
            "info": null,
            "maxt": 43.6,
            "mint": 17.1,
            "precip": 0,
            "precipcover": 0,
            "sealevelpressure": 1026.9,
            "snowdepth": null,
            "temp": 30.2,
            "visibility": null,
            "wdir": 207.75,
            "weathertype": null,
            "wgust": 13.7,
            "windchill": 7.7,
            "wspd": 9.7
           }
          ]
         }
        },
        "messages": [
         "This is a preview of the first 2 rows.You have exceeded the maximum number of daily result records for your account. Add a credit card to your account to increase the number of available free records."
        ],
        "queryCost": 2,
        "remainingCost": 0
       },
       {
        "columns": {
         "address": {
          "id": "address",
          "name": "Address",
          "type": 1,
          "unit": null
         },
         "cloudcover": {
          "id": "cloudcover",
          "name": "Cloud Cover",
          "type": 2,
          "unit": "%"
         },
         "conditions": {
          "id": "conditions",
          "name": "Conditions",
          "type": 1,
          "unit": null
         },
         "datetime": {
          "id": "datetime",
          "name": "Date time",
          "type": 3,
          "unit": null
         },
         "dew": {
          "id": "dew",
          "name": "Dew Point",
          "type": 2,
          "unit": "degF"
         },
         "heatindex": {
          "id": "heatindex",
          "name": "Heat Index",
          "type": 2,
          "unit": "degF"
         },
         "humidity": {
          "id": "humidity",
          "name": "Relative Humidity",
          "type": 2,
          "unit": "%"
         },
         "info": {
          "id": "info",
          "name": "Info",
          "type": 1,
          "unit": null
         },
         "latitude": {
          "id": "latitude",
          "name": "Latitude",
          "type": 2,
          "unit": null
         },
         "longitude": {
          "id": "longitude",
          "name": "Longitude",
          "type": 2,
          "unit": null
         },
         "maxt": {
          "id": "maxt",
          "name": "Maximum Temperature",
          "type": 2,
          "unit": "degF"
         },
         "mint": {
          "id": "mint",
          "name": "Minimum Temperature",
          "type": 2,
          "unit": "degF"
         },
         "name": {
          "id": "name",
          "name": "Name",
          "type": 1,
          "unit": null
         },
         "precip": {
          "id": "precip",
          "name": "Precipitation",
          "type": 2,
          "unit": "in"
         },
         "precipcover": {
          "id": "precipcover",
          "name": "Precipitation Cover",
          "type": 2,
          "unit": "%"
         },
         "resolvedAddress": {
          "id": "resolvedAddress",
          "name": "Resolved Address",
          "type": 1,
          "unit": null
         },
         "sealevelpressure": {
          "id": "sealevelpressure",
          "name": "Sea Level Pressure",
          "type": 2,
          "unit": "Pa"
         },
         "snowdepth": {
          "id": "snowdepth",
          "name": "Snow Depth",
          "type": 2,
          "unit": "in"
         },
         "temp": {
          "id": "temp",
          "name": "Temperature",
          "type": 2,
          "unit": "degF"
         },
         "visibility": {
          "id": "visibility",
          "name": "Visibility",
          "type": 2,
          "unit": "mi"
         },
         "wdir": {
          "id": "wdir",
          "name": "Wind Direction",
          "type": 2,
          "unit": null
         },
         "weathertype": {
          "id": "weathertype",
          "name": "Weather Type",
          "type": 1,
          "unit": null
         },
         "wgust": {
          "id": "wgust",
          "name": "Wind Gust",
          "type": 2,
          "unit": "mph"
         },
         "windchill": {
          "id": "windchill",
          "name": "Wind Chill",
          "type": 2,
          "unit": "degF"
         },
         "wspd": {
          "id": "wspd",
          "name": "Wind Speed",
          "type": 2,
          "unit": "mph"
         }
        },
        "locations": {
         "Sanford, FL": {
          "address": "Sanford, FL",
          "alerts": null,
          "currentConditions": null,
          "distance": 0,
          "id": "Sanford, FL",
          "index": 0,
          "latitude": 28.814,
          "longitude": -81.2681,
          "name": "Sanford, FL",
          "stationContributions": null,
          "time": 0,
          "values": [
           {
            "cloudcover": 16.5,
            "conditions": "Clear",
            "datetime": 1547769600000,
            "datetimeStr": "2019-01-18T00:00:00-05:00",
            "dew": 43.6,
            "heatindex": null,
            "humidity": 59.45,
            "info": null,
            "maxt": 73.1,
            "mint": 48.8,
            "precip": 0,
            "precipcover": 0,
            "sealevelpressure": 1020.7,
            "snowdepth": null,
            "temp": 60.1,
            "visibility": 9.9,
            "wdir": 200.87,
            "weathertype": null,
            "wgust": null,
            "windchill": 48,
            "wspd": 6.9
           },
           {
            "cloudcover": 8,
            "conditions": "Clear",
            "datetime": 1547856000000,
            "datetimeStr": "2019-01-19T00:00:00-05:00",
            "dew": 53.1,
            "heatindex": null,
            "humidity": 66.12,
            "info": null,
            "maxt": 79.1,
            "mint": 51.2,
            "precip": 0,
            "precipcover": 0,
            "sealevelpressure": 1015.2,
            "snowdepth": null,
            "temp": 65.8,
            "visibility": 9.9,
            "wdir": 133.75,
            "weathertype": null,
            "wgust": 23,
            "windchill": null,
            "wspd": 13.9
           }
          ]
         }
        },
        "messages": [
         "This is a preview of the first 2 rows.You have exceeded the maximum number of daily result records for your account. Add a credit card to your account to increase the number of available free records."
        ],
        "queryCost": 2,
        "remainingCost": 0
       },
       {
        "columns": {
         "address": {
          "id": "address",
          "name": "Address",
          "type": 1,
          "unit": null
         },
         "cloudcover": {
          "id": "cloudcover",
          "name": "Cloud Cover",
          "type": 2,
          "unit": "%"
         },
         "conditions": {
          "id": "conditions",
          "name": "Conditions",
          "type": 1,
          "unit": null
         },
         "datetime": {
          "id": "datetime",
          "name": "Date time",
          "type": 3,
          "unit": null
         },
         "dew": {
          "id": "dew",
          "name": "Dew Point",
          "type": 2,
          "unit": "degF"
         },
         "heatindex": {
          "id": "heatindex",
          "name": "Heat Index",
          "type": 2,
          "unit": "degF"
         },
         "humidity": {
          "id": "humidity",
          "name": "Relative Humidity",
          "type": 2,
          "unit": "%"
         },
         "info": {
          "id": "info",
          "name": "Info",
          "type": 1,
          "unit": null
         },
         "latitude": {
          "id": "latitude",
          "name": "Latitude",
          "type": 2,
          "unit": null
         },
         "longitude": {
          "id": "longitude",
          "name": "Longitude",
          "type": 2,
          "unit": null
         },
         "maxt": {
          "id": "maxt",
          "name": "Maximum Temperature",
          "type": 2,
          "unit": "degF"
         },
         "mint": {
          "id": "mint",
          "name": "Minimum Temperature",
          "type": 2,
          "unit": "degF"
         },
         "name": {
          "id": "name",
          "name": "Name",
          "type": 1,
          "unit": null
         },
         "precip": {
          "id": "precip",
          "name": "Precipitation",
          "type": 2,
          "unit": "in"
         },
         "precipcover": {
          "id": "precipcover",
          "name": "Precipitation Cover",
          "type": 2,
          "unit": "%"
         },
         "resolvedAddress": {
          "id": "resolvedAddress",
          "name": "Resolved Address",
          "type": 1,
          "unit": null
         },
         "sealevelpressure": {
          "id": "sealevelpressure",
          "name": "Sea Level Pressure",
          "type": 2,
          "unit": "Pa"
         },
         "snowdepth": {
          "id": "snowdepth",
          "name": "Snow Depth",
          "type": 2,
          "unit": "in"
         },
         "temp": {
          "id": "temp",
          "name": "Temperature",
          "type": 2,
          "unit": "degF"
         },
         "visibility": {
          "id": "visibility",
          "name": "Visibility",
          "type": 2,
          "unit": "mi"
         },
         "wdir": {
          "id": "wdir",
          "name": "Wind Direction",
          "type": 2,
          "unit": null
         },
         "weathertype": {
          "id": "weathertype",
          "name": "Weather Type",
          "type": 1,
          "unit": null
         },
         "wgust": {
          "id": "wgust",
          "name": "Wind Gust",
          "type": 2,
          "unit": "mph"
         },
         "windchill": {
          "id": "windchill",
          "name": "Wind Chill",
          "type": 2,
          "unit": "degF"
         },
         "wspd": {
          "id": "wspd",
          "name": "Wind Speed",
          "type": 2,
          "unit": "mph"
         }
        },
        "locations": {
         "Seattle, WA": {
          "address": "Seattle, WA",
          "alerts": null,
          "currentConditions": null,
          "distance": 0,
          "id": "Seattle, WA",
          "index": 0,
          "latitude": 47.6036,
          "longitude": -122.329,
          "name": "Seattle, WA",
          "stationContributions": null,
          "time": 0,
          "values": [
           {
            "cloudcover": 0.7,
            "conditions": "Rain",
            "datetime": 1515196800000,
            "datetimeStr": "2018-01-06T00:00:00-08:00",
            "dew": 42.3,
            "heatindex": null,
            "humidity": 87.27,
            "info": null,
            "maxt": 47.9,
            "mint": 44.3,
            "precip": 0.24,
            "precipcover": 45.83,
            "sealevelpressure": 1023.2,
            "snowdepth": null,
            "temp": 46,
            "visibility": 7.1,
            "wdir": 162.08,
            "weathertype": null,
            "wgust": 12.8,
            "windchill": 39.9,
            "wspd": 9.2
           },
           {
            "cloudcover": 0.7,
            "conditions": "Rain",
            "datetime": 1515283200000,
            "datetimeStr": "2018-01-07T00:00:00-08:00",
            "dew": 41.7,
            "heatindex": null,
            "humidity": 88.71,
            "info": null,
            "maxt": 46.1,
            "mint": 43.1,
            "precip": 0.41,
            "precipcover": 54.17,
            "sealevelpressure": 1018.5,
            "snowdepth": null,
            "temp": 44.9,
            "visibility": 9.5,
            "wdir": 142.5,
            "weathertype": null,
            "wgust": 12.8,
            "windchill": 38.7,
            "wspd": 8.1
           }
          ]
         }
        },
        "messages": [
         "This is a preview of the first 2 rows.You have exceeded the maximum number of daily result records for your account. Add a credit card to your account to increase the number of available free records."
        ],
        "queryCost": 2,
        "remainingCost": 0
       },
       {
        "columns": {
         "address": {
          "id": "address",
          "name": "Address",
          "type": 1,
          "unit": null
         },
         "cloudcover": {
          "id": "cloudcover",
          "name": "Cloud Cover",
          "type": 2,
          "unit": "%"
         },
         "conditions": {
          "id": "conditions",
          "name": "Conditions",
          "type": 1,
          "unit": null
         },
         "datetime": {
          "id": "datetime",
          "name": "Date time",
          "type": 3,
          "unit": null
         },
         "dew": {
          "id": "dew",
          "name": "Dew Point",
          "type": 2,
          "unit": "degF"
         },
         "heatindex": {
          "id": "heatindex",
          "name": "Heat Index",
          "type": 2,
          "unit": "degF"
         },
         "humidity": {
          "id": "humidity",
          "name": "Relative Humidity",
          "type": 2,
          "unit": "%"
         },
         "info": {
          "id": "info",
          "name": "Info",
          "type": 1,
          "unit": null
         },
         "latitude": {
          "id": "latitude",
          "name": "Latitude",
          "type": 2,
          "unit": null
         },
         "longitude": {
          "id": "longitude",
          "name": "Longitude",
          "type": 2,
          "unit": null
         },
         "maxt": {
          "id": "maxt",
          "name": "Maximum Temperature",
          "type": 2,
          "unit": "degF"
         },
         "mint": {
          "id": "mint",
          "name": "Minimum Temperature",
          "type": 2,
          "unit": "degF"
         },
         "name": {
          "id": "name",
          "name": "Name",
          "type": 1,
          "unit": null
         },
         "precip": {
          "id": "precip",
          "name": "Precipitation",
          "type": 2,
          "unit": "in"
         },
         "precipcover": {
          "id": "precipcover",
          "name": "Precipitation Cover",
          "type": 2,
          "unit": "%"
         },
         "resolvedAddress": {
          "id": "resolvedAddress",
          "name": "Resolved Address",
          "type": 1,
          "unit": null
         },
         "sealevelpressure": {
          "id": "sealevelpressure",
          "name": "Sea Level Pressure",
          "type": 2,
          "unit": "Pa"
         },
         "snowdepth": {
          "id": "snowdepth",
          "name": "Snow Depth",
          "type": 2,
          "unit": "in"
         },
         "temp": {
          "id": "temp",
          "name": "Temperature",
          "type": 2,
          "unit": "degF"
         },
         "visibility": {
          "id": "visibility",
          "name": "Visibility",
          "type": 2,
          "unit": "mi"
         },
         "wdir": {
          "id": "wdir",
          "name": "Wind Direction",
          "type": 2,
          "unit": null
         },
         "weathertype": {
          "id": "weathertype",
          "name": "Weather Type",
          "type": 1,
          "unit": null
         },
         "wgust": {
          "id": "wgust",
          "name": "Wind Gust",
          "type": 2,
          "unit": "mph"
         },
         "windchill": {
          "id": "windchill",
          "name": "Wind Chill",
          "type": 2,
          "unit": "degF"
         },
         "wspd": {
          "id": "wspd",
          "name": "Wind Speed",
          "type": 2,
          "unit": "mph"
         }
        },
        "locations": {
         "Watertown, NY": {
          "address": "watertown, ny",
          "alerts": null,
          "currentConditions": null,
          "distance": 0,
          "id": "Watertown, NY",
          "index": 0,
          "latitude": 43.9759,
          "longitude": -75.9143,
          "name": "watertown, ny",
          "stationContributions": null,
          "time": 0,
          "values": [
           {
            "cloudcover": 0,
            "conditions": "Snow",
            "datetime": 1547337600000,
            "datetimeStr": "2019-01-13T00:00:00-05:00",
            "dew": -3.1,
            "heatindex": null,
            "humidity": 76.68,
            "info": null,
            "maxt": 11.7,
            "mint": -6,
            "precip": 0,
            "precipcover": 0,
            "sealevelpressure": 1034.1,
            "snowdepth": 5.12,
            "temp": 2.8,
            "visibility": 9.9,
            "wdir": 56.42,
            "weathertype": null,
            "wgust": null,
            "windchill": -18.7,
            "wspd": 13.8
           },
           {
            "cloudcover": 57.3,
            "conditions": "Snow, Partially cloudy",
            "datetime": 1547424000000,
            "datetimeStr": "2019-01-14T00:00:00-05:00",
            "dew": 5.9,
            "heatindex": null,
            "humidity": 87.97,
            "info": null,
            "maxt": 19.8,
            "mint": -4.5,
            "precip": 0,
            "precipcover": 0,
            "sealevelpressure": 1026.8,
            "snowdepth": 3.94,
            "temp": 8.7,
            "visibility": 8.8,
            "wdir": 125.96,
            "weathertype": null,
            "wgust": null,
            "windchill": -13.1,
            "wspd": 7
           }
          ]
         }
        },
        "messages": [
         "This is a preview of the first 2 rows.You have exceeded the maximum number of daily result records for your account. Add a credit card to your account to increase the number of available free records."
        ],
        "queryCost": 2,
        "remainingCost": 0
       },
       {
        "columns": {
         "address": {
          "id": "address",
          "name": "Address",
          "type": 1,
          "unit": null
         },
         "cloudcover": {
          "id": "cloudcover",
          "name": "Cloud Cover",
          "type": 2,
          "unit": "%"
         },
         "conditions": {
          "id": "conditions",
          "name": "Conditions",
          "type": 1,
          "unit": null
         },
         "datetime": {
          "id": "datetime",
          "name": "Date time",
          "type": 3,
          "unit": null
         },
         "dew": {
          "id": "dew",
          "name": "Dew Point",
          "type": 2,
          "unit": "degF"
         },
         "heatindex": {
          "id": "heatindex",
          "name": "Heat Index",
          "type": 2,
          "unit": "degF"
         },
         "humidity": {
          "id": "humidity",
          "name": "Relative Humidity",
          "type": 2,
          "unit": "%"
         },
         "info": {
          "id": "info",
          "name": "Info",
          "type": 1,
          "unit": null
         },
         "latitude": {
          "id": "latitude",
          "name": "Latitude",
          "type": 2,
          "unit": null
         },
         "longitude": {
          "id": "longitude",
          "name": "Longitude",
          "type": 2,
          "unit": null
         },
         "maxt": {
          "id": "maxt",
          "name": "Maximum Temperature",
          "type": 2,
          "unit": "degF"
         },
         "mint": {
          "id": "mint",
          "name": "Minimum Temperature",
          "type": 2,
          "unit": "degF"
         },
         "name": {
          "id": "name",
          "name": "Name",
          "type": 1,
          "unit": null
         },
         "precip": {
          "id": "precip",
          "name": "Precipitation",
          "type": 2,
          "unit": "in"
         },
         "precipcover": {
          "id": "precipcover",
          "name": "Precipitation Cover",
          "type": 2,
          "unit": "%"
         },
         "resolvedAddress": {
          "id": "resolvedAddress",
          "name": "Resolved Address",
          "type": 1,
          "unit": null
         },
         "sealevelpressure": {
          "id": "sealevelpressure",
          "name": "Sea Level Pressure",
          "type": 2,
          "unit": "Pa"
         },
         "snowdepth": {
          "id": "snowdepth",
          "name": "Snow Depth",
          "type": 2,
          "unit": "in"
         },
         "temp": {
          "id": "temp",
          "name": "Temperature",
          "type": 2,
          "unit": "degF"
         },
         "visibility": {
          "id": "visibility",
          "name": "Visibility",
          "type": 2,
          "unit": "mi"
         },
         "wdir": {
          "id": "wdir",
          "name": "Wind Direction",
          "type": 2,
          "unit": null
         },
         "weathertype": {
          "id": "weathertype",
          "name": "Weather Type",
          "type": 1,
          "unit": null
         },
         "wgust": {
          "id": "wgust",
          "name": "Wind Gust",
          "type": 2,
          "unit": "mph"
         },
         "windchill": {
          "id": "windchill",
          "name": "Wind Chill",
          "type": 2,
          "unit": "degF"
         },
         "wspd": {
          "id": "wspd",
          "name": "Wind Speed",
          "type": 2,
          "unit": "mph"
         }
        },
        "locations": {
         "Sioux Falls, SD": {
          "address": "Sioux Falls, SD",
          "alerts": null,
          "currentConditions": null,
          "distance": 0,
          "id": "Sioux Falls, SD",
          "index": 0,
          "latitude": 43.5458,
          "longitude": -96.7313,
          "name": "Sioux Falls, SD",
          "stationContributions": null,
          "time": 0,
          "values": [
           {
            "cloudcover": 84.9,
            "conditions": "Rain, Overcast",
            "datetime": 1548547200000,
            "datetimeStr": "2019-01-27T00:00:00-06:00",
            "dew": 6.7,
            "heatindex": null,
            "humidity": 79.74,
            "info": null,
            "maxt": 37.1,
            "mint": -0.9,
            "precip": 0.13,
            "precipcover": 37.5,
            "sealevelpressure": 1010.9,
            "snowdepth": null,
            "temp": 11.8,
            "visibility": 6.2,
            "wdir": 147.5,
            "weathertype": null,
            "wgust": 31.1,
            "windchill": -14.5,
            "wspd": 19.7
           },
           {
            "cloudcover": 60.1,
            "conditions": "Partially cloudy",
            "datetime": 1548633600000,
            "datetimeStr": "2019-01-28T00:00:00-06:00",
            "dew": -0.9,
            "heatindex": null,
            "humidity": 72.59,
            "info": null,
            "maxt": 19.3,
            "mint": 0,
            "precip": 0,
            "precipcover": 0,
            "sealevelpressure": 1018.7,
            "snowdepth": null,
            "temp": 6.1,
            "visibility": 7.4,
            "wdir": 316.04,
            "weathertype": null,
            "wgust": 61.1,
            "windchill": -23.4,
            "wspd": 40.3
           }
          ]
         }
        },
        "messages": [
         "This is a preview of the first 2 rows.You have exceeded the maximum number of daily result records for your account. Add a credit card to your account to increase the number of available free records."
        ],
        "queryCost": 2,
        "remainingCost": 0
       },
       {
        "columns": {
         "address": {
          "id": "address",
          "name": "Address",
          "type": 1,
          "unit": null
         },
         "cloudcover": {
          "id": "cloudcover",
          "name": "Cloud Cover",
          "type": 2,
          "unit": "%"
         },
         "conditions": {
          "id": "conditions",
          "name": "Conditions",
          "type": 1,
          "unit": null
         },
         "datetime": {
          "id": "datetime",
          "name": "Date time",
          "type": 3,
          "unit": null
         },
         "dew": {
          "id": "dew",
          "name": "Dew Point",
          "type": 2,
          "unit": "degF"
         },
         "heatindex": {
          "id": "heatindex",
          "name": "Heat Index",
          "type": 2,
          "unit": "degF"
         },
         "humidity": {
          "id": "humidity",
          "name": "Relative Humidity",
          "type": 2,
          "unit": "%"
         },
         "info": {
          "id": "info",
          "name": "Info",
          "type": 1,
          "unit": null
         },
         "latitude": {
          "id": "latitude",
          "name": "Latitude",
          "type": 2,
          "unit": null
         },
         "longitude": {
          "id": "longitude",
          "name": "Longitude",
          "type": 2,
          "unit": null
         },
         "maxt": {
          "id": "maxt",
          "name": "Maximum Temperature",
          "type": 2,
          "unit": "degF"
         },
         "mint": {
          "id": "mint",
          "name": "Minimum Temperature",
          "type": 2,
          "unit": "degF"
         },
         "name": {
          "id": "name",
          "name": "Name",
          "type": 1,
          "unit": null
         },
         "precip": {
          "id": "precip",
          "name": "Precipitation",
          "type": 2,
          "unit": "in"
         },
         "precipcover": {
          "id": "precipcover",
          "name": "Precipitation Cover",
          "type": 2,
          "unit": "%"
         },
         "resolvedAddress": {
          "id": "resolvedAddress",
          "name": "Resolved Address",
          "type": 1,
          "unit": null
         },
         "sealevelpressure": {
          "id": "sealevelpressure",
          "name": "Sea Level Pressure",
          "type": 2,
          "unit": "Pa"
         },
         "snowdepth": {
          "id": "snowdepth",
          "name": "Snow Depth",
          "type": 2,
          "unit": "in"
         },
         "temp": {
          "id": "temp",
          "name": "Temperature",
          "type": 2,
          "unit": "degF"
         },
         "visibility": {
          "id": "visibility",
          "name": "Visibility",
          "type": 2,
          "unit": "mi"
         },
         "wdir": {
          "id": "wdir",
          "name": "Wind Direction",
          "type": 2,
          "unit": null
         },
         "weathertype": {
          "id": "weathertype",
          "name": "Weather Type",
          "type": 1,
          "unit": null
         },
         "wgust": {
          "id": "wgust",
          "name": "Wind Gust",
          "type": 2,
          "unit": "mph"
         },
         "windchill": {
          "id": "windchill",
          "name": "Wind Chill",
          "type": 2,
          "unit": "degF"
         },
         "wspd": {
          "id": "wspd",
          "name": "Wind Speed",
          "type": 2,
          "unit": "mph"
         }
        },
        "locations": {
         "Rapid City, SD": {
          "address": "rapid city, sd",
          "alerts": null,
          "currentConditions": null,
          "distance": 0,
          "id": "Rapid City, SD",
          "index": 0,
          "latitude": 44.0815,
          "longitude": -103.231,
          "name": "rapid city, sd",
          "stationContributions": null,
          "time": 0,
          "values": [
           {
            "cloudcover": 0,
            "conditions": "Clear",
            "datetime": 1516147200000,
            "datetimeStr": "2018-01-17T00:00:00-07:00",
            "dew": 15.5,
            "heatindex": null,
            "humidity": 54.4,
            "info": null,
            "maxt": 46.9,
            "mint": 9.4,
            "precip": 0,
            "precipcover": 0,
            "sealevelpressure": 1025.4,
            "snowdepth": null,
            "temp": 30.2,
            "visibility": 9.9,
            "wdir": 265.13,
            "weathertype": null,
            "wgust": null,
            "windchill": 1.9,
            "wspd": 14.6
           },
           {
            "cloudcover": 7.1,
            "conditions": "Clear",
            "datetime": 1516233600000,
            "datetimeStr": "2018-01-18T00:00:00-07:00",
            "dew": 22.4,
            "heatindex": null,
            "humidity": 47.62,
            "info": null,
            "maxt": 60.1,
            "mint": 26.9,
            "precip": 0,
            "precipcover": 0,
            "sealevelpressure": 1011.5,
            "snowdepth": null,
            "temp": 41.8,
            "visibility": 9.9,
            "wdir": 238.96,
            "weathertype": null,
            "wgust": null,
            "windchill": 22.3,
            "wspd": 8.4
           }
          ]
         }
        },
        "messages": [
         "This is a preview of the first 2 rows.You have exceeded the maximum number of daily result records for your account. Add a credit card to your account to increase the number of available free records."
        ],
        "queryCost": 2,
        "remainingCost": 0
       },
       {
        "columns": {
         "address": {
          "id": "address",
          "name": "Address",
          "type": 1,
          "unit": null
         },
         "cloudcover": {
          "id": "cloudcover",
          "name": "Cloud Cover",
          "type": 2,
          "unit": "%"
         },
         "conditions": {
          "id": "conditions",
          "name": "Conditions",
          "type": 1,
          "unit": null
         },
         "datetime": {
          "id": "datetime",
          "name": "Date time",
          "type": 3,
          "unit": null
         },
         "dew": {
          "id": "dew",
          "name": "Dew Point",
          "type": 2,
          "unit": "degF"
         },
         "heatindex": {
          "id": "heatindex",
          "name": "Heat Index",
          "type": 2,
          "unit": "degF"
         },
         "humidity": {
          "id": "humidity",
          "name": "Relative Humidity",
          "type": 2,
          "unit": "%"
         },
         "info": {
          "id": "info",
          "name": "Info",
          "type": 1,
          "unit": null
         },
         "latitude": {
          "id": "latitude",
          "name": "Latitude",
          "type": 2,
          "unit": null
         },
         "longitude": {
          "id": "longitude",
          "name": "Longitude",
          "type": 2,
          "unit": null
         },
         "maxt": {
          "id": "maxt",
          "name": "Maximum Temperature",
          "type": 2,
          "unit": "degF"
         },
         "mint": {
          "id": "mint",
          "name": "Minimum Temperature",
          "type": 2,
          "unit": "degF"
         },
         "name": {
          "id": "name",
          "name": "Name",
          "type": 1,
          "unit": null
         },
         "precip": {
          "id": "precip",
          "name": "Precipitation",
          "type": 2,
          "unit": "in"
         },
         "precipcover": {
          "id": "precipcover",
          "name": "Precipitation Cover",
          "type": 2,
          "unit": "%"
         },
         "resolvedAddress": {
          "id": "resolvedAddress",
          "name": "Resolved Address",
          "type": 1,
          "unit": null
         },
         "sealevelpressure": {
          "id": "sealevelpressure",
          "name": "Sea Level Pressure",
          "type": 2,
          "unit": "Pa"
         },
         "snowdepth": {
          "id": "snowdepth",
          "name": "Snow Depth",
          "type": 2,
          "unit": "in"
         },
         "temp": {
          "id": "temp",
          "name": "Temperature",
          "type": 2,
          "unit": "degF"
         },
         "visibility": {
          "id": "visibility",
          "name": "Visibility",
          "type": 2,
          "unit": "mi"
         },
         "wdir": {
          "id": "wdir",
          "name": "Wind Direction",
          "type": 2,
          "unit": null
         },
         "weathertype": {
          "id": "weathertype",
          "name": "Weather Type",
          "type": 1,
          "unit": null
         },
         "wgust": {
          "id": "wgust",
          "name": "Wind Gust",
          "type": 2,
          "unit": "mph"
         },
         "windchill": {
          "id": "windchill",
          "name": "Wind Chill",
          "type": 2,
          "unit": "degF"
         },
         "wspd": {
          "id": "wspd",
          "name": "Wind Speed",
          "type": 2,
          "unit": "mph"
         }
        },
        "locations": {
         "Jackson, WY": {
          "address": "Jackson, WY",
          "alerts": null,
          "currentConditions": null,
          "distance": 0,
          "id": "Jackson, WY",
          "index": 0,
          "latitude": 43.4803,
          "longitude": -110.762,
          "name": "Jackson, WY",
          "stationContributions": null,
          "time": 0,
          "values": [
           {
            "cloudcover": 7.4,
            "conditions": "Clear",
            "datetime": 1548720000000,
            "datetimeStr": "2019-01-29T00:00:00-07:00",
            "dew": -5,
            "heatindex": null,
            "humidity": 77.66,
            "info": null,
            "maxt": 14,
            "mint": -9.9,
            "precip": 0,
            "precipcover": 0,
            "sealevelpressure": 1033.5,
            "snowdepth": null,
            "temp": 0.5,
            "visibility": 9.7,
            "wdir": 77.5,
            "weathertype": null,
            "wgust": null,
            "windchill": -27.4,
            "wspd": 12.8
           },
           {
            "cloudcover": 0,
            "conditions": "Clear",
            "datetime": 1548806400000,
            "datetimeStr": "2019-01-30T00:00:00-07:00",
            "dew": -8.7,
            "heatindex": null,
            "humidity": 78.16,
            "info": null,
            "maxt": 10.1,
            "mint": -16.1,
            "precip": 0,
            "precipcover": 0,
            "sealevelpressure": 1031.7,
            "snowdepth": null,
            "temp": -3.5,
            "visibility": 9.9,
            "wdir": 73.75,
            "weathertype": null,
            "wgust": null,
            "windchill": -35.7,
            "wspd": 12.8
           }
          ]
         }
        },
        "messages": [
         "This is a preview of the first 2 rows.You have exceeded the maximum number of daily result records for your account. Add a credit card to your account to increase the number of available free records."
        ],
        "queryCost": 2,
        "remainingCost": 0
       },
       {
        "columns": {
         "address": {
          "id": "address",
          "name": "Address",
          "type": 1,
          "unit": null
         },
         "cloudcover": {
          "id": "cloudcover",
          "name": "Cloud Cover",
          "type": 2,
          "unit": "%"
         },
         "conditions": {
          "id": "conditions",
          "name": "Conditions",
          "type": 1,
          "unit": null
         },
         "datetime": {
          "id": "datetime",
          "name": "Date time",
          "type": 3,
          "unit": null
         },
         "dew": {
          "id": "dew",
          "name": "Dew Point",
          "type": 2,
          "unit": "degF"
         },
         "heatindex": {
          "id": "heatindex",
          "name": "Heat Index",
          "type": 2,
          "unit": "degF"
         },
         "humidity": {
          "id": "humidity",
          "name": "Relative Humidity",
          "type": 2,
          "unit": "%"
         },
         "info": {
          "id": "info",
          "name": "Info",
          "type": 1,
          "unit": null
         },
         "latitude": {
          "id": "latitude",
          "name": "Latitude",
          "type": 2,
          "unit": null
         },
         "longitude": {
          "id": "longitude",
          "name": "Longitude",
          "type": 2,
          "unit": null
         },
         "maxt": {
          "id": "maxt",
          "name": "Maximum Temperature",
          "type": 2,
          "unit": "degF"
         },
         "mint": {
          "id": "mint",
          "name": "Minimum Temperature",
          "type": 2,
          "unit": "degF"
         },
         "name": {
          "id": "name",
          "name": "Name",
          "type": 1,
          "unit": null
         },
         "precip": {
          "id": "precip",
          "name": "Precipitation",
          "type": 2,
          "unit": "in"
         },
         "precipcover": {
          "id": "precipcover",
          "name": "Precipitation Cover",
          "type": 2,
          "unit": "%"
         },
         "resolvedAddress": {
          "id": "resolvedAddress",
          "name": "Resolved Address",
          "type": 1,
          "unit": null
         },
         "sealevelpressure": {
          "id": "sealevelpressure",
          "name": "Sea Level Pressure",
          "type": 2,
          "unit": "Pa"
         },
         "snowdepth": {
          "id": "snowdepth",
          "name": "Snow Depth",
          "type": 2,
          "unit": "in"
         },
         "temp": {
          "id": "temp",
          "name": "Temperature",
          "type": 2,
          "unit": "degF"
         },
         "visibility": {
          "id": "visibility",
          "name": "Visibility",
          "type": 2,
          "unit": "mi"
         },
         "wdir": {
          "id": "wdir",
          "name": "Wind Direction",
          "type": 2,
          "unit": null
         },
         "weathertype": {
          "id": "weathertype",
          "name": "Weather Type",
          "type": 1,
          "unit": null
         },
         "wgust": {
          "id": "wgust",
          "name": "Wind Gust",
          "type": 2,
          "unit": "mph"
         },
         "windchill": {
          "id": "windchill",
          "name": "Wind Chill",
          "type": 2,
          "unit": "degF"
         },
         "wspd": {
          "id": "wspd",
          "name": "Wind Speed",
          "type": 2,
          "unit": "mph"
         }
        },
        "locations": {
         "Rochester, MN": {
          "address": "rochester, mn",
          "alerts": null,
          "currentConditions": null,
          "distance": 0,
          "id": "Rochester, MN",
          "index": 0,
          "latitude": 44.0193,
          "longitude": -92.4594,
          "name": "rochester, mn",
          "stationContributions": null,
          "time": 0,
          "values": [
           {
            "cloudcover": 13.8,
            "conditions": "Clear",
            "datetime": 1515456000000,
            "datetimeStr": "2018-01-09T00:00:00-06:00",
            "dew": 26,
            "heatindex": null,
            "humidity": 74.16,
            "info": null,
            "maxt": 40.7,
            "mint": 26.7,
            "precip": 0,
            "precipcover": 0,
            "sealevelpressure": null,
            "snowdepth": null,
            "temp": 33.8,
            "visibility": 9.9,
            "wdir": 127.83,
            "weathertype": null,
            "wgust": null,
            "windchill": 18.2,
            "wspd": 16.1
           },
           {
            "cloudcover": 50,
            "conditions": "Partially cloudy",
            "datetime": 1515542400000,
            "datetimeStr": "2018-01-10T00:00:00-06:00",
            "dew": 31.5,
            "heatindex": null,
            "humidity": 97.27,
            "info": null,
            "maxt": 38,
            "mint": 31.7,
            "precip": 0,
            "precipcover": 0,
            "sealevelpressure": null,
            "snowdepth": null,
            "temp": 34.3,
            "visibility": 4,
            "wdir": 153.91,
            "weathertype": null,
            "wgust": null,
            "windchill": 20.1,
            "wspd": 19.7
           }
          ]
         }
        },
        "messages": [
         "This is a preview of the first 2 rows.You have exceeded the maximum number of daily result records for your account. Add a credit card to your account to increase the number of available free records."
        ],
        "queryCost": 2,
        "remainingCost": 0
       },
       {
        "columns": {
         "address": {
          "id": "address",
          "name": "Address",
          "type": 1,
          "unit": null
         },
         "cloudcover": {
          "id": "cloudcover",
          "name": "Cloud Cover",
          "type": 2,
          "unit": "%"
         },
         "conditions": {
          "id": "conditions",
          "name": "Conditions",
          "type": 1,
          "unit": null
         },
         "datetime": {
          "id": "datetime",
          "name": "Date time",
          "type": 3,
          "unit": null
         },
         "dew": {
          "id": "dew",
          "name": "Dew Point",
          "type": 2,
          "unit": "degF"
         },
         "heatindex": {
          "id": "heatindex",
          "name": "Heat Index",
          "type": 2,
          "unit": "degF"
         },
         "humidity": {
          "id": "humidity",
          "name": "Relative Humidity",
          "type": 2,
          "unit": "%"
         },
         "info": {
          "id": "info",
          "name": "Info",
          "type": 1,
          "unit": null
         },
         "latitude": {
          "id": "latitude",
          "name": "Latitude",
          "type": 2,
          "unit": null
         },
         "longitude": {
          "id": "longitude",
          "name": "Longitude",
          "type": 2,
          "unit": null
         },
         "maxt": {
          "id": "maxt",
          "name": "Maximum Temperature",
          "type": 2,
          "unit": "degF"
         },
         "mint": {
          "id": "mint",
          "name": "Minimum Temperature",
          "type": 2,
          "unit": "degF"
         },
         "name": {
          "id": "name",
          "name": "Name",
          "type": 1,
          "unit": null
         },
         "precip": {
          "id": "precip",
          "name": "Precipitation",
          "type": 2,
          "unit": "in"
         },
         "precipcover": {
          "id": "precipcover",
          "name": "Precipitation Cover",
          "type": 2,
          "unit": "%"
         },
         "resolvedAddress": {
          "id": "resolvedAddress",
          "name": "Resolved Address",
          "type": 1,
          "unit": null
         },
         "sealevelpressure": {
          "id": "sealevelpressure",
          "name": "Sea Level Pressure",
          "type": 2,
          "unit": "Pa"
         },
         "snowdepth": {
          "id": "snowdepth",
          "name": "Snow Depth",
          "type": 2,
          "unit": "in"
         },
         "temp": {
          "id": "temp",
          "name": "Temperature",
          "type": 2,
          "unit": "degF"
         },
         "visibility": {
          "id": "visibility",
          "name": "Visibility",
          "type": 2,
          "unit": "mi"
         },
         "wdir": {
          "id": "wdir",
          "name": "Wind Direction",
          "type": 2,
          "unit": null
         },
         "weathertype": {
          "id": "weathertype",
          "name": "Weather Type",
          "type": 1,
          "unit": null
         },
         "wgust": {
          "id": "wgust",
          "name": "Wind Gust",
          "type": 2,
          "unit": "mph"
         },
         "windchill": {
          "id": "windchill",
          "name": "Wind Chill",
          "type": 2,
          "unit": "degF"
         },
         "wspd": {
          "id": "wspd",
          "name": "Wind Speed",
          "type": 2,
          "unit": "mph"
         }
        },
        "locations": {
         "Nantucket, MA": {
          "address": "nantucket, MA",
          "alerts": null,
          "currentConditions": null,
          "distance": 0,
          "id": "Nantucket, MA",
          "index": 0,
          "latitude": 41.2836,
          "longitude": -70.0987,
          "name": "nantucket, MA",
          "stationContributions": null,
          "time": 0,
          "values": [
           {
            "cloudcover": 0.5,
            "conditions": "Rain",
            "datetime": 1515715200000,
            "datetimeStr": "2018-01-12T00:00:00-05:00",
            "dew": 45,
            "heatindex": null,
            "humidity": 85.04,
            "info": null,
            "maxt": 51.1,
            "mint": 47.5,
            "precip": 0.31,
            "precipcover": 4.17,
            "sealevelpressure": 1017.5,
            "snowdepth": null,
            "temp": 49.4,
            "visibility": 3.3,
            "wdir": 176.67,
            "weathertype": null,
            "wgust": 28.9,
            "windchill": 42.5,
            "wspd": 16.1
           },
           {
            "cloudcover": 0.2,
            "conditions": "Rain",
            "datetime": 1515801600000,
            "datetimeStr": "2018-01-13T00:00:00-05:00",
            "dew": 38.1,
            "heatindex": null,
            "humidity": 79.33,
            "info": null,
            "maxt": 54.2,
            "mint": 29,
            "precip": 0.12,
            "precipcover": 20.83,
            "sealevelpressure": 1009.1,
            "snowdepth": null,
            "temp": 44.2,
            "visibility": 5,
            "wdir": 247.08,
            "weathertype": null,
            "wgust": 33.4,
            "windchill": 18.7,
            "wspd": 19.8
           }
          ]
         }
        },
        "messages": [
         "This is a preview of the first 2 rows.You have exceeded the maximum number of daily result records for your account. Add a credit card to your account to increase the number of available free records."
        ],
        "queryCost": 2,
        "remainingCost": 0
       },
       {
        "columns": {
         "address": {
          "id": "address",
          "name": "Address",
          "type": 1,
          "unit": null
         },
         "cloudcover": {
          "id": "cloudcover",
          "name": "Cloud Cover",
          "type": 2,
          "unit": "%"
         },
         "conditions": {
          "id": "conditions",
          "name": "Conditions",
          "type": 1,
          "unit": null
         },
         "datetime": {
          "id": "datetime",
          "name": "Date time",
          "type": 3,
          "unit": null
         },
         "dew": {
          "id": "dew",
          "name": "Dew Point",
          "type": 2,
          "unit": "degF"
         },
         "heatindex": {
          "id": "heatindex",
          "name": "Heat Index",
          "type": 2,
          "unit": "degF"
         },
         "humidity": {
          "id": "humidity",
          "name": "Relative Humidity",
          "type": 2,
          "unit": "%"
         },
         "info": {
          "id": "info",
          "name": "Info",
          "type": 1,
          "unit": null
         },
         "latitude": {
          "id": "latitude",
          "name": "Latitude",
          "type": 2,
          "unit": null
         },
         "longitude": {
          "id": "longitude",
          "name": "Longitude",
          "type": 2,
          "unit": null
         },
         "maxt": {
          "id": "maxt",
          "name": "Maximum Temperature",
          "type": 2,
          "unit": "degF"
         },
         "mint": {
          "id": "mint",
          "name": "Minimum Temperature",
          "type": 2,
          "unit": "degF"
         },
         "name": {
          "id": "name",
          "name": "Name",
          "type": 1,
          "unit": null
         },
         "precip": {
          "id": "precip",
          "name": "Precipitation",
          "type": 2,
          "unit": "in"
         },
         "precipcover": {
          "id": "precipcover",
          "name": "Precipitation Cover",
          "type": 2,
          "unit": "%"
         },
         "resolvedAddress": {
          "id": "resolvedAddress",
          "name": "Resolved Address",
          "type": 1,
          "unit": null
         },
         "sealevelpressure": {
          "id": "sealevelpressure",
          "name": "Sea Level Pressure",
          "type": 2,
          "unit": "Pa"
         },
         "snowdepth": {
          "id": "snowdepth",
          "name": "Snow Depth",
          "type": 2,
          "unit": "in"
         },
         "temp": {
          "id": "temp",
          "name": "Temperature",
          "type": 2,
          "unit": "degF"
         },
         "visibility": {
          "id": "visibility",
          "name": "Visibility",
          "type": 2,
          "unit": "mi"
         },
         "wdir": {
          "id": "wdir",
          "name": "Wind Direction",
          "type": 2,
          "unit": null
         },
         "weathertype": {
          "id": "weathertype",
          "name": "Weather Type",
          "type": 1,
          "unit": null
         },
         "wgust": {
          "id": "wgust",
          "name": "Wind Gust",
          "type": 2,
          "unit": "mph"
         },
         "windchill": {
          "id": "windchill",
          "name": "Wind Chill",
          "type": 2,
          "unit": "degF"
         },
         "wspd": {
          "id": "wspd",
          "name": "Wind Speed",
          "type": 2,
          "unit": "mph"
         }
        },
        "locations": {
         "Harrisburg, PA": {
          "address": "Harrisburg, PA",
          "alerts": null,
          "currentConditions": null,
          "distance": 0,
          "id": "Harrisburg, PA",
          "index": 0,
          "latitude": 40.2599,
          "longitude": -76.8822,
          "name": "Harrisburg, PA",
          "stationContributions": null,
          "time": 0,
          "values": [
           {
            "cloudcover": 74.5,
            "conditions": "Rain, Partially cloudy",
            "datetime": 1517097600000,
            "datetimeStr": "2018-01-28T00:00:00-05:00",
            "dew": 41.5,
            "heatindex": null,
            "humidity": 87.37,
            "info": null,
            "maxt": 49.9,
            "mint": 37.3,
            "precip": 0.23,
            "precipcover": 45.83,
            "sealevelpressure": 1024.4,
            "snowdepth": null,
            "temp": 45.1,
            "visibility": 7.1,
            "wdir": 277.83,
            "weathertype": null,
            "wgust": null,
            "windchill": 37.4,
            "wspd": 5.6
           },
           {
            "cloudcover": 48.2,
            "conditions": "Partially cloudy",
            "datetime": 1517184000000,
            "datetimeStr": "2018-01-29T00:00:00-05:00",
            "dew": 29.6,
            "heatindex": null,
            "humidity": 72.04,
            "info": null,
            "maxt": 47.6,
            "mint": 29.6,
            "precip": 0,
            "precipcover": 0,
            "sealevelpressure": 1020.6,
            "snowdepth": null,
            "temp": 38.5,
            "visibility": 9.1,
            "wdir": 210.05,
            "weathertype": null,
            "wgust": null,
            "windchill": 24.2,
            "wspd": 11.6
           }
          ]
         }
        },
        "messages": [
         "This is a preview of the first 2 rows.You have exceeded the maximum number of daily result records for your account. Add a credit card to your account to increase the number of available free records."
        ],
        "queryCost": 2,
        "remainingCost": 0
       },
       {
        "columns": {
         "address": {
          "id": "address",
          "name": "Address",
          "type": 1,
          "unit": null
         },
         "cloudcover": {
          "id": "cloudcover",
          "name": "Cloud Cover",
          "type": 2,
          "unit": "%"
         },
         "conditions": {
          "id": "conditions",
          "name": "Conditions",
          "type": 1,
          "unit": null
         },
         "datetime": {
          "id": "datetime",
          "name": "Date time",
          "type": 3,
          "unit": null
         },
         "dew": {
          "id": "dew",
          "name": "Dew Point",
          "type": 2,
          "unit": "degF"
         },
         "heatindex": {
          "id": "heatindex",
          "name": "Heat Index",
          "type": 2,
          "unit": "degF"
         },
         "humidity": {
          "id": "humidity",
          "name": "Relative Humidity",
          "type": 2,
          "unit": "%"
         },
         "info": {
          "id": "info",
          "name": "Info",
          "type": 1,
          "unit": null
         },
         "latitude": {
          "id": "latitude",
          "name": "Latitude",
          "type": 2,
          "unit": null
         },
         "longitude": {
          "id": "longitude",
          "name": "Longitude",
          "type": 2,
          "unit": null
         },
         "maxt": {
          "id": "maxt",
          "name": "Maximum Temperature",
          "type": 2,
          "unit": "degF"
         },
         "mint": {
          "id": "mint",
          "name": "Minimum Temperature",
          "type": 2,
          "unit": "degF"
         },
         "name": {
          "id": "name",
          "name": "Name",
          "type": 1,
          "unit": null
         },
         "precip": {
          "id": "precip",
          "name": "Precipitation",
          "type": 2,
          "unit": "in"
         },
         "precipcover": {
          "id": "precipcover",
          "name": "Precipitation Cover",
          "type": 2,
          "unit": "%"
         },
         "resolvedAddress": {
          "id": "resolvedAddress",
          "name": "Resolved Address",
          "type": 1,
          "unit": null
         },
         "sealevelpressure": {
          "id": "sealevelpressure",
          "name": "Sea Level Pressure",
          "type": 2,
          "unit": "Pa"
         },
         "snowdepth": {
          "id": "snowdepth",
          "name": "Snow Depth",
          "type": 2,
          "unit": "in"
         },
         "temp": {
          "id": "temp",
          "name": "Temperature",
          "type": 2,
          "unit": "degF"
         },
         "visibility": {
          "id": "visibility",
          "name": "Visibility",
          "type": 2,
          "unit": "mi"
         },
         "wdir": {
          "id": "wdir",
          "name": "Wind Direction",
          "type": 2,
          "unit": null
         },
         "weathertype": {
          "id": "weathertype",
          "name": "Weather Type",
          "type": 1,
          "unit": null
         },
         "wgust": {
          "id": "wgust",
          "name": "Wind Gust",
          "type": 2,
          "unit": "mph"
         },
         "windchill": {
          "id": "windchill",
          "name": "Wind Chill",
          "type": 2,
          "unit": "degF"
         },
         "wspd": {
          "id": "wspd",
          "name": "Wind Speed",
          "type": 2,
          "unit": "mph"
         }
        },
        "locations": {
         "Lanai, HI": {
          "address": "Lanai City, HI, United States",
          "alerts": null,
          "currentConditions": null,
          "distance": 0,
          "id": "Lanai, HI",
          "index": 0,
          "latitude": 20.8279,
          "longitude": -156.92,
          "name": "Lanai City, HI, United States",
          "stationContributions": null,
          "time": 0,
          "values": [
           {
            "cloudcover": 36.6,
            "conditions": "Partially cloudy",
            "datetime": 1546300800000,
            "datetimeStr": "2019-01-01T00:00:00-10:00",
            "dew": 63.1,
            "heatindex": null,
            "humidity": 82.43,
            "info": null,
            "maxt": 74.9,
            "mint": 62.1,
            "precip": 0,
            "precipcover": 0,
            "sealevelpressure": 1016.1,
            "snowdepth": null,
            "temp": 69,
            "visibility": 9.9,
            "wdir": 94.35,
            "weathertype": null,
            "wgust": null,
            "windchill": null,
            "wspd": 12.8
           },
           {
            "cloudcover": 31.9,
            "conditions": "Partially cloudy",
            "datetime": 1546387200000,
            "datetimeStr": "2019-01-02T00:00:00-10:00",
            "dew": 61.3,
            "heatindex": null,
            "humidity": 80.32,
            "info": null,
            "maxt": 75.8,
            "mint": 59,
            "precip": 0,
            "precipcover": 0,
            "sealevelpressure": 1016.8,
            "snowdepth": null,
            "temp": 68,
            "visibility": 9.9,
            "wdir": 109.05,
            "weathertype": null,
            "wgust": null,
            "windchill": null,
            "wspd": 16.1
           }
          ]
         }
        },
        "messages": [
         "This is a preview of the first 2 rows.You have exceeded the maximum number of daily result records for your account. Add a credit card to your account to increase the number of available free records."
        ],
        "queryCost": 2,
        "remainingCost": 0
       },
       {
        "columns": {
         "address": {
          "id": "address",
          "name": "Address",
          "type": 1,
          "unit": null
         },
         "cloudcover": {
          "id": "cloudcover",
          "name": "Cloud Cover",
          "type": 2,
          "unit": "%"
         },
         "conditions": {
          "id": "conditions",
          "name": "Conditions",
          "type": 1,
          "unit": null
         },
         "datetime": {
          "id": "datetime",
          "name": "Date time",
          "type": 3,
          "unit": null
         },
         "dew": {
          "id": "dew",
          "name": "Dew Point",
          "type": 2,
          "unit": "degF"
         },
         "heatindex": {
          "id": "heatindex",
          "name": "Heat Index",
          "type": 2,
          "unit": "degF"
         },
         "humidity": {
          "id": "humidity",
          "name": "Relative Humidity",
          "type": 2,
          "unit": "%"
         },
         "info": {
          "id": "info",
          "name": "Info",
          "type": 1,
          "unit": null
         },
         "latitude": {
          "id": "latitude",
          "name": "Latitude",
          "type": 2,
          "unit": null
         },
         "longitude": {
          "id": "longitude",
          "name": "Longitude",
          "type": 2,
          "unit": null
         },
         "maxt": {
          "id": "maxt",
          "name": "Maximum Temperature",
          "type": 2,
          "unit": "degF"
         },
         "mint": {
          "id": "mint",
          "name": "Minimum Temperature",
          "type": 2,
          "unit": "degF"
         },
         "name": {
          "id": "name",
          "name": "Name",
          "type": 1,
          "unit": null
         },
         "precip": {
          "id": "precip",
          "name": "Precipitation",
          "type": 2,
          "unit": "in"
         },
         "precipcover": {
          "id": "precipcover",
          "name": "Precipitation Cover",
          "type": 2,
          "unit": "%"
         },
         "resolvedAddress": {
          "id": "resolvedAddress",
          "name": "Resolved Address",
          "type": 1,
          "unit": null
         },
         "sealevelpressure": {
          "id": "sealevelpressure",
          "name": "Sea Level Pressure",
          "type": 2,
          "unit": "Pa"
         },
         "snowdepth": {
          "id": "snowdepth",
          "name": "Snow Depth",
          "type": 2,
          "unit": "in"
         },
         "temp": {
          "id": "temp",
          "name": "Temperature",
          "type": 2,
          "unit": "degF"
         },
         "visibility": {
          "id": "visibility",
          "name": "Visibility",
          "type": 2,
          "unit": "mi"
         },
         "wdir": {
          "id": "wdir",
          "name": "Wind Direction",
          "type": 2,
          "unit": null
         },
         "weathertype": {
          "id": "weathertype",
          "name": "Weather Type",
          "type": 1,
          "unit": null
         },
         "wgust": {
          "id": "wgust",
          "name": "Wind Gust",
          "type": 2,
          "unit": "mph"
         },
         "windchill": {
          "id": "windchill",
          "name": "Wind Chill",
          "type": 2,
          "unit": "degF"
         },
         "wspd": {
          "id": "wspd",
          "name": "Wind Speed",
          "type": 2,
          "unit": "mph"
         }
        },
        "locations": {
         "Chicago, IL": {
          "address": "Chicago, IL",
          "alerts": null,
          "currentConditions": null,
          "distance": 0,
          "id": "Chicago, IL",
          "index": 0,
          "latitude": 41.8843,
          "longitude": -87.6324,
          "name": "Chicago, IL",
          "stationContributions": null,
          "time": 0,
          "values": [
           {
            "cloudcover": 0,
            "conditions": "Clear",
            "datetime": 1517184000000,
            "datetimeStr": "2018-01-29T00:00:00-06:00",
            "dew": 17.9,
            "heatindex": null,
            "humidity": 73.33,
            "info": null,
            "maxt": 30.6,
            "mint": 20.1,
            "precip": 0,
            "precipcover": 0,
            "sealevelpressure": null,
            "snowdepth": null,
            "temp": 25.1,
            "visibility": null,
            "wdir": 316.04,
            "weathertype": null,
            "wgust": 27.7,
            "windchill": 5.2,
            "wspd": 27.2
           },
           {
            "cloudcover": 0,
            "conditions": "Clear",
            "datetime": 1517270400000,
            "datetimeStr": "2018-01-30T00:00:00-06:00",
            "dew": 11.2,
            "heatindex": null,
            "humidity": 57.88,
            "info": null,
            "maxt": 30.7,
            "mint": 18,
            "precip": 0,
            "precipcover": 0,
            "sealevelpressure": null,
            "snowdepth": null,
            "temp": 24.5,
            "visibility": null,
            "wdir": 225.54,
            "weathertype": null,
            "wgust": 21.9,
            "windchill": 7.2,
            "wspd": 19.8
           }
          ]
         }
        },
        "messages": [
         "This is a preview of the first 2 rows.You have exceeded the maximum number of daily result records for your account. Add a credit card to your account to increase the number of available free records."
        ],
        "queryCost": 2,
        "remainingCost": 0
       },
       {
        "columns": {
         "address": {
          "id": "address",
          "name": "Address",
          "type": 1,
          "unit": null
         },
         "cloudcover": {
          "id": "cloudcover",
          "name": "Cloud Cover",
          "type": 2,
          "unit": "%"
         },
         "conditions": {
          "id": "conditions",
          "name": "Conditions",
          "type": 1,
          "unit": null
         },
         "datetime": {
          "id": "datetime",
          "name": "Date time",
          "type": 3,
          "unit": null
         },
         "dew": {
          "id": "dew",
          "name": "Dew Point",
          "type": 2,
          "unit": "degF"
         },
         "heatindex": {
          "id": "heatindex",
          "name": "Heat Index",
          "type": 2,
          "unit": "degF"
         },
         "humidity": {
          "id": "humidity",
          "name": "Relative Humidity",
          "type": 2,
          "unit": "%"
         },
         "info": {
          "id": "info",
          "name": "Info",
          "type": 1,
          "unit": null
         },
         "latitude": {
          "id": "latitude",
          "name": "Latitude",
          "type": 2,
          "unit": null
         },
         "longitude": {
          "id": "longitude",
          "name": "Longitude",
          "type": 2,
          "unit": null
         },
         "maxt": {
          "id": "maxt",
          "name": "Maximum Temperature",
          "type": 2,
          "unit": "degF"
         },
         "mint": {
          "id": "mint",
          "name": "Minimum Temperature",
          "type": 2,
          "unit": "degF"
         },
         "name": {
          "id": "name",
          "name": "Name",
          "type": 1,
          "unit": null
         },
         "precip": {
          "id": "precip",
          "name": "Precipitation",
          "type": 2,
          "unit": "in"
         },
         "precipcover": {
          "id": "precipcover",
          "name": "Precipitation Cover",
          "type": 2,
          "unit": "%"
         },
         "resolvedAddress": {
          "id": "resolvedAddress",
          "name": "Resolved Address",
          "type": 1,
          "unit": null
         },
         "sealevelpressure": {
          "id": "sealevelpressure",
          "name": "Sea Level Pressure",
          "type": 2,
          "unit": "Pa"
         },
         "snowdepth": {
          "id": "snowdepth",
          "name": "Snow Depth",
          "type": 2,
          "unit": "in"
         },
         "temp": {
          "id": "temp",
          "name": "Temperature",
          "type": 2,
          "unit": "degF"
         },
         "visibility": {
          "id": "visibility",
          "name": "Visibility",
          "type": 2,
          "unit": "mi"
         },
         "wdir": {
          "id": "wdir",
          "name": "Wind Direction",
          "type": 2,
          "unit": null
         },
         "weathertype": {
          "id": "weathertype",
          "name": "Weather Type",
          "type": 1,
          "unit": null
         },
         "wgust": {
          "id": "wgust",
          "name": "Wind Gust",
          "type": 2,
          "unit": "mph"
         },
         "windchill": {
          "id": "windchill",
          "name": "Wind Chill",
          "type": 2,
          "unit": "degF"
         },
         "wspd": {
          "id": "wspd",
          "name": "Wind Speed",
          "type": 2,
          "unit": "mph"
         }
        },
        "locations": {
         "Great Falls, MT": {
          "address": "great falls, mt",
          "alerts": null,
          "currentConditions": null,
          "distance": 0,
          "id": "Great Falls, MT",
          "index": 0,
          "latitude": 47.5073,
          "longitude": -111.306,
          "name": "great falls, mt",
          "stationContributions": null,
          "time": 0,
          "values": [
           {
            "cloudcover": 16.2,
            "conditions": "Clear",
            "datetime": 1547510400000,
            "datetimeStr": "2019-01-15T00:00:00-07:00",
            "dew": 13.4,
            "heatindex": null,
            "humidity": 61.28,
            "info": null,
            "maxt": 38.9,
            "mint": 14,
            "precip": 0,
            "precipcover": 0,
            "sealevelpressure": 1021.9,
            "snowdepth": null,
            "temp": 25.5,
            "visibility": 9.9,
            "wdir": 190.09,
            "weathertype": null,
            "wgust": null,
            "windchill": 3.8,
            "wspd": 12.8
           },
           {
            "cloudcover": 22.8,
            "conditions": "Clear",
            "datetime": 1547596800000,
            "datetimeStr": "2019-01-16T00:00:00-07:00",
            "dew": 19.6,
            "heatindex": null,
            "humidity": 75.31,
            "info": null,
            "maxt": 38.9,
            "mint": 19.1,
            "precip": 0,
            "precipcover": 0,
            "sealevelpressure": 1017,
            "snowdepth": null,
            "temp": 27,
            "visibility": 7.2,
            "wdir": 132.78,
            "weathertype": null,
            "wgust": null,
            "windchill": 8.7,
            "wspd": 13.9
           }
          ]
         }
        },
        "messages": [
         "This is a preview of the first 2 rows.You have exceeded the maximum number of daily result records for your account. Add a credit card to your account to increase the number of available free records."
        ],
        "queryCost": 2,
        "remainingCost": 0
       },
       {
        "columns": {
         "address": {
          "id": "address",
          "name": "Address",
          "type": 1,
          "unit": null
         },
         "cloudcover": {
          "id": "cloudcover",
          "name": "Cloud Cover",
          "type": 2,
          "unit": "%"
         },
         "conditions": {
          "id": "conditions",
          "name": "Conditions",
          "type": 1,
          "unit": null
         },
         "datetime": {
          "id": "datetime",
          "name": "Date time",
          "type": 3,
          "unit": null
         },
         "dew": {
          "id": "dew",
          "name": "Dew Point",
          "type": 2,
          "unit": "degF"
         },
         "heatindex": {
          "id": "heatindex",
          "name": "Heat Index",
          "type": 2,
          "unit": "degF"
         },
         "humidity": {
          "id": "humidity",
          "name": "Relative Humidity",
          "type": 2,
          "unit": "%"
         },
         "info": {
          "id": "info",
          "name": "Info",
          "type": 1,
          "unit": null
         },
         "latitude": {
          "id": "latitude",
          "name": "Latitude",
          "type": 2,
          "unit": null
         },
         "longitude": {
          "id": "longitude",
          "name": "Longitude",
          "type": 2,
          "unit": null
         },
         "maxt": {
          "id": "maxt",
          "name": "Maximum Temperature",
          "type": 2,
          "unit": "degF"
         },
         "mint": {
          "id": "mint",
          "name": "Minimum Temperature",
          "type": 2,
          "unit": "degF"
         },
         "name": {
          "id": "name",
          "name": "Name",
          "type": 1,
          "unit": null
         },
         "precip": {
          "id": "precip",
          "name": "Precipitation",
          "type": 2,
          "unit": "in"
         },
         "precipcover": {
          "id": "precipcover",
          "name": "Precipitation Cover",
          "type": 2,
          "unit": "%"
         },
         "resolvedAddress": {
          "id": "resolvedAddress",
          "name": "Resolved Address",
          "type": 1,
          "unit": null
         },
         "sealevelpressure": {
          "id": "sealevelpressure",
          "name": "Sea Level Pressure",
          "type": 2,
          "unit": "Pa"
         },
         "snowdepth": {
          "id": "snowdepth",
          "name": "Snow Depth",
          "type": 2,
          "unit": "in"
         },
         "temp": {
          "id": "temp",
          "name": "Temperature",
          "type": 2,
          "unit": "degF"
         },
         "visibility": {
          "id": "visibility",
          "name": "Visibility",
          "type": 2,
          "unit": "mi"
         },
         "wdir": {
          "id": "wdir",
          "name": "Wind Direction",
          "type": 2,
          "unit": null
         },
         "weathertype": {
          "id": "weathertype",
          "name": "Weather Type",
          "type": 1,
          "unit": null
         },
         "wgust": {
          "id": "wgust",
          "name": "Wind Gust",
          "type": 2,
          "unit": "mph"
         },
         "windchill": {
          "id": "windchill",
          "name": "Wind Chill",
          "type": 2,
          "unit": "degF"
         },
         "wspd": {
          "id": "wspd",
          "name": "Wind Speed",
          "type": 2,
          "unit": "mph"
         }
        },
        "locations": {
         "Portland, ME": {
          "address": "portland, me",
          "alerts": null,
          "currentConditions": null,
          "distance": 0,
          "id": "Portland, ME",
          "index": 0,
          "latitude": 43.6591,
          "longitude": -70.2567,
          "name": "portland, me",
          "stationContributions": null,
          "time": 0,
          "values": [
           {
            "cloudcover": 1.2,
            "conditions": "Clear",
            "datetime": 1516233600000,
            "datetimeStr": "2018-01-18T00:00:00-05:00",
            "dew": 17.6,
            "heatindex": null,
            "humidity": 70.82,
            "info": null,
            "maxt": 31.3,
            "mint": 21.1,
            "precip": 0,
            "precipcover": 0,
            "sealevelpressure": 1013.1,
            "snowdepth": null,
            "temp": 26,
            "visibility": 9.1,
            "wdir": 289.33,
            "weathertype": null,
            "wgust": null,
            "windchill": null,
            "wspd": 0.5
           },
           {
            "cloudcover": 5.3,
            "conditions": "Clear",
            "datetime": 1516320000000,
            "datetimeStr": "2018-01-19T00:00:00-05:00",
            "dew": 19.4,
            "heatindex": null,
            "humidity": 72.05,
            "info": null,
            "maxt": 36.1,
            "mint": 20.6,
            "precip": 0,
            "precipcover": 0,
            "sealevelpressure": 1012.9,
            "snowdepth": null,
            "temp": 27.4,
            "visibility": 9.3,
            "wdir": 227.65,
            "weathertype": null,
            "wgust": null,
            "windchill": null,
            "wspd": 0.5
           }
          ]
         }
        },
        "messages": [
         "This is a preview of the first 2 rows.You have exceeded the maximum number of daily result records for your account. Add a credit card to your account to increase the number of available free records."
        ],
        "queryCost": 2,
        "remainingCost": 0
       },
       {
        "columns": {
         "address": {
          "id": "address",
          "name": "Address",
          "type": 1,
          "unit": null
         },
         "cloudcover": {
          "id": "cloudcover",
          "name": "Cloud Cover",
          "type": 2,
          "unit": "%"
         },
         "conditions": {
          "id": "conditions",
          "name": "Conditions",
          "type": 1,
          "unit": null
         },
         "datetime": {
          "id": "datetime",
          "name": "Date time",
          "type": 3,
          "unit": null
         },
         "dew": {
          "id": "dew",
          "name": "Dew Point",
          "type": 2,
          "unit": "degF"
         },
         "heatindex": {
          "id": "heatindex",
          "name": "Heat Index",
          "type": 2,
          "unit": "degF"
         },
         "humidity": {
          "id": "humidity",
          "name": "Relative Humidity",
          "type": 2,
          "unit": "%"
         },
         "info": {
          "id": "info",
          "name": "Info",
          "type": 1,
          "unit": null
         },
         "latitude": {
          "id": "latitude",
          "name": "Latitude",
          "type": 2,
          "unit": null
         },
         "longitude": {
          "id": "longitude",
          "name": "Longitude",
          "type": 2,
          "unit": null
         },
         "maxt": {
          "id": "maxt",
          "name": "Maximum Temperature",
          "type": 2,
          "unit": "degF"
         },
         "mint": {
          "id": "mint",
          "name": "Minimum Temperature",
          "type": 2,
          "unit": "degF"
         },
         "name": {
          "id": "name",
          "name": "Name",
          "type": 1,
          "unit": null
         },
         "precip": {
          "id": "precip",
          "name": "Precipitation",
          "type": 2,
          "unit": "in"
         },
         "precipcover": {
          "id": "precipcover",
          "name": "Precipitation Cover",
          "type": 2,
          "unit": "%"
         },
         "resolvedAddress": {
          "id": "resolvedAddress",
          "name": "Resolved Address",
          "type": 1,
          "unit": null
         },
         "sealevelpressure": {
          "id": "sealevelpressure",
          "name": "Sea Level Pressure",
          "type": 2,
          "unit": "Pa"
         },
         "snowdepth": {
          "id": "snowdepth",
          "name": "Snow Depth",
          "type": 2,
          "unit": "in"
         },
         "temp": {
          "id": "temp",
          "name": "Temperature",
          "type": 2,
          "unit": "degF"
         },
         "visibility": {
          "id": "visibility",
          "name": "Visibility",
          "type": 2,
          "unit": "mi"
         },
         "wdir": {
          "id": "wdir",
          "name": "Wind Direction",
          "type": 2,
          "unit": null
         },
         "weathertype": {
          "id": "weathertype",
          "name": "Weather Type",
          "type": 1,
          "unit": null
         },
         "wgust": {
          "id": "wgust",
          "name": "Wind Gust",
          "type": 2,
          "unit": "mph"
         },
         "windchill": {
          "id": "windchill",
          "name": "Wind Chill",
          "type": 2,
          "unit": "degF"
         },
         "wspd": {
          "id": "wspd",
          "name": "Wind Speed",
          "type": 2,
          "unit": "mph"
         }
        },
        "locations": {
         "Burbank, CA": {
          "address": "Burbank, CA, United States",
          "alerts": null,
          "currentConditions": null,
          "distance": 0,
          "id": "Burbank, CA",
          "index": 0,
          "latitude": 34.1818,
          "longitude": -118.308,
          "name": "Burbank, CA, United States",
          "stationContributions": null,
          "time": 0,
          "values": [
           {
            "cloudcover": 14.6,
            "conditions": "Clear",
            "datetime": 1548806400000,
            "datetimeStr": "2019-01-30T00:00:00-08:00",
            "dew": 50.8,
            "heatindex": null,
            "humidity": 80.05,
            "info": null,
            "maxt": 65.9,
            "mint": 51.2,
            "precip": 0,
            "precipcover": 0,
            "sealevelpressure": 1012,
            "snowdepth": null,
            "temp": 57.1,
            "visibility": 8.1,
            "wdir": 77.83,
            "weathertype": null,
            "wgust": null,
            "windchill": null,
            "wspd": 8.1
           },
           {
            "cloudcover": 56.2,
            "conditions": "Rain, Partially cloudy",
            "datetime": 1548892800000,
            "datetimeStr": "2019-01-31T00:00:00-08:00",
            "dew": 49.6,
            "heatindex": null,
            "humidity": 86.22,
            "info": null,
            "maxt": 56.9,
            "mint": 48.8,
            "precip": 0.84,
            "precipcover": 20.83,
            "sealevelpressure": 1012.9,
            "snowdepth": null,
            "temp": 53.7,
            "visibility": 7,
            "wdir": 125.22,
            "weathertype": null,
            "wgust": 33.3,
            "windchill": 48,
            "wspd": 15
           }
          ]
         }
        },
        "messages": [
         "This is a preview of the first 2 rows.You have exceeded the maximum number of daily result records for your account. Add a credit card to your account to increase the number of available free records."
        ],
        "queryCost": 2,
        "remainingCost": 0
       },
       {
        "columns": {
         "address": {
          "id": "address",
          "name": "Address",
          "type": 1,
          "unit": null
         },
         "cloudcover": {
          "id": "cloudcover",
          "name": "Cloud Cover",
          "type": 2,
          "unit": "%"
         },
         "conditions": {
          "id": "conditions",
          "name": "Conditions",
          "type": 1,
          "unit": null
         },
         "datetime": {
          "id": "datetime",
          "name": "Date time",
          "type": 3,
          "unit": null
         },
         "dew": {
          "id": "dew",
          "name": "Dew Point",
          "type": 2,
          "unit": "degF"
         },
         "heatindex": {
          "id": "heatindex",
          "name": "Heat Index",
          "type": 2,
          "unit": "degF"
         },
         "humidity": {
          "id": "humidity",
          "name": "Relative Humidity",
          "type": 2,
          "unit": "%"
         },
         "info": {
          "id": "info",
          "name": "Info",
          "type": 1,
          "unit": null
         },
         "latitude": {
          "id": "latitude",
          "name": "Latitude",
          "type": 2,
          "unit": null
         },
         "longitude": {
          "id": "longitude",
          "name": "Longitude",
          "type": 2,
          "unit": null
         },
         "maxt": {
          "id": "maxt",
          "name": "Maximum Temperature",
          "type": 2,
          "unit": "degF"
         },
         "mint": {
          "id": "mint",
          "name": "Minimum Temperature",
          "type": 2,
          "unit": "degF"
         },
         "name": {
          "id": "name",
          "name": "Name",
          "type": 1,
          "unit": null
         },
         "precip": {
          "id": "precip",
          "name": "Precipitation",
          "type": 2,
          "unit": "in"
         },
         "precipcover": {
          "id": "precipcover",
          "name": "Precipitation Cover",
          "type": 2,
          "unit": "%"
         },
         "resolvedAddress": {
          "id": "resolvedAddress",
          "name": "Resolved Address",
          "type": 1,
          "unit": null
         },
         "sealevelpressure": {
          "id": "sealevelpressure",
          "name": "Sea Level Pressure",
          "type": 2,
          "unit": "Pa"
         },
         "snowdepth": {
          "id": "snowdepth",
          "name": "Snow Depth",
          "type": 2,
          "unit": "in"
         },
         "temp": {
          "id": "temp",
          "name": "Temperature",
          "type": 2,
          "unit": "degF"
         },
         "visibility": {
          "id": "visibility",
          "name": "Visibility",
          "type": 2,
          "unit": "mi"
         },
         "wdir": {
          "id": "wdir",
          "name": "Wind Direction",
          "type": 2,
          "unit": null
         },
         "weathertype": {
          "id": "weathertype",
          "name": "Weather Type",
          "type": 1,
          "unit": null
         },
         "wgust": {
          "id": "wgust",
          "name": "Wind Gust",
          "type": 2,
          "unit": "mph"
         },
         "windchill": {
          "id": "windchill",
          "name": "Wind Chill",
          "type": 2,
          "unit": "degF"
         },
         "wspd": {
          "id": "wspd",
          "name": "Wind Speed",
          "type": 2,
          "unit": "mph"
         }
        },
        "locations": {
         "Fairbanks, AK": {
          "address": "Fairbanks, AK",
          "alerts": null,
          "currentConditions": null,
          "distance": 0,
          "id": "Fairbanks, AK",
          "index": 0,
          "latitude": 64.8453,
          "longitude": -147.722,
          "name": "Fairbanks, AK",
          "stationContributions": null,
          "time": 0,
          "values": [
           {
            "cloudcover": 57.4,
            "conditions": "Snow, Partially cloudy",
            "datetime": 1515024000000,
            "datetimeStr": "2018-01-04T00:00:00-09:00",
            "dew": 3.4,
            "heatindex": null,
            "humidity": 88.01,
            "info": null,
            "maxt": 14.1,
            "mint": -5.1,
            "precip": 0,
            "precipcover": 0,
            "sealevelpressure": 1017.8,
            "snowdepth": 12.99,
            "temp": 6.2,
            "visibility": 8.5,
            "wdir": 48.5,
            "weathertype": null,
            "wgust": null,
            "windchill": -8.7,
            "wspd": 6.3
           },
           {
            "cloudcover": 1.9,
            "conditions": "Snow",
            "datetime": 1515110400000,
            "datetimeStr": "2018-01-05T00:00:00-09:00",
            "dew": -6,
            "heatindex": null,
            "humidity": 83.87,
            "info": null,
            "maxt": 8.1,
            "mint": -7.6,
            "precip": 0,
            "precipcover": 0,
            "sealevelpressure": 1007.8,
            "snowdepth": 12.99,
            "temp": -2.4,
            "visibility": 9.7,
            "wdir": 65.74,
            "weathertype": null,
            "wgust": null,
            "windchill": -11,
            "wspd": 10.9
           }
          ]
         }
        },
        "messages": [
         "This is a preview of the first 2 rows.You have exceeded the maximum number of daily result records for your account. Add a credit card to your account to increase the number of available free records."
        ],
        "queryCost": 2,
        "remainingCost": 0
       },
       {
        "columns": {
         "address": {
          "id": "address",
          "name": "Address",
          "type": 1,
          "unit": null
         },
         "cloudcover": {
          "id": "cloudcover",
          "name": "Cloud Cover",
          "type": 2,
          "unit": "%"
         },
         "conditions": {
          "id": "conditions",
          "name": "Conditions",
          "type": 1,
          "unit": null
         },
         "datetime": {
          "id": "datetime",
          "name": "Date time",
          "type": 3,
          "unit": null
         },
         "dew": {
          "id": "dew",
          "name": "Dew Point",
          "type": 2,
          "unit": "degF"
         },
         "heatindex": {
          "id": "heatindex",
          "name": "Heat Index",
          "type": 2,
          "unit": "degF"
         },
         "humidity": {
          "id": "humidity",
          "name": "Relative Humidity",
          "type": 2,
          "unit": "%"
         },
         "info": {
          "id": "info",
          "name": "Info",
          "type": 1,
          "unit": null
         },
         "latitude": {
          "id": "latitude",
          "name": "Latitude",
          "type": 2,
          "unit": null
         },
         "longitude": {
          "id": "longitude",
          "name": "Longitude",
          "type": 2,
          "unit": null
         },
         "maxt": {
          "id": "maxt",
          "name": "Maximum Temperature",
          "type": 2,
          "unit": "degF"
         },
         "mint": {
          "id": "mint",
          "name": "Minimum Temperature",
          "type": 2,
          "unit": "degF"
         },
         "name": {
          "id": "name",
          "name": "Name",
          "type": 1,
          "unit": null
         },
         "precip": {
          "id": "precip",
          "name": "Precipitation",
          "type": 2,
          "unit": "in"
         },
         "precipcover": {
          "id": "precipcover",
          "name": "Precipitation Cover",
          "type": 2,
          "unit": "%"
         },
         "resolvedAddress": {
          "id": "resolvedAddress",
          "name": "Resolved Address",
          "type": 1,
          "unit": null
         },
         "sealevelpressure": {
          "id": "sealevelpressure",
          "name": "Sea Level Pressure",
          "type": 2,
          "unit": "Pa"
         },
         "snowdepth": {
          "id": "snowdepth",
          "name": "Snow Depth",
          "type": 2,
          "unit": "in"
         },
         "temp": {
          "id": "temp",
          "name": "Temperature",
          "type": 2,
          "unit": "degF"
         },
         "visibility": {
          "id": "visibility",
          "name": "Visibility",
          "type": 2,
          "unit": "mi"
         },
         "wdir": {
          "id": "wdir",
          "name": "Wind Direction",
          "type": 2,
          "unit": null
         },
         "weathertype": {
          "id": "weathertype",
          "name": "Weather Type",
          "type": 1,
          "unit": null
         },
         "wgust": {
          "id": "wgust",
          "name": "Wind Gust",
          "type": 2,
          "unit": "mph"
         },
         "windchill": {
          "id": "windchill",
          "name": "Wind Chill",
          "type": 2,
          "unit": "degF"
         },
         "wspd": {
          "id": "wspd",
          "name": "Wind Speed",
          "type": 2,
          "unit": "mph"
         }
        },
        "locations": {
         "Charlotte, NC": {
          "address": "Charlotte, NC, United States",
          "alerts": null,
          "currentConditions": null,
          "distance": 0,
          "id": "Charlotte, NC",
          "index": 0,
          "latitude": 35.2229,
          "longitude": -80.838,
          "name": "Charlotte, NC, United States",
          "stationContributions": null,
          "time": 0,
          "values": [
           {
            "cloudcover": 12.2,
            "conditions": "Clear",
            "datetime": 1548460800000,
            "datetimeStr": "2019-01-26T00:00:00-05:00",
            "dew": 18.7,
            "heatindex": null,
            "humidity": 51.16,
            "info": null,
            "maxt": 50,
            "mint": 23,
            "precip": 0,
            "precipcover": 0,
            "sealevelpressure": 1022.9,
            "snowdepth": null,
            "temp": 37.3,
            "visibility": 9.9,
            "wdir": 174.78,
            "weathertype": null,
            "wgust": null,
            "windchill": 18.6,
            "wspd": 8.1
           },
           {
            "cloudcover": 60.4,
            "conditions": "Partially cloudy",
            "datetime": 1548547200000,
            "datetimeStr": "2019-01-27T00:00:00-05:00",
            "dew": 24.6,
            "heatindex": null,
            "humidity": 54.6,
            "info": null,
            "maxt": 51.2,
            "mint": 29,
            "precip": 0,
            "precipcover": 0,
            "sealevelpressure": 1019.1,
            "snowdepth": null,
            "temp": 41,
            "visibility": 9.9,
            "wdir": 140.83,
            "weathertype": null,
            "wgust": null,
            "windchill": 24.9,
            "wspd": 5.8
           }
          ]
         }
        },
        "messages": [
         "This is a preview of the first 2 rows.You have exceeded the maximum number of daily result records for your account. Add a credit card to your account to increase the number of available free records."
        ],
        "queryCost": 2,
        "remainingCost": 0
       },
       {
        "columns": {
         "address": {
          "id": "address",
          "name": "Address",
          "type": 1,
          "unit": null
         },
         "cloudcover": {
          "id": "cloudcover",
          "name": "Cloud Cover",
          "type": 2,
          "unit": "%"
         },
         "conditions": {
          "id": "conditions",
          "name": "Conditions",
          "type": 1,
          "unit": null
         },
         "datetime": {
          "id": "datetime",
          "name": "Date time",
          "type": 3,
          "unit": null
         },
         "dew": {
          "id": "dew",
          "name": "Dew Point",
          "type": 2,
          "unit": "degF"
         },
         "heatindex": {
          "id": "heatindex",
          "name": "Heat Index",
          "type": 2,
          "unit": "degF"
         },
         "humidity": {
          "id": "humidity",
          "name": "Relative Humidity",
          "type": 2,
          "unit": "%"
         },
         "info": {
          "id": "info",
          "name": "Info",
          "type": 1,
          "unit": null
         },
         "latitude": {
          "id": "latitude",
          "name": "Latitude",
          "type": 2,
          "unit": null
         },
         "longitude": {
          "id": "longitude",
          "name": "Longitude",
          "type": 2,
          "unit": null
         },
         "maxt": {
          "id": "maxt",
          "name": "Maximum Temperature",
          "type": 2,
          "unit": "degF"
         },
         "mint": {
          "id": "mint",
          "name": "Minimum Temperature",
          "type": 2,
          "unit": "degF"
         },
         "name": {
          "id": "name",
          "name": "Name",
          "type": 1,
          "unit": null
         },
         "precip": {
          "id": "precip",
          "name": "Precipitation",
          "type": 2,
          "unit": "in"
         },
         "precipcover": {
          "id": "precipcover",
          "name": "Precipitation Cover",
          "type": 2,
          "unit": "%"
         },
         "resolvedAddress": {
          "id": "resolvedAddress",
          "name": "Resolved Address",
          "type": 1,
          "unit": null
         },
         "sealevelpressure": {
          "id": "sealevelpressure",
          "name": "Sea Level Pressure",
          "type": 2,
          "unit": "Pa"
         },
         "snowdepth": {
          "id": "snowdepth",
          "name": "Snow Depth",
          "type": 2,
          "unit": "in"
         },
         "temp": {
          "id": "temp",
          "name": "Temperature",
          "type": 2,
          "unit": "degF"
         },
         "visibility": {
          "id": "visibility",
          "name": "Visibility",
          "type": 2,
          "unit": "mi"
         },
         "wdir": {
          "id": "wdir",
          "name": "Wind Direction",
          "type": 2,
          "unit": null
         },
         "weathertype": {
          "id": "weathertype",
          "name": "Weather Type",
          "type": 1,
          "unit": null
         },
         "wgust": {
          "id": "wgust",
          "name": "Wind Gust",
          "type": 2,
          "unit": "mph"
         },
         "windchill": {
          "id": "windchill",
          "name": "Wind Chill",
          "type": 2,
          "unit": "degF"
         },
         "wspd": {
          "id": "wspd",
          "name": "Wind Speed",
          "type": 2,
          "unit": "mph"
         }
        },
        "locations": {
         "Laredo, TX": {
          "address": "Laredo, TX, United States",
          "alerts": null,
          "currentConditions": null,
          "distance": 0,
          "id": "Laredo, TX",
          "index": 0,
          "latitude": 27.5309,
          "longitude": -99.5022,
          "name": "Laredo, TX, United States",
          "stationContributions": null,
          "time": 0,
          "values": [
           {
            "cloudcover": 0,
            "conditions": "Clear",
            "datetime": 1515715200000,
            "datetimeStr": "2018-01-12T00:00:00-06:00",
            "dew": 21.7,
            "heatindex": null,
            "humidity": 33.39,
            "info": null,
            "maxt": 65,
            "mint": 38.9,
            "precip": 0,
            "precipcover": 0,
            "sealevelpressure": 1026.6,
            "snowdepth": null,
            "temp": 51.8,
            "visibility": 9.9,
            "wdir": 205.91,
            "weathertype": null,
            "wgust": null,
            "windchill": 33.3,
            "wspd": 12.8
           },
           {
            "cloudcover": 0,
            "conditions": "Clear",
            "datetime": 1515801600000,
            "datetimeStr": "2018-01-13T00:00:00-06:00",
            "dew": 20.7,
            "heatindex": null,
            "humidity": 38.27,
            "info": null,
            "maxt": 59.1,
            "mint": 35,
            "precip": 0,
            "precipcover": 0,
            "sealevelpressure": 1033.6,
            "snowdepth": null,
            "temp": 46.2,
            "visibility": 9.9,
            "wdir": 67.55,
            "weathertype": null,
            "wgust": null,
            "windchill": 29.9,
            "wspd": 15
           }
          ]
         }
        },
        "messages": [
         "This is a preview of the first 2 rows.You have exceeded the maximum number of daily result records for your account. Add a credit card to your account to increase the number of available free records."
        ],
        "queryCost": 2,
        "remainingCost": 0
       },
       {
        "columns": {
         "address": {
          "id": "address",
          "name": "Address",
          "type": 1,
          "unit": null
         },
         "cloudcover": {
          "id": "cloudcover",
          "name": "Cloud Cover",
          "type": 2,
          "unit": "%"
         },
         "conditions": {
          "id": "conditions",
          "name": "Conditions",
          "type": 1,
          "unit": null
         },
         "datetime": {
          "id": "datetime",
          "name": "Date time",
          "type": 3,
          "unit": null
         },
         "dew": {
          "id": "dew",
          "name": "Dew Point",
          "type": 2,
          "unit": "degF"
         },
         "heatindex": {
          "id": "heatindex",
          "name": "Heat Index",
          "type": 2,
          "unit": "degF"
         },
         "humidity": {
          "id": "humidity",
          "name": "Relative Humidity",
          "type": 2,
          "unit": "%"
         },
         "info": {
          "id": "info",
          "name": "Info",
          "type": 1,
          "unit": null
         },
         "latitude": {
          "id": "latitude",
          "name": "Latitude",
          "type": 2,
          "unit": null
         },
         "longitude": {
          "id": "longitude",
          "name": "Longitude",
          "type": 2,
          "unit": null
         },
         "maxt": {
          "id": "maxt",
          "name": "Maximum Temperature",
          "type": 2,
          "unit": "degF"
         },
         "mint": {
          "id": "mint",
          "name": "Minimum Temperature",
          "type": 2,
          "unit": "degF"
         },
         "name": {
          "id": "name",
          "name": "Name",
          "type": 1,
          "unit": null
         },
         "precip": {
          "id": "precip",
          "name": "Precipitation",
          "type": 2,
          "unit": "in"
         },
         "precipcover": {
          "id": "precipcover",
          "name": "Precipitation Cover",
          "type": 2,
          "unit": "%"
         },
         "resolvedAddress": {
          "id": "resolvedAddress",
          "name": "Resolved Address",
          "type": 1,
          "unit": null
         },
         "sealevelpressure": {
          "id": "sealevelpressure",
          "name": "Sea Level Pressure",
          "type": 2,
          "unit": "Pa"
         },
         "snowdepth": {
          "id": "snowdepth",
          "name": "Snow Depth",
          "type": 2,
          "unit": "in"
         },
         "temp": {
          "id": "temp",
          "name": "Temperature",
          "type": 2,
          "unit": "degF"
         },
         "visibility": {
          "id": "visibility",
          "name": "Visibility",
          "type": 2,
          "unit": "mi"
         },
         "wdir": {
          "id": "wdir",
          "name": "Wind Direction",
          "type": 2,
          "unit": null
         },
         "weathertype": {
          "id": "weathertype",
          "name": "Weather Type",
          "type": 1,
          "unit": null
         },
         "wgust": {
          "id": "wgust",
          "name": "Wind Gust",
          "type": 2,
          "unit": "mph"
         },
         "windchill": {
          "id": "windchill",
          "name": "Wind Chill",
          "type": 2,
          "unit": "degF"
         },
         "wspd": {
          "id": "wspd",
          "name": "Wind Speed",
          "type": 2,
          "unit": "mph"
         }
        },
        "locations": {
         "Ithaca/Cortland, NY": {
          "address": "NW Ithaca Ct, Portland, OR 97229, United States",
          "alerts": null,
          "currentConditions": null,
          "distance": 0,
          "id": "Ithaca/Cortland, NY",
          "index": 0,
          "latitude": 45.5416,
          "longitude": -122.861,
          "name": "NW Ithaca Ct, Portland, OR 97229, United States",
          "stationContributions": null,
          "time": 0,
          "values": [
           {
            "cloudcover": 90.4,
            "conditions": "Rain, Overcast",
            "datetime": 1516752000000,
            "datetimeStr": "2018-01-24T00:00:00-08:00",
            "dew": 42,
            "heatindex": null,
            "humidity": 89.17,
            "info": null,
            "maxt": 48.8,
            "mint": 39.8,
            "precip": 0.51,
            "precipcover": 54.17,
            "sealevelpressure": 1006.4,
            "snowdepth": null,
            "temp": 45,
            "visibility": 7.1,
            "wdir": 165.22,
            "weathertype": null,
            "wgust": null,
            "windchill": 32.9,
            "wspd": 13.9
           },
           {
            "cloudcover": 91.7,
            "conditions": "Rain, Overcast",
            "datetime": 1516838400000,
            "datetimeStr": "2018-01-25T00:00:00-08:00",
            "dew": 37.4,
            "heatindex": null,
            "humidity": 85.82,
            "info": null,
            "maxt": 46.1,
            "mint": 38.9,
            "precip": 0.31,
            "precipcover": 30.43,
            "sealevelpressure": 1009,
            "snowdepth": null,
            "temp": 41.3,
            "visibility": 9.1,
            "wdir": 182.73,
            "weathertype": null,
            "wgust": null,
            "windchill": 32.7,
            "wspd": 11.4
           }
          ]
         }
        },
        "messages": [
         "This is a preview of the first 2 rows.You have exceeded the maximum number of daily result records for your account. Add a credit card to your account to increase the number of available free records."
        ],
        "queryCost": 2,
        "remainingCost": 0
       }
      ],
      "text/plain": [
       "<IPython.core.display.JSON object>"
      ]
     },
     "execution_count": 189,
     "metadata": {
      "application/json": {
       "expanded": false,
       "root": "root"
      }
     },
     "output_type": "execute_result"
    }
   ],
   "source": [
    "JSON(weather)"
   ]
  },
  {
   "cell_type": "code",
   "execution_count": 205,
   "metadata": {},
   "outputs": [],
   "source": [
    "wh_data = []\n",
    "for i in range(80):\n",
    "    try:\n",
    "        wh_data.append(weather[i]['locations'][weather_data[i][0]]['values'][0]['conditions'])\n",
    "    except:\n",
    "        wh_data.append(None)"
   ]
  },
  {
   "cell_type": "code",
   "execution_count": 206,
   "metadata": {},
   "outputs": [],
   "source": [
    "cities_samp['weather'] = wh_data"
   ]
  },
  {
   "cell_type": "code",
   "execution_count": 245,
   "metadata": {},
   "outputs": [],
   "source": [
    "data = pd.merge(cities_samp, flights[['dep_delay','arr_delay']], left_index=True, right_index=True)"
   ]
  },
  {
   "cell_type": "code",
   "execution_count": 246,
   "metadata": {},
   "outputs": [
    {
     "data": {
      "text/plain": [
       "origin_city_name    0\n",
       "fl_date             0\n",
       "weather             1\n",
       "dep_delay           0\n",
       "arr_delay           0\n",
       "dtype: int64"
      ]
     },
     "execution_count": 246,
     "metadata": {},
     "output_type": "execute_result"
    }
   ],
   "source": [
    "data.isnull().sum()"
   ]
  },
  {
   "cell_type": "code",
   "execution_count": 247,
   "metadata": {},
   "outputs": [],
   "source": [
    "data.dropna(inplace=True)"
   ]
  },
  {
   "cell_type": "code",
   "execution_count": 257,
   "metadata": {},
   "outputs": [
    {
     "data": {
      "text/html": [
       "<div>\n",
       "<style scoped>\n",
       "    .dataframe tbody tr th:only-of-type {\n",
       "        vertical-align: middle;\n",
       "    }\n",
       "\n",
       "    .dataframe tbody tr th {\n",
       "        vertical-align: top;\n",
       "    }\n",
       "\n",
       "    .dataframe thead th {\n",
       "        text-align: right;\n",
       "    }\n",
       "</style>\n",
       "<table border=\"1\" class=\"dataframe\">\n",
       "  <thead>\n",
       "    <tr style=\"text-align: right;\">\n",
       "      <th></th>\n",
       "      <th>origin_city_name</th>\n",
       "      <th>fl_date</th>\n",
       "      <th>weather</th>\n",
       "      <th>dep_delay</th>\n",
       "      <th>arr_delay</th>\n",
       "    </tr>\n",
       "  </thead>\n",
       "  <tbody>\n",
       "    <tr>\n",
       "      <th>14034</th>\n",
       "      <td>Moab, UT</td>\n",
       "      <td>2019-04-28</td>\n",
       "      <td>Clear</td>\n",
       "      <td>859.0</td>\n",
       "      <td>858.0</td>\n",
       "    </tr>\n",
       "    <tr>\n",
       "      <th>4238</th>\n",
       "      <td>Lewiston, ID</td>\n",
       "      <td>2018-02-23</td>\n",
       "      <td>Partially cloudy</td>\n",
       "      <td>210.0</td>\n",
       "      <td>199.0</td>\n",
       "    </tr>\n",
       "    <tr>\n",
       "      <th>238</th>\n",
       "      <td>Grand Junction, CO</td>\n",
       "      <td>2019-07-25</td>\n",
       "      <td>Clear</td>\n",
       "      <td>161.0</td>\n",
       "      <td>161.0</td>\n",
       "    </tr>\n",
       "    <tr>\n",
       "      <th>46</th>\n",
       "      <td>Charlotte, NC</td>\n",
       "      <td>2019-04-26</td>\n",
       "      <td>Clear</td>\n",
       "      <td>150.0</td>\n",
       "      <td>135.0</td>\n",
       "    </tr>\n",
       "    <tr>\n",
       "      <th>3197</th>\n",
       "      <td>Manhattan/Ft. Riley, KS</td>\n",
       "      <td>2019-05-09</td>\n",
       "      <td>Clear</td>\n",
       "      <td>66.0</td>\n",
       "      <td>47.0</td>\n",
       "    </tr>\n",
       "    <tr>\n",
       "      <th>...</th>\n",
       "      <td>...</td>\n",
       "      <td>...</td>\n",
       "      <td>...</td>\n",
       "      <td>...</td>\n",
       "      <td>...</td>\n",
       "    </tr>\n",
       "    <tr>\n",
       "      <th>4212</th>\n",
       "      <td>Lake Charles, LA</td>\n",
       "      <td>2019-11-24</td>\n",
       "      <td>Clear</td>\n",
       "      <td>-14.0</td>\n",
       "      <td>-31.0</td>\n",
       "    </tr>\n",
       "    <tr>\n",
       "      <th>2598</th>\n",
       "      <td>St. Petersburg, FL</td>\n",
       "      <td>2019-07-22</td>\n",
       "      <td>Clear</td>\n",
       "      <td>-15.0</td>\n",
       "      <td>-24.0</td>\n",
       "    </tr>\n",
       "    <tr>\n",
       "      <th>12696</th>\n",
       "      <td>Hattiesburg/Laurel, MS</td>\n",
       "      <td>2019-09-25</td>\n",
       "      <td>Clear</td>\n",
       "      <td>-17.0</td>\n",
       "      <td>-31.0</td>\n",
       "    </tr>\n",
       "    <tr>\n",
       "      <th>4123</th>\n",
       "      <td>Lynchburg, VA</td>\n",
       "      <td>2019-01-05</td>\n",
       "      <td>Partially cloudy</td>\n",
       "      <td>-19.0</td>\n",
       "      <td>-21.0</td>\n",
       "    </tr>\n",
       "    <tr>\n",
       "      <th>4989</th>\n",
       "      <td>Nome, AK</td>\n",
       "      <td>2018-02-05</td>\n",
       "      <td>Clear</td>\n",
       "      <td>-28.0</td>\n",
       "      <td>-26.0</td>\n",
       "    </tr>\n",
       "  </tbody>\n",
       "</table>\n",
       "<p>79 rows × 5 columns</p>\n",
       "</div>"
      ],
      "text/plain": [
       "              origin_city_name     fl_date           weather  dep_delay  \\\n",
       "14034                 Moab, UT  2019-04-28             Clear      859.0   \n",
       "4238              Lewiston, ID  2018-02-23  Partially cloudy      210.0   \n",
       "238         Grand Junction, CO  2019-07-25             Clear      161.0   \n",
       "46               Charlotte, NC  2019-04-26             Clear      150.0   \n",
       "3197   Manhattan/Ft. Riley, KS  2019-05-09             Clear       66.0   \n",
       "...                        ...         ...               ...        ...   \n",
       "4212          Lake Charles, LA  2019-11-24             Clear      -14.0   \n",
       "2598        St. Petersburg, FL  2019-07-22             Clear      -15.0   \n",
       "12696   Hattiesburg/Laurel, MS  2019-09-25             Clear      -17.0   \n",
       "4123             Lynchburg, VA  2019-01-05  Partially cloudy      -19.0   \n",
       "4989                  Nome, AK  2018-02-05             Clear      -28.0   \n",
       "\n",
       "       arr_delay  \n",
       "14034      858.0  \n",
       "4238       199.0  \n",
       "238        161.0  \n",
       "46         135.0  \n",
       "3197        47.0  \n",
       "...          ...  \n",
       "4212       -31.0  \n",
       "2598       -24.0  \n",
       "12696      -31.0  \n",
       "4123       -21.0  \n",
       "4989       -26.0  \n",
       "\n",
       "[79 rows x 5 columns]"
      ]
     },
     "execution_count": 257,
     "metadata": {},
     "output_type": "execute_result"
    }
   ],
   "source": [
    "data.sort_values(['dep_delay','arr_delay'],ascending=False)"
   ]
  },
  {
   "cell_type": "code",
   "execution_count": null,
   "metadata": {},
   "outputs": [],
   "source": []
  },
  {
   "cell_type": "code",
   "execution_count": 258,
   "metadata": {},
   "outputs": [
    {
     "data": {
      "text/plain": [
       "6168     Clear\n",
       "1031     Clear\n",
       "238      Clear\n",
       "613      Clear\n",
       "31259    Clear\n",
       "1791     Clear\n",
       "18708    Clear\n",
       "3988     Clear\n",
       "74       Clear\n",
       "4002     Clear\n",
       "99       Clear\n",
       "4212     Clear\n",
       "2598     Clear\n",
       "12696    Clear\n",
       "14034    Clear\n",
       "936      Clear\n",
       "434      Clear\n",
       "3197     Clear\n",
       "61       Clear\n",
       "177      Clear\n",
       "57       Clear\n",
       "4989     Clear\n",
       "183      Clear\n",
       "35       Clear\n",
       "17765    Clear\n",
       "345      Clear\n",
       "273      Clear\n",
       "1203     Clear\n",
       "326      Clear\n",
       "389      Clear\n",
       "926      Clear\n",
       "1925     Clear\n",
       "85       Clear\n",
       "19       Clear\n",
       "2370     Clear\n",
       "203      Clear\n",
       "171      Clear\n",
       "46       Clear\n",
       "7740     Clear\n",
       "Name: weather, dtype: object"
      ]
     },
     "execution_count": 258,
     "metadata": {},
     "output_type": "execute_result"
    }
   ],
   "source": [
    "data[data['weather'] == \"Clear\"]['weather']"
   ]
  },
  {
   "cell_type": "code",
   "execution_count": 259,
   "metadata": {},
   "outputs": [
    {
     "data": {
      "text/html": [
       "<div>\n",
       "<style scoped>\n",
       "    .dataframe tbody tr th:only-of-type {\n",
       "        vertical-align: middle;\n",
       "    }\n",
       "\n",
       "    .dataframe tbody tr th {\n",
       "        vertical-align: top;\n",
       "    }\n",
       "\n",
       "    .dataframe thead th {\n",
       "        text-align: right;\n",
       "    }\n",
       "</style>\n",
       "<table border=\"1\" class=\"dataframe\">\n",
       "  <thead>\n",
       "    <tr style=\"text-align: right;\">\n",
       "      <th></th>\n",
       "      <th>origin_city_name</th>\n",
       "      <th>fl_date</th>\n",
       "      <th>dep_delay</th>\n",
       "      <th>arr_delay</th>\n",
       "    </tr>\n",
       "    <tr>\n",
       "      <th>weather</th>\n",
       "      <th></th>\n",
       "      <th></th>\n",
       "      <th></th>\n",
       "      <th></th>\n",
       "    </tr>\n",
       "  </thead>\n",
       "  <tbody>\n",
       "    <tr>\n",
       "      <th></th>\n",
       "      <td>1</td>\n",
       "      <td>1</td>\n",
       "      <td>1</td>\n",
       "      <td>1</td>\n",
       "    </tr>\n",
       "    <tr>\n",
       "      <th>Clear</th>\n",
       "      <td>39</td>\n",
       "      <td>39</td>\n",
       "      <td>39</td>\n",
       "      <td>39</td>\n",
       "    </tr>\n",
       "    <tr>\n",
       "      <th>Overcast</th>\n",
       "      <td>5</td>\n",
       "      <td>5</td>\n",
       "      <td>5</td>\n",
       "      <td>5</td>\n",
       "    </tr>\n",
       "    <tr>\n",
       "      <th>Partially cloudy</th>\n",
       "      <td>12</td>\n",
       "      <td>12</td>\n",
       "      <td>12</td>\n",
       "      <td>12</td>\n",
       "    </tr>\n",
       "    <tr>\n",
       "      <th>Rain</th>\n",
       "      <td>5</td>\n",
       "      <td>5</td>\n",
       "      <td>5</td>\n",
       "      <td>5</td>\n",
       "    </tr>\n",
       "    <tr>\n",
       "      <th>Rain, Overcast</th>\n",
       "      <td>5</td>\n",
       "      <td>5</td>\n",
       "      <td>5</td>\n",
       "      <td>5</td>\n",
       "    </tr>\n",
       "    <tr>\n",
       "      <th>Rain, Partially cloudy</th>\n",
       "      <td>9</td>\n",
       "      <td>9</td>\n",
       "      <td>9</td>\n",
       "      <td>9</td>\n",
       "    </tr>\n",
       "    <tr>\n",
       "      <th>Snow</th>\n",
       "      <td>1</td>\n",
       "      <td>1</td>\n",
       "      <td>1</td>\n",
       "      <td>1</td>\n",
       "    </tr>\n",
       "    <tr>\n",
       "      <th>Snow, Overcast</th>\n",
       "      <td>1</td>\n",
       "      <td>1</td>\n",
       "      <td>1</td>\n",
       "      <td>1</td>\n",
       "    </tr>\n",
       "    <tr>\n",
       "      <th>Snow, Partially cloudy</th>\n",
       "      <td>1</td>\n",
       "      <td>1</td>\n",
       "      <td>1</td>\n",
       "      <td>1</td>\n",
       "    </tr>\n",
       "  </tbody>\n",
       "</table>\n",
       "</div>"
      ],
      "text/plain": [
       "                        origin_city_name  fl_date  dep_delay  arr_delay\n",
       "weather                                                                \n",
       "                                       1        1          1          1\n",
       "Clear                                 39       39         39         39\n",
       "Overcast                               5        5          5          5\n",
       "Partially cloudy                      12       12         12         12\n",
       "Rain                                   5        5          5          5\n",
       "Rain, Overcast                         5        5          5          5\n",
       "Rain, Partially cloudy                 9        9          9          9\n",
       "Snow                                   1        1          1          1\n",
       "Snow, Overcast                         1        1          1          1\n",
       "Snow, Partially cloudy                 1        1          1          1"
      ]
     },
     "execution_count": 259,
     "metadata": {},
     "output_type": "execute_result"
    }
   ],
   "source": [
    "data.groupby('weather').count()"
   ]
  },
  {
   "cell_type": "code",
   "execution_count": 261,
   "metadata": {},
   "outputs": [
    {
     "data": {
      "application/vnd.plotly.v1+json": {
       "config": {
        "plotlyServerURL": "https://plot.ly"
       },
       "data": [
        {
         "hovertemplate": "weather=Overcast<br>arr_delay=%{x}<br>dep_delay=%{y}<extra></extra>",
         "legendgroup": "Overcast",
         "line": {
          "color": "#636efa",
          "dash": "solid"
         },
         "mode": "lines",
         "name": "Overcast",
         "orientation": "v",
         "showlegend": true,
         "type": "scatter",
         "x": [
          -16,
          -2,
          -15,
          -14,
          -18
         ],
         "xaxis": "x",
         "y": [
          -5,
          -4,
          -9,
          -8,
          -1
         ],
         "yaxis": "y"
        },
        {
         "hovertemplate": "weather=Clear<br>arr_delay=%{x}<br>dep_delay=%{y}<extra></extra>",
         "legendgroup": "Clear",
         "line": {
          "color": "#EF553B",
          "dash": "solid"
         },
         "mode": "lines",
         "name": "Clear",
         "orientation": "v",
         "showlegend": true,
         "type": "scatter",
         "x": [
          -5,
          -9,
          161,
          -24,
          -6,
          45,
          -28,
          11,
          -16,
          -21,
          4,
          -31,
          -24,
          -31,
          858,
          -4,
          -18,
          47,
          -15,
          -4,
          -8,
          -26,
          -9,
          11,
          -3,
          -3,
          -1,
          -8,
          1,
          0,
          -17,
          31,
          -20,
          -5,
          -2,
          -2,
          -4,
          135,
          -16
         ],
         "xaxis": "x",
         "y": [
          -4,
          -2,
          161,
          -3,
          29,
          60,
          -8,
          13,
          -3,
          -10,
          -3,
          -14,
          -15,
          -17,
          859,
          -3,
          1,
          66,
          -2,
          -5,
          3,
          -28,
          -1,
          6,
          19,
          14,
          -3,
          -6,
          -9,
          -7,
          -10,
          35,
          -12,
          -1,
          -13,
          -5,
          5,
          150,
          -9
         ],
         "yaxis": "y"
        },
        {
         "hovertemplate": "weather=Partially cloudy<br>arr_delay=%{x}<br>dep_delay=%{y}<extra></extra>",
         "legendgroup": "Partially cloudy",
         "line": {
          "color": "#00cc96",
          "dash": "solid"
         },
         "mode": "lines",
         "name": "Partially cloudy",
         "orientation": "v",
         "showlegend": true,
         "type": "scatter",
         "x": [
          -38,
          199,
          9,
          7,
          -15,
          -32,
          -9,
          -17,
          24,
          -21,
          -21,
          16
         ],
         "xaxis": "x",
         "y": [
          -6,
          210,
          -1,
          11,
          -11,
          -13,
          1,
          -14,
          33,
          -11,
          -19,
          -7
         ],
         "yaxis": "y"
        },
        {
         "hovertemplate": "weather=Rain, Overcast<br>arr_delay=%{x}<br>dep_delay=%{y}<extra></extra>",
         "legendgroup": "Rain, Overcast",
         "line": {
          "color": "#ab63fa",
          "dash": "solid"
         },
         "mode": "lines",
         "name": "Rain, Overcast",
         "orientation": "v",
         "showlegend": true,
         "type": "scatter",
         "x": [
          15,
          -3,
          -3,
          -16,
          -14
         ],
         "xaxis": "x",
         "y": [
          -4,
          -2,
          -10,
          -7,
          -6
         ],
         "yaxis": "y"
        },
        {
         "hovertemplate": "weather=Rain, Partially cloudy<br>arr_delay=%{x}<br>dep_delay=%{y}<extra></extra>",
         "legendgroup": "Rain, Partially cloudy",
         "line": {
          "color": "#FFA15A",
          "dash": "solid"
         },
         "mode": "lines",
         "name": "Rain, Partially cloudy",
         "orientation": "v",
         "showlegend": true,
         "type": "scatter",
         "x": [
          59,
          2,
          -16,
          -15,
          11,
          -2,
          -7,
          5,
          29
         ],
         "xaxis": "x",
         "y": [
          45,
          4,
          -4,
          -14,
          14,
          -6,
          -14,
          -2,
          34
         ],
         "yaxis": "y"
        },
        {
         "hovertemplate": "weather=Rain<br>arr_delay=%{x}<br>dep_delay=%{y}<extra></extra>",
         "legendgroup": "Rain",
         "line": {
          "color": "#19d3f3",
          "dash": "solid"
         },
         "mode": "lines",
         "name": "Rain",
         "orientation": "v",
         "showlegend": true,
         "type": "scatter",
         "x": [
          45,
          -6,
          -17,
          10,
          -4
         ],
         "xaxis": "x",
         "y": [
          41,
          -3,
          -8,
          15,
          -5
         ],
         "yaxis": "y"
        },
        {
         "hovertemplate": "weather=<br>arr_delay=%{x}<br>dep_delay=%{y}<extra></extra>",
         "legendgroup": "",
         "line": {
          "color": "#FF6692",
          "dash": "solid"
         },
         "mode": "lines",
         "name": "",
         "orientation": "v",
         "showlegend": false,
         "type": "scatter",
         "x": [
          -4
         ],
         "xaxis": "x",
         "y": [
          -7
         ],
         "yaxis": "y"
        },
        {
         "hovertemplate": "weather=Snow, Overcast<br>arr_delay=%{x}<br>dep_delay=%{y}<extra></extra>",
         "legendgroup": "Snow, Overcast",
         "line": {
          "color": "#B6E880",
          "dash": "solid"
         },
         "mode": "lines",
         "name": "Snow, Overcast",
         "orientation": "v",
         "showlegend": true,
         "type": "scatter",
         "x": [
          2
         ],
         "xaxis": "x",
         "y": [
          -6
         ],
         "yaxis": "y"
        },
        {
         "hovertemplate": "weather=Snow<br>arr_delay=%{x}<br>dep_delay=%{y}<extra></extra>",
         "legendgroup": "Snow",
         "line": {
          "color": "#FF97FF",
          "dash": "solid"
         },
         "mode": "lines",
         "name": "Snow",
         "orientation": "v",
         "showlegend": true,
         "type": "scatter",
         "x": [
          25
         ],
         "xaxis": "x",
         "y": [
          3
         ],
         "yaxis": "y"
        },
        {
         "hovertemplate": "weather=Snow, Partially cloudy<br>arr_delay=%{x}<br>dep_delay=%{y}<extra></extra>",
         "legendgroup": "Snow, Partially cloudy",
         "line": {
          "color": "#FECB52",
          "dash": "solid"
         },
         "mode": "lines",
         "name": "Snow, Partially cloudy",
         "orientation": "v",
         "showlegend": true,
         "type": "scatter",
         "x": [
          -24
         ],
         "xaxis": "x",
         "y": [
          -14
         ],
         "yaxis": "y"
        }
       ],
       "layout": {
        "autosize": true,
        "legend": {
         "title": {
          "text": "weather"
         },
         "tracegroupgap": 0
        },
        "margin": {
         "t": 60
        },
        "template": {
         "data": {
          "bar": [
           {
            "error_x": {
             "color": "#2a3f5f"
            },
            "error_y": {
             "color": "#2a3f5f"
            },
            "marker": {
             "line": {
              "color": "#E5ECF6",
              "width": 0.5
             }
            },
            "type": "bar"
           }
          ],
          "barpolar": [
           {
            "marker": {
             "line": {
              "color": "#E5ECF6",
              "width": 0.5
             }
            },
            "type": "barpolar"
           }
          ],
          "carpet": [
           {
            "aaxis": {
             "endlinecolor": "#2a3f5f",
             "gridcolor": "white",
             "linecolor": "white",
             "minorgridcolor": "white",
             "startlinecolor": "#2a3f5f"
            },
            "baxis": {
             "endlinecolor": "#2a3f5f",
             "gridcolor": "white",
             "linecolor": "white",
             "minorgridcolor": "white",
             "startlinecolor": "#2a3f5f"
            },
            "type": "carpet"
           }
          ],
          "choropleth": [
           {
            "colorbar": {
             "outlinewidth": 0,
             "ticks": ""
            },
            "type": "choropleth"
           }
          ],
          "contour": [
           {
            "colorbar": {
             "outlinewidth": 0,
             "ticks": ""
            },
            "colorscale": [
             [
              0,
              "#0d0887"
             ],
             [
              0.1111111111111111,
              "#46039f"
             ],
             [
              0.2222222222222222,
              "#7201a8"
             ],
             [
              0.3333333333333333,
              "#9c179e"
             ],
             [
              0.4444444444444444,
              "#bd3786"
             ],
             [
              0.5555555555555556,
              "#d8576b"
             ],
             [
              0.6666666666666666,
              "#ed7953"
             ],
             [
              0.7777777777777778,
              "#fb9f3a"
             ],
             [
              0.8888888888888888,
              "#fdca26"
             ],
             [
              1,
              "#f0f921"
             ]
            ],
            "type": "contour"
           }
          ],
          "contourcarpet": [
           {
            "colorbar": {
             "outlinewidth": 0,
             "ticks": ""
            },
            "type": "contourcarpet"
           }
          ],
          "heatmap": [
           {
            "colorbar": {
             "outlinewidth": 0,
             "ticks": ""
            },
            "colorscale": [
             [
              0,
              "#0d0887"
             ],
             [
              0.1111111111111111,
              "#46039f"
             ],
             [
              0.2222222222222222,
              "#7201a8"
             ],
             [
              0.3333333333333333,
              "#9c179e"
             ],
             [
              0.4444444444444444,
              "#bd3786"
             ],
             [
              0.5555555555555556,
              "#d8576b"
             ],
             [
              0.6666666666666666,
              "#ed7953"
             ],
             [
              0.7777777777777778,
              "#fb9f3a"
             ],
             [
              0.8888888888888888,
              "#fdca26"
             ],
             [
              1,
              "#f0f921"
             ]
            ],
            "type": "heatmap"
           }
          ],
          "heatmapgl": [
           {
            "colorbar": {
             "outlinewidth": 0,
             "ticks": ""
            },
            "colorscale": [
             [
              0,
              "#0d0887"
             ],
             [
              0.1111111111111111,
              "#46039f"
             ],
             [
              0.2222222222222222,
              "#7201a8"
             ],
             [
              0.3333333333333333,
              "#9c179e"
             ],
             [
              0.4444444444444444,
              "#bd3786"
             ],
             [
              0.5555555555555556,
              "#d8576b"
             ],
             [
              0.6666666666666666,
              "#ed7953"
             ],
             [
              0.7777777777777778,
              "#fb9f3a"
             ],
             [
              0.8888888888888888,
              "#fdca26"
             ],
             [
              1,
              "#f0f921"
             ]
            ],
            "type": "heatmapgl"
           }
          ],
          "histogram": [
           {
            "marker": {
             "colorbar": {
              "outlinewidth": 0,
              "ticks": ""
             }
            },
            "type": "histogram"
           }
          ],
          "histogram2d": [
           {
            "colorbar": {
             "outlinewidth": 0,
             "ticks": ""
            },
            "colorscale": [
             [
              0,
              "#0d0887"
             ],
             [
              0.1111111111111111,
              "#46039f"
             ],
             [
              0.2222222222222222,
              "#7201a8"
             ],
             [
              0.3333333333333333,
              "#9c179e"
             ],
             [
              0.4444444444444444,
              "#bd3786"
             ],
             [
              0.5555555555555556,
              "#d8576b"
             ],
             [
              0.6666666666666666,
              "#ed7953"
             ],
             [
              0.7777777777777778,
              "#fb9f3a"
             ],
             [
              0.8888888888888888,
              "#fdca26"
             ],
             [
              1,
              "#f0f921"
             ]
            ],
            "type": "histogram2d"
           }
          ],
          "histogram2dcontour": [
           {
            "colorbar": {
             "outlinewidth": 0,
             "ticks": ""
            },
            "colorscale": [
             [
              0,
              "#0d0887"
             ],
             [
              0.1111111111111111,
              "#46039f"
             ],
             [
              0.2222222222222222,
              "#7201a8"
             ],
             [
              0.3333333333333333,
              "#9c179e"
             ],
             [
              0.4444444444444444,
              "#bd3786"
             ],
             [
              0.5555555555555556,
              "#d8576b"
             ],
             [
              0.6666666666666666,
              "#ed7953"
             ],
             [
              0.7777777777777778,
              "#fb9f3a"
             ],
             [
              0.8888888888888888,
              "#fdca26"
             ],
             [
              1,
              "#f0f921"
             ]
            ],
            "type": "histogram2dcontour"
           }
          ],
          "mesh3d": [
           {
            "colorbar": {
             "outlinewidth": 0,
             "ticks": ""
            },
            "type": "mesh3d"
           }
          ],
          "parcoords": [
           {
            "line": {
             "colorbar": {
              "outlinewidth": 0,
              "ticks": ""
             }
            },
            "type": "parcoords"
           }
          ],
          "pie": [
           {
            "automargin": true,
            "type": "pie"
           }
          ],
          "scatter": [
           {
            "marker": {
             "colorbar": {
              "outlinewidth": 0,
              "ticks": ""
             }
            },
            "type": "scatter"
           }
          ],
          "scatter3d": [
           {
            "line": {
             "colorbar": {
              "outlinewidth": 0,
              "ticks": ""
             }
            },
            "marker": {
             "colorbar": {
              "outlinewidth": 0,
              "ticks": ""
             }
            },
            "type": "scatter3d"
           }
          ],
          "scattercarpet": [
           {
            "marker": {
             "colorbar": {
              "outlinewidth": 0,
              "ticks": ""
             }
            },
            "type": "scattercarpet"
           }
          ],
          "scattergeo": [
           {
            "marker": {
             "colorbar": {
              "outlinewidth": 0,
              "ticks": ""
             }
            },
            "type": "scattergeo"
           }
          ],
          "scattergl": [
           {
            "marker": {
             "colorbar": {
              "outlinewidth": 0,
              "ticks": ""
             }
            },
            "type": "scattergl"
           }
          ],
          "scattermapbox": [
           {
            "marker": {
             "colorbar": {
              "outlinewidth": 0,
              "ticks": ""
             }
            },
            "type": "scattermapbox"
           }
          ],
          "scatterpolar": [
           {
            "marker": {
             "colorbar": {
              "outlinewidth": 0,
              "ticks": ""
             }
            },
            "type": "scatterpolar"
           }
          ],
          "scatterpolargl": [
           {
            "marker": {
             "colorbar": {
              "outlinewidth": 0,
              "ticks": ""
             }
            },
            "type": "scatterpolargl"
           }
          ],
          "scatterternary": [
           {
            "marker": {
             "colorbar": {
              "outlinewidth": 0,
              "ticks": ""
             }
            },
            "type": "scatterternary"
           }
          ],
          "surface": [
           {
            "colorbar": {
             "outlinewidth": 0,
             "ticks": ""
            },
            "colorscale": [
             [
              0,
              "#0d0887"
             ],
             [
              0.1111111111111111,
              "#46039f"
             ],
             [
              0.2222222222222222,
              "#7201a8"
             ],
             [
              0.3333333333333333,
              "#9c179e"
             ],
             [
              0.4444444444444444,
              "#bd3786"
             ],
             [
              0.5555555555555556,
              "#d8576b"
             ],
             [
              0.6666666666666666,
              "#ed7953"
             ],
             [
              0.7777777777777778,
              "#fb9f3a"
             ],
             [
              0.8888888888888888,
              "#fdca26"
             ],
             [
              1,
              "#f0f921"
             ]
            ],
            "type": "surface"
           }
          ],
          "table": [
           {
            "cells": {
             "fill": {
              "color": "#EBF0F8"
             },
             "line": {
              "color": "white"
             }
            },
            "header": {
             "fill": {
              "color": "#C8D4E3"
             },
             "line": {
              "color": "white"
             }
            },
            "type": "table"
           }
          ]
         },
         "layout": {
          "annotationdefaults": {
           "arrowcolor": "#2a3f5f",
           "arrowhead": 0,
           "arrowwidth": 1
          },
          "coloraxis": {
           "colorbar": {
            "outlinewidth": 0,
            "ticks": ""
           }
          },
          "colorscale": {
           "diverging": [
            [
             0,
             "#8e0152"
            ],
            [
             0.1,
             "#c51b7d"
            ],
            [
             0.2,
             "#de77ae"
            ],
            [
             0.3,
             "#f1b6da"
            ],
            [
             0.4,
             "#fde0ef"
            ],
            [
             0.5,
             "#f7f7f7"
            ],
            [
             0.6,
             "#e6f5d0"
            ],
            [
             0.7,
             "#b8e186"
            ],
            [
             0.8,
             "#7fbc41"
            ],
            [
             0.9,
             "#4d9221"
            ],
            [
             1,
             "#276419"
            ]
           ],
           "sequential": [
            [
             0,
             "#0d0887"
            ],
            [
             0.1111111111111111,
             "#46039f"
            ],
            [
             0.2222222222222222,
             "#7201a8"
            ],
            [
             0.3333333333333333,
             "#9c179e"
            ],
            [
             0.4444444444444444,
             "#bd3786"
            ],
            [
             0.5555555555555556,
             "#d8576b"
            ],
            [
             0.6666666666666666,
             "#ed7953"
            ],
            [
             0.7777777777777778,
             "#fb9f3a"
            ],
            [
             0.8888888888888888,
             "#fdca26"
            ],
            [
             1,
             "#f0f921"
            ]
           ],
           "sequentialminus": [
            [
             0,
             "#0d0887"
            ],
            [
             0.1111111111111111,
             "#46039f"
            ],
            [
             0.2222222222222222,
             "#7201a8"
            ],
            [
             0.3333333333333333,
             "#9c179e"
            ],
            [
             0.4444444444444444,
             "#bd3786"
            ],
            [
             0.5555555555555556,
             "#d8576b"
            ],
            [
             0.6666666666666666,
             "#ed7953"
            ],
            [
             0.7777777777777778,
             "#fb9f3a"
            ],
            [
             0.8888888888888888,
             "#fdca26"
            ],
            [
             1,
             "#f0f921"
            ]
           ]
          },
          "colorway": [
           "#636efa",
           "#EF553B",
           "#00cc96",
           "#ab63fa",
           "#FFA15A",
           "#19d3f3",
           "#FF6692",
           "#B6E880",
           "#FF97FF",
           "#FECB52"
          ],
          "font": {
           "color": "#2a3f5f"
          },
          "geo": {
           "bgcolor": "white",
           "lakecolor": "white",
           "landcolor": "#E5ECF6",
           "showlakes": true,
           "showland": true,
           "subunitcolor": "white"
          },
          "hoverlabel": {
           "align": "left"
          },
          "hovermode": "closest",
          "mapbox": {
           "style": "light"
          },
          "paper_bgcolor": "white",
          "plot_bgcolor": "#E5ECF6",
          "polar": {
           "angularaxis": {
            "gridcolor": "white",
            "linecolor": "white",
            "ticks": ""
           },
           "bgcolor": "#E5ECF6",
           "radialaxis": {
            "gridcolor": "white",
            "linecolor": "white",
            "ticks": ""
           }
          },
          "scene": {
           "xaxis": {
            "backgroundcolor": "#E5ECF6",
            "gridcolor": "white",
            "gridwidth": 2,
            "linecolor": "white",
            "showbackground": true,
            "ticks": "",
            "zerolinecolor": "white"
           },
           "yaxis": {
            "backgroundcolor": "#E5ECF6",
            "gridcolor": "white",
            "gridwidth": 2,
            "linecolor": "white",
            "showbackground": true,
            "ticks": "",
            "zerolinecolor": "white"
           },
           "zaxis": {
            "backgroundcolor": "#E5ECF6",
            "gridcolor": "white",
            "gridwidth": 2,
            "linecolor": "white",
            "showbackground": true,
            "ticks": "",
            "zerolinecolor": "white"
           }
          },
          "shapedefaults": {
           "line": {
            "color": "#2a3f5f"
           }
          },
          "ternary": {
           "aaxis": {
            "gridcolor": "white",
            "linecolor": "white",
            "ticks": ""
           },
           "baxis": {
            "gridcolor": "white",
            "linecolor": "white",
            "ticks": ""
           },
           "bgcolor": "#E5ECF6",
           "caxis": {
            "gridcolor": "white",
            "linecolor": "white",
            "ticks": ""
           }
          },
          "title": {
           "x": 0.05
          },
          "xaxis": {
           "automargin": true,
           "gridcolor": "white",
           "linecolor": "white",
           "ticks": "",
           "title": {
            "standoff": 15
           },
           "zerolinecolor": "white",
           "zerolinewidth": 2
          },
          "yaxis": {
           "automargin": true,
           "gridcolor": "white",
           "linecolor": "white",
           "ticks": "",
           "title": {
            "standoff": 15
           },
           "zerolinecolor": "white",
           "zerolinewidth": 2
          }
         }
        },
        "xaxis": {
         "anchor": "y",
         "autorange": true,
         "domain": [
          0,
          1
         ],
         "range": [
          -38,
          858
         ],
         "title": {
          "text": "arr_delay"
         },
         "type": "linear"
        },
        "yaxis": {
         "anchor": "x",
         "autorange": true,
         "domain": [
          0,
          1
         ],
         "range": [
          -77.27777777777777,
          908.2777777777778
         ],
         "title": {
          "text": "dep_delay"
         },
         "type": "linear"
        }
       }
      },
      "image/png": "[encoded data removed]",
      "text/html": [
       "<div>                            <div id=\"d6fe539f-2894-417c-8477-807950c31503\" class=\"plotly-graph-div\" style=\"height:525px; width:100%;\"></div>            <script type=\"text/javascript\">                require([\"plotly\"], function(Plotly) {                    window.PLOTLYENV=window.PLOTLYENV || {};                                    if (document.getElementById(\"d6fe539f-2894-417c-8477-807950c31503\")) {                    Plotly.newPlot(                        \"d6fe539f-2894-417c-8477-807950c31503\",                        [{\"hovertemplate\": \"weather=Overcast<br>arr_delay=%{x}<br>dep_delay=%{y}<extra></extra>\", \"legendgroup\": \"Overcast\", \"line\": {\"color\": \"#636efa\", \"dash\": \"solid\"}, \"mode\": \"lines\", \"name\": \"Overcast\", \"orientation\": \"v\", \"showlegend\": true, \"type\": \"scatter\", \"x\": [-16.0, -2.0, -15.0, -14.0, -18.0], \"xaxis\": \"x\", \"y\": [-5.0, -4.0, -9.0, -8.0, -1.0], \"yaxis\": \"y\"}, {\"hovertemplate\": \"weather=Clear<br>arr_delay=%{x}<br>dep_delay=%{y}<extra></extra>\", \"legendgroup\": \"Clear\", \"line\": {\"color\": \"#EF553B\", \"dash\": \"solid\"}, \"mode\": \"lines\", \"name\": \"Clear\", \"orientation\": \"v\", \"showlegend\": true, \"type\": \"scatter\", \"x\": [-5.0, -9.0, 161.0, -24.0, -6.0, 45.0, -28.0, 11.0, -16.0, -21.0, 4.0, -31.0, -24.0, -31.0, 858.0, -4.0, -18.0, 47.0, -15.0, -4.0, -8.0, -26.0, -9.0, 11.0, -3.0, -3.0, -1.0, -8.0, 1.0, 0.0, -17.0, 31.0, -20.0, -5.0, -2.0, -2.0, -4.0, 135.0, -16.0], \"xaxis\": \"x\", \"y\": [-4.0, -2.0, 161.0, -3.0, 29.0, 60.0, -8.0, 13.0, -3.0, -10.0, -3.0, -14.0, -15.0, -17.0, 859.0, -3.0, 1.0, 66.0, -2.0, -5.0, 3.0, -28.0, -1.0, 6.0, 19.0, 14.0, -3.0, -6.0, -9.0, -7.0, -10.0, 35.0, -12.0, -1.0, -13.0, -5.0, 5.0, 150.0, -9.0], \"yaxis\": \"y\"}, {\"hovertemplate\": \"weather=Partially cloudy<br>arr_delay=%{x}<br>dep_delay=%{y}<extra></extra>\", \"legendgroup\": \"Partially cloudy\", \"line\": {\"color\": \"#00cc96\", \"dash\": \"solid\"}, \"mode\": \"lines\", \"name\": \"Partially cloudy\", \"orientation\": \"v\", \"showlegend\": true, \"type\": \"scatter\", \"x\": [-38.0, 199.0, 9.0, 7.0, -15.0, -32.0, -9.0, -17.0, 24.0, -21.0, -21.0, 16.0], \"xaxis\": \"x\", \"y\": [-6.0, 210.0, -1.0, 11.0, -11.0, -13.0, 1.0, -14.0, 33.0, -11.0, -19.0, -7.0], \"yaxis\": \"y\"}, {\"hovertemplate\": \"weather=Rain, Overcast<br>arr_delay=%{x}<br>dep_delay=%{y}<extra></extra>\", \"legendgroup\": \"Rain, Overcast\", \"line\": {\"color\": \"#ab63fa\", \"dash\": \"solid\"}, \"mode\": \"lines\", \"name\": \"Rain, Overcast\", \"orientation\": \"v\", \"showlegend\": true, \"type\": \"scatter\", \"x\": [15.0, -3.0, -3.0, -16.0, -14.0], \"xaxis\": \"x\", \"y\": [-4.0, -2.0, -10.0, -7.0, -6.0], \"yaxis\": \"y\"}, {\"hovertemplate\": \"weather=Rain, Partially cloudy<br>arr_delay=%{x}<br>dep_delay=%{y}<extra></extra>\", \"legendgroup\": \"Rain, Partially cloudy\", \"line\": {\"color\": \"#FFA15A\", \"dash\": \"solid\"}, \"mode\": \"lines\", \"name\": \"Rain, Partially cloudy\", \"orientation\": \"v\", \"showlegend\": true, \"type\": \"scatter\", \"x\": [59.0, 2.0, -16.0, -15.0, 11.0, -2.0, -7.0, 5.0, 29.0], \"xaxis\": \"x\", \"y\": [45.0, 4.0, -4.0, -14.0, 14.0, -6.0, -14.0, -2.0, 34.0], \"yaxis\": \"y\"}, {\"hovertemplate\": \"weather=Rain<br>arr_delay=%{x}<br>dep_delay=%{y}<extra></extra>\", \"legendgroup\": \"Rain\", \"line\": {\"color\": \"#19d3f3\", \"dash\": \"solid\"}, \"mode\": \"lines\", \"name\": \"Rain\", \"orientation\": \"v\", \"showlegend\": true, \"type\": \"scatter\", \"x\": [45.0, -6.0, -17.0, 10.0, -4.0], \"xaxis\": \"x\", \"y\": [41.0, -3.0, -8.0, 15.0, -5.0], \"yaxis\": \"y\"}, {\"hovertemplate\": \"weather=<br>arr_delay=%{x}<br>dep_delay=%{y}<extra></extra>\", \"legendgroup\": \"\", \"line\": {\"color\": \"#FF6692\", \"dash\": \"solid\"}, \"mode\": \"lines\", \"name\": \"\", \"orientation\": \"v\", \"showlegend\": false, \"type\": \"scatter\", \"x\": [-4.0], \"xaxis\": \"x\", \"y\": [-7.0], \"yaxis\": \"y\"}, {\"hovertemplate\": \"weather=Snow, Overcast<br>arr_delay=%{x}<br>dep_delay=%{y}<extra></extra>\", \"legendgroup\": \"Snow, Overcast\", \"line\": {\"color\": \"#B6E880\", \"dash\": \"solid\"}, \"mode\": \"lines\", \"name\": \"Snow, Overcast\", \"orientation\": \"v\", \"showlegend\": true, \"type\": \"scatter\", \"x\": [2.0], \"xaxis\": \"x\", \"y\": [-6.0], \"yaxis\": \"y\"}, {\"hovertemplate\": \"weather=Snow<br>arr_delay=%{x}<br>dep_delay=%{y}<extra></extra>\", \"legendgroup\": \"Snow\", \"line\": {\"color\": \"#FF97FF\", \"dash\": \"solid\"}, \"mode\": \"lines\", \"name\": \"Snow\", \"orientation\": \"v\", \"showlegend\": true, \"type\": \"scatter\", \"x\": [25.0], \"xaxis\": \"x\", \"y\": [3.0], \"yaxis\": \"y\"}, {\"hovertemplate\": \"weather=Snow, Partially cloudy<br>arr_delay=%{x}<br>dep_delay=%{y}<extra></extra>\", \"legendgroup\": \"Snow, Partially cloudy\", \"line\": {\"color\": \"#FECB52\", \"dash\": \"solid\"}, \"mode\": \"lines\", \"name\": \"Snow, Partially cloudy\", \"orientation\": \"v\", \"showlegend\": true, \"type\": \"scatter\", \"x\": [-24.0], \"xaxis\": \"x\", \"y\": [-14.0], \"yaxis\": \"y\"}],                        {\"legend\": {\"title\": {\"text\": \"weather\"}, \"tracegroupgap\": 0}, \"margin\": {\"t\": 60}, \"template\": {\"data\": {\"bar\": [{\"error_x\": {\"color\": \"#2a3f5f\"}, \"error_y\": {\"color\": \"#2a3f5f\"}, \"marker\": {\"line\": {\"color\": \"#E5ECF6\", \"width\": 0.5}}, \"type\": \"bar\"}], \"barpolar\": [{\"marker\": {\"line\": {\"color\": \"#E5ECF6\", \"width\": 0.5}}, \"type\": \"barpolar\"}], \"carpet\": [{\"aaxis\": {\"endlinecolor\": \"#2a3f5f\", \"gridcolor\": \"white\", \"linecolor\": \"white\", \"minorgridcolor\": \"white\", \"startlinecolor\": \"#2a3f5f\"}, \"baxis\": {\"endlinecolor\": \"#2a3f5f\", \"gridcolor\": \"white\", \"linecolor\": \"white\", \"minorgridcolor\": \"white\", \"startlinecolor\": \"#2a3f5f\"}, \"type\": \"carpet\"}], \"choropleth\": [{\"colorbar\": {\"outlinewidth\": 0, \"ticks\": \"\"}, \"type\": \"choropleth\"}], \"contour\": [{\"colorbar\": {\"outlinewidth\": 0, \"ticks\": \"\"}, \"colorscale\": [[0.0, \"#0d0887\"], [0.1111111111111111, \"#46039f\"], [0.2222222222222222, \"#7201a8\"], [0.3333333333333333, \"#9c179e\"], [0.4444444444444444, \"#bd3786\"], [0.5555555555555556, \"#d8576b\"], [0.6666666666666666, \"#ed7953\"], [0.7777777777777778, \"#fb9f3a\"], [0.8888888888888888, \"#fdca26\"], [1.0, \"#f0f921\"]], \"type\": \"contour\"}], \"contourcarpet\": [{\"colorbar\": {\"outlinewidth\": 0, \"ticks\": \"\"}, \"type\": \"contourcarpet\"}], \"heatmap\": [{\"colorbar\": {\"outlinewidth\": 0, \"ticks\": \"\"}, \"colorscale\": [[0.0, \"#0d0887\"], [0.1111111111111111, \"#46039f\"], [0.2222222222222222, \"#7201a8\"], [0.3333333333333333, \"#9c179e\"], [0.4444444444444444, \"#bd3786\"], [0.5555555555555556, \"#d8576b\"], [0.6666666666666666, \"#ed7953\"], [0.7777777777777778, \"#fb9f3a\"], [0.8888888888888888, \"#fdca26\"], [1.0, \"#f0f921\"]], \"type\": \"heatmap\"}], \"heatmapgl\": [{\"colorbar\": {\"outlinewidth\": 0, \"ticks\": \"\"}, \"colorscale\": [[0.0, \"#0d0887\"], [0.1111111111111111, \"#46039f\"], [0.2222222222222222, \"#7201a8\"], [0.3333333333333333, \"#9c179e\"], [0.4444444444444444, \"#bd3786\"], [0.5555555555555556, \"#d8576b\"], [0.6666666666666666, \"#ed7953\"], [0.7777777777777778, \"#fb9f3a\"], [0.8888888888888888, \"#fdca26\"], [1.0, \"#f0f921\"]], \"type\": \"heatmapgl\"}], \"histogram\": [{\"marker\": {\"colorbar\": {\"outlinewidth\": 0, \"ticks\": \"\"}}, \"type\": \"histogram\"}], \"histogram2d\": [{\"colorbar\": {\"outlinewidth\": 0, \"ticks\": \"\"}, \"colorscale\": [[0.0, \"#0d0887\"], [0.1111111111111111, \"#46039f\"], [0.2222222222222222, \"#7201a8\"], [0.3333333333333333, \"#9c179e\"], [0.4444444444444444, \"#bd3786\"], [0.5555555555555556, \"#d8576b\"], [0.6666666666666666, \"#ed7953\"], [0.7777777777777778, \"#fb9f3a\"], [0.8888888888888888, \"#fdca26\"], [1.0, \"#f0f921\"]], \"type\": \"histogram2d\"}], \"histogram2dcontour\": [{\"colorbar\": {\"outlinewidth\": 0, \"ticks\": \"\"}, \"colorscale\": [[0.0, \"#0d0887\"], [0.1111111111111111, \"#46039f\"], [0.2222222222222222, \"#7201a8\"], [0.3333333333333333, \"#9c179e\"], [0.4444444444444444, \"#bd3786\"], [0.5555555555555556, \"#d8576b\"], [0.6666666666666666, \"#ed7953\"], [0.7777777777777778, \"#fb9f3a\"], [0.8888888888888888, \"#fdca26\"], [1.0, \"#f0f921\"]], \"type\": \"histogram2dcontour\"}], \"mesh3d\": [{\"colorbar\": {\"outlinewidth\": 0, \"ticks\": \"\"}, \"type\": \"mesh3d\"}], \"parcoords\": [{\"line\": {\"colorbar\": {\"outlinewidth\": 0, \"ticks\": \"\"}}, \"type\": \"parcoords\"}], \"pie\": [{\"automargin\": true, \"type\": \"pie\"}], \"scatter\": [{\"marker\": {\"colorbar\": {\"outlinewidth\": 0, \"ticks\": \"\"}}, \"type\": \"scatter\"}], \"scatter3d\": [{\"line\": {\"colorbar\": {\"outlinewidth\": 0, \"ticks\": \"\"}}, \"marker\": {\"colorbar\": {\"outlinewidth\": 0, \"ticks\": \"\"}}, \"type\": \"scatter3d\"}], \"scattercarpet\": [{\"marker\": {\"colorbar\": {\"outlinewidth\": 0, \"ticks\": \"\"}}, \"type\": \"scattercarpet\"}], \"scattergeo\": [{\"marker\": {\"colorbar\": {\"outlinewidth\": 0, \"ticks\": \"\"}}, \"type\": \"scattergeo\"}], \"scattergl\": [{\"marker\": {\"colorbar\": {\"outlinewidth\": 0, \"ticks\": \"\"}}, \"type\": \"scattergl\"}], \"scattermapbox\": [{\"marker\": {\"colorbar\": {\"outlinewidth\": 0, \"ticks\": \"\"}}, \"type\": \"scattermapbox\"}], \"scatterpolar\": [{\"marker\": {\"colorbar\": {\"outlinewidth\": 0, \"ticks\": \"\"}}, \"type\": \"scatterpolar\"}], \"scatterpolargl\": [{\"marker\": {\"colorbar\": {\"outlinewidth\": 0, \"ticks\": \"\"}}, \"type\": \"scatterpolargl\"}], \"scatterternary\": [{\"marker\": {\"colorbar\": {\"outlinewidth\": 0, \"ticks\": \"\"}}, \"type\": \"scatterternary\"}], \"surface\": [{\"colorbar\": {\"outlinewidth\": 0, \"ticks\": \"\"}, \"colorscale\": [[0.0, \"#0d0887\"], [0.1111111111111111, \"#46039f\"], [0.2222222222222222, \"#7201a8\"], [0.3333333333333333, \"#9c179e\"], [0.4444444444444444, \"#bd3786\"], [0.5555555555555556, \"#d8576b\"], [0.6666666666666666, \"#ed7953\"], [0.7777777777777778, \"#fb9f3a\"], [0.8888888888888888, \"#fdca26\"], [1.0, \"#f0f921\"]], \"type\": \"surface\"}], \"table\": [{\"cells\": {\"fill\": {\"color\": \"#EBF0F8\"}, \"line\": {\"color\": \"white\"}}, \"header\": {\"fill\": {\"color\": \"#C8D4E3\"}, \"line\": {\"color\": \"white\"}}, \"type\": \"table\"}]}, \"layout\": {\"annotationdefaults\": {\"arrowcolor\": \"#2a3f5f\", \"arrowhead\": 0, \"arrowwidth\": 1}, \"coloraxis\": {\"colorbar\": {\"outlinewidth\": 0, \"ticks\": \"\"}}, \"colorscale\": {\"diverging\": [[0, \"#8e0152\"], [0.1, \"#c51b7d\"], [0.2, \"#de77ae\"], [0.3, \"#f1b6da\"], [0.4, \"#fde0ef\"], [0.5, \"#f7f7f7\"], [0.6, \"#e6f5d0\"], [0.7, \"#b8e186\"], [0.8, \"#7fbc41\"], [0.9, \"#4d9221\"], [1, \"#276419\"]], \"sequential\": [[0.0, \"#0d0887\"], [0.1111111111111111, \"#46039f\"], [0.2222222222222222, \"#7201a8\"], [0.3333333333333333, \"#9c179e\"], [0.4444444444444444, \"#bd3786\"], [0.5555555555555556, \"#d8576b\"], [0.6666666666666666, \"#ed7953\"], [0.7777777777777778, \"#fb9f3a\"], [0.8888888888888888, \"#fdca26\"], [1.0, \"#f0f921\"]], \"sequentialminus\": [[0.0, \"#0d0887\"], [0.1111111111111111, \"#46039f\"], [0.2222222222222222, \"#7201a8\"], [0.3333333333333333, \"#9c179e\"], [0.4444444444444444, \"#bd3786\"], [0.5555555555555556, \"#d8576b\"], [0.6666666666666666, \"#ed7953\"], [0.7777777777777778, \"#fb9f3a\"], [0.8888888888888888, \"#fdca26\"], [1.0, \"#f0f921\"]]}, \"colorway\": [\"#636efa\", \"#EF553B\", \"#00cc96\", \"#ab63fa\", \"#FFA15A\", \"#19d3f3\", \"#FF6692\", \"#B6E880\", \"#FF97FF\", \"#FECB52\"], \"font\": {\"color\": \"#2a3f5f\"}, \"geo\": {\"bgcolor\": \"white\", \"lakecolor\": \"white\", \"landcolor\": \"#E5ECF6\", \"showlakes\": true, \"showland\": true, \"subunitcolor\": \"white\"}, \"hoverlabel\": {\"align\": \"left\"}, \"hovermode\": \"closest\", \"mapbox\": {\"style\": \"light\"}, \"paper_bgcolor\": \"white\", \"plot_bgcolor\": \"#E5ECF6\", \"polar\": {\"angularaxis\": {\"gridcolor\": \"white\", \"linecolor\": \"white\", \"ticks\": \"\"}, \"bgcolor\": \"#E5ECF6\", \"radialaxis\": {\"gridcolor\": \"white\", \"linecolor\": \"white\", \"ticks\": \"\"}}, \"scene\": {\"xaxis\": {\"backgroundcolor\": \"#E5ECF6\", \"gridcolor\": \"white\", \"gridwidth\": 2, \"linecolor\": \"white\", \"showbackground\": true, \"ticks\": \"\", \"zerolinecolor\": \"white\"}, \"yaxis\": {\"backgroundcolor\": \"#E5ECF6\", \"gridcolor\": \"white\", \"gridwidth\": 2, \"linecolor\": \"white\", \"showbackground\": true, \"ticks\": \"\", \"zerolinecolor\": \"white\"}, \"zaxis\": {\"backgroundcolor\": \"#E5ECF6\", \"gridcolor\": \"white\", \"gridwidth\": 2, \"linecolor\": \"white\", \"showbackground\": true, \"ticks\": \"\", \"zerolinecolor\": \"white\"}}, \"shapedefaults\": {\"line\": {\"color\": \"#2a3f5f\"}}, \"ternary\": {\"aaxis\": {\"gridcolor\": \"white\", \"linecolor\": \"white\", \"ticks\": \"\"}, \"baxis\": {\"gridcolor\": \"white\", \"linecolor\": \"white\", \"ticks\": \"\"}, \"bgcolor\": \"#E5ECF6\", \"caxis\": {\"gridcolor\": \"white\", \"linecolor\": \"white\", \"ticks\": \"\"}}, \"title\": {\"x\": 0.05}, \"xaxis\": {\"automargin\": true, \"gridcolor\": \"white\", \"linecolor\": \"white\", \"ticks\": \"\", \"title\": {\"standoff\": 15}, \"zerolinecolor\": \"white\", \"zerolinewidth\": 2}, \"yaxis\": {\"automargin\": true, \"gridcolor\": \"white\", \"linecolor\": \"white\", \"ticks\": \"\", \"title\": {\"standoff\": 15}, \"zerolinecolor\": \"white\", \"zerolinewidth\": 2}}}, \"xaxis\": {\"anchor\": \"y\", \"domain\": [0.0, 1.0], \"title\": {\"text\": \"arr_delay\"}}, \"yaxis\": {\"anchor\": \"x\", \"domain\": [0.0, 1.0], \"title\": {\"text\": \"dep_delay\"}}},                        {\"responsive\": true}                    ).then(function(){\n",
       "                            \n",
       "var gd = document.getElementById('d6fe539f-2894-417c-8477-807950c31503');\n",
       "var x = new MutationObserver(function (mutations, observer) {{\n",
       "        var display = window.getComputedStyle(gd).display;\n",
       "        if (!display || display === 'none') {{\n",
       "            console.log([gd, 'removed!']);\n",
       "            Plotly.purge(gd);\n",
       "            observer.disconnect();\n",
       "        }}\n",
       "}});\n",
       "\n",
       "// Listen for the removal of the full notebook cells\n",
       "var notebookContainer = gd.closest('#notebook-container');\n",
       "if (notebookContainer) {{\n",
       "    x.observe(notebookContainer, {childList: true});\n",
       "}}\n",
       "\n",
       "// Listen for the clearing of the current output cell\n",
       "var outputEl = gd.closest('.output');\n",
       "if (outputEl) {{\n",
       "    x.observe(outputEl, {childList: true});\n",
       "}}\n",
       "\n",
       "                        })                };                });            </script>        </div>"
      ]
     },
     "metadata": {},
     "output_type": "display_data"
    }
   ],
   "source": [
    "df = px.data.gapminder().query(\"continent == 'Oceania'\")\n",
    "fig = px.line(data, x='arr_delay', y='dep_delay', color='weather')\n",
    "fig.show()"
   ]
  },
  {
   "cell_type": "code",
   "execution_count": null,
   "metadata": {},
   "outputs": [],
   "source": []
  }
 ],
 "metadata": {
  "kernelspec": {
   "display_name": "lhl_env",
   "language": "python",
   "name": "lhl_env"
  },
  "language_info": {
   "codemirror_mode": {
    "name": "ipython",
    "version": 3
   },
   "file_extension": ".py",
   "mimetype": "text/x-python",
   "name": "python",
   "nbconvert_exporter": "python",
   "pygments_lexer": "ipython3",
   "version": "3.8.5"
  }
 },
 "nbformat": 4,
 "nbformat_minor": 4
}
