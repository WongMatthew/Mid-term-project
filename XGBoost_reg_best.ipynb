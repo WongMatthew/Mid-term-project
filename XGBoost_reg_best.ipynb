{
 "cells": [
  {
   "cell_type": "code",
   "execution_count": 362,
   "metadata": {},
   "outputs": [],
   "source": [
    "import pandas as pd\n",
    "import numpy as np\n",
    "import matplotlib.pyplot as plt\n",
    "import seaborn as sns\n",
    "from sklearn.preprocessing import LabelEncoder\n",
    "from sklearn.model_selection import train_test_split\n",
    "from sklearn import preprocessing\n",
    "import xgboost as xgb\n",
    "from sklearn.preprocessing import MinMaxScaler\n",
    "from sklearn.metrics import mean_squared_error, r2_score\n",
    "import pickle\n",
    "from sklearn.linear_model import Ridge\n",
    "from sklearn.model_selection import GridSearchCV"
   ]
  },
  {
   "cell_type": "code",
   "execution_count": 363,
   "metadata": {},
   "outputs": [],
   "source": [
    "flights = pd.read_csv('data/flights_cleaned.csv').drop(columns=['Unnamed: 0'])"
   ]
  },
  {
   "cell_type": "code",
   "execution_count": 364,
   "metadata": {},
   "outputs": [],
   "source": [
    "def time_row(row):\n",
    "    row_int = int(row)\n",
    "    row_str = str(row_int)\n",
    "    len_row = len(row_str)\n",
    "    if len_row == 1:\n",
    "        minute = '0' + row_str\n",
    "        hour = '00'\n",
    "        row = hour + ':' + minute\n",
    "    if len_row == 2:\n",
    "        minute =  row_str[0] + row_str[1]\n",
    "        hour = '00'\n",
    "        row = hour + ':' + minute\n",
    "    if len_row == 3:\n",
    "        minute = row_str[1]+row_str[2]\n",
    "        hour = '0' + row_str[0]\n",
    "        row = hour + ':' + minute\n",
    "    elif len_row == 4:\n",
    "        minute = row_str[2] + row_str[3]\n",
    "        hour = row_str[0] + row_str[1]\n",
    "        row = hour + ':' + minute\n",
    "        if row == '24:00':\n",
    "            row = '23:59'\n",
    "    return str(row)"
   ]
  },
  {
   "cell_type": "code",
   "execution_count": 365,
   "metadata": {},
   "outputs": [],
   "source": [
    "flights['crs_dep_time'] = flights['crs_dep_time'].apply(time_row)\n",
    "flights['dep_time'] = flights['dep_time'].apply(time_row)\n",
    "flights['wheels_off'] = flights['wheels_off'].apply(time_row)\n",
    "flights['wheels_on'] = flights['wheels_on'].apply(time_row)\n",
    "flights['crs_arr_time'] = flights['crs_arr_time'].apply(time_row)\n",
    "flights['arr_time'] = flights['arr_time'].apply(time_row)"
   ]
  },
  {
   "cell_type": "code",
   "execution_count": 366,
   "metadata": {},
   "outputs": [],
   "source": [
    "#lets create year, month and day\n",
    "flights['fl_date'] = pd.to_datetime(flights['fl_date'],format='%Y-%m-%d')\n",
    "flights['year'] = pd.DatetimeIndex(flights['fl_date']).year\n",
    "flights['month'] = pd.DatetimeIndex(flights['fl_date']).month\n",
    "flights['day'] = pd.DatetimeIndex(flights['fl_date']).day"
   ]
  },
  {
   "cell_type": "code",
   "execution_count": 367,
   "metadata": {},
   "outputs": [],
   "source": [
    "#lets change the time columns format to time\n",
    "flights['crs_dep_time'] = pd.to_datetime(flights['crs_dep_time'],format=\"%H:%M\").dt.time\n",
    "flights['dep_time'] = pd.to_datetime(flights['dep_time'],format=\"%H:%M\").dt.time\n",
    "flights['wheels_off'] = pd.to_datetime(flights['wheels_off'],format=\"%H:%M\").dt.time\n",
    "flights['wheels_on'] = pd.to_datetime(flights['wheels_on'],format=\"%H:%M\").dt.time\n",
    "flights['crs_arr_time'] = pd.to_datetime(flights['crs_arr_time'],format='%H:%M').dt.time\n",
    "flights['arr_time'] = pd.to_datetime(flights['arr_time'],format=\"%H:%M\").dt.time"
   ]
  },
  {
   "cell_type": "code",
   "execution_count": 368,
   "metadata": {},
   "outputs": [],
   "source": [
    "#dropping the large delays, they seem to be outlier\n",
    "flights = flights[flights['dep_delay'] <= 15]\n",
    "flights['crs_arr_hour'] = flights['crs_arr_time'].apply(lambda x:x.hour)"
   ]
  },
  {
   "cell_type": "code",
   "execution_count": 369,
   "metadata": {},
   "outputs": [],
   "source": [
    "top_dest = flights.groupby('dest')['taxi_in'].count().sort_values(ascending=False).head(12)"
   ]
  },
  {
   "cell_type": "code",
   "execution_count": 370,
   "metadata": {},
   "outputs": [],
   "source": [
    "list_dest = []\n",
    "for i in range(0,12):\n",
    "    list_dest.append(top_dest.index[i])\n",
    "flights=flights.loc[flights['dest'].isin(list_dest)]"
   ]
  },
  {
   "cell_type": "code",
   "execution_count": 371,
   "metadata": {},
   "outputs": [],
   "source": [
    "#arrival delay filter based on hour of the day\n",
    "flights = flights.loc[(flights['crs_arr_hour'] >=6) & flights['crs_arr_hour'] <=18]"
   ]
  },
  {
   "cell_type": "code",
   "execution_count": 309,
   "metadata": {},
   "outputs": [],
   "source": [
    "flights = flights[['dest','mkt_unique_carrier','crs_arr_hour','air_time',\n",
    "                   'taxi_in','crs_elapsed_time','month',\n",
    "                  'arr_delay']]\n",
    "numeric =flights[['air_time','taxi_in','crs_elapsed_time','arr_delay']]\n",
    "dummies = pd.get_dummies(flights[['dest','mkt_unique_carrier','crs_arr_hour','month']],drop_first=True)\n"
   ]
  },
  {
   "cell_type": "code",
   "execution_count": 310,
   "metadata": {},
   "outputs": [],
   "source": [
    "all_in_one = pd.concat([numeric,dummies],axis=1)"
   ]
  },
  {
   "cell_type": "code",
   "execution_count": 311,
   "metadata": {},
   "outputs": [],
   "source": [
    "X = all_in_one.loc[:,all_in_one.columns!='arr_delay']\n",
    "y = all_in_one[['arr_delay']]"
   ]
  },
  {
   "cell_type": "code",
   "execution_count": 312,
   "metadata": {},
   "outputs": [],
   "source": [
    "X_test,X_train,y_test,y_train = train_test_split(X,y,test_size=0.3,random_state=123)"
   ]
  },
  {
   "cell_type": "code",
   "execution_count": 313,
   "metadata": {},
   "outputs": [],
   "source": [
    "#normalize test train\n",
    "min_max = MinMaxScaler()\n",
    "\n",
    "cols_train = X_train.columns\n",
    "values_train = X_train.values\n",
    "values_train_norm = min_max.fit_transform(values_train)\n",
    "X_train = pd.DataFrame(values_train_norm,columns=cols_train)\n",
    "\n",
    "cols_test = X_test.columns\n",
    "values_test = X_test.values\n",
    "values_test_norm = min_max.fit_transform(values_test)\n",
    "X_test = pd.DataFrame(values_test_norm,columns=cols_test)"
   ]
  },
  {
   "cell_type": "code",
   "execution_count": 314,
   "metadata": {},
   "outputs": [],
   "source": [
    "xg_reg = xgb.XGBRegressor(objective ='reg:squarederror', colsample_bytree = 0.3, learning_rate = 0.1,\n",
    "                max_depth = 10, alpha = 10, n_estimators = 50)\n",
    "\n",
    "xg_reg.fit(X_train,y_train)\n",
    "filename = 'XGBoost_regressor_final.sav'\n",
    "pickle.dump(xg_reg, open(filename, 'wb'))"
   ]
  },
  {
   "cell_type": "code",
   "execution_count": 315,
   "metadata": {},
   "outputs": [],
   "source": [
    "y_pred = xg_reg.predict(X_test)"
   ]
  },
  {
   "cell_type": "code",
   "execution_count": 316,
   "metadata": {},
   "outputs": [
    {
     "data": {
      "text/plain": [
       "array([56.421497, 61.49263 , 59.291824, ..., 64.75529 , 65.89438 ,\n",
       "       60.833855], dtype=float32)"
      ]
     },
     "execution_count": 316,
     "metadata": {},
     "output_type": "execute_result"
    }
   ],
   "source": [
    "y_pred"
   ]
  },
  {
   "cell_type": "code",
   "execution_count": 317,
   "metadata": {},
   "outputs": [
    {
     "name": "stdout",
     "output_type": "stream",
     "text": [
      "rmse:  13.179832009538854\n",
      "r2_score: 0.16617139487308386\n"
     ]
    }
   ],
   "source": [
    "rmse = np.sqrt(mean_squared_error(y_test,y_pred))\n",
    "r2 = r2_score(y_test,y_pred)\n",
    "\n",
    "print('rmse: ',rmse)\n",
    "print('r2_score:', r2)"
   ]
  },
  {
   "cell_type": "code",
   "execution_count": 318,
   "metadata": {},
   "outputs": [
    {
     "data": {
      "text/plain": [
       "Index(['air_time', 'taxi_in', 'crs_elapsed_time', 'dest', 'mkt_unique_carrier',\n",
       "       'crs_arr_hour', 'month'],\n",
       "      dtype='object')"
      ]
     },
     "execution_count": 318,
     "metadata": {},
     "output_type": "execute_result"
    }
   ],
   "source": [
    "X_train.columns"
   ]
  },
  {
   "cell_type": "code",
   "execution_count": 319,
   "metadata": {},
   "outputs": [],
   "source": [
    "#defining the model: Ridge Regression\n",
    "rr = Ridge()\n",
    "\n",
    "#parameters to be tuned for ridge regression: alpha\n",
    "parameters = {'alpha':[0.01,0.1,0.5,1,5]}\n",
    "\n",
    "#Definning the GridSearch\n",
    "Ridge_tuned = GridSearchCV(rr,param_grid=parameters, scoring='r2', cv=10)\n",
    "Ridge_tuned.fit(X_train,y_train)\n",
    "bst_estimator = Ridge_tuned.best_estimator_"
   ]
  },
  {
   "cell_type": "code",
   "execution_count": 320,
   "metadata": {},
   "outputs": [
    {
     "data": {
      "text/plain": [
       "GridSearchCV(cv=10, estimator=Ridge(),\n",
       "             param_grid={'alpha': [0.01, 0.1, 0.5, 1, 5]}, scoring='r2')"
      ]
     },
     "execution_count": 320,
     "metadata": {},
     "output_type": "execute_result"
    }
   ],
   "source": [
    "Ridge_tuned.fit(X_train,y_train)"
   ]
  },
  {
   "cell_type": "code",
   "execution_count": 321,
   "metadata": {},
   "outputs": [],
   "source": [
    "bst_estimator = Ridge_tuned.best_estimator_"
   ]
  },
  {
   "cell_type": "code",
   "execution_count": 322,
   "metadata": {},
   "outputs": [],
   "source": [
    "bst_estimator.fit(X_train,y_train)\n",
    "xg_reg.fit(X_train,y_train)\n",
    "filename = 'Ridge_regressor_final.sav'\n",
    "pickle.dump(xg_reg, open(filename, 'wb'))"
   ]
  },
  {
   "cell_type": "code",
   "execution_count": 323,
   "metadata": {},
   "outputs": [],
   "source": [
    "y_pred_ridg = bst_estimator.predict(X_test)\n"
   ]
  },
  {
   "cell_type": "code",
   "execution_count": 325,
   "metadata": {},
   "outputs": [
    {
     "data": {
      "text/plain": [
       "0.16617139487308386"
      ]
     },
     "execution_count": 325,
     "metadata": {},
     "output_type": "execute_result"
    }
   ],
   "source": [
    "r2_score(y_test,y_pred)\n",
    "#np.sqrt(mean_squared_error(y_test,y_pred))"
   ]
  },
  {
   "cell_type": "markdown",
   "metadata": {},
   "source": [
    "### Ordinal Encoding"
   ]
  },
  {
   "cell_type": "code",
   "execution_count": 383,
   "metadata": {},
   "outputs": [],
   "source": [
    "from sklearn.preprocessing import OrdinalEncoder"
   ]
  },
  {
   "cell_type": "code",
   "execution_count": 384,
   "metadata": {},
   "outputs": [],
   "source": [
    "cols = flights.columns\n",
    "enc = OrdinalEncoder()\n",
    "flights = enc.fit_transform(flights)\n",
    "flights = pd.DataFrame(flights,columns=cols)"
   ]
  },
  {
   "cell_type": "code",
   "execution_count": 374,
   "metadata": {},
   "outputs": [],
   "source": [
    "X = all_in_one.loc[:,all_in_one.columns!='arr_delay']\n",
    "y = all_in_one[['arr_delay']]l"
   ]
  },
  {
   "cell_type": "code",
   "execution_count": 375,
   "metadata": {},
   "outputs": [],
   "source": [
    "X_test,X_train,y_test,y_train = train_test_split(X,y,test_size=0.3,random_state=123)"
   ]
  },
  {
   "cell_type": "code",
   "execution_count": 376,
   "metadata": {},
   "outputs": [],
   "source": [
    "#normalize test train\n",
    "min_max = MinMaxScaler()\n",
    "\n",
    "cols_train = X_train.columns\n",
    "values_train = X_train.values\n",
    "values_train_norm = min_max.fit_transform(values_train)\n",
    "X_train = pd.DataFrame(values_train_norm,columns=cols_train)\n",
    "\n",
    "cols_test = X_test.columns\n",
    "values_test = X_test.values\n",
    "values_test_norm = min_max.fit_transform(values_test)\n",
    "X_test = pd.DataFrame(values_test_norm,columns=cols_test)"
   ]
  },
  {
   "cell_type": "code",
   "execution_count": 377,
   "metadata": {},
   "outputs": [
    {
     "data": {
      "text/plain": [
       "XGBRegressor(alpha=10, base_score=0.5, booster='gbtree', colsample_bylevel=1,\n",
       "             colsample_bynode=1, colsample_bytree=0.3, gamma=0, gpu_id=-1,\n",
       "             importance_type='gain', interaction_constraints='',\n",
       "             learning_rate=0.1, max_delta_step=0, max_depth=100,\n",
       "             min_child_weight=1, missing=nan, monotone_constraints='()',\n",
       "             n_estimators=100, n_jobs=0, num_parallel_tree=1, random_state=0,\n",
       "             reg_alpha=10, reg_lambda=1, scale_pos_weight=1, subsample=1,\n",
       "             tree_method='exact', validate_parameters=1, verbosity=None)"
      ]
     },
     "execution_count": 377,
     "metadata": {},
     "output_type": "execute_result"
    }
   ],
   "source": [
    "xg_reg = xgb.XGBRegressor(objective ='reg:squarederror', colsample_bytree = 0.3, learning_rate = 0.1,\n",
    "                max_depth = 100, alpha = 10, n_estimators = 100)\n",
    "\n",
    "xg_reg.fit(X_train,y_train)\n",
    "#filename = 'XGBoost_regressor_final.sav'\n",
    "#pickle.dump(xg_reg, open(filename, 'wb'))"
   ]
  },
  {
   "cell_type": "code",
   "execution_count": 378,
   "metadata": {},
   "outputs": [],
   "source": [
    "y_pred = xg_reg.predict(X_test)"
   ]
  },
  {
   "cell_type": "code",
   "execution_count": 379,
   "metadata": {},
   "outputs": [
    {
     "name": "stdout",
     "output_type": "stream",
     "text": [
      "rmse:  13.296371015113143\n",
      "r2_score: 0.15136040616121804\n"
     ]
    }
   ],
   "source": [
    "rmse = np.sqrt(mean_squared_error(y_test,y_pred))\n",
    "r2 = r2_score(y_test,y_pred)\n",
    "\n",
    "print('rmse: ',rmse)\n",
    "print('r2_score:', r2)"
   ]
  },
  {
   "cell_type": "code",
   "execution_count": 440,
   "metadata": {},
   "outputs": [],
   "source": [
    "flights_test = pd.read_csv('data/flights_test.csv')"
   ]
  },
  {
   "cell_type": "code",
   "execution_count": 441,
   "metadata": {},
   "outputs": [],
   "source": [
    "flights_test['crs_dep_time'] = flights_test['crs_dep_time'].apply(time_row)\n",
    "flights_test['crs_arr_time'] = flights_test['crs_arr_time'].apply(time_row)"
   ]
  },
  {
   "cell_type": "code",
   "execution_count": 442,
   "metadata": {},
   "outputs": [],
   "source": [
    "#lets create year, month and day\n",
    "flights_test['fl_date'] = pd.to_datetime(flights_test['fl_date'],format='%Y-%m-%d')\n",
    "flights_test['year'] = pd.DatetimeIndex(flights_test['fl_date']).year\n",
    "flights_test['month'] = pd.DatetimeIndex(flights_test['fl_date']).month\n",
    "flights_test['day'] = pd.DatetimeIndex(flights_test['fl_date']).day"
   ]
  },
  {
   "cell_type": "code",
   "execution_count": 443,
   "metadata": {},
   "outputs": [],
   "source": [
    "#lets change the time columns format to time\n",
    "flights_test['crs_dep_time'] = pd.to_datetime(flights_test['crs_dep_time'],format=\"%H:%M\").dt.time\n",
    "flights_test['crs_arr_time'] = pd.to_datetime(flights_test['crs_arr_time'],format='%H:%M').dt.time"
   ]
  },
  {
   "cell_type": "code",
   "execution_count": 444,
   "metadata": {},
   "outputs": [],
   "source": [
    "#dropping the large delays, they seem to be outlier\n",
    "flights_test['crs_arr_hour'] = flights_test['crs_arr_time'].apply(lambda x:x.hour)"
   ]
  },
  {
   "cell_type": "code",
   "execution_count": 445,
   "metadata": {},
   "outputs": [],
   "source": [
    "flights_concat = flights_test.copy()"
   ]
  },
  {
   "cell_type": "code",
   "execution_count": 447,
   "metadata": {},
   "outputs": [],
   "source": [
    "flights_concat = flights_concat[['fl_date','mkt_carrier','mkt_carrier_fl_num','origin','dest']]"
   ]
  },
  {
   "cell_type": "code",
   "execution_count": 448,
   "metadata": {},
   "outputs": [],
   "source": [
    "flights_test = flights_test[['dest','mkt_unique_carrier','crs_arr_hour',\n",
    "                   'crs_elapsed_time','month']]"
   ]
  },
  {
   "cell_type": "code",
   "execution_count": 449,
   "metadata": {},
   "outputs": [
    {
     "data": {
      "text/html": [
       "<div>\n",
       "<style scoped>\n",
       "    .dataframe tbody tr th:only-of-type {\n",
       "        vertical-align: middle;\n",
       "    }\n",
       "\n",
       "    .dataframe tbody tr th {\n",
       "        vertical-align: top;\n",
       "    }\n",
       "\n",
       "    .dataframe thead th {\n",
       "        text-align: right;\n",
       "    }\n",
       "</style>\n",
       "<table border=\"1\" class=\"dataframe\">\n",
       "  <thead>\n",
       "    <tr style=\"text-align: right;\">\n",
       "      <th></th>\n",
       "      <th>dest</th>\n",
       "      <th>mkt_unique_carrier</th>\n",
       "      <th>crs_arr_hour</th>\n",
       "      <th>crs_elapsed_time</th>\n",
       "      <th>month</th>\n",
       "    </tr>\n",
       "  </thead>\n",
       "  <tbody>\n",
       "    <tr>\n",
       "      <th>0</th>\n",
       "      <td>PHX</td>\n",
       "      <td>DL</td>\n",
       "      <td>11</td>\n",
       "      <td>211</td>\n",
       "      <td>1</td>\n",
       "    </tr>\n",
       "    <tr>\n",
       "      <th>1</th>\n",
       "      <td>MIA</td>\n",
       "      <td>AA</td>\n",
       "      <td>9</td>\n",
       "      <td>162</td>\n",
       "      <td>1</td>\n",
       "    </tr>\n",
       "    <tr>\n",
       "      <th>2</th>\n",
       "      <td>DEN</td>\n",
       "      <td>WN</td>\n",
       "      <td>21</td>\n",
       "      <td>165</td>\n",
       "      <td>1</td>\n",
       "    </tr>\n",
       "    <tr>\n",
       "      <th>3</th>\n",
       "      <td>TUS</td>\n",
       "      <td>AA</td>\n",
       "      <td>22</td>\n",
       "      <td>46</td>\n",
       "      <td>1</td>\n",
       "    </tr>\n",
       "    <tr>\n",
       "      <th>4</th>\n",
       "      <td>BOS</td>\n",
       "      <td>B6</td>\n",
       "      <td>21</td>\n",
       "      <td>89</td>\n",
       "      <td>1</td>\n",
       "    </tr>\n",
       "  </tbody>\n",
       "</table>\n",
       "</div>"
      ],
      "text/plain": [
       "  dest mkt_unique_carrier  crs_arr_hour  crs_elapsed_time  month\n",
       "0  PHX                 DL            11               211      1\n",
       "1  MIA                 AA             9               162      1\n",
       "2  DEN                 WN            21               165      1\n",
       "3  TUS                 AA            22                46      1\n",
       "4  BOS                 B6            21                89      1"
      ]
     },
     "execution_count": 449,
     "metadata": {},
     "output_type": "execute_result"
    }
   ],
   "source": [
    "flights_test.head()"
   ]
  },
  {
   "cell_type": "code",
   "execution_count": 450,
   "metadata": {},
   "outputs": [
    {
     "name": "stderr",
     "output_type": "stream",
     "text": [
      "<ipython-input-450-bceda7f9cc50>:1: SettingWithCopyWarning: \n",
      "A value is trying to be set on a copy of a slice from a DataFrame.\n",
      "Try using .loc[row_indexer,col_indexer] = value instead\n",
      "\n",
      "See the caveats in the documentation: https://pandas.pydata.org/pandas-docs/stable/user_guide/indexing.html#returning-a-view-versus-a-copy\n",
      "  flights_test['air_time'] = 0\n",
      "<ipython-input-450-bceda7f9cc50>:2: SettingWithCopyWarning: \n",
      "A value is trying to be set on a copy of a slice from a DataFrame.\n",
      "Try using .loc[row_indexer,col_indexer] = value instead\n",
      "\n",
      "See the caveats in the documentation: https://pandas.pydata.org/pandas-docs/stable/user_guide/indexing.html#returning-a-view-versus-a-copy\n",
      "  flights_test['taxi_in'] = 0\n"
     ]
    }
   ],
   "source": [
    "flights_test['air_time'] = 0\n",
    "flights_test['taxi_in'] = 0"
   ]
  },
  {
   "cell_type": "code",
   "execution_count": 451,
   "metadata": {},
   "outputs": [],
   "source": [
    "cols = flights_test.columns\n",
    "enc = OrdinalEncoder()\n",
    "flights_test = enc.fit_transform(flights_test)\n",
    "flights_test = pd.DataFrame(flights_test,columns=cols)"
   ]
  },
  {
   "cell_type": "code",
   "execution_count": 452,
   "metadata": {},
   "outputs": [],
   "source": [
    "flights_test = flights_test[X_train.columns]"
   ]
  },
  {
   "cell_type": "code",
   "execution_count": 453,
   "metadata": {},
   "outputs": [],
   "source": [
    "cols_train = flights_test.columns\n",
    "values_train = flights_test.values\n",
    "values_train_norm = min_max.fit_transform(values_train)\n",
    "flights_test = pd.DataFrame(values_train_norm,columns=cols_train)"
   ]
  },
  {
   "cell_type": "code",
   "execution_count": 454,
   "metadata": {},
   "outputs": [],
   "source": [
    "flights_test_delays = xg_reg.predict(flights_test)"
   ]
  },
  {
   "cell_type": "code",
   "execution_count": 455,
   "metadata": {},
   "outputs": [
    {
     "data": {
      "text/plain": [
       "21.12887"
      ]
     },
     "execution_count": 455,
     "metadata": {},
     "output_type": "execute_result"
    }
   ],
   "source": [
    "flights_test_delays.min()"
   ]
  },
  {
   "cell_type": "code",
   "execution_count": 460,
   "metadata": {},
   "outputs": [],
   "source": [
    "columns = ['predicted_delay']\n",
    "predicted_delays = pd.DataFrame(flights_test_delays,columns=columns)"
   ]
  },
  {
   "cell_type": "code",
   "execution_count": 461,
   "metadata": {},
   "outputs": [
    {
     "data": {
      "text/html": [
       "<div>\n",
       "<style scoped>\n",
       "    .dataframe tbody tr th:only-of-type {\n",
       "        vertical-align: middle;\n",
       "    }\n",
       "\n",
       "    .dataframe tbody tr th {\n",
       "        vertical-align: top;\n",
       "    }\n",
       "\n",
       "    .dataframe thead th {\n",
       "        text-align: right;\n",
       "    }\n",
       "</style>\n",
       "<table border=\"1\" class=\"dataframe\">\n",
       "  <thead>\n",
       "    <tr style=\"text-align: right;\">\n",
       "      <th></th>\n",
       "      <th>predicted_delay</th>\n",
       "    </tr>\n",
       "  </thead>\n",
       "  <tbody>\n",
       "    <tr>\n",
       "      <th>0</th>\n",
       "      <td>37.227093</td>\n",
       "    </tr>\n",
       "    <tr>\n",
       "      <th>1</th>\n",
       "      <td>36.298462</td>\n",
       "    </tr>\n",
       "    <tr>\n",
       "      <th>2</th>\n",
       "      <td>52.826542</td>\n",
       "    </tr>\n",
       "    <tr>\n",
       "      <th>3</th>\n",
       "      <td>53.517471</td>\n",
       "    </tr>\n",
       "    <tr>\n",
       "      <th>4</th>\n",
       "      <td>47.133911</td>\n",
       "    </tr>\n",
       "    <tr>\n",
       "      <th>...</th>\n",
       "      <td>...</td>\n",
       "    </tr>\n",
       "    <tr>\n",
       "      <th>299995</th>\n",
       "      <td>59.453117</td>\n",
       "    </tr>\n",
       "    <tr>\n",
       "      <th>299996</th>\n",
       "      <td>37.978970</td>\n",
       "    </tr>\n",
       "    <tr>\n",
       "      <th>299997</th>\n",
       "      <td>42.795376</td>\n",
       "    </tr>\n",
       "    <tr>\n",
       "      <th>299998</th>\n",
       "      <td>52.954189</td>\n",
       "    </tr>\n",
       "    <tr>\n",
       "      <th>299999</th>\n",
       "      <td>35.936474</td>\n",
       "    </tr>\n",
       "  </tbody>\n",
       "</table>\n",
       "<p>300000 rows × 1 columns</p>\n",
       "</div>"
      ],
      "text/plain": [
       "        predicted_delay\n",
       "0             37.227093\n",
       "1             36.298462\n",
       "2             52.826542\n",
       "3             53.517471\n",
       "4             47.133911\n",
       "...                 ...\n",
       "299995        59.453117\n",
       "299996        37.978970\n",
       "299997        42.795376\n",
       "299998        52.954189\n",
       "299999        35.936474\n",
       "\n",
       "[300000 rows x 1 columns]"
      ]
     },
     "execution_count": 461,
     "metadata": {},
     "output_type": "execute_result"
    }
   ],
   "source": [
    "predicted_delays"
   ]
  },
  {
   "cell_type": "code",
   "execution_count": 456,
   "metadata": {},
   "outputs": [
    {
     "data": {
      "text/html": [
       "<div>\n",
       "<style scoped>\n",
       "    .dataframe tbody tr th:only-of-type {\n",
       "        vertical-align: middle;\n",
       "    }\n",
       "\n",
       "    .dataframe tbody tr th {\n",
       "        vertical-align: top;\n",
       "    }\n",
       "\n",
       "    .dataframe thead th {\n",
       "        text-align: right;\n",
       "    }\n",
       "</style>\n",
       "<table border=\"1\" class=\"dataframe\">\n",
       "  <thead>\n",
       "    <tr style=\"text-align: right;\">\n",
       "      <th></th>\n",
       "      <th>air_time</th>\n",
       "      <th>taxi_in</th>\n",
       "      <th>crs_elapsed_time</th>\n",
       "      <th>dest</th>\n",
       "      <th>mkt_unique_carrier</th>\n",
       "      <th>crs_arr_hour</th>\n",
       "      <th>month</th>\n",
       "    </tr>\n",
       "  </thead>\n",
       "  <tbody>\n",
       "    <tr>\n",
       "      <th>0</th>\n",
       "      <td>0.0</td>\n",
       "      <td>0.0</td>\n",
       "      <td>0.398268</td>\n",
       "      <td>0.719780</td>\n",
       "      <td>0.333333</td>\n",
       "      <td>0.478261</td>\n",
       "      <td>0.0</td>\n",
       "    </tr>\n",
       "    <tr>\n",
       "      <th>1</th>\n",
       "      <td>0.0</td>\n",
       "      <td>0.0</td>\n",
       "      <td>0.292208</td>\n",
       "      <td>0.604396</td>\n",
       "      <td>0.000000</td>\n",
       "      <td>0.391304</td>\n",
       "      <td>0.0</td>\n",
       "    </tr>\n",
       "    <tr>\n",
       "      <th>2</th>\n",
       "      <td>0.0</td>\n",
       "      <td>0.0</td>\n",
       "      <td>0.298701</td>\n",
       "      <td>0.250000</td>\n",
       "      <td>1.000000</td>\n",
       "      <td>0.913043</td>\n",
       "      <td>0.0</td>\n",
       "    </tr>\n",
       "    <tr>\n",
       "      <th>3</th>\n",
       "      <td>0.0</td>\n",
       "      <td>0.0</td>\n",
       "      <td>0.041126</td>\n",
       "      <td>0.956044</td>\n",
       "      <td>0.000000</td>\n",
       "      <td>0.956522</td>\n",
       "      <td>0.0</td>\n",
       "    </tr>\n",
       "    <tr>\n",
       "      <th>4</th>\n",
       "      <td>0.0</td>\n",
       "      <td>0.0</td>\n",
       "      <td>0.134199</td>\n",
       "      <td>0.120879</td>\n",
       "      <td>0.222222</td>\n",
       "      <td>0.913043</td>\n",
       "      <td>0.0</td>\n",
       "    </tr>\n",
       "  </tbody>\n",
       "</table>\n",
       "</div>"
      ],
      "text/plain": [
       "   air_time  taxi_in  crs_elapsed_time      dest  mkt_unique_carrier  \\\n",
       "0       0.0      0.0          0.398268  0.719780            0.333333   \n",
       "1       0.0      0.0          0.292208  0.604396            0.000000   \n",
       "2       0.0      0.0          0.298701  0.250000            1.000000   \n",
       "3       0.0      0.0          0.041126  0.956044            0.000000   \n",
       "4       0.0      0.0          0.134199  0.120879            0.222222   \n",
       "\n",
       "   crs_arr_hour  month  \n",
       "0      0.478261    0.0  \n",
       "1      0.391304    0.0  \n",
       "2      0.913043    0.0  \n",
       "3      0.956522    0.0  \n",
       "4      0.913043    0.0  "
      ]
     },
     "execution_count": 456,
     "metadata": {},
     "output_type": "execute_result"
    }
   ],
   "source": [
    "flights_test.head()"
   ]
  },
  {
   "cell_type": "code",
   "execution_count": 463,
   "metadata": {},
   "outputs": [],
   "source": [
    "final_table = pd.merge(flights_concat, predicted_delays, left_index=True, right_index=True)"
   ]
  },
  {
   "cell_type": "code",
   "execution_count": 466,
   "metadata": {},
   "outputs": [],
   "source": [
    "final_one_week = final_table.loc[(final_table['fl_date']>='2020-01-01') & (final_table['fl_date']<='2020-01-07')]"
   ]
  },
  {
   "cell_type": "code",
   "execution_count": 470,
   "metadata": {},
   "outputs": [],
   "source": [
    "table_to_submit = final_one_week.sort_values(by=\"fl_date\").reset_index(drop=True)"
   ]
  },
  {
   "cell_type": "code",
   "execution_count": 475,
   "metadata": {},
   "outputs": [],
   "source": [
    "table_to_submit.to_csv('final_predictions.csv',index=False)"
   ]
  }
 ],
 "metadata": {
  "kernelspec": {
   "display_name": "bootcamp",
   "language": "python",
   "name": "bootcamp"
  },
  "language_info": {
   "codemirror_mode": {
    "name": "ipython",
    "version": 3
   },
   "file_extension": ".py",
   "mimetype": "text/x-python",
   "name": "python",
   "nbconvert_exporter": "python",
   "pygments_lexer": "ipython3",
   "version": "3.8.5"
  }
 },
 "nbformat": 4,
 "nbformat_minor": 4
}
