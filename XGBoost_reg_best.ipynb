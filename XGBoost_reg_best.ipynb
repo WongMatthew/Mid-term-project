{
 "cells": [
  {
   "cell_type": "code",
   "execution_count": 198,
   "metadata": {},
   "outputs": [],
   "source": [
    "import pandas as pd\n",
    "import numpy as np\n",
    "import matplotlib.pyplot as plt\n",
    "import seaborn as sns\n",
    "from sklearn.preprocessing import LabelEncoder\n",
    "from sklearn.model_selection import train_test_split\n",
    "from sklearn import preprocessing\n",
    "import xgboost as xgb\n",
    "from sklearn.preprocessing import MinMaxScaler\n",
    "from sklearn.metrics import mean_squared_error, r2_score\n",
    "import pickle"
   ]
  },
  {
   "cell_type": "code",
   "execution_count": 150,
   "metadata": {},
   "outputs": [],
   "source": [
    "flights = pd.read_csv('data/flights_cleaned.csv').drop(columns=['Unnamed: 0'])"
   ]
  },
  {
   "cell_type": "code",
   "execution_count": null,
   "metadata": {},
   "outputs": [],
   "source": []
  },
  {
   "cell_type": "code",
   "execution_count": 151,
   "metadata": {},
   "outputs": [],
   "source": [
    "def time_row(row):\n",
    "    row_int = int(row)\n",
    "    row_str = str(row_int)\n",
    "    len_row = len(row_str)\n",
    "    if len_row == 1:\n",
    "        minute = '0' + row_str\n",
    "        hour = '00'\n",
    "        row = hour + ':' + minute\n",
    "    if len_row == 2:\n",
    "        minute =  row_str[0] + row_str[1]\n",
    "        hour = '00'\n",
    "        row = hour + ':' + minute\n",
    "    if len_row == 3:\n",
    "        minute = row_str[1]+row_str[2]\n",
    "        hour = '0' + row_str[0]\n",
    "        row = hour + ':' + minute\n",
    "    elif len_row == 4:\n",
    "        minute = row_str[2] + row_str[3]\n",
    "        hour = row_str[0] + row_str[1]\n",
    "        row = hour + ':' + minute\n",
    "        if row == '24:00':\n",
    "            row = '23:59'\n",
    "    return str(row)"
   ]
  },
  {
   "cell_type": "code",
   "execution_count": 152,
   "metadata": {},
   "outputs": [],
   "source": [
    "flights['crs_dep_time'] = flights['crs_dep_time'].apply(time_row)\n",
    "flights['dep_time'] = flights['dep_time'].apply(time_row)\n",
    "flights['wheels_off'] = flights['wheels_off'].apply(time_row)\n",
    "flights['wheels_on'] = flights['wheels_on'].apply(time_row)\n",
    "flights['crs_arr_time'] = flights['crs_arr_time'].apply(time_row)\n",
    "flights['arr_time'] = flights['arr_time'].apply(time_row)"
   ]
  },
  {
   "cell_type": "code",
   "execution_count": 153,
   "metadata": {},
   "outputs": [],
   "source": [
    "#lets create year, month and day\n",
    "flights['fl_date'] = pd.to_datetime(flights['fl_date'],format='%Y-%m-%d')\n",
    "flights['year'] = pd.DatetimeIndex(flights['fl_date']).year\n",
    "flights['month'] = pd.DatetimeIndex(flights['fl_date']).month\n",
    "flights['day'] = pd.DatetimeIndex(flights['fl_date']).day"
   ]
  },
  {
   "cell_type": "code",
   "execution_count": 154,
   "metadata": {},
   "outputs": [],
   "source": [
    "#lets change the time columns format to time\n",
    "flights['crs_dep_time'] = pd.to_datetime(flights['crs_dep_time'],format=\"%H:%M\").dt.time\n",
    "flights['dep_time'] = pd.to_datetime(flights['dep_time'],format=\"%H:%M\").dt.time\n",
    "flights['wheels_off'] = pd.to_datetime(flights['wheels_off'],format=\"%H:%M\").dt.time\n",
    "flights['wheels_on'] = pd.to_datetime(flights['wheels_on'],format=\"%H:%M\").dt.time\n",
    "flights['crs_arr_time'] = pd.to_datetime(flights['crs_arr_time'],format='%H:%M').dt.time\n",
    "flights['arr_time'] = pd.to_datetime(flights['arr_time'],format=\"%H:%M\").dt.time"
   ]
  },
  {
   "cell_type": "code",
   "execution_count": 155,
   "metadata": {},
   "outputs": [],
   "source": [
    "#dropping the large delays, they seem to be outlier\n",
    "flights = flights[flights['dep_delay'] <= 15]\n",
    "flights['crs_arr_hour'] = flights['crs_arr_time'].apply(lambda x:x.hour)"
   ]
  },
  {
   "cell_type": "code",
   "execution_count": 157,
   "metadata": {},
   "outputs": [],
   "source": [
    "top_dest = flights.groupby('dest')['taxi_in'].count().sort_values(ascending=False).head(12)"
   ]
  },
  {
   "cell_type": "code",
   "execution_count": 158,
   "metadata": {},
   "outputs": [],
   "source": [
    "list_dest = []\n",
    "for i in range(0,12):\n",
    "    list_dest.append(top_dest.index[i])\n",
    "flights=flights.loc[flights['dest'].isin(list_dest)]"
   ]
  },
  {
   "cell_type": "code",
   "execution_count": 159,
   "metadata": {},
   "outputs": [],
   "source": [
    "#arrival delay filter based on hour of the day\n",
    "flights = flights.loc[(flights['crs_arr_hour'] >=6) & flights['crs_arr_hour'] <=18]"
   ]
  },
  {
   "cell_type": "code",
   "execution_count": 161,
   "metadata": {},
   "outputs": [],
   "source": [
    "flights = flights[['dest','mkt_unique_carrier','crs_arr_hour','air_time',\n",
    "                   'taxi_in','crs_elapsed_time','month',\n",
    "                  'arr_delay']]\n",
    "numeric =flights[['air_time','taxi_in','crs_elapsed_time','arr_delay']]\n",
    "dummies = pd.get_dummies(flights[['dest','mkt_unique_carrier','crs_arr_hour','month']],drop_first=True)\n"
   ]
  },
  {
   "cell_type": "code",
   "execution_count": 164,
   "metadata": {},
   "outputs": [],
   "source": [
    "all_in_one = pd.concat([numeric,dummies],axis=1)"
   ]
  },
  {
   "cell_type": "code",
   "execution_count": 167,
   "metadata": {},
   "outputs": [],
   "source": [
    "X = all_in_one.loc[:,all_in_one.columns!='arr_delay']\n",
    "y = all_in_one[['air_time']]"
   ]
  },
  {
   "cell_type": "code",
   "execution_count": 169,
   "metadata": {},
   "outputs": [],
   "source": [
    "X_test,X_train,y_test,y_train = train_test_split(X,y,test_size=0.3,random_state=123)"
   ]
  },
  {
   "cell_type": "code",
   "execution_count": 171,
   "metadata": {},
   "outputs": [],
   "source": [
    "#normalize test train\n",
    "min_max = MinMaxScaler()\n",
    "\n",
    "cols_train = X_train.columns\n",
    "values_train = X_train.values\n",
    "values_train_norm = min_max.fit_transform(values_train)\n",
    "X_train = pd.DataFrame(values_train_norm,columns=cols_train)\n",
    "\n",
    "cols_test = X_test.columns\n",
    "values_test = X_test.values\n",
    "values_test_norm = min_max.fit_transform(values_test)\n",
    "X_test = pd.DataFrame(values_test_norm,columns=cols_test)"
   ]
  },
  {
   "cell_type": "code",
   "execution_count": 179,
   "metadata": {},
   "outputs": [],
   "source": [
    "xg_reg = xgb.XGBRegressor(objective ='reg:squarederror', colsample_bytree = 0.3, learning_rate = 0.1,\n",
    "                max_depth = 10, alpha = 10, n_estimators = 50)\n",
    "\n",
    "xg_reg.fit(X_train,y_train)\n",
    "filname = 'XGBRegressor'\n"
   ]
  },
  {
   "cell_type": "code",
   "execution_count": 181,
   "metadata": {},
   "outputs": [],
   "source": [
    "y_pred = xg_reg.predict(X_test)"
   ]
  },
  {
   "cell_type": "code",
   "execution_count": 184,
   "metadata": {},
   "outputs": [
    {
     "data": {
      "text/plain": [
       "array([159.12666 , 107.743355,  96.190605, ..., 116.23766 , 132.98116 ,\n",
       "        34.34118 ], dtype=float32)"
      ]
     },
     "execution_count": 184,
     "metadata": {},
     "output_type": "execute_result"
    }
   ],
   "source": [
    "y_pred"
   ]
  },
  {
   "cell_type": "code",
   "execution_count": 197,
   "metadata": {},
   "outputs": [
    {
     "name": "stdout",
     "output_type": "stream",
     "text": [
      "rmse:  11.148654921132634\n",
      "r2_score: 0.976721787425578\n"
     ]
    }
   ],
   "source": [
    "rmse = np.sqrt(mean_squared_error(y_test,y_pred))\n",
    "r2 = r2_score(y_test,y_pred)\n",
    "\n",
    "print('rmse: ',rmse)\n",
    "print('r2_score:', r2)"
   ]
  }
 ],
 "metadata": {
  "kernelspec": {
   "display_name": "bootcamp",
   "language": "python",
   "name": "bootcamp"
  },
  "language_info": {
   "codemirror_mode": {
    "name": "ipython",
    "version": 3
   },
   "file_extension": ".py",
   "mimetype": "text/x-python",
   "name": "python",
   "nbconvert_exporter": "python",
   "pygments_lexer": "ipython3",
   "version": "3.8.5"
  }
 },
 "nbformat": 4,
 "nbformat_minor": 4
}
