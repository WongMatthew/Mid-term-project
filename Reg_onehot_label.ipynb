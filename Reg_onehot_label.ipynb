{
 "cells": [
  {
   "cell_type": "code",
   "execution_count": 25,
   "metadata": {},
   "outputs": [],
   "source": [
    "import pandas as pd\n",
    "pd.options.mode.chained_assignment = None  # default='warn'\n",
    "\n",
    "import numpy as np\n",
    "from sklearn.model_selection import train_test_split\n",
    "from sklearn.linear_model import Ridge\n",
    "#from sklearn.model_selection import StratifiedKFold\n",
    "#from sklearn.model_selection import cross_validate\n",
    "from sklearn.model_selection import GridSearchCV\n",
    "from sklearn.metrics import mean_squared_error\n",
    "from sklearn.metrics import r2_score\n",
    "from sklearn import preprocessing\n",
    "from sklearn.preprocessing import PolynomialFeatures\n",
    "import calendar\n"
   ]
  },
  {
   "cell_type": "code",
   "execution_count": 26,
   "metadata": {},
   "outputs": [],
   "source": [
    "df = pd.read_csv('data/flights_no_outlier_iqr_time.csv').drop(columns=['Unnamed: 0'])\n",
    "df['fl_date'] = pd.to_datetime(df['fl_date'],format='%Y-%m-%d')\n",
    "df['dep_time_format'] = pd.to_datetime(df['dep_time_format'],format='%H:%M:%S').dt.time\n",
    "df['arrival_time_format'] = pd.to_datetime(df['arrival_time_format'],format='%H:%M:%S').dt.time\n",
    "df = df.sort_values(by='fl_date')\n",
    "df['month'] = pd.DatetimeIndex(df['fl_date']).month"
   ]
  },
  {
   "cell_type": "code",
   "execution_count": 27,
   "metadata": {},
   "outputs": [],
   "source": [
    "#dropping the useless columns\n",
    "df_filtered = df[['mkt_unique_carrier','distance','air_time','actual_elapsed_time',\n",
    "                'taxi_in','taxi_out','arr_delay','origin','dest','dep_time_format','arrival_time_format','month']]"
   ]
  },
  {
   "cell_type": "markdown",
   "metadata": {},
   "source": [
    "### Trying label encoding"
   ]
  },
  {
   "cell_type": "code",
   "execution_count": 28,
   "metadata": {},
   "outputs": [],
   "source": [
    "#categorizing the time\n",
    "def time_categorize(row):\n",
    "    if (row.hour >= 00) and (row.hour<7):\n",
    "        row = 1\n",
    "    elif (row.hour >=7) and (row.hour <14):\n",
    "        row = 10\n",
    "    else:\n",
    "        row=2   \n",
    "    return row"
   ]
  },
  {
   "cell_type": "code",
   "execution_count": 29,
   "metadata": {},
   "outputs": [],
   "source": [
    "df_filtered['dep_time_format'] = df_filtered['dep_time_format'].apply(time_categorize)\n",
    "df_filtered['arrival_time_format']= df_filtered['arrival_time_format'].apply(time_categorize)"
   ]
  },
  {
   "cell_type": "code",
   "execution_count": 30,
   "metadata": {},
   "outputs": [],
   "source": [
    "#labeling the categorical data\n",
    "label_encoder = preprocessing.LabelEncoder()\n",
    "enc_cols = ['mkt_unique_carrier','origin','dest','dep_time_format','arrival_time_format']\n",
    "for col in enc_cols:\n",
    "    df_filtered[col] = label_encoder.fit_transform(df_filtered[col].astype(str))\n"
   ]
  },
  {
   "cell_type": "code",
   "execution_count": 31,
   "metadata": {},
   "outputs": [],
   "source": [
    "X = df_filtered.loc[:, df_filtered.columns != 'arr_delay']\n",
    "y = df_filtered[['arr_delay']]"
   ]
  },
  {
   "cell_type": "markdown",
   "metadata": {},
   "source": [
    "### Grabbing X and y"
   ]
  },
  {
   "cell_type": "code",
   "execution_count": 32,
   "metadata": {},
   "outputs": [],
   "source": [
    "#splitting to train and test\n",
    "X_train, X_test, y_train, y_test = train_test_split(X, y,test_size=0.3,random_state=123)"
   ]
  },
  {
   "cell_type": "code",
   "execution_count": 33,
   "metadata": {},
   "outputs": [],
   "source": [
    "indep_dep = pd.concat([X_train,y_train],axis=1)\n",
    "indep_dep_test = pd.concat([X_test,y_test],axis=1)"
   ]
  },
  {
   "cell_type": "code",
   "execution_count": 34,
   "metadata": {},
   "outputs": [
    {
     "data": {
      "text/html": [
       "<div>\n",
       "<style scoped>\n",
       "    .dataframe tbody tr th:only-of-type {\n",
       "        vertical-align: middle;\n",
       "    }\n",
       "\n",
       "    .dataframe tbody tr th {\n",
       "        vertical-align: top;\n",
       "    }\n",
       "\n",
       "    .dataframe thead th {\n",
       "        text-align: right;\n",
       "    }\n",
       "</style>\n",
       "<table border=\"1\" class=\"dataframe\">\n",
       "  <thead>\n",
       "    <tr style=\"text-align: right;\">\n",
       "      <th></th>\n",
       "      <th>mkt_unique_carrier</th>\n",
       "      <th>distance</th>\n",
       "      <th>air_time</th>\n",
       "      <th>actual_elapsed_time</th>\n",
       "      <th>taxi_in</th>\n",
       "      <th>taxi_out</th>\n",
       "      <th>origin</th>\n",
       "      <th>dest</th>\n",
       "      <th>dep_time_format</th>\n",
       "      <th>arrival_time_format</th>\n",
       "      <th>month</th>\n",
       "      <th>arr_delay</th>\n",
       "    </tr>\n",
       "  </thead>\n",
       "  <tbody>\n",
       "    <tr>\n",
       "      <th>42279</th>\n",
       "      <td>7</td>\n",
       "      <td>787</td>\n",
       "      <td>114.0</td>\n",
       "      <td>133.0</td>\n",
       "      <td>8.0</td>\n",
       "      <td>11.0</td>\n",
       "      <td>218</td>\n",
       "      <td>58</td>\n",
       "      <td>2</td>\n",
       "      <td>2</td>\n",
       "      <td>3</td>\n",
       "      <td>-12.0</td>\n",
       "    </tr>\n",
       "    <tr>\n",
       "      <th>153017</th>\n",
       "      <td>10</td>\n",
       "      <td>405</td>\n",
       "      <td>65.0</td>\n",
       "      <td>79.0</td>\n",
       "      <td>4.0</td>\n",
       "      <td>10.0</td>\n",
       "      <td>217</td>\n",
       "      <td>219</td>\n",
       "      <td>1</td>\n",
       "      <td>1</td>\n",
       "      <td>10</td>\n",
       "      <td>-5.0</td>\n",
       "    </tr>\n",
       "    <tr>\n",
       "      <th>103628</th>\n",
       "      <td>0</td>\n",
       "      <td>526</td>\n",
       "      <td>79.0</td>\n",
       "      <td>104.0</td>\n",
       "      <td>6.0</td>\n",
       "      <td>19.0</td>\n",
       "      <td>73</td>\n",
       "      <td>235</td>\n",
       "      <td>1</td>\n",
       "      <td>1</td>\n",
       "      <td>6</td>\n",
       "      <td>-18.0</td>\n",
       "    </tr>\n",
       "    <tr>\n",
       "      <th>14253</th>\n",
       "      <td>8</td>\n",
       "      <td>605</td>\n",
       "      <td>92.0</td>\n",
       "      <td>132.0</td>\n",
       "      <td>6.0</td>\n",
       "      <td>34.0</td>\n",
       "      <td>118</td>\n",
       "      <td>143</td>\n",
       "      <td>1</td>\n",
       "      <td>1</td>\n",
       "      <td>11</td>\n",
       "      <td>20.0</td>\n",
       "    </tr>\n",
       "    <tr>\n",
       "      <th>10476</th>\n",
       "      <td>5</td>\n",
       "      <td>1142</td>\n",
       "      <td>173.0</td>\n",
       "      <td>196.0</td>\n",
       "      <td>6.0</td>\n",
       "      <td>17.0</td>\n",
       "      <td>251</td>\n",
       "      <td>320</td>\n",
       "      <td>2</td>\n",
       "      <td>2</td>\n",
       "      <td>1</td>\n",
       "      <td>-2.0</td>\n",
       "    </tr>\n",
       "    <tr>\n",
       "      <th>...</th>\n",
       "      <td>...</td>\n",
       "      <td>...</td>\n",
       "      <td>...</td>\n",
       "      <td>...</td>\n",
       "      <td>...</td>\n",
       "      <td>...</td>\n",
       "      <td>...</td>\n",
       "      <td>...</td>\n",
       "      <td>...</td>\n",
       "      <td>...</td>\n",
       "      <td>...</td>\n",
       "      <td>...</td>\n",
       "    </tr>\n",
       "    <tr>\n",
       "      <th>62057</th>\n",
       "      <td>4</td>\n",
       "      <td>444</td>\n",
       "      <td>68.0</td>\n",
       "      <td>101.0</td>\n",
       "      <td>5.0</td>\n",
       "      <td>28.0</td>\n",
       "      <td>24</td>\n",
       "      <td>242</td>\n",
       "      <td>2</td>\n",
       "      <td>2</td>\n",
       "      <td>7</td>\n",
       "      <td>7.0</td>\n",
       "    </tr>\n",
       "    <tr>\n",
       "      <th>21966</th>\n",
       "      <td>8</td>\n",
       "      <td>316</td>\n",
       "      <td>43.0</td>\n",
       "      <td>69.0</td>\n",
       "      <td>5.0</td>\n",
       "      <td>21.0</td>\n",
       "      <td>256</td>\n",
       "      <td>71</td>\n",
       "      <td>2</td>\n",
       "      <td>2</td>\n",
       "      <td>2</td>\n",
       "      <td>-15.0</td>\n",
       "    </tr>\n",
       "    <tr>\n",
       "      <th>184740</th>\n",
       "      <td>8</td>\n",
       "      <td>1754</td>\n",
       "      <td>263.0</td>\n",
       "      <td>291.0</td>\n",
       "      <td>10.0</td>\n",
       "      <td>18.0</td>\n",
       "      <td>46</td>\n",
       "      <td>93</td>\n",
       "      <td>2</td>\n",
       "      <td>2</td>\n",
       "      <td>3</td>\n",
       "      <td>-1.0</td>\n",
       "    </tr>\n",
       "    <tr>\n",
       "      <th>227103</th>\n",
       "      <td>3</td>\n",
       "      <td>226</td>\n",
       "      <td>45.0</td>\n",
       "      <td>81.0</td>\n",
       "      <td>12.0</td>\n",
       "      <td>24.0</td>\n",
       "      <td>73</td>\n",
       "      <td>21</td>\n",
       "      <td>2</td>\n",
       "      <td>2</td>\n",
       "      <td>2</td>\n",
       "      <td>-7.0</td>\n",
       "    </tr>\n",
       "    <tr>\n",
       "      <th>31562</th>\n",
       "      <td>10</td>\n",
       "      <td>488</td>\n",
       "      <td>67.0</td>\n",
       "      <td>79.0</td>\n",
       "      <td>4.0</td>\n",
       "      <td>8.0</td>\n",
       "      <td>243</td>\n",
       "      <td>351</td>\n",
       "      <td>2</td>\n",
       "      <td>2</td>\n",
       "      <td>12</td>\n",
       "      <td>-2.0</td>\n",
       "    </tr>\n",
       "  </tbody>\n",
       "</table>\n",
       "<p>178609 rows × 12 columns</p>\n",
       "</div>"
      ],
      "text/plain": [
       "        mkt_unique_carrier  distance  air_time  actual_elapsed_time  taxi_in  \\\n",
       "42279                    7       787     114.0                133.0      8.0   \n",
       "153017                  10       405      65.0                 79.0      4.0   \n",
       "103628                   0       526      79.0                104.0      6.0   \n",
       "14253                    8       605      92.0                132.0      6.0   \n",
       "10476                    5      1142     173.0                196.0      6.0   \n",
       "...                    ...       ...       ...                  ...      ...   \n",
       "62057                    4       444      68.0                101.0      5.0   \n",
       "21966                    8       316      43.0                 69.0      5.0   \n",
       "184740                   8      1754     263.0                291.0     10.0   \n",
       "227103                   3       226      45.0                 81.0     12.0   \n",
       "31562                   10       488      67.0                 79.0      4.0   \n",
       "\n",
       "        taxi_out  origin  dest  dep_time_format  arrival_time_format  month  \\\n",
       "42279       11.0     218    58                2                    2      3   \n",
       "153017      10.0     217   219                1                    1     10   \n",
       "103628      19.0      73   235                1                    1      6   \n",
       "14253       34.0     118   143                1                    1     11   \n",
       "10476       17.0     251   320                2                    2      1   \n",
       "...          ...     ...   ...              ...                  ...    ...   \n",
       "62057       28.0      24   242                2                    2      7   \n",
       "21966       21.0     256    71                2                    2      2   \n",
       "184740      18.0      46    93                2                    2      3   \n",
       "227103      24.0      73    21                2                    2      2   \n",
       "31562        8.0     243   351                2                    2     12   \n",
       "\n",
       "        arr_delay  \n",
       "42279       -12.0  \n",
       "153017       -5.0  \n",
       "103628      -18.0  \n",
       "14253        20.0  \n",
       "10476        -2.0  \n",
       "...           ...  \n",
       "62057         7.0  \n",
       "21966       -15.0  \n",
       "184740       -1.0  \n",
       "227103       -7.0  \n",
       "31562        -2.0  \n",
       "\n",
       "[178609 rows x 12 columns]"
      ]
     },
     "execution_count": 34,
     "metadata": {},
     "output_type": "execute_result"
    }
   ],
   "source": [
    "indep_dep"
   ]
  },
  {
   "cell_type": "code",
   "execution_count": 35,
   "metadata": {},
   "outputs": [],
   "source": [
    "#normalizing the train data\n",
    "cols_1 = indep_dep.columns\n",
    "x = indep_dep.values\n",
    "min_max = preprocessing.MinMaxScaler()\n",
    "x_scaled = min_max.fit_transform(x)\n",
    "indep_dep = pd.DataFrame(x_scaled,columns=cols_1)\n",
    "\n",
    "cols_2 = indep_dep_test.columns\n",
    "x_test = indep_dep_test.values\n",
    "x_test_scaled = min_max.fit_transform(x_test)\n",
    "indep_dep_test = pd.DataFrame(x_test_scaled,columns=cols_2)"
   ]
  },
  {
   "cell_type": "code",
   "execution_count": 195,
   "metadata": {},
   "outputs": [],
   "source": [
    "#splitting the X and y\n",
    "X_train = indep_dep.loc[:,indep_dep.columns!='arr_delay']\n",
    "y_train = indep_dep.arr_delay\n",
    "\n",
    "X_test = indep_dep_test.loc[:,indep_dep_test.columns!='arr_delay']\n",
    "y_test = indep_dep_test.arr_delay"
   ]
  },
  {
   "cell_type": "code",
   "execution_count": 196,
   "metadata": {},
   "outputs": [],
   "source": [
    "#defining the model: Ridge Regression\n",
    "rr = Ridge()\n",
    "\n",
    "#parameters to be tuned for ridge regression: alpha\n",
    "parameters = {'alpha':[0.01,0.1,0.5,1,5]}\n",
    "\n",
    "#Definning the GridSearch\n",
    "Ridge_tuned = GridSearchCV(rr,param_grid=parameters, scoring='r2', cv=10)"
   ]
  },
  {
   "cell_type": "code",
   "execution_count": 197,
   "metadata": {},
   "outputs": [
    {
     "name": "stdout",
     "output_type": "stream",
     "text": [
      "Ridge(alpha=0.01)\n"
     ]
    }
   ],
   "source": [
    "#training the model with train data\n",
    "Ridge_tuned.fit(X_train,y_train)\n",
    "print(Ridge_tuned.best_estimator_)"
   ]
  },
  {
   "cell_type": "code",
   "execution_count": 198,
   "metadata": {},
   "outputs": [],
   "source": [
    "y_pred = Ridge_tuned.best_estimator_.predict(X_test)"
   ]
  },
  {
   "cell_type": "code",
   "execution_count": 202,
   "metadata": {},
   "outputs": [
    {
     "name": "stdout",
     "output_type": "stream",
     "text": [
      "-0.33585007659148336\n",
      "0.06268452535108554\n"
     ]
    }
   ],
   "source": [
    "print(r2_score(y_test,y_pred))\n",
    "print(np.sqrt(mean_squared_error(y_test,y_pred)))"
   ]
  },
  {
   "cell_type": "markdown",
   "metadata": {},
   "source": [
    "### trying one hot encoding"
   ]
  },
  {
   "cell_type": "code",
   "execution_count": 4,
   "metadata": {},
   "outputs": [],
   "source": [
    "df_one = pd.read_csv('data/flights_no_outlier_iqr_time.csv').drop(columns=['Unnamed: 0'])\n",
    "df_one['fl_date'] = pd.to_datetime(df_one['fl_date'],format='%Y-%m-%d')\n",
    "df_one['dep_time_format'] = pd.to_datetime(df_one['dep_time_format'],format='%H:%M:%S').dt.time\n",
    "df_one['arrival_time_format'] = pd.to_datetime(df_one['arrival_time_format'],format='%H:%M:%S').dt.time\n",
    "df_one = df_one.sort_values(by='fl_date')\n",
    "df_one['month'] = pd.DatetimeIndex(df_one['fl_date']).month\n",
    "df_one['month'] = df_one['month'].apply(lambda x: calendar.month_abbr[x])"
   ]
  },
  {
   "cell_type": "code",
   "execution_count": 5,
   "metadata": {},
   "outputs": [],
   "source": [
    "#dropping the useless columns\n",
    "df_one_filt = df_one[['mkt_unique_carrier','distance','air_time','actual_elapsed_time',\n",
    "                'taxi_in','taxi_out','arr_delay','origin','dest','dep_time_format','arrival_time_format','month']]\n"
   ]
  },
  {
   "cell_type": "code",
   "execution_count": 8,
   "metadata": {},
   "outputs": [],
   "source": [
    "df_one_filt['dep_time_format'] = df_one_filt['dep_time_format'].apply(time_categorize)\n",
    "df_one_filt['arrival_time_format']= df_one_filt['arrival_time_format'].apply(time_categorize)"
   ]
  },
  {
   "cell_type": "code",
   "execution_count": 9,
   "metadata": {},
   "outputs": [],
   "source": [
    "dummies = pd.get_dummies(df_one_filt[['mkt_unique_carrier','origin','dest','month','dep_time_format','arrival_time_format']],drop_first=True)\n",
    "df_one_num = df_one[['distance','air_time','actual_elapsed_time',\n",
    "                'taxi_in','taxi_out','arr_delay']]\n",
    "indep_dep_var = pd.concat([df_one_num,dummies],axis=1)"
   ]
  },
  {
   "cell_type": "code",
   "execution_count": 10,
   "metadata": {},
   "outputs": [],
   "source": [
    "X_one = indep_dep_var.loc[:, indep_dep_var.columns != 'arr_delay']\n",
    "y_one = indep_dep_var[['arr_delay']]"
   ]
  },
  {
   "cell_type": "code",
   "execution_count": 11,
   "metadata": {},
   "outputs": [],
   "source": [
    "X_train_one, X_test_one, y_train_one, y_test_one = train_test_split(X_one, y_one,test_size=0.3,random_state=123)"
   ]
  },
  {
   "cell_type": "code",
   "execution_count": 12,
   "metadata": {},
   "outputs": [],
   "source": [
    "indep_dep_one = pd.concat([X_train_one,y_train_one],axis=1)\n",
    "indep_dep_test_one = pd.concat([X_test_one,y_test_one],axis=1)"
   ]
  },
  {
   "cell_type": "code",
   "execution_count": 13,
   "metadata": {},
   "outputs": [],
   "source": [
    "#normalizing the train data\n",
    "cols_1 = indep_dep_one.columns\n",
    "x = indep_dep_one.values\n",
    "min_max = preprocessing.MinMaxScaler()\n",
    "x_scaled = min_max.fit_transform(x)\n",
    "indep_dep_one = pd.DataFrame(x_scaled,columns=cols_1)\n",
    "\n",
    "cols_2 = indep_dep_test_one.columns\n",
    "x_test = indep_dep_test_one.values\n",
    "x_test_scaled = min_max.fit_transform(x_test)\n",
    "indep_dep_test_one = pd.DataFrame(x_test_scaled,columns=cols_2)"
   ]
  },
  {
   "cell_type": "code",
   "execution_count": 16,
   "metadata": {},
   "outputs": [],
   "source": [
    "X_train_one = indep_dep_one.loc[:,indep_dep_one.columns!='arr_delay']\n",
    "y_train_one = indep_dep_one.arr_delay"
   ]
  },
  {
   "cell_type": "code",
   "execution_count": 17,
   "metadata": {},
   "outputs": [],
   "source": [
    "X_test_one = indep_dep_test_one.loc[:,indep_dep_test_one.columns!='arr_delay']\n",
    "y_test_one = indep_dep_test_one.arr_delay"
   ]
  },
  {
   "cell_type": "code",
   "execution_count": 18,
   "metadata": {},
   "outputs": [],
   "source": [
    "#defining the model: Ridge Regression\n",
    "rr = Ridge()\n",
    "\n",
    "#parameters to be tuned for ridge regression: alpha\n",
    "parameters = {'alpha':[0.01,0.1,0.5,1,5]}\n",
    "\n",
    "#Definning the GridSearch\n",
    "Ridge_tuned = GridSearchCV(rr,param_grid=parameters, scoring='r2', cv=10)"
   ]
  },
  {
   "cell_type": "code",
   "execution_count": 19,
   "metadata": {},
   "outputs": [
    {
     "name": "stdout",
     "output_type": "stream",
     "text": [
      "Ridge(alpha=0.01)\n"
     ]
    }
   ],
   "source": [
    "Ridge_tuned.fit(X_train_one,y_train_one)\n",
    "print(Ridge_tuned.best_estimator_)"
   ]
  },
  {
   "cell_type": "code",
   "execution_count": 20,
   "metadata": {},
   "outputs": [],
   "source": [
    "y_pred = Ridge_tuned.best_estimator_.predict(X_test_one)"
   ]
  },
  {
   "cell_type": "code",
   "execution_count": 22,
   "metadata": {},
   "outputs": [
    {
     "name": "stdout",
     "output_type": "stream",
     "text": [
      "0.014887134793492351\n",
      "0.05383001208182276\n"
     ]
    }
   ],
   "source": [
    "print(r2_score(y_test_one,y_pred))\n",
    "print(np.sqrt(mean_squared_error(y_test_one,y_pred)))"
   ]
  },
  {
   "cell_type": "code",
   "execution_count": null,
   "metadata": {},
   "outputs": [],
   "source": []
  }
 ],
 "metadata": {
  "kernelspec": {
   "display_name": "bootcamp",
   "language": "python",
   "name": "bootcamp"
  },
  "language_info": {
   "codemirror_mode": {
    "name": "ipython",
    "version": 3
   },
   "file_extension": ".py",
   "mimetype": "text/x-python",
   "name": "python",
   "nbconvert_exporter": "python",
   "pygments_lexer": "ipython3",
   "version": "3.8.5"
  }
 },
 "nbformat": 4,
 "nbformat_minor": 4
}
