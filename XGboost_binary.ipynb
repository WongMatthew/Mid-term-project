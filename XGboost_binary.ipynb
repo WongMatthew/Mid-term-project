{
 "cells": [
  {
   "cell_type": "code",
   "execution_count": 32,
   "metadata": {},
   "outputs": [],
   "source": [
    "import pandas as pd\n",
    "import numpy as np\n",
    "pd.options.mode.chained_assignment = None \n",
    "from sklearn.metrics import roc_auc_score\n",
    "from sklearn.metrics import confusion_matrix\n",
    "from sklearn.metrics import accuracy_score\n",
    "import xgboost as xgb\n",
    "from sklearn.metrics import mean_squared_error\n",
    "from sklearn.model_selection import train_test_split\n",
    "import pickle\n",
    "import sklearn.metrics as metrics\n",
    "import imblearn\n",
    "from imblearn.over_sampling import SMOTE\n",
    "from collections import Counter\n",
    "import matplotlib.pyplot as pyplot\n",
    "from numpy import where"
   ]
  },
  {
   "cell_type": "code",
   "execution_count": 2,
   "metadata": {},
   "outputs": [],
   "source": [
    "#loading the filse\n",
    "flights = pd.read_csv('data/flights.csv')\n",
    "flights = flights[['fl_date','mkt_carrier','origin','dest'\n",
    "                  ,'taxi_out','taxi_in','cancelled','crs_elapsed_time','arr_delay']]\n",
    "\n",
    "#features and target\n",
    "X = flights.loc[:,flights.columns!='cancelled']\n",
    "y = flights[['cancelled']]"
   ]
  },
  {
   "cell_type": "code",
   "execution_count": 3,
   "metadata": {},
   "outputs": [],
   "source": [
    "#lets create year, month and day\n",
    "X['fl_date'] = pd.to_datetime(X['fl_date'],format='%Y-%m-%d')\n",
    "X['year'] = pd.DatetimeIndex(X['fl_date']).year\n",
    "X['month'] = pd.DatetimeIndex(X['fl_date']).month\n",
    "X['day'] = pd.DatetimeIndex(X['fl_date']).day"
   ]
  },
  {
   "cell_type": "code",
   "execution_count": 4,
   "metadata": {},
   "outputs": [],
   "source": [
    "X = X[['month','day','origin','dest','crs_elapsed_time']]"
   ]
  },
  {
   "cell_type": "code",
   "execution_count": 5,
   "metadata": {},
   "outputs": [],
   "source": [
    "X= pd.get_dummies(X,columns=['origin','dest'])"
   ]
  },
  {
   "cell_type": "code",
   "execution_count": 6,
   "metadata": {},
   "outputs": [
    {
     "name": "stdout",
     "output_type": "stream",
     "text": [
      "Ratio of Class 0 to Class 1: 60.72839506172839\n"
     ]
    }
   ],
   "source": [
    "#calculating the weights of class 0 to 1\n",
    "class_0 = y.loc[y['cancelled'] == 0].value_counts().values[0]\n",
    "class_1 = y.loc[y['cancelled'] == 1].value_counts().values[0]\n",
    "weight = class_0/class_1\n",
    "print('Ratio of Class 0 to Class 1:',weight)"
   ]
  },
  {
   "cell_type": "code",
   "execution_count": 7,
   "metadata": {},
   "outputs": [],
   "source": [
    "#Splitting into train test\n",
    "X_train, X_test, y_train, y_test = train_test_split(X, y, test_size=0.30, random_state=123)"
   ]
  },
  {
   "cell_type": "code",
   "execution_count": 38,
   "metadata": {},
   "outputs": [],
   "source": [
    "#giving the ratio as a weight to XGBClassifier\n",
    "model = xgb.XGBClassifier(scale_pos_weight=60.72)\n",
    "model.fit(X_train.values,y_train.values.reshape(1,-1)[0])\n",
    "filename = 'XGBoost_model.sav'\n",
    "pickle.dump(model, open(filename, 'wb'))"
   ]
  },
  {
   "cell_type": "code",
   "execution_count": 34,
   "metadata": {},
   "outputs": [
    {
     "name": "stdout",
     "output_type": "stream",
     "text": [
      "Roc_Auc Score: 0.6553020324612396\n",
      "accuracy score:  0.7326555555555555\n"
     ]
    }
   ],
   "source": [
    "y_pred = model.predict(X_test.values)\n",
    "print('Roc_Auc Score:',roc_auc_score(y_test,y_pred))\n",
    "print('accuracy score: ',accuracy_score(y_test,y_pred))\n",
    "arr = confusion_matrix(y_test,y_pred)"
   ]
  },
  {
   "cell_type": "code",
   "execution_count": 35,
   "metadata": {},
   "outputs": [
    {
     "data": {
      "image/png": "[encoded data removed]",
      "text/plain": [
       "<Figure size 432x288 with 1 Axes>"
      ]
     },
     "metadata": {
      "needs_background": "light"
     },
     "output_type": "display_data"
    }
   ],
   "source": [
    "# calculate the fpr and tpr for all thresholds of the classification\n",
    "probs = model.predict_proba(X_test)\n",
    "preds = probs[:,1]\n",
    "fpr, tpr, threshold = metrics.roc_curve(y_test, y_pred)\n",
    "roc_auc = metrics.auc(fpr, tpr)\n",
    "\n",
    "plt.title('Receiver Operating Characteristic')\n",
    "plt.plot(fpr, tpr, 'b', label = 'AUC = %0.2f' % roc_auc)\n",
    "plt.legend(loc = 'lower right')\n",
    "plt.plot([0, 1], [0, 1],'r--')\n",
    "plt.xlim([0, 1])\n",
    "plt.ylim([0, 1])\n",
    "plt.ylabel('True Positive Rate')\n",
    "plt.xlabel('False Positive Rate')\n",
    "plt.show()"
   ]
  }
 ],
 "metadata": {
  "kernelspec": {
   "display_name": "bootcamp",
   "language": "python",
   "name": "bootcamp"
  },
  "language_info": {
   "codemirror_mode": {
    "name": "ipython",
    "version": 3
   },
   "file_extension": ".py",
   "mimetype": "text/x-python",
   "name": "python",
   "nbconvert_exporter": "python",
   "pygments_lexer": "ipython3",
   "version": "3.8.5"
  }
 },
 "nbformat": 4,
 "nbformat_minor": 4
}
