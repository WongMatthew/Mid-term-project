{
 "cells": [
  {
   "cell_type": "code",
   "execution_count": 17,
   "metadata": {},
   "outputs": [],
   "source": [
    "import pandas as pd\n",
    "pd.options.mode.chained_assignment = None  # default='warn'\n",
    "import numpy as np\n",
    "from sklearn.model_selection import train_test_split\n",
    "from sklearn.linear_model import Ridge\n",
    "#from sklearn.model_selection import StratifiedKFold\n",
    "#from sklearn.model_selection import cross_validate\n",
    "from sklearn.model_selection import GridSearchCV\n",
    "from sklearn.metrics import mean_squared_error\n",
    "from sklearn.metrics import r2_score\n",
    "from sklearn import preprocessing\n",
    "from sklearn.preprocessing import PolynomialFeatures\n",
    "import calendar\n",
    "import xgboost as xgb\n",
    "from xgboost import plot_importance\n",
    "from sklearn.decomposition import PCA\n",
    "import joblib\n",
    "from sklearn.preprocessing import PolynomialFeatures\n",
    "from sklearn.model_selection import cross_val_score\n",
    "from sklearn.model_selection import KFold\n",
    "import pickle"
   ]
  },
  {
   "cell_type": "code",
   "execution_count": 18,
   "metadata": {},
   "outputs": [],
   "source": [
    "#Ridge_label\n",
    "ridge_label = open('Ridge_label_final.sav','rb')\n",
    "model_ridge = pickle.load(ridge_label)\n",
    "ridge_label.close()\n",
    "#Ridge onehot\n",
    "ridge_hot = open('Ridge_onehot_final.sav','rb')\n",
    "model_ridge_one = pickle.load(ridge_hot)\n",
    "ridge_hot.close()\n",
    "#XGBoost onehot\n",
    "xgb_hot = open('XGBoost_onehot_reg.sav','rb')\n",
    "model_xgb_one = pickle.load(xgb_hot)\n",
    "xgb_hot.close()"
   ]
  },
  {
   "cell_type": "code",
   "execution_count": null,
   "metadata": {},
   "outputs": [],
   "source": []
  },
  {
   "cell_type": "markdown",
   "metadata": {},
   "source": [
    "### LABEL ENCODED DATA"
   ]
  },
  {
   "cell_type": "code",
   "execution_count": 19,
   "metadata": {},
   "outputs": [],
   "source": [
    "#categorizing the time\n",
    "def time_categorize(row):\n",
    "    if (row.hour >= 00) and (row.hour<7):\n",
    "        row = 1\n",
    "    elif (row.hour >=7) and (row.hour <14):\n",
    "        row = 10\n",
    "    else:\n",
    "        row=2   \n",
    "    return row"
   ]
  },
  {
   "cell_type": "code",
   "execution_count": 20,
   "metadata": {},
   "outputs": [],
   "source": [
    "df = pd.read_csv('data/flights_no_outlier_iqr_time.csv').drop(columns=['Unnamed: 0'])\n",
    "df['fl_date'] = pd.to_datetime(df['fl_date'],format='%Y-%m-%d')\n",
    "df['dep_time_format'] = pd.to_datetime(df['dep_time_format'],format='%H:%M:%S').dt.time\n",
    "df['arrival_time_format'] = pd.to_datetime(df['arrival_time_format'],format='%H:%M:%S').dt.time\n",
    "df = df.sort_values(by='fl_date')\n",
    "df['month'] = pd.DatetimeIndex(df['fl_date']).month"
   ]
  },
  {
   "cell_type": "code",
   "execution_count": 21,
   "metadata": {},
   "outputs": [],
   "source": [
    "#dropping the useless columns\n",
    "df_filtered = df[['mkt_unique_carrier','distance','air_time','actual_elapsed_time',\n",
    "                'taxi_in','taxi_out','arr_delay','origin','dest','dep_time_format','arrival_time_format','month']]"
   ]
  },
  {
   "cell_type": "code",
   "execution_count": 22,
   "metadata": {},
   "outputs": [],
   "source": [
    "df_filtered['dep_time_format'] = df_filtered['dep_time_format'].apply(time_categorize)\n",
    "df_filtered['arrival_time_format']= df_filtered['arrival_time_format'].apply(time_categorize)"
   ]
  },
  {
   "cell_type": "code",
   "execution_count": 23,
   "metadata": {},
   "outputs": [],
   "source": [
    "#labeling the categorical data\n",
    "label_encoder = preprocessing.LabelEncoder()\n",
    "enc_cols = ['mkt_unique_carrier','origin','dest','dep_time_format','arrival_time_format']\n",
    "for col in enc_cols:\n",
    "    df_filtered[col] = label_encoder.fit_transform(df_filtered[col].astype(str))\n"
   ]
  },
  {
   "cell_type": "code",
   "execution_count": 24,
   "metadata": {},
   "outputs": [],
   "source": [
    "X = df_filtered.loc[:, df_filtered.columns != 'arr_delay']\n",
    "y = df_filtered[['arr_delay']]"
   ]
  },
  {
   "cell_type": "code",
   "execution_count": 25,
   "metadata": {},
   "outputs": [],
   "source": [
    "#splitting to train and test\n",
    "X_train, X_test, y_train, y_test = train_test_split(X, y,test_size=0.3,random_state=123)"
   ]
  },
  {
   "cell_type": "code",
   "execution_count": 26,
   "metadata": {},
   "outputs": [],
   "source": [
    "#normalizing the train data\n",
    "cols_1 = X_train.columns\n",
    "x = X_train.values\n",
    "min_max = preprocessing.MinMaxScaler()\n",
    "x_scaled = min_max.fit_transform(x)\n",
    "X_train = pd.DataFrame(x_scaled,columns=cols_1)\n",
    "\n",
    "cols_2 = X_test.columns\n",
    "x_test = X_test.values\n",
    "x_test_scaled = min_max.fit_transform(x_test)\n",
    "X_test = pd.DataFrame(x_test_scaled,columns=cols_2)"
   ]
  },
  {
   "cell_type": "code",
   "execution_count": 27,
   "metadata": {},
   "outputs": [
    {
     "name": "stdout",
     "output_type": "stream",
     "text": [
      "r2_score for label encoded, ridge regression with tunned hyper-parameters:  0.316503793717516\n",
      "root mean squared error for label encoded, ridge regression with tunned parameters:  12.554735496153507\n"
     ]
    }
   ],
   "source": [
    "y_pred_label = model_ridge.predict(X_test)\n",
    "print('r2_score for label encoded, ridge regression with tunned hyper-parameters: ',\n",
    "     r2_score(y_test,y_pred_label))\n",
    "\n",
    "print('root mean squared error for label encoded, ridge regression with tunned parameters: ',\n",
    "     (np.sqrt(mean_squared_error(y_test,y_pred_label))))"
   ]
  },
  {
   "cell_type": "markdown",
   "metadata": {},
   "source": [
    "### ONE HOT ENCODED"
   ]
  },
  {
   "cell_type": "code",
   "execution_count": 28,
   "metadata": {},
   "outputs": [],
   "source": [
    "df_one = pd.read_csv('data/flights_no_outlier_iqr_time.csv').drop(columns=['Unnamed: 0'])\n",
    "df_one['fl_date'] = pd.to_datetime(df_one['fl_date'],format='%Y-%m-%d')\n",
    "df_one['dep_time_format'] = pd.to_datetime(df_one['dep_time_format'],format='%H:%M:%S').dt.time\n",
    "df_one['arrival_time_format'] = pd.to_datetime(df_one['arrival_time_format'],format='%H:%M:%S').dt.time\n",
    "df_one = df_one.sort_values(by='fl_date')\n",
    "df_one['month'] = pd.DatetimeIndex(df_one['fl_date']).month\n",
    "df_one['month'] = df_one['month'].apply(lambda x: calendar.month_abbr[x])"
   ]
  },
  {
   "cell_type": "code",
   "execution_count": 29,
   "metadata": {},
   "outputs": [],
   "source": [
    "#dropping the useless columns\n",
    "df_one_filt = df_one[['mkt_unique_carrier','distance','air_time','actual_elapsed_time',\n",
    "                'taxi_in','taxi_out','arr_delay','origin','dest','dep_time_format','arrival_time_format','month']]"
   ]
  },
  {
   "cell_type": "code",
   "execution_count": 30,
   "metadata": {},
   "outputs": [],
   "source": [
    "df_one_filt['dep_time_format'] = df_one_filt['dep_time_format'].apply(time_categorize)\n",
    "df_one_filt['arrival_time_format']= df_one_filt['arrival_time_format'].apply(time_categorize)"
   ]
  },
  {
   "cell_type": "code",
   "execution_count": 31,
   "metadata": {},
   "outputs": [],
   "source": [
    "dummies = pd.get_dummies(df_one_filt[['mkt_unique_carrier','origin','dest','month','dep_time_format','arrival_time_format']],drop_first=True)\n",
    "df_one_num = df_one[['distance','air_time','actual_elapsed_time',\n",
    "                'taxi_in','taxi_out','arr_delay']]\n",
    "indep_dep_var = pd.concat([df_one_num,dummies],axis=1)"
   ]
  },
  {
   "cell_type": "code",
   "execution_count": 32,
   "metadata": {},
   "outputs": [],
   "source": [
    "X_one = indep_dep_var.loc[:, indep_dep_var.columns != 'arr_delay']\n",
    "y_one = indep_dep_var[['arr_delay']]"
   ]
  },
  {
   "cell_type": "code",
   "execution_count": 33,
   "metadata": {},
   "outputs": [],
   "source": [
    "X_train_one, X_test_one, y_train_one, y_test_one = train_test_split(X_one, y_one,test_size=0.3,random_state=123)"
   ]
  },
  {
   "cell_type": "code",
   "execution_count": 34,
   "metadata": {},
   "outputs": [],
   "source": [
    "#normalizing the train data\n",
    "cols_1 = X_train_one.columns\n",
    "x = X_train_one.values\n",
    "min_max = preprocessing.MinMaxScaler()\n",
    "x_scaled = min_max.fit_transform(x)\n",
    "X_train_one = pd.DataFrame(x_scaled,columns=cols_1)\n",
    "\n",
    "cols_2 = X_test_one.columns\n",
    "x_test = X_test_one.values\n",
    "x_test_scaled = min_max.fit_transform(x_test)\n",
    "X_test_one = pd.DataFrame(x_test_scaled,columns=cols_2)"
   ]
  },
  {
   "cell_type": "markdown",
   "metadata": {},
   "source": [
    "### RIDGE REG"
   ]
  },
  {
   "cell_type": "code",
   "execution_count": 35,
   "metadata": {},
   "outputs": [
    {
     "name": "stdout",
     "output_type": "stream",
     "text": [
      "r2_score for one-hot encoded, tunned hyperparameters: 0.3780990486872633\n",
      "root mean squared error for one-hot, ridge regression with tunned parameters:  11.97567837324488\n"
     ]
    }
   ],
   "source": [
    "y_ridge_one = model_ridge_one.predict(X_test_one)\n",
    "print('r2_score for one-hot encoded, tunned hyperparameters:',\n",
    "     r2_score(y_test_one,y_ridge_one))\n",
    "print('root mean squared error for one-hot, ridge regression with tunned parameters: ',\n",
    "     (np.sqrt(mean_squared_error(y_test_one,y_ridge_one))))"
   ]
  },
  {
   "cell_type": "markdown",
   "metadata": {},
   "source": [
    "### XGBOOST REG"
   ]
  },
  {
   "cell_type": "code",
   "execution_count": 36,
   "metadata": {},
   "outputs": [
    {
     "name": "stdout",
     "output_type": "stream",
     "text": [
      "r2_score for one-hot encoded, xgboost: 0.4253397455129371\n",
      "root mean squared error for one-hot, xgboost:  11.511849246006284\n"
     ]
    }
   ],
   "source": [
    "y_xg_one = model_xgb_one.predict(X_test_one)\n",
    "print('r2_score for one-hot encoded, xgboost:',\n",
    "     r2_score(y_test_one,y_xg_one))\n",
    "print('root mean squared error for one-hot, xgboost: ',\n",
    "     (np.sqrt(mean_squared_error(y_test_one,y_xg_one))))"
   ]
  },
  {
   "cell_type": "code",
   "execution_count": null,
   "metadata": {},
   "outputs": [],
   "source": []
  },
  {
   "cell_type": "code",
   "execution_count": null,
   "metadata": {},
   "outputs": [],
   "source": []
  },
  {
   "cell_type": "code",
   "execution_count": null,
   "metadata": {},
   "outputs": [],
   "source": []
  }
 ],
 "metadata": {
  "kernelspec": {
   "display_name": "bootcamp",
   "language": "python",
   "name": "bootcamp"
  },
  "language_info": {
   "codemirror_mode": {
    "name": "ipython",
    "version": 3
   },
   "file_extension": ".py",
   "mimetype": "text/x-python",
   "name": "python",
   "nbconvert_exporter": "python",
   "pygments_lexer": "ipython3",
   "version": "3.8.5"
  }
 },
 "nbformat": 4,
 "nbformat_minor": 4
}
