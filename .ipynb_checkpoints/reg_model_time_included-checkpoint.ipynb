{
 "cells": [
  {
   "cell_type": "code",
   "execution_count": 1,
   "metadata": {},
   "outputs": [],
   "source": [
    "import pandas as pd\n",
    "import numpy as np\n",
    "from sklearn.model_selection import train_test_split\n",
    "from sklearn.linear_model import Ridge\n",
    "#from sklearn.model_selection import StratifiedKFold\n",
    "#from sklearn.model_selection import cross_validate\n",
    "from sklearn.model_selection import GridSearchCV\n",
    "from sklearn.metrics import mean_squared_error\n",
    "from sklearn.metrics import r2_score\n",
    "from sklearn import preprocessing"
   ]
  },
  {
   "cell_type": "code",
   "execution_count": 2,
   "metadata": {},
   "outputs": [],
   "source": [
    "flights_reg = pd.read_csv('data/flights_no_outlier_iqr_time.csv').drop(columns=['Unnamed: 0'])\n",
    "flights_reg['fl_date'] = pd.to_datetime(flights_reg['fl_date'],format='%Y/%m/%d')\n",
    "#sorting the values by date\n",
    "#flights_sorted = flights_reg.sort_values(by='fl_date').reset_index().drop('index',axis=1)\n",
    "#dividing the data into data that we want to work and data that we want to predict\n",
    "flights_to_predict = flights_reg.loc[(flights_reg['fl_date'] <= '2019-12-31') & (flights_reg['fl_date'] >='2019-12-25')] #data to be predicted\n",
    "flights_reg = flights_reg[(flights_reg['fl_date'] < '2019-12-25')] #data that build our model upon"
   ]
  },
  {
   "cell_type": "code",
   "execution_count": 3,
   "metadata": {},
   "outputs": [],
   "source": [
    "flights_reg = flights_reg[['fl_date','distance','air_time','actual_elapsed_time','taxi_in',\n",
    "                                 'taxi_out','arr_delay','mkt_unique_carrier','origin','dest']]\n",
    "\n",
    "#We dont need the date for one hot encoding\n",
    "flights_date_dropped = flights_reg.drop(columns=['fl_date'])\n",
    "dummies = pd.get_dummies(flights_date_dropped[['mkt_unique_carrier','origin','dest']],drop_first=True)\n",
    "#flights_one_hot_encoded = pd.concat([flights_date_dropped, dummies], axis=1)\n",
    "#create a data frame that only contain numeric values so that we add the dumies with\n",
    "#and no target variable\n",
    "flights_numeric = flights_reg[['distance','air_time','actual_elapsed_time','taxi_in','taxi_out','arr_delay']]\n",
    "flights_indep_dep_var = pd.concat([flights_numeric,dummies],axis=1)"
   ]
  },
  {
   "cell_type": "code",
   "execution_count": 6,
   "metadata": {},
   "outputs": [],
   "source": [
    "#Normalizing Independt variables\n",
    "columns = flights_indep_dep_var.columns\n",
    "x = flights_indep_dep_var.values\n",
    "min_max_scaler = preprocessing.MinMaxScaler()\n",
    "x_scaled = min_max_scaler.fit_transform(x)\n",
    "flights_indep_dep_norm = pd.DataFrame(x_scaled, columns=columns)"
   ]
  },
  {
   "cell_type": "code",
   "execution_count": 7,
   "metadata": {},
   "outputs": [],
   "source": [
    "X_reg = flights_indep_dep_norm.loc[:, flights_indep_dep_norm.columns != 'arr_delay']\n",
    "y_reg = flights_indep_dep_norm.arr_delay"
   ]
  },
  {
   "cell_type": "code",
   "execution_count": 8,
   "metadata": {},
   "outputs": [],
   "source": [
    "#splitting into train and test\n",
    "X_reg_train, X_reg_test, y_reg_train, y_reg_test = train_test_split(X_reg,y_reg, test_size=0.30, random_state=123)\n",
    "\n",
    "#defining the model: Ridge Regression\n",
    "rr = Ridge()\n",
    "\n",
    "#parameters to be tuned for ridge regression: alpha\n",
    "parameters = {'alpha':[0.01,0.1,0.5,1,5]}\n",
    "\n",
    "#Definning the GridSearch\n",
    "Ridge_tuned = GridSearchCV(rr,param_grid=parameters, scoring='r2', cv=10)"
   ]
  },
  {
   "cell_type": "code",
   "execution_count": 9,
   "metadata": {},
   "outputs": [
    {
     "name": "stdout",
     "output_type": "stream",
     "text": [
      "Ridge(alpha=0.01)\n"
     ]
    }
   ],
   "source": [
    "#Fittin the model intor train data\n",
    "Ridge_tuned.fit(X_reg_train,y_reg_train)\n",
    "print(Ridge_tuned.best_estimator_)"
   ]
  },
  {
   "cell_type": "code",
   "execution_count": 10,
   "metadata": {},
   "outputs": [
    {
     "data": {
      "text/plain": [
       "Ridge(alpha=0.01)"
      ]
     },
     "execution_count": 10,
     "metadata": {},
     "output_type": "execute_result"
    }
   ],
   "source": [
    "#grabbing the best model from GridSearch\n",
    "best_model_ridge = Ridge_tuned.best_estimator_\n",
    "best_model_ridge.fit(X_reg_train,y_reg_train)"
   ]
  },
  {
   "cell_type": "code",
   "execution_count": 11,
   "metadata": {},
   "outputs": [
    {
     "name": "stdout",
     "output_type": "stream",
     "text": [
      "0.024852082464787578\n",
      "0.5595129422826639\n"
     ]
    }
   ],
   "source": [
    "y_predicted_ridge = best_model_ridge.predict(X_reg_test)\n",
    "print(np.sqrt(mean_squared_error(y_reg_test,y_predicted_ridge)))\n",
    "print(r2_score(y_reg_test,y_predicted_ridge))"
   ]
  },
  {
   "cell_type": "code",
   "execution_count": null,
   "metadata": {},
   "outputs": [],
   "source": []
  }
 ],
 "metadata": {
  "kernelspec": {
   "display_name": "bootcamp",
   "language": "python",
   "name": "bootcamp"
  },
  "language_info": {
   "codemirror_mode": {
    "name": "ipython",
    "version": 3
   },
   "file_extension": ".py",
   "mimetype": "text/x-python",
   "name": "python",
   "nbconvert_exporter": "python",
   "pygments_lexer": "ipython3",
   "version": "3.8.5"
  }
 },
 "nbformat": 4,
 "nbformat_minor": 4
}
