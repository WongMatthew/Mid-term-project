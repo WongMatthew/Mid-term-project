{
 "cells": [
  {
   "cell_type": "code",
   "execution_count": 5,
   "metadata": {},
   "outputs": [],
   "source": [
    "import pandas as pd\n",
    "import numpy as np\n",
    "import matplotlib.pyplot as plt\n",
    "import seaborn as sns\n",
    "from sklearn.preprocessing import LabelEncoder\n",
    "from sklearn.model_selection import train_test_split\n",
    "from sklearn import preprocessing\n",
    "import xgboost as xgb\n"
   ]
  },
  {
   "cell_type": "code",
   "execution_count": 6,
   "metadata": {},
   "outputs": [],
   "source": [
    "flights = pd.read_csv('data/flights_cleaned.csv').drop(columns=['Unnamed: 0'])"
   ]
  },
  {
   "cell_type": "code",
   "execution_count": 7,
   "metadata": {},
   "outputs": [],
   "source": [
    "def time_row(row):\n",
    "    row_int = int(row)\n",
    "    row_str = str(row_int)\n",
    "    len_row = len(row_str)\n",
    "    if len_row == 1:\n",
    "        minute = '0' + row_str\n",
    "        hour = '00'\n",
    "        row = hour + ':' + minute\n",
    "    if len_row == 2:\n",
    "        minute =  row_str[0] + row_str[1]\n",
    "        hour = '00'\n",
    "        row = hour + ':' + minute\n",
    "    if len_row == 3:\n",
    "        minute = row_str[1]+row_str[2]\n",
    "        hour = '0' + row_str[0]\n",
    "        row = hour + ':' + minute\n",
    "    elif len_row == 4:\n",
    "        minute = row_str[2] + row_str[3]\n",
    "        hour = row_str[0] + row_str[1]\n",
    "        row = hour + ':' + minute\n",
    "        if row == '24:00':\n",
    "            row = '23:59'\n",
    "    return str(row)"
   ]
  },
  {
   "cell_type": "code",
   "execution_count": 8,
   "metadata": {},
   "outputs": [],
   "source": [
    "flights['crs_dep_time'] = flights['crs_dep_time'].apply(time_row)\n",
    "flights['dep_time'] = flights['dep_time'].apply(time_row)\n",
    "flights['wheels_off'] = flights['wheels_off'].apply(time_row)\n",
    "flights['wheels_on'] = flights['wheels_on'].apply(time_row)\n",
    "flights['crs_arr_time'] = flights['crs_arr_time'].apply(time_row)\n",
    "flights['arr_time'] = flights['arr_time'].apply(time_row)"
   ]
  },
  {
   "cell_type": "code",
   "execution_count": 9,
   "metadata": {},
   "outputs": [],
   "source": [
    "#lets create year, month and day\n",
    "flights['fl_date'] = pd.to_datetime(flights['fl_date'],format='%Y-%m-%d')\n",
    "flights['year'] = pd.DatetimeIndex(flights['fl_date']).year\n",
    "flights['month'] = pd.DatetimeIndex(flights['fl_date']).month\n",
    "flights['day'] = pd.DatetimeIndex(flights['fl_date']).day"
   ]
  },
  {
   "cell_type": "code",
   "execution_count": null,
   "metadata": {},
   "outputs": [],
   "source": []
  },
  {
   "cell_type": "code",
   "execution_count": 11,
   "metadata": {},
   "outputs": [],
   "source": [
    "#lets change the time columns format to time\n",
    "flights['crs_dep_time'] = pd.to_datetime(flights['crs_dep_time'],format=\"%H:%M\").dt.time\n",
    "flights['dep_time'] = pd.to_datetime(flights['dep_time'],format=\"%H:%M\").dt.time\n",
    "flights['wheels_off'] = pd.to_datetime(flights['wheels_off'],format=\"%H:%M\").dt.time\n",
    "flights['wheels_on'] = pd.to_datetime(flights['wheels_on'],format=\"%H:%M\").dt.time\n",
    "flights['crs_arr_time'] = pd.to_datetime(flights['crs_arr_time'],format='%H:%M').dt.time\n",
    "flights['arr_time'] = pd.to_datetime(flights['arr_time'],format=\"%H:%M\").dt.time"
   ]
  },
  {
   "cell_type": "code",
   "execution_count": 12,
   "metadata": {},
   "outputs": [
    {
     "data": {
      "image/png": "[encoded data removed]",
      "text/plain": [
       "<Figure size 432x288 with 1 Axes>"
      ]
     },
     "metadata": {
      "needs_background": "light"
     },
     "output_type": "display_data"
    }
   ],
   "source": [
    "#just visualizing day and departure delay\n",
    "ax = sns.barplot(x=\"day\", y=\"arr_delay\", data=flights, palette=\"husl\", ci=None)"
   ]
  },
  {
   "cell_type": "code",
   "execution_count": 13,
   "metadata": {},
   "outputs": [
    {
     "name": "stdout",
     "output_type": "stream",
     "text": [
      "Ontime:  1.9177616481667203\n",
      "Small delay:  81.2415645344983\n",
      "Large delay:  6.699076985840318\n"
     ]
    }
   ],
   "source": [
    "#Calculating different types of delay\n",
    "\n",
    "total = flights['mkt_unique_carrier'].count()\n",
    "ontime = flights[flights['arr_delay'] == 0]['mkt_unique_carrier'].count()\n",
    "ontime_percent = ontime/total*100\n",
    "print('Ontime: ',ontime_percent)\n",
    "\n",
    "small_delay = flights[flights['arr_delay'] <= 15]['mkt_unique_carrier'].count()\n",
    "small_percent = small_delay/total*100\n",
    "print('Small delay: ', small_percent)\n",
    "\n",
    "\n",
    "large = flights[flights['arr_delay'] >= 60]['mkt_unique_carrier'].count()\n",
    "large_percent = large/total*100\n",
    "print('Large delay: ', large_percent)"
   ]
  },
  {
   "cell_type": "code",
   "execution_count": 14,
   "metadata": {},
   "outputs": [],
   "source": [
    "#dropping the large delays, they seem to be outlier\n",
    "flights = flights[flights['dep_delay'] <= 15]"
   ]
  },
  {
   "cell_type": "markdown",
   "metadata": {},
   "source": [
    "### Feature Engineering"
   ]
  },
  {
   "cell_type": "code",
   "execution_count": 15,
   "metadata": {},
   "outputs": [],
   "source": [
    "def time_to_sec(row):\n",
    "    return (row.hour*3600+row.minute*60)"
   ]
  },
  {
   "cell_type": "code",
   "execution_count": 16,
   "metadata": {},
   "outputs": [],
   "source": [
    "#TAKING THE DEPARTURE TIME\n",
    "flights['crs_hour'] = flights['crs_arr_time'].apply(time_to_sec)\n",
    "flights['crs_arr_hour'] = flights['crs_arr_time'].apply(lambda x:x.hour)"
   ]
  },
  {
   "cell_type": "code",
   "execution_count": 17,
   "metadata": {},
   "outputs": [],
   "source": [
    "#lets encode airline and origin city\n",
    "flights = flights[['mkt_unique_carrier','dest','crs_arr_time','crs_hour','arr_delay','crs_arr_hour']]\n",
    "label = LabelEncoder()\n",
    "flights['mkt_unique_carrier'] = label.fit_transform(flights['mkt_unique_carrier'])\n",
    "flights['dest'] = label.fit_transform(flights['dest'])"
   ]
  },
  {
   "cell_type": "code",
   "execution_count": 18,
   "metadata": {},
   "outputs": [],
   "source": [
    "features = ['mkt_unique_carrier','dest','crs_arr_hour']\n",
    "X = flights[features]\n",
    "y = flights['arr_delay']"
   ]
  },
  {
   "cell_type": "code",
   "execution_count": 58,
   "metadata": {},
   "outputs": [],
   "source": [
    "X_train, X_test, y_train, y_test = train_test_split(X,y, test_size=0.3,random_state=123)"
   ]
  },
  {
   "cell_type": "code",
   "execution_count": 59,
   "metadata": {},
   "outputs": [],
   "source": [
    "# #instantiating the labelencoder\n",
    "min_max = preprocessing.MinMaxScaler()\n",
    "x = X_train.values\n",
    "cols = X_train.columns\n",
    "x_scaled = min_max.fit_transform(x)\n",
    "X_train = pd.DataFrame(x_scaled,columns=cols)\n",
    "\n",
    "x_test = X_test.values\n",
    "cols = X_test.columns\n",
    "x_test_scaled = min_max.fit_transform(x_test)\n",
    "X_test= pd.DataFrame(x_test_scaled,columns=cols)\n",
    "# # #Merge test data to normalize\n",
    "# test_merged = pd.concat([X_test,y_test],axis=1)\n",
    "# cols_test = test_merged.columns\n",
    "# values_of_test = test_merged.values\n",
    "# values_of_test_scaled=min_max.fit_transform(values_of_test)\n",
    "# test_merged = pd.DataFrame(values_of_test_scaled,columns=cols_test)"
   ]
  },
  {
   "cell_type": "code",
   "execution_count": 60,
   "metadata": {},
   "outputs": [],
   "source": [
    "# # #dividing back into X and y\n",
    "\n",
    "# X_train = train_merged.loc[:,train_merged.columns!='arr_delay']\n",
    "# y_train = train_merged[['arr_delay']]\n",
    "\n",
    "# X_test = test_merged.loc[:,test_merged.columns!='arr_delay']\n",
    "# y_test = test_merged[['arr_delay']]"
   ]
  },
  {
   "cell_type": "code",
   "execution_count": 61,
   "metadata": {},
   "outputs": [
    {
     "data": {
      "text/html": [
       "<div>\n",
       "<style scoped>\n",
       "    .dataframe tbody tr th:only-of-type {\n",
       "        vertical-align: middle;\n",
       "    }\n",
       "\n",
       "    .dataframe tbody tr th {\n",
       "        vertical-align: top;\n",
       "    }\n",
       "\n",
       "    .dataframe thead th {\n",
       "        text-align: right;\n",
       "    }\n",
       "</style>\n",
       "<table border=\"1\" class=\"dataframe\">\n",
       "  <thead>\n",
       "    <tr style=\"text-align: right;\">\n",
       "      <th></th>\n",
       "      <th>mkt_unique_carrier</th>\n",
       "      <th>dest</th>\n",
       "      <th>crs_arr_hour</th>\n",
       "    </tr>\n",
       "  </thead>\n",
       "  <tbody>\n",
       "    <tr>\n",
       "      <th>0</th>\n",
       "      <td>0.1</td>\n",
       "      <td>0.879032</td>\n",
       "      <td>0.782609</td>\n",
       "    </tr>\n",
       "    <tr>\n",
       "      <th>1</th>\n",
       "      <td>0.1</td>\n",
       "      <td>0.857527</td>\n",
       "      <td>0.826087</td>\n",
       "    </tr>\n",
       "    <tr>\n",
       "      <th>2</th>\n",
       "      <td>0.3</td>\n",
       "      <td>0.274194</td>\n",
       "      <td>0.782609</td>\n",
       "    </tr>\n",
       "    <tr>\n",
       "      <th>3</th>\n",
       "      <td>0.4</td>\n",
       "      <td>0.583333</td>\n",
       "      <td>0.695652</td>\n",
       "    </tr>\n",
       "    <tr>\n",
       "      <th>4</th>\n",
       "      <td>0.8</td>\n",
       "      <td>0.250000</td>\n",
       "      <td>0.521739</td>\n",
       "    </tr>\n",
       "    <tr>\n",
       "      <th>...</th>\n",
       "      <td>...</td>\n",
       "      <td>...</td>\n",
       "      <td>...</td>\n",
       "    </tr>\n",
       "    <tr>\n",
       "      <th>72335</th>\n",
       "      <td>0.2</td>\n",
       "      <td>0.491935</td>\n",
       "      <td>0.608696</td>\n",
       "    </tr>\n",
       "    <tr>\n",
       "      <th>72336</th>\n",
       "      <td>1.0</td>\n",
       "      <td>0.612903</td>\n",
       "      <td>0.391304</td>\n",
       "    </tr>\n",
       "    <tr>\n",
       "      <th>72337</th>\n",
       "      <td>0.0</td>\n",
       "      <td>0.491935</td>\n",
       "      <td>0.565217</td>\n",
       "    </tr>\n",
       "    <tr>\n",
       "      <th>72338</th>\n",
       "      <td>0.4</td>\n",
       "      <td>0.250000</td>\n",
       "      <td>0.260870</td>\n",
       "    </tr>\n",
       "    <tr>\n",
       "      <th>72339</th>\n",
       "      <td>1.0</td>\n",
       "      <td>0.056452</td>\n",
       "      <td>0.956522</td>\n",
       "    </tr>\n",
       "  </tbody>\n",
       "</table>\n",
       "<p>72340 rows × 3 columns</p>\n",
       "</div>"
      ],
      "text/plain": [
       "       mkt_unique_carrier      dest  crs_arr_hour\n",
       "0                     0.1  0.879032      0.782609\n",
       "1                     0.1  0.857527      0.826087\n",
       "2                     0.3  0.274194      0.782609\n",
       "3                     0.4  0.583333      0.695652\n",
       "4                     0.8  0.250000      0.521739\n",
       "...                   ...       ...           ...\n",
       "72335                 0.2  0.491935      0.608696\n",
       "72336                 1.0  0.612903      0.391304\n",
       "72337                 0.0  0.491935      0.565217\n",
       "72338                 0.4  0.250000      0.260870\n",
       "72339                 1.0  0.056452      0.956522\n",
       "\n",
       "[72340 rows x 3 columns]"
      ]
     },
     "execution_count": 61,
     "metadata": {},
     "output_type": "execute_result"
    }
   ],
   "source": [
    "X_test"
   ]
  },
  {
   "cell_type": "markdown",
   "metadata": {},
   "source": [
    "## Linear Regression"
   ]
  },
  {
   "cell_type": "code",
   "execution_count": 62,
   "metadata": {},
   "outputs": [],
   "source": [
    "from sklearn.linear_model import Ridge\n",
    "from sklearn.preprocessing import PolynomialFeatures\n",
    "from sklearn.metrics import r2_score"
   ]
  },
  {
   "cell_type": "code",
   "execution_count": 63,
   "metadata": {},
   "outputs": [
    {
     "data": {
      "text/plain": [
       "Ridge(alpha=0.0001)"
      ]
     },
     "execution_count": 63,
     "metadata": {},
     "output_type": "execute_result"
    }
   ],
   "source": [
    "ridgereg = Ridge(alpha=0.0001)\n",
    "poly = PolynomialFeatures(degree=5)\n",
    "X_ = poly.fit_transform(X_train)\n",
    "ridgereg.fit(X_,y_train)"
   ]
  },
  {
   "cell_type": "code",
   "execution_count": 64,
   "metadata": {},
   "outputs": [],
   "source": [
    "X_=poly.fit_transform(X_test)\n",
    "results = ridgereg.predict(X_)"
   ]
  },
  {
   "cell_type": "code",
   "execution_count": 65,
   "metadata": {},
   "outputs": [
    {
     "data": {
      "text/plain": [
       "0.010088192919661898"
      ]
     },
     "execution_count": 65,
     "metadata": {},
     "output_type": "execute_result"
    }
   ],
   "source": [
    "r2_score(y_test,results)"
   ]
  },
  {
   "cell_type": "markdown",
   "metadata": {},
   "source": [
    "### XGB Regression"
   ]
  },
  {
   "cell_type": "code",
   "execution_count": 66,
   "metadata": {},
   "outputs": [],
   "source": [
    "xg_reg = xgb.XGBRegressor(objective='reg:squarederror', colsample_bytree=0.3,\n",
    "                          learning_rate=0.1,\n",
    "                          max_depth=100,\n",
    "                          alpha=0.01,\n",
    "                          n_estimators = 10)"
   ]
  },
  {
   "cell_type": "code",
   "execution_count": 67,
   "metadata": {},
   "outputs": [
    {
     "data": {
      "text/plain": [
       "XGBRegressor(alpha=0.01, base_score=0.5, booster='gbtree', colsample_bylevel=1,\n",
       "             colsample_bynode=1, colsample_bytree=0.3, gamma=0, gpu_id=-1,\n",
       "             importance_type='gain', interaction_constraints='',\n",
       "             learning_rate=0.1, max_delta_step=0, max_depth=100,\n",
       "             min_child_weight=1, missing=nan, monotone_constraints='()',\n",
       "             n_estimators=10, n_jobs=0, num_parallel_tree=1, random_state=0,\n",
       "             reg_alpha=0.00999999978, reg_lambda=1, scale_pos_weight=1,\n",
       "             subsample=1, tree_method='exact', validate_parameters=1,\n",
       "             verbosity=None)"
      ]
     },
     "execution_count": 67,
     "metadata": {},
     "output_type": "execute_result"
    }
   ],
   "source": [
    "xg_reg.fit(X_train,y_train)"
   ]
  },
  {
   "cell_type": "code",
   "execution_count": 68,
   "metadata": {},
   "outputs": [],
   "source": [
    "preds = xg_reg.predict(X_test)"
   ]
  },
  {
   "cell_type": "code",
   "execution_count": 69,
   "metadata": {},
   "outputs": [
    {
     "data": {
      "text/plain": [
       "-0.036679658857052155"
      ]
     },
     "execution_count": 69,
     "metadata": {},
     "output_type": "execute_result"
    }
   ],
   "source": [
    "r2_score(y_test,preds)"
   ]
  },
  {
   "cell_type": "code",
   "execution_count": null,
   "metadata": {},
   "outputs": [],
   "source": []
  }
 ],
 "metadata": {
  "kernelspec": {
   "display_name": "bootcamp",
   "language": "python",
   "name": "bootcamp"
  },
  "language_info": {
   "codemirror_mode": {
    "name": "ipython",
    "version": 3
   },
   "file_extension": ".py",
   "mimetype": "text/x-python",
   "name": "python",
   "nbconvert_exporter": "python",
   "pygments_lexer": "ipython3",
   "version": "3.8.5"
  }
 },
 "nbformat": 4,
 "nbformat_minor": 4
}
