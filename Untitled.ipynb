{
 "cells": [
  {
   "cell_type": "code",
   "execution_count": 114,
   "metadata": {},
   "outputs": [],
   "source": [
    "import pandas as pd\n",
    "import numpy as np\n",
    "import matplotlib.pyplot as plt\n",
    "import seaborn as sns\n",
    "from sklearn.preprocessing import LabelEncoder\n",
    "from sklearn.model_selection import train_test_split\n",
    "from sklearn import preprocessing\n",
    "import xgboost as xgb\n",
    "from sklearn.preprocessing import MinMaxScaler\n",
    "from sklearn.metrics import mean_squared_error, r2_score\n",
    "import pickle"
   ]
  },
  {
   "cell_type": "code",
   "execution_count": 131,
   "metadata": {},
   "outputs": [],
   "source": [
    "reg = open('Ridge_regressor_final.sav','rb')\n",
    "ridge = pickle.load(reg)\n",
    "reg.close()"
   ]
  },
  {
   "cell_type": "code",
   "execution_count": 132,
   "metadata": {},
   "outputs": [],
   "source": [
    "flights_test = pd.read_csv('data/flights_test.csv')"
   ]
  },
  {
   "cell_type": "code",
   "execution_count": 133,
   "metadata": {},
   "outputs": [
    {
     "data": {
      "text/plain": [
       "'2020-01-05'"
      ]
     },
     "execution_count": 133,
     "metadata": {},
     "output_type": "execute_result"
    }
   ],
   "source": [
    "flights_test.fl_date[0][:10]"
   ]
  },
  {
   "cell_type": "code",
   "execution_count": 134,
   "metadata": {},
   "outputs": [],
   "source": [
    "#Create a function to remove the zeros from fl_date column\n",
    "def remove_zeors(row):\n",
    "    row = row[:10]\n",
    "    return row"
   ]
  },
  {
   "cell_type": "code",
   "execution_count": 135,
   "metadata": {},
   "outputs": [],
   "source": [
    "flights_test['fl_date'] = flights_test['fl_date'].apply(remove_zeors)\n",
    "flights_test['fl_date'] = pd.to_datetime(flights_test['fl_date'],format=\"%Y-%m-%d\")\n",
    "flights_test = flights_test.loc[(flights_test['fl_date'] >= '2020-01-01') & (flights_test['fl_date'] <='2020-01-07')]"
   ]
  },
  {
   "cell_type": "code",
   "execution_count": 136,
   "metadata": {},
   "outputs": [],
   "source": [
    "#we will concat this file to the predicted data\n",
    "flights_for_submission = flights_test[['fl_date','mkt_carrier','mkt_carrier_fl_num','origin','dest']]"
   ]
  },
  {
   "cell_type": "markdown",
   "metadata": {},
   "source": [
    "### Cleaning the data for the model"
   ]
  },
  {
   "cell_type": "code",
   "execution_count": 137,
   "metadata": {},
   "outputs": [],
   "source": [
    "def time_row(row):\n",
    "    row_int = int(row)\n",
    "    row_str = str(row_int)\n",
    "    len_row = len(row_str)\n",
    "    if len_row == 1:\n",
    "        minute = '0' + row_str\n",
    "        hour = '00'\n",
    "        row = hour + ':' + minute\n",
    "    if len_row == 2:\n",
    "        minute =  row_str[0] + row_str[1]\n",
    "        hour = '00'\n",
    "        row = hour + ':' + minute\n",
    "    if len_row == 3:\n",
    "        minute = row_str[1]+row_str[2]\n",
    "        hour = '0' + row_str[0]\n",
    "        row = hour + ':' + minute\n",
    "    elif len_row == 4:\n",
    "        minute = row_str[2] + row_str[3]\n",
    "        hour = row_str[0] + row_str[1]\n",
    "        row = hour + ':' + minute\n",
    "        if row == '24:00':\n",
    "            row = '23:59'\n",
    "    return str(row)"
   ]
  },
  {
   "cell_type": "code",
   "execution_count": 138,
   "metadata": {},
   "outputs": [],
   "source": [
    "flights_test['year'] = pd.DatetimeIndex(flights_test['fl_date']).year\n",
    "flights_test['month'] = pd.DatetimeIndex(flights_test['fl_date']).month\n",
    "flights_test['day'] = pd.DatetimeIndex(flights_test['fl_date']).day"
   ]
  },
  {
   "cell_type": "code",
   "execution_count": 139,
   "metadata": {},
   "outputs": [],
   "source": [
    "flights_test['crs_arr_time'] = flights_test['crs_arr_time'].apply(time_row)\n",
    "flights_test['crs_arr_time'] = pd.to_datetime(flights_test['crs_arr_time'],format='%H:%M').dt.time\n",
    "flights_test['crs_arr_hour'] = flights_test['crs_arr_time'].apply(lambda x:x.hour)"
   ]
  },
  {
   "cell_type": "code",
   "execution_count": 140,
   "metadata": {},
   "outputs": [
    {
     "data": {
      "text/html": [
       "<div>\n",
       "<style scoped>\n",
       "    .dataframe tbody tr th:only-of-type {\n",
       "        vertical-align: middle;\n",
       "    }\n",
       "\n",
       "    .dataframe tbody tr th {\n",
       "        vertical-align: top;\n",
       "    }\n",
       "\n",
       "    .dataframe thead th {\n",
       "        text-align: right;\n",
       "    }\n",
       "</style>\n",
       "<table border=\"1\" class=\"dataframe\">\n",
       "  <thead>\n",
       "    <tr style=\"text-align: right;\">\n",
       "      <th></th>\n",
       "      <th>fl_date</th>\n",
       "      <th>mkt_unique_carrier</th>\n",
       "      <th>branded_code_share</th>\n",
       "      <th>mkt_carrier</th>\n",
       "      <th>mkt_carrier_fl_num</th>\n",
       "      <th>op_unique_carrier</th>\n",
       "      <th>tail_num</th>\n",
       "      <th>op_carrier_fl_num</th>\n",
       "      <th>origin_airport_id</th>\n",
       "      <th>origin</th>\n",
       "      <th>...</th>\n",
       "      <th>crs_dep_time</th>\n",
       "      <th>crs_arr_time</th>\n",
       "      <th>dup</th>\n",
       "      <th>crs_elapsed_time</th>\n",
       "      <th>flights</th>\n",
       "      <th>distance</th>\n",
       "      <th>year</th>\n",
       "      <th>month</th>\n",
       "      <th>day</th>\n",
       "      <th>crs_arr_hour</th>\n",
       "    </tr>\n",
       "  </thead>\n",
       "  <tbody>\n",
       "    <tr>\n",
       "      <th>0</th>\n",
       "      <td>2020-01-05</td>\n",
       "      <td>DL</td>\n",
       "      <td>DL</td>\n",
       "      <td>DL</td>\n",
       "      <td>1874</td>\n",
       "      <td>DL</td>\n",
       "      <td>N344DN</td>\n",
       "      <td>1874</td>\n",
       "      <td>13487</td>\n",
       "      <td>MSP</td>\n",
       "      <td>...</td>\n",
       "      <td>914</td>\n",
       "      <td>11:45:00</td>\n",
       "      <td>N</td>\n",
       "      <td>211</td>\n",
       "      <td>1</td>\n",
       "      <td>1276</td>\n",
       "      <td>2020</td>\n",
       "      <td>1</td>\n",
       "      <td>5</td>\n",
       "      <td>11</td>\n",
       "    </tr>\n",
       "    <tr>\n",
       "      <th>4</th>\n",
       "      <td>2020-01-04</td>\n",
       "      <td>B6</td>\n",
       "      <td>B6</td>\n",
       "      <td>B6</td>\n",
       "      <td>682</td>\n",
       "      <td>B6</td>\n",
       "      <td>N318JB</td>\n",
       "      <td>682</td>\n",
       "      <td>14524</td>\n",
       "      <td>RIC</td>\n",
       "      <td>...</td>\n",
       "      <td>2015</td>\n",
       "      <td>21:44:00</td>\n",
       "      <td>N</td>\n",
       "      <td>89</td>\n",
       "      <td>1</td>\n",
       "      <td>474</td>\n",
       "      <td>2020</td>\n",
       "      <td>1</td>\n",
       "      <td>4</td>\n",
       "      <td>21</td>\n",
       "    </tr>\n",
       "    <tr>\n",
       "      <th>9</th>\n",
       "      <td>2020-01-05</td>\n",
       "      <td>AA</td>\n",
       "      <td>AA_CODESHARE</td>\n",
       "      <td>AA</td>\n",
       "      <td>5469</td>\n",
       "      <td>OH</td>\n",
       "      <td>N260JS</td>\n",
       "      <td>5469</td>\n",
       "      <td>10792</td>\n",
       "      <td>BUF</td>\n",
       "      <td>...</td>\n",
       "      <td>501</td>\n",
       "      <td>06:24:00</td>\n",
       "      <td>N</td>\n",
       "      <td>83</td>\n",
       "      <td>1</td>\n",
       "      <td>296</td>\n",
       "      <td>2020</td>\n",
       "      <td>1</td>\n",
       "      <td>5</td>\n",
       "      <td>6</td>\n",
       "    </tr>\n",
       "    <tr>\n",
       "      <th>14</th>\n",
       "      <td>2020-01-05</td>\n",
       "      <td>B6</td>\n",
       "      <td>B6</td>\n",
       "      <td>B6</td>\n",
       "      <td>1627</td>\n",
       "      <td>B6</td>\n",
       "      <td>N504JB</td>\n",
       "      <td>1627</td>\n",
       "      <td>11618</td>\n",
       "      <td>EWR</td>\n",
       "      <td>...</td>\n",
       "      <td>2150</td>\n",
       "      <td>00:35:00</td>\n",
       "      <td>N</td>\n",
       "      <td>165</td>\n",
       "      <td>1</td>\n",
       "      <td>937</td>\n",
       "      <td>2020</td>\n",
       "      <td>1</td>\n",
       "      <td>5</td>\n",
       "      <td>0</td>\n",
       "    </tr>\n",
       "    <tr>\n",
       "      <th>17</th>\n",
       "      <td>2020-01-05</td>\n",
       "      <td>HA</td>\n",
       "      <td>HA</td>\n",
       "      <td>HA</td>\n",
       "      <td>4</td>\n",
       "      <td>HA</td>\n",
       "      <td>N375HA</td>\n",
       "      <td>4</td>\n",
       "      <td>12173</td>\n",
       "      <td>HNL</td>\n",
       "      <td>...</td>\n",
       "      <td>2245</td>\n",
       "      <td>06:00:00</td>\n",
       "      <td>N</td>\n",
       "      <td>315</td>\n",
       "      <td>1</td>\n",
       "      <td>2556</td>\n",
       "      <td>2020</td>\n",
       "      <td>1</td>\n",
       "      <td>5</td>\n",
       "      <td>6</td>\n",
       "    </tr>\n",
       "  </tbody>\n",
       "</table>\n",
       "<p>5 rows × 24 columns</p>\n",
       "</div>"
      ],
      "text/plain": [
       "      fl_date mkt_unique_carrier branded_code_share mkt_carrier  \\\n",
       "0  2020-01-05                 DL                 DL          DL   \n",
       "4  2020-01-04                 B6                 B6          B6   \n",
       "9  2020-01-05                 AA       AA_CODESHARE          AA   \n",
       "14 2020-01-05                 B6                 B6          B6   \n",
       "17 2020-01-05                 HA                 HA          HA   \n",
       "\n",
       "    mkt_carrier_fl_num op_unique_carrier tail_num  op_carrier_fl_num  \\\n",
       "0                 1874                DL   N344DN               1874   \n",
       "4                  682                B6   N318JB                682   \n",
       "9                 5469                OH   N260JS               5469   \n",
       "14                1627                B6   N504JB               1627   \n",
       "17                   4                HA   N375HA                  4   \n",
       "\n",
       "    origin_airport_id origin  ... crs_dep_time  crs_arr_time dup  \\\n",
       "0               13487    MSP  ...          914      11:45:00   N   \n",
       "4               14524    RIC  ...         2015      21:44:00   N   \n",
       "9               10792    BUF  ...          501      06:24:00   N   \n",
       "14              11618    EWR  ...         2150      00:35:00   N   \n",
       "17              12173    HNL  ...         2245      06:00:00   N   \n",
       "\n",
       "   crs_elapsed_time  flights distance  year  month  day  crs_arr_hour  \n",
       "0               211        1     1276  2020      1    5            11  \n",
       "4                89        1      474  2020      1    4            21  \n",
       "9                83        1      296  2020      1    5             6  \n",
       "14              165        1      937  2020      1    5             0  \n",
       "17              315        1     2556  2020      1    5             6  \n",
       "\n",
       "[5 rows x 24 columns]"
      ]
     },
     "execution_count": 140,
     "metadata": {},
     "output_type": "execute_result"
    }
   ],
   "source": [
    "flights_test.head()"
   ]
  },
  {
   "cell_type": "code",
   "execution_count": 141,
   "metadata": {},
   "outputs": [
    {
     "data": {
      "text/plain": [
       "Index(['fl_date', 'mkt_unique_carrier', 'branded_code_share', 'mkt_carrier',\n",
       "       'mkt_carrier_fl_num', 'op_unique_carrier', 'tail_num',\n",
       "       'op_carrier_fl_num', 'origin_airport_id', 'origin', 'origin_city_name',\n",
       "       'dest_airport_id', 'dest', 'dest_city_name', 'crs_dep_time',\n",
       "       'crs_arr_time', 'dup', 'crs_elapsed_time', 'flights', 'distance',\n",
       "       'year', 'month', 'day', 'crs_arr_hour'],\n",
       "      dtype='object')"
      ]
     },
     "execution_count": 141,
     "metadata": {},
     "output_type": "execute_result"
    }
   ],
   "source": [
    "flights_test.columns"
   ]
  },
  {
   "cell_type": "code",
   "execution_count": 142,
   "metadata": {},
   "outputs": [],
   "source": [
    "#getting the columns we need\n",
    "flights_test = flights_test[['dest','mkt_unique_carrier','crs_arr_hour','crs_elapsed_time','month']]\n",
    "#two columns are missing lets fill them with nan\n",
    "flights_test['air_time'] = 0\n",
    "flights_test['taxi_in'] = 0\n",
    "dummies = pd.get_dummies(flights_test[['dest','mkt_unique_carrier','crs_arr_hour','month']],drop_first=True)\n",
    "flights_indep = pd.concat([flights_test,dummies],axis=1).drop(columns=['dest','mkt_unique_carrier','crs_arr_hour','month'])"
   ]
  },
  {
   "cell_type": "code",
   "execution_count": 145,
   "metadata": {},
   "outputs": [],
   "source": [
    "min_max = MinMaxScaler()\n",
    "columns = flights_indep.columns\n",
    "values = flights_indep.values\n",
    "scaled = min_max.fit_transform(values)\n",
    "flights_indep = pd.DataFrame(scaled,columns=columns)"
   ]
  },
  {
   "cell_type": "code",
   "execution_count": 147,
   "metadata": {},
   "outputs": [
    {
     "ename": "ValueError",
     "evalue": "feature_names mismatch: ['air_time', 'taxi_in', 'crs_elapsed_time', 'crs_arr_hour', 'month', 'dest_CLT', 'dest_DEN', 'dest_DFW', 'dest_DTW', 'dest_IAH', 'dest_LAX', 'dest_MSP', 'dest_ORD', 'dest_PHX', 'dest_SEA', 'dest_SFO', 'mkt_unique_carrier_AS', 'mkt_unique_carrier_B6', 'mkt_unique_carrier_DL', 'mkt_unique_carrier_F9', 'mkt_unique_carrier_G4', 'mkt_unique_carrier_HA', 'mkt_unique_carrier_NK', 'mkt_unique_carrier_UA', 'mkt_unique_carrier_VX', 'mkt_unique_carrier_WN'] ['crs_elapsed_time', 'air_time', 'taxi_in', 'dest_ABI', 'dest_ABQ', 'dest_ABR', 'dest_ABY', 'dest_ACT', 'dest_ACV', 'dest_ACY', 'dest_ADK', 'dest_ADQ', 'dest_AEX', 'dest_AGS', 'dest_ALB', 'dest_ALO', 'dest_ALW', 'dest_AMA', 'dest_ANC', 'dest_APN', 'dest_ART', 'dest_ASE', 'dest_ATL', 'dest_ATW', 'dest_ATY', 'dest_AUS', 'dest_AVL', 'dest_AVP', 'dest_AZA', 'dest_AZO', 'dest_BDL', 'dest_BET', 'dest_BFF', 'dest_BFL', 'dest_BFM', 'dest_BGM', 'dest_BGR', 'dest_BHM', 'dest_BIL', 'dest_BIS', 'dest_BJI', 'dest_BLI', 'dest_BLV', 'dest_BMI', 'dest_BNA', 'dest_BOI', 'dest_BOS', 'dest_BPT', 'dest_BQK', 'dest_BQN', 'dest_BRD', 'dest_BRO', 'dest_BRW', 'dest_BTM', 'dest_BTR', 'dest_BTV', 'dest_BUF', 'dest_BUR', 'dest_BWI', 'dest_BZN', 'dest_CAE', 'dest_CAK', 'dest_CDC', 'dest_CDV', 'dest_CGI', 'dest_CHA', 'dest_CHO', 'dest_CHS', 'dest_CID', 'dest_CIU', 'dest_CKB', 'dest_CLE', 'dest_CLL', 'dest_CLT', 'dest_CMH', 'dest_CMI', 'dest_CMX', 'dest_CNY', 'dest_COD', 'dest_COS', 'dest_COU', 'dest_CPR', 'dest_CRP', 'dest_CRW', 'dest_CSG', 'dest_CVG', 'dest_CWA', 'dest_CYS', 'dest_DAB', 'dest_DAL', 'dest_DAY', 'dest_DBQ', 'dest_DCA', 'dest_DEN', 'dest_DFW', 'dest_DHN', 'dest_DIK', 'dest_DLH', 'dest_DRO', 'dest_DRT', 'dest_DSM', 'dest_DTW', 'dest_DVL', 'dest_EAR', 'dest_EAT', 'dest_EAU', 'dest_ECP', 'dest_EGE', 'dest_EKO', 'dest_ELM', 'dest_ELP', 'dest_ERI', 'dest_ESC', 'dest_EUG', 'dest_EVV', 'dest_EWN', 'dest_EWR', 'dest_EYW', 'dest_FAI', 'dest_FAR', 'dest_FAT', 'dest_FAY', 'dest_FCA', 'dest_FLG', 'dest_FLL', 'dest_FLO', 'dest_FNT', 'dest_FSD', 'dest_FSM', 'dest_FWA', 'dest_GCC', 'dest_GCK', 'dest_GEG', 'dest_GFK', 'dest_GGG', 'dest_GJT', 'dest_GNV', 'dest_GPT', 'dest_GRB', 'dest_GRI', 'dest_GRK', 'dest_GRR', 'dest_GSO', 'dest_GSP', 'dest_GTF', 'dest_GTR', 'dest_GUC', 'dest_GUM', 'dest_HDN', 'dest_HGR', 'dest_HHH', 'dest_HIB', 'dest_HLN', 'dest_HNL', 'dest_HOB', 'dest_HOU', 'dest_HPN', 'dest_HRL', 'dest_HSV', 'dest_HTS', 'dest_HVN', 'dest_HYS', 'dest_IAD', 'dest_IAG', 'dest_IAH', 'dest_ICT', 'dest_IDA', 'dest_ILM', 'dest_IMT', 'dest_IND', 'dest_INL', 'dest_IPT', 'dest_ISP', 'dest_ITH', 'dest_ITO', 'dest_JAC', 'dest_JAN', 'dest_JAX', 'dest_JFK', 'dest_JHM', 'dest_JLN', 'dest_JMS', 'dest_JNU', 'dest_KOA', 'dest_KTN', 'dest_LAN', 'dest_LAR', 'dest_LAS', 'dest_LAW', 'dest_LAX', 'dest_LBB', 'dest_LBE', 'dest_LBF', 'dest_LBL', 'dest_LCH', 'dest_LCK', 'dest_LEX', 'dest_LFT', 'dest_LGA', 'dest_LGB', 'dest_LIH', 'dest_LIT', 'dest_LNK', 'dest_LNY', 'dest_LRD', 'dest_LSE', 'dest_LWB', 'dest_LWS', 'dest_LYH', 'dest_MAF', 'dest_MBS', 'dest_MCI', 'dest_MCO', 'dest_MDT', 'dest_MDW', 'dest_MEI', 'dest_MEM', 'dest_MFE', 'dest_MFR', 'dest_MGM', 'dest_MHK', 'dest_MHT', 'dest_MIA', 'dest_MKE', 'dest_MKG', 'dest_MKK', 'dest_MLB', 'dest_MLI', 'dest_MLU', 'dest_MMH', 'dest_MOB', 'dest_MOT', 'dest_MQT', 'dest_MRY', 'dest_MSN', 'dest_MSO', 'dest_MSP', 'dest_MSY', 'dest_MTJ', 'dest_MYR', 'dest_OAJ', 'dest_OAK', 'dest_OGD', 'dest_OGG', 'dest_OGS', 'dest_OKC', 'dest_OMA', 'dest_OME', 'dest_ONT', 'dest_ORD', 'dest_ORF', 'dest_ORH', 'dest_OTH', 'dest_OTZ', 'dest_OWB', 'dest_PAE', 'dest_PAH', 'dest_PBG', 'dest_PBI', 'dest_PDX', 'dest_PGD', 'dest_PGV', 'dest_PHF', 'dest_PHL', 'dest_PHX', 'dest_PIA', 'dest_PIB', 'dest_PIE', 'dest_PIH', 'dest_PIR', 'dest_PIT', 'dest_PLN', 'dest_PNS', 'dest_PPG', 'dest_PQI', 'dest_PRC', 'dest_PSC', 'dest_PSE', 'dest_PSG', 'dest_PSM', 'dest_PSP', 'dest_PUB', 'dest_PUW', 'dest_PVD', 'dest_PVU', 'dest_PWM', 'dest_RAP', 'dest_RDD', 'dest_RDM', 'dest_RDU', 'dest_RFD', 'dest_RHI', 'dest_RIC', 'dest_RKS', 'dest_RNO', 'dest_ROA', 'dest_ROC', 'dest_ROW', 'dest_RST', 'dest_RSW', 'dest_SAF', 'dest_SAN', 'dest_SAT', 'dest_SAV', 'dest_SBA', 'dest_SBN', 'dest_SBP', 'dest_SBY', 'dest_SCC', 'dest_SCE', 'dest_SCK', 'dest_SDF', 'dest_SEA', 'dest_SFB', 'dest_SFO', 'dest_SGF', 'dest_SGU', 'dest_SHD', 'dest_SHV', 'dest_SIT', 'dest_SJC', 'dest_SJT', 'dest_SJU', 'dest_SLC', 'dest_SLN', 'dest_SMF', 'dest_SMX', 'dest_SNA', 'dest_SPI', 'dest_SPN', 'dest_SPS', 'dest_SRQ', 'dest_STC', 'dest_STL', 'dest_STS', 'dest_STT', 'dest_STX', 'dest_SUN', 'dest_SUX', 'dest_SWF', 'dest_SWO', 'dest_SYR', 'dest_TLH', 'dest_TOL', 'dest_TPA', 'dest_TRI', 'dest_TTN', 'dest_TUL', 'dest_TUS', 'dest_TVC', 'dest_TWF', 'dest_TXK', 'dest_TYR', 'dest_TYS', 'dest_UIN', 'dest_USA', 'dest_VEL', 'dest_VLD', 'dest_VPS', 'dest_WRG', 'dest_XNA', 'dest_XWA', 'dest_YAK', 'dest_YKM', 'dest_YUM', 'mkt_unique_carrier_AS', 'mkt_unique_carrier_B6', 'mkt_unique_carrier_DL', 'mkt_unique_carrier_F9', 'mkt_unique_carrier_G4', 'mkt_unique_carrier_HA', 'mkt_unique_carrier_NK', 'mkt_unique_carrier_UA', 'mkt_unique_carrier_WN']\nexpected mkt_unique_carrier_VX, crs_arr_hour, month in input data\ntraining data did not have the following fields: dest_LCH, dest_MSO, dest_SGU, dest_SGF, dest_ATW, dest_LNY, dest_EYW, dest_COU, dest_LAR, dest_UIN, dest_EVV, dest_LWB, dest_ALB, dest_LBE, dest_DLH, dest_GCK, dest_LWS, dest_OAK, dest_CMX, dest_JAX, dest_BWI, dest_BRW, dest_EKO, dest_MHT, dest_SYR, dest_CNY, dest_ELP, dest_GCC, dest_MTJ, dest_PHL, dest_TLH, dest_DCA, dest_BGR, dest_TUL, dest_SHV, dest_DRT, dest_PIE, dest_FSD, dest_CAK, dest_SAF, dest_IND, dest_FWA, dest_AUS, dest_CVG, dest_OGG, dest_TTN, dest_VLD, dest_DHN, dest_ITO, dest_PIB, dest_ABQ, dest_OTZ, dest_HHH, dest_OWB, dest_INL, dest_EGE, dest_PIR, dest_MFE, dest_DAB, dest_RKS, dest_JMS, dest_HIB, dest_DAL, dest_ROA, dest_KTN, dest_FAI, dest_EUG, dest_MOB, dest_LAN, dest_EAU, dest_TRI, dest_BFF, dest_BLV, dest_BFM, dest_SBP, dest_CKB, dest_MDW, dest_CMH, dest_TUS, dest_SWO, dest_PPG, dest_CSG, dest_BUR, dest_AZO, dest_GSO, dest_ACV, dest_USA, dest_DIK, dest_RHI, dest_SBA, dest_OME, dest_MKK, dest_GTF, dest_AVL, dest_GJT, dest_BDL, dest_MFR, dest_ORF, dest_GRB, dest_PHF, dest_COD, dest_GEG, dest_XNA, dest_HGR, dest_APN, dest_PBI, dest_CID, dest_MKE, dest_TOL, dest_SHD, dest_HLN, dest_GRR, dest_LNK, dest_ACY, dest_MHK, dest_PQI, dest_ESC, dest_LRD, dest_XWA, dest_ABI, dest_BQN, dest_CAE, dest_SCE, dest_ART, dest_PWM, dest_MSN, dest_PSG, dest_ATL, dest_LAS, dest_MAF, dest_MMH, dest_GPT, dest_OTH, dest_BRD, dest_CHA, dest_IAG, dest_BTM, dest_RSW, dest_YKM, dest_BTV, dest_LCK, dest_AGS, dest_FSM, dest_BUF, dest_CGI, dest_RAP, dest_SPN, dest_BHM, dest_FAY, dest_TWF, dest_ALW, dest_MIA, dest_ONT, dest_CDV, dest_HSV, dest_BTR, dest_SDF, dest_MBS, dest_DRO, dest_LBF, dest_TXK, dest_ERI, dest_SJT, dest_GRI, dest_SPI, dest_RNO, dest_SBN, dest_ROW, dest_MEI, dest_MSY, dest_MCI, dest_GUC, dest_MLI, dest_BPT, dest_JAC, dest_GRK, dest_OGD, dest_BOS, dest_ALO, dest_SJC, dest_PAE, dest_SCC, dest_MYR, dest_YUM, dest_ITH, dest_LEX, dest_CLL, dest_RFD, dest_CHS, dest_OKC, dest_PVD, dest_HYS, dest_GSP, dest_ANC, dest_EWN, dest_BIS, dest_PSP, dest_STC, dest_HOU, dest_STL, dest_PNS, dest_TYR, dest_GUM, dest_LBB, dest_PGD, dest_PRC, dest_COS, dest_STX, dest_CRP, dest_MDT, dest_PDX, dest_PLN, dest_LYH, dest_MKG, dest_SNA, dest_VEL, dest_PIH, dest_CRW, dest_HVN, dest_PIA, dest_SUN, dest_HPN, dest_ASE, dest_RDU, dest_PSM, dest_VPS, dest_OAJ, dest_LFT, dest_FCA, dest_GTR, dest_BET, dest_BOI, dest_MLB, dest_LAW, dest_FLL, dest_JHM, dest_IAD, dest_BNA, dest_FLG, dest_STS, dest_SAN, dest_FAT, dest_JNU, dest_PBG, dest_TPA, dest_FNT, dest_BJI, dest_RIC, dest_YAK, dest_ELM, dest_MGM, dest_LGA, dest_GFK, dest_BZN, dest_LBL, dest_LGB, dest_JLN, dest_CMI, dest_PIT, dest_ABR, dest_WRG, dest_PUW, dest_STT, dest_CPR, dest_KOA, dest_BMI, dest_HTS, dest_CLE, dest_MEM, dest_PVU, dest_FLO, dest_SMX, dest_SUX, dest_SCK, dest_BLI, dest_BGM, dest_SFB, dest_ISP, dest_EAR, dest_FAR, dest_OGS, dest_CDC, dest_ABY, dest_ILM, dest_MCO, dest_PUB, dest_HRL, dest_LSE, dest_SBY, dest_BFL, dest_AEX, dest_IDA, dest_SLC, dest_JAN, dest_LIT, dest_EWR, dest_ROC, dest_BRO, dest_ORH, dest_BQK, dest_SAT, dest_HDN, dest_ADK, dest_SWF, dest_ECP, dest_OMA, dest_CHO, dest_GGG, dest_DBQ, dest_CYS, dest_PAH, dest_LIH, dest_TYS, dest_GNV, dest_MOT, dest_RST, dest_JFK, dest_MRY, dest_ADQ, dest_MQT, dest_PSC, dest_SIT, dest_ACT, dest_HNL, dest_AVP, dest_SLN, dest_AMA, dest_BIL, dest_EAT, dest_TVC, dest_AZA, dest_HOB, dest_SMF, dest_ICT, dest_PSE, dest_SRQ, dest_RDM, dest_SAV, dest_MLU, dest_CWA, dest_DAY, dest_CIU, dest_PGV, dest_IMT, dest_SPS, dest_DVL, dest_IPT, dest_DSM, dest_SJU, dest_ATY, dest_RDD",
     "output_type": "error",
     "traceback": [
      "\u001b[1;31m---------------------------------------------------------------------------\u001b[0m",
      "\u001b[1;31mValueError\u001b[0m                                Traceback (most recent call last)",
      "\u001b[1;32m<ipython-input-147-1213f5e84c28>\u001b[0m in \u001b[0;36m<module>\u001b[1;34m\u001b[0m\n\u001b[1;32m----> 1\u001b[1;33m \u001b[0my\u001b[0m \u001b[1;33m=\u001b[0m \u001b[0mridge\u001b[0m\u001b[1;33m.\u001b[0m\u001b[0mpredict\u001b[0m\u001b[1;33m(\u001b[0m\u001b[0mflights_indep\u001b[0m\u001b[1;33m)\u001b[0m\u001b[1;33m\u001b[0m\u001b[1;33m\u001b[0m\u001b[0m\n\u001b[0m",
      "\u001b[1;32m~\\anaconda3\\envs\\bootcamp\\lib\\site-packages\\xgboost\\sklearn.py\u001b[0m in \u001b[0;36mpredict\u001b[1;34m(self, data, output_margin, ntree_limit, validate_features, base_margin)\u001b[0m\n\u001b[0;32m    599\u001b[0m         \u001b[1;32mif\u001b[0m \u001b[0mntree_limit\u001b[0m \u001b[1;32mis\u001b[0m \u001b[1;32mNone\u001b[0m\u001b[1;33m:\u001b[0m\u001b[1;33m\u001b[0m\u001b[1;33m\u001b[0m\u001b[0m\n\u001b[0;32m    600\u001b[0m             \u001b[0mntree_limit\u001b[0m \u001b[1;33m=\u001b[0m \u001b[0mgetattr\u001b[0m\u001b[1;33m(\u001b[0m\u001b[0mself\u001b[0m\u001b[1;33m,\u001b[0m \u001b[1;34m\"best_ntree_limit\"\u001b[0m\u001b[1;33m,\u001b[0m \u001b[1;36m0\u001b[0m\u001b[1;33m)\u001b[0m\u001b[1;33m\u001b[0m\u001b[1;33m\u001b[0m\u001b[0m\n\u001b[1;32m--> 601\u001b[1;33m         return self.get_booster().predict(test_dmatrix,\n\u001b[0m\u001b[0;32m    602\u001b[0m                                           \u001b[0moutput_margin\u001b[0m\u001b[1;33m=\u001b[0m\u001b[0moutput_margin\u001b[0m\u001b[1;33m,\u001b[0m\u001b[1;33m\u001b[0m\u001b[1;33m\u001b[0m\u001b[0m\n\u001b[0;32m    603\u001b[0m                                           \u001b[0mntree_limit\u001b[0m\u001b[1;33m=\u001b[0m\u001b[0mntree_limit\u001b[0m\u001b[1;33m,\u001b[0m\u001b[1;33m\u001b[0m\u001b[1;33m\u001b[0m\u001b[0m\n",
      "\u001b[1;32m~\\anaconda3\\envs\\bootcamp\\lib\\site-packages\\xgboost\\core.py\u001b[0m in \u001b[0;36mpredict\u001b[1;34m(self, data, output_margin, ntree_limit, pred_leaf, pred_contribs, approx_contribs, pred_interactions, validate_features, training)\u001b[0m\n\u001b[0;32m   1362\u001b[0m \u001b[1;33m\u001b[0m\u001b[0m\n\u001b[0;32m   1363\u001b[0m         \u001b[1;32mif\u001b[0m \u001b[0mvalidate_features\u001b[0m\u001b[1;33m:\u001b[0m\u001b[1;33m\u001b[0m\u001b[1;33m\u001b[0m\u001b[0m\n\u001b[1;32m-> 1364\u001b[1;33m             \u001b[0mself\u001b[0m\u001b[1;33m.\u001b[0m\u001b[0m_validate_features\u001b[0m\u001b[1;33m(\u001b[0m\u001b[0mdata\u001b[0m\u001b[1;33m)\u001b[0m\u001b[1;33m\u001b[0m\u001b[1;33m\u001b[0m\u001b[0m\n\u001b[0m\u001b[0;32m   1365\u001b[0m \u001b[1;33m\u001b[0m\u001b[0m\n\u001b[0;32m   1366\u001b[0m         \u001b[0mlength\u001b[0m \u001b[1;33m=\u001b[0m \u001b[0mc_bst_ulong\u001b[0m\u001b[1;33m(\u001b[0m\u001b[1;33m)\u001b[0m\u001b[1;33m\u001b[0m\u001b[1;33m\u001b[0m\u001b[0m\n",
      "\u001b[1;32m~\\anaconda3\\envs\\bootcamp\\lib\\site-packages\\xgboost\\core.py\u001b[0m in \u001b[0;36m_validate_features\u001b[1;34m(self, data)\u001b[0m\n\u001b[0;32m   1933\u001b[0m                             ', '.join(str(s) for s in my_missing))\n\u001b[0;32m   1934\u001b[0m \u001b[1;33m\u001b[0m\u001b[0m\n\u001b[1;32m-> 1935\u001b[1;33m                 raise ValueError(msg.format(self.feature_names,\n\u001b[0m\u001b[0;32m   1936\u001b[0m                                             data.feature_names))\n\u001b[0;32m   1937\u001b[0m \u001b[1;33m\u001b[0m\u001b[0m\n",
      "\u001b[1;31mValueError\u001b[0m: feature_names mismatch: ['air_time', 'taxi_in', 'crs_elapsed_time', 'crs_arr_hour', 'month', 'dest_CLT', 'dest_DEN', 'dest_DFW', 'dest_DTW', 'dest_IAH', 'dest_LAX', 'dest_MSP', 'dest_ORD', 'dest_PHX', 'dest_SEA', 'dest_SFO', 'mkt_unique_carrier_AS', 'mkt_unique_carrier_B6', 'mkt_unique_carrier_DL', 'mkt_unique_carrier_F9', 'mkt_unique_carrier_G4', 'mkt_unique_carrier_HA', 'mkt_unique_carrier_NK', 'mkt_unique_carrier_UA', 'mkt_unique_carrier_VX', 'mkt_unique_carrier_WN'] ['crs_elapsed_time', 'air_time', 'taxi_in', 'dest_ABI', 'dest_ABQ', 'dest_ABR', 'dest_ABY', 'dest_ACT', 'dest_ACV', 'dest_ACY', 'dest_ADK', 'dest_ADQ', 'dest_AEX', 'dest_AGS', 'dest_ALB', 'dest_ALO', 'dest_ALW', 'dest_AMA', 'dest_ANC', 'dest_APN', 'dest_ART', 'dest_ASE', 'dest_ATL', 'dest_ATW', 'dest_ATY', 'dest_AUS', 'dest_AVL', 'dest_AVP', 'dest_AZA', 'dest_AZO', 'dest_BDL', 'dest_BET', 'dest_BFF', 'dest_BFL', 'dest_BFM', 'dest_BGM', 'dest_BGR', 'dest_BHM', 'dest_BIL', 'dest_BIS', 'dest_BJI', 'dest_BLI', 'dest_BLV', 'dest_BMI', 'dest_BNA', 'dest_BOI', 'dest_BOS', 'dest_BPT', 'dest_BQK', 'dest_BQN', 'dest_BRD', 'dest_BRO', 'dest_BRW', 'dest_BTM', 'dest_BTR', 'dest_BTV', 'dest_BUF', 'dest_BUR', 'dest_BWI', 'dest_BZN', 'dest_CAE', 'dest_CAK', 'dest_CDC', 'dest_CDV', 'dest_CGI', 'dest_CHA', 'dest_CHO', 'dest_CHS', 'dest_CID', 'dest_CIU', 'dest_CKB', 'dest_CLE', 'dest_CLL', 'dest_CLT', 'dest_CMH', 'dest_CMI', 'dest_CMX', 'dest_CNY', 'dest_COD', 'dest_COS', 'dest_COU', 'dest_CPR', 'dest_CRP', 'dest_CRW', 'dest_CSG', 'dest_CVG', 'dest_CWA', 'dest_CYS', 'dest_DAB', 'dest_DAL', 'dest_DAY', 'dest_DBQ', 'dest_DCA', 'dest_DEN', 'dest_DFW', 'dest_DHN', 'dest_DIK', 'dest_DLH', 'dest_DRO', 'dest_DRT', 'dest_DSM', 'dest_DTW', 'dest_DVL', 'dest_EAR', 'dest_EAT', 'dest_EAU', 'dest_ECP', 'dest_EGE', 'dest_EKO', 'dest_ELM', 'dest_ELP', 'dest_ERI', 'dest_ESC', 'dest_EUG', 'dest_EVV', 'dest_EWN', 'dest_EWR', 'dest_EYW', 'dest_FAI', 'dest_FAR', 'dest_FAT', 'dest_FAY', 'dest_FCA', 'dest_FLG', 'dest_FLL', 'dest_FLO', 'dest_FNT', 'dest_FSD', 'dest_FSM', 'dest_FWA', 'dest_GCC', 'dest_GCK', 'dest_GEG', 'dest_GFK', 'dest_GGG', 'dest_GJT', 'dest_GNV', 'dest_GPT', 'dest_GRB', 'dest_GRI', 'dest_GRK', 'dest_GRR', 'dest_GSO', 'dest_GSP', 'dest_GTF', 'dest_GTR', 'dest_GUC', 'dest_GUM', 'dest_HDN', 'dest_HGR', 'dest_HHH', 'dest_HIB', 'dest_HLN', 'dest_HNL', 'dest_HOB', 'dest_HOU', 'dest_HPN', 'dest_HRL', 'dest_HSV', 'dest_HTS', 'dest_HVN', 'dest_HYS', 'dest_IAD', 'dest_IAG', 'dest_IAH', 'dest_ICT', 'dest_IDA', 'dest_ILM', 'dest_IMT', 'dest_IND', 'dest_INL', 'dest_IPT', 'dest_ISP', 'dest_ITH', 'dest_ITO', 'dest_JAC', 'dest_JAN', 'dest_JAX', 'dest_JFK', 'dest_JHM', 'dest_JLN', 'dest_JMS', 'dest_JNU', 'dest_KOA', 'dest_KTN', 'dest_LAN', 'dest_LAR', 'dest_LAS', 'dest_LAW', 'dest_LAX', 'dest_LBB', 'dest_LBE', 'dest_LBF', 'dest_LBL', 'dest_LCH', 'dest_LCK', 'dest_LEX', 'dest_LFT', 'dest_LGA', 'dest_LGB', 'dest_LIH', 'dest_LIT', 'dest_LNK', 'dest_LNY', 'dest_LRD', 'dest_LSE', 'dest_LWB', 'dest_LWS', 'dest_LYH', 'dest_MAF', 'dest_MBS', 'dest_MCI', 'dest_MCO', 'dest_MDT', 'dest_MDW', 'dest_MEI', 'dest_MEM', 'dest_MFE', 'dest_MFR', 'dest_MGM', 'dest_MHK', 'dest_MHT', 'dest_MIA', 'dest_MKE', 'dest_MKG', 'dest_MKK', 'dest_MLB', 'dest_MLI', 'dest_MLU', 'dest_MMH', 'dest_MOB', 'dest_MOT', 'dest_MQT', 'dest_MRY', 'dest_MSN', 'dest_MSO', 'dest_MSP', 'dest_MSY', 'dest_MTJ', 'dest_MYR', 'dest_OAJ', 'dest_OAK', 'dest_OGD', 'dest_OGG', 'dest_OGS', 'dest_OKC', 'dest_OMA', 'dest_OME', 'dest_ONT', 'dest_ORD', 'dest_ORF', 'dest_ORH', 'dest_OTH', 'dest_OTZ', 'dest_OWB', 'dest_PAE', 'dest_PAH', 'dest_PBG', 'dest_PBI', 'dest_PDX', 'dest_PGD', 'dest_PGV', 'dest_PHF', 'dest_PHL', 'dest_PHX', 'dest_PIA', 'dest_PIB', 'dest_PIE', 'dest_PIH', 'dest_PIR', 'dest_PIT', 'dest_PLN', 'dest_PNS', 'dest_PPG', 'dest_PQI', 'dest_PRC', 'dest_PSC', 'dest_PSE', 'dest_PSG', 'dest_PSM', 'dest_PSP', 'dest_PUB', 'dest_PUW', 'dest_PVD', 'dest_PVU', 'dest_PWM', 'dest_RAP', 'dest_RDD', 'dest_RDM', 'dest_RDU', 'dest_RFD', 'dest_RHI', 'dest_RIC', 'dest_RKS', 'dest_RNO', 'dest_ROA', 'dest_ROC', 'dest_ROW', 'dest_RST', 'dest_RSW', 'dest_SAF', 'dest_SAN', 'dest_SAT', 'dest_SAV', 'dest_SBA', 'dest_SBN', 'dest_SBP', 'dest_SBY', 'dest_SCC', 'dest_SCE', 'dest_SCK', 'dest_SDF', 'dest_SEA', 'dest_SFB', 'dest_SFO', 'dest_SGF', 'dest_SGU', 'dest_SHD', 'dest_SHV', 'dest_SIT', 'dest_SJC', 'dest_SJT', 'dest_SJU', 'dest_SLC', 'dest_SLN', 'dest_SMF', 'dest_SMX', 'dest_SNA', 'dest_SPI', 'dest_SPN', 'dest_SPS', 'dest_SRQ', 'dest_STC', 'dest_STL', 'dest_STS', 'dest_STT', 'dest_STX', 'dest_SUN', 'dest_SUX', 'dest_SWF', 'dest_SWO', 'dest_SYR', 'dest_TLH', 'dest_TOL', 'dest_TPA', 'dest_TRI', 'dest_TTN', 'dest_TUL', 'dest_TUS', 'dest_TVC', 'dest_TWF', 'dest_TXK', 'dest_TYR', 'dest_TYS', 'dest_UIN', 'dest_USA', 'dest_VEL', 'dest_VLD', 'dest_VPS', 'dest_WRG', 'dest_XNA', 'dest_XWA', 'dest_YAK', 'dest_YKM', 'dest_YUM', 'mkt_unique_carrier_AS', 'mkt_unique_carrier_B6', 'mkt_unique_carrier_DL', 'mkt_unique_carrier_F9', 'mkt_unique_carrier_G4', 'mkt_unique_carrier_HA', 'mkt_unique_carrier_NK', 'mkt_unique_carrier_UA', 'mkt_unique_carrier_WN']\nexpected mkt_unique_carrier_VX, crs_arr_hour, month in input data\ntraining data did not have the following fields: dest_LCH, dest_MSO, dest_SGU, dest_SGF, dest_ATW, dest_LNY, dest_EYW, dest_COU, dest_LAR, dest_UIN, dest_EVV, dest_LWB, dest_ALB, dest_LBE, dest_DLH, dest_GCK, dest_LWS, dest_OAK, dest_CMX, dest_JAX, dest_BWI, dest_BRW, dest_EKO, dest_MHT, dest_SYR, dest_CNY, dest_ELP, dest_GCC, dest_MTJ, dest_PHL, dest_TLH, dest_DCA, dest_BGR, dest_TUL, dest_SHV, dest_DRT, dest_PIE, dest_FSD, dest_CAK, dest_SAF, dest_IND, dest_FWA, dest_AUS, dest_CVG, dest_OGG, dest_TTN, dest_VLD, dest_DHN, dest_ITO, dest_PIB, dest_ABQ, dest_OTZ, dest_HHH, dest_OWB, dest_INL, dest_EGE, dest_PIR, dest_MFE, dest_DAB, dest_RKS, dest_JMS, dest_HIB, dest_DAL, dest_ROA, dest_KTN, dest_FAI, dest_EUG, dest_MOB, dest_LAN, dest_EAU, dest_TRI, dest_BFF, dest_BLV, dest_BFM, dest_SBP, dest_CKB, dest_MDW, dest_CMH, dest_TUS, dest_SWO, dest_PPG, dest_CSG, dest_BUR, dest_AZO, dest_GSO, dest_ACV, dest_USA, dest_DIK, dest_RHI, dest_SBA, dest_OME, dest_MKK, dest_GTF, dest_AVL, dest_GJT, dest_BDL, dest_MFR, dest_ORF, dest_GRB, dest_PHF, dest_COD, dest_GEG, dest_XNA, dest_HGR, dest_APN, dest_PBI, dest_CID, dest_MKE, dest_TOL, dest_SHD, dest_HLN, dest_GRR, dest_LNK, dest_ACY, dest_MHK, dest_PQI, dest_ESC, dest_LRD, dest_XWA, dest_ABI, dest_BQN, dest_CAE, dest_SCE, dest_ART, dest_PWM, dest_MSN, dest_PSG, dest_ATL, dest_LAS, dest_MAF, dest_MMH, dest_GPT, dest_OTH, dest_BRD, dest_CHA, dest_IAG, dest_BTM, dest_RSW, dest_YKM, dest_BTV, dest_LCK, dest_AGS, dest_FSM, dest_BUF, dest_CGI, dest_RAP, dest_SPN, dest_BHM, dest_FAY, dest_TWF, dest_ALW, dest_MIA, dest_ONT, dest_CDV, dest_HSV, dest_BTR, dest_SDF, dest_MBS, dest_DRO, dest_LBF, dest_TXK, dest_ERI, dest_SJT, dest_GRI, dest_SPI, dest_RNO, dest_SBN, dest_ROW, dest_MEI, dest_MSY, dest_MCI, dest_GUC, dest_MLI, dest_BPT, dest_JAC, dest_GRK, dest_OGD, dest_BOS, dest_ALO, dest_SJC, dest_PAE, dest_SCC, dest_MYR, dest_YUM, dest_ITH, dest_LEX, dest_CLL, dest_RFD, dest_CHS, dest_OKC, dest_PVD, dest_HYS, dest_GSP, dest_ANC, dest_EWN, dest_BIS, dest_PSP, dest_STC, dest_HOU, dest_STL, dest_PNS, dest_TYR, dest_GUM, dest_LBB, dest_PGD, dest_PRC, dest_COS, dest_STX, dest_CRP, dest_MDT, dest_PDX, dest_PLN, dest_LYH, dest_MKG, dest_SNA, dest_VEL, dest_PIH, dest_CRW, dest_HVN, dest_PIA, dest_SUN, dest_HPN, dest_ASE, dest_RDU, dest_PSM, dest_VPS, dest_OAJ, dest_LFT, dest_FCA, dest_GTR, dest_BET, dest_BOI, dest_MLB, dest_LAW, dest_FLL, dest_JHM, dest_IAD, dest_BNA, dest_FLG, dest_STS, dest_SAN, dest_FAT, dest_JNU, dest_PBG, dest_TPA, dest_FNT, dest_BJI, dest_RIC, dest_YAK, dest_ELM, dest_MGM, dest_LGA, dest_GFK, dest_BZN, dest_LBL, dest_LGB, dest_JLN, dest_CMI, dest_PIT, dest_ABR, dest_WRG, dest_PUW, dest_STT, dest_CPR, dest_KOA, dest_BMI, dest_HTS, dest_CLE, dest_MEM, dest_PVU, dest_FLO, dest_SMX, dest_SUX, dest_SCK, dest_BLI, dest_BGM, dest_SFB, dest_ISP, dest_EAR, dest_FAR, dest_OGS, dest_CDC, dest_ABY, dest_ILM, dest_MCO, dest_PUB, dest_HRL, dest_LSE, dest_SBY, dest_BFL, dest_AEX, dest_IDA, dest_SLC, dest_JAN, dest_LIT, dest_EWR, dest_ROC, dest_BRO, dest_ORH, dest_BQK, dest_SAT, dest_HDN, dest_ADK, dest_SWF, dest_ECP, dest_OMA, dest_CHO, dest_GGG, dest_DBQ, dest_CYS, dest_PAH, dest_LIH, dest_TYS, dest_GNV, dest_MOT, dest_RST, dest_JFK, dest_MRY, dest_ADQ, dest_MQT, dest_PSC, dest_SIT, dest_ACT, dest_HNL, dest_AVP, dest_SLN, dest_AMA, dest_BIL, dest_EAT, dest_TVC, dest_AZA, dest_HOB, dest_SMF, dest_ICT, dest_PSE, dest_SRQ, dest_RDM, dest_SAV, dest_MLU, dest_CWA, dest_DAY, dest_CIU, dest_PGV, dest_IMT, dest_SPS, dest_DVL, dest_IPT, dest_DSM, dest_SJU, dest_ATY, dest_RDD"
     ]
    }
   ],
   "source": [
    "y = ridge.predict(flights_indep)"
   ]
  }
 ],
 "metadata": {
  "kernelspec": {
   "display_name": "bootcamp",
   "language": "python",
   "name": "bootcamp"
  },
  "language_info": {
   "codemirror_mode": {
    "name": "ipython",
    "version": 3
   },
   "file_extension": ".py",
   "mimetype": "text/x-python",
   "name": "python",
   "nbconvert_exporter": "python",
   "pygments_lexer": "ipython3",
   "version": "3.8.5"
  }
 },
 "nbformat": 4,
 "nbformat_minor": 4
}
